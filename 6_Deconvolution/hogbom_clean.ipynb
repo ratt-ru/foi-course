{
  "cells": [
    {
      "cell_type": "markdown",
      "metadata": {},
      "source": [
        "### H\u00f6gbom's Method"
      ]
    },
    {
      "cell_type": "markdown",
      "metadata": {},
      "source": [
        "An implementation of H\u00f6gbom's `CLEAN` deconvolution method. Requires FITS images of dirty image and PSF. Assumes single polarization, single frequency.\n",
        "\n",
        "Pseeudo-code:"
      ]
    },
    {
      "cell_type": "markdown",
      "metadata": {},
      "source": [
        "$\\textbf{input: } I^{D}(l,m), \\ \\textrm{PSF}(l,m), \\ \\gamma, \\ f_{\\textrm{thresh}}, \\ N$\n",
        "\n",
        "$\\textbf{initialize: } S^{\\textrm{model}} \\leftarrow \\{\\}, I^{\\textrm{res}} \\leftarrow I^{D}, i \\leftarrow 0$\n",
        "\n",
        "$\\textbf{while} \\ \\textrm{any}(I^{\\textrm{res}} > f_{\\textrm{thresh}}) \\ \\textrm{or} \\ i \\leq N \\ \\textbf{do:}$\n",
        "\n",
        "$\\qquad l_{\\textrm{max}}, m_{\\textrm{max}} \\leftarrow \\underset{l,m}{\\operatorname{argmax}} I^{\\textrm{res}}(l,m)$\n",
        "\n",
        "$\\qquad f_{\\textrm{max}} \\leftarrow I^{D}(l_{\\textrm{max}}, m_{\\textrm{max}})$\n",
        "\n",
        "$\\qquad I^{\\textrm{res}} \\leftarrow I^{\\textrm{res}} - \\gamma \\cdot f_{\\textrm{max}} \\cdot \\textrm{PSF}(l+l_{\\textrm{max}}, m+m_{\\textrm{max}})$\n",
        "\n",
        "$\\qquad S^{\\textrm{model}} \\leftarrow S^{\\textrm{model}} + \\{l_{\\textrm{max}}, m_{\\textrm{max}}: \\gamma \\cdot f_{\\textrm{max}}\\}$\n",
        "\n",
        "$\\qquad i \\leftarrow i +1$\n",
        "\n",
        "$\\textbf{ouput: } S^{\\textrm{model}}, I^{\\textrm{res}}$"
      ]
    },
    {
      "cell_type": "code",
      "execution_count": null,
      "metadata": {},
      "outputs": [],
      "source": [
        "import numpy as np\n",
        "import matplotlib.pyplot as plt\n",
        "%matplotlib inline\n",
        "from scipy import optimize\n",
        "\n",
        "from astropy.io import fits\n",
        "import aplpy\n",
        "\n",
        "#Disable astropy/aplpy logging\n",
        "import logging\n",
        "logger0 = logging.getLogger('astropy')\n",
        "logger0.setLevel(logging.CRITICAL)\n",
        "logger1 = logging.getLogger('aplpy')\n",
        "logger1.setLevel(logging.CRITICAL)"
      ]
    },
    {
      "cell_type": "code",
      "execution_count": null,
      "metadata": {},
      "outputs": [],
      "source": [
        "def subtractPSF(img, psf, l, m, flux, gain):\n",
        "    \"\"\"Subtract the PSF (attenuated by the gain and flux) centred at (l,m) from an image\"\"\"\n",
        "    \n",
        "    #get the half lengths of the PSF\n",
        "    if (psf.shape[0] % 2 == 0): psfMidL = psf.shape[0]/2 #even\n",
        "    else: psfMidL = (psf.shape[0]+1)/2 #odd\n",
        "    if (psf.shape[1] % 2 == 0): psfMidM = psf.shape[1]/2 #even\n",
        "    else: psfMidM = (psf.shape[1]+1)/2 #odd\n",
        "    \n",
        "    #determine limits of sub-images\n",
        "    #starting m\n",
        "    if m-psfMidM < 0:\n",
        "        subM0 = 0\n",
        "        subPSFM0 = psfMidM-m\n",
        "    else:\n",
        "        subM0 = m-psfMidM\n",
        "        subPSFM0 = 0\n",
        "    #starting l\n",
        "    if l-psfMidL < 0:\n",
        "        subL0 = 0\n",
        "        subPSFL0 = psfMidL-l\n",
        "    else:\n",
        "        subL0 = l-psfMidL\n",
        "        subPSFL0 = 0\n",
        "    #ending m\n",
        "    if img.shape[1] > m+psfMidM:\n",
        "        subM1 = m+psfMidM\n",
        "        subPSFM1 = psf.shape[1]\n",
        "    else:\n",
        "        subM1 = img.shape[1]\n",
        "        subPSFM1 = psfMidM + (img.shape[1]-m)\n",
        "    #ending l\n",
        "    if img.shape[0] > l+psfMidL:\n",
        "        subL1 = l+psfMidL\n",
        "        subPSFL1 = psf.shape[0]\n",
        "    else:\n",
        "        subL1 = img.shape[0]\n",
        "        subPSFL1 = psfMidL + (img.shape[0]-l)\n",
        "    \n",
        "    #select subset of image\n",
        "    #subImg = img[subL0:subL1, subM0:subM1]\n",
        "    #select subset of PSF\n",
        "    subPSF = psf[subPSFL0:subPSFL1, subPSFM0:subPSFM1]\n",
        "    \n",
        "    #subtract PSF centred on (l,m) position\n",
        "    img[subL0:subL1, subM0:subM1] -= flux * gain * psf[subPSFL0:subPSFL1, subPSFM0:subPSFM1]\n",
        "    return img"
      ]
    },
    {
      "cell_type": "code",
      "execution_count": null,
      "metadata": {},
      "outputs": [],
      "source": [
        "def gauss2D(x, y, amp, meanx, meany, sigmax, sigmay):\n",
        "    \"\"\"2D Gaussian Function\"\"\"\n",
        "    gx = -(x - meanx)**2/(2*sigmax**2)\n",
        "    gy = -(y - meany)**2/(2*sigmay**2)\n",
        "    \n",
        "    return amp * np.exp( gx + gy)\n",
        "\n",
        "def err(p, xx, yy, data):\n",
        "    \"\"\"Error function for least-squares fitting\"\"\"\n",
        "    return gauss2D(xx.flatten(), yy.flatten(), *p) - data.flatten()\n",
        "\n",
        "def idealPSF(psfImg):\n",
        "    \"\"\"Determine the ideal PSF size based on the observing PSF doing a simple 2D Gaussian least-squares fit\"\"\"\n",
        "    xx, yy = np.meshgrid(np.arange(0, psfImg.shape[0]), np.arange(0, psfImg.shape[1]))\n",
        "    # Initial estimate: PSF should be amplitude 1, and usually imaging over sample the PSF by 3-5 pixels\n",
        "    params0 = 1., psfImg.shape[0]/2., psfImg.shape[1]/2., 3., 3.\n",
        "    params, pcov, infoDict, errmsg, sucess = optimize.leastsq(err, params0, \\\n",
        "                            args=(xx.flatten(), yy.flatten(), psfImg.flatten()), full_output=1)\n",
        "    #fwhm = [2.*np.sqrt(2.*np.log(2.)) * params[3], 2.*np.sqrt(2.*np.log(2.)) * params[4]]\n",
        "    return params"
      ]
    },
    {
      "cell_type": "code",
      "execution_count": null,
      "metadata": {},
      "outputs": [],
      "source": [
        "def restoreImg(skyModel, residImg, params):\n",
        "    \"\"\"Generate a restored image from a deconvolved sky model, residual image, ideal PSF params\"\"\"\n",
        "    mdlImg = np.zeros_like(residImg)\n",
        "    for l,m, flux in skyModel:\n",
        "        mdlImg[l,m] += flux\n",
        "    \n",
        "    #generate an ideal PSF image\n",
        "    psfImg = np.zeros_like(residImg)\n",
        "    xx, yy = np.meshgrid(np.arange(0, psfImg.shape[0]), np.arange(0, psfImg.shape[1]))\n",
        "    psfImg = gauss2D(xx, yy, params[0], params[1], params[2], params[3], params[4])\n",
        "    \n",
        "    #convolve ideal PSF with model image\n",
        "    sampFunc = np.fft.fft2(psfImg) #sampling function\n",
        "    mdlVis = np.fft.fft2(mdlImg) #sky model visibilities\n",
        "    sampMdlVis = sampFunc * mdlVis #sampled sky model visibilities\n",
        "    convImg = np.abs(np.fft.fftshift(np.fft.ifft2(sampMdlVis))) + residImg #sky model convolved with PSF\n",
        "    \n",
        "    #return mdlImg + residImg\n",
        "    return convImg"
      ]
    },
    {
      "cell_type": "code",
      "execution_count": null,
      "metadata": {},
      "outputs": [],
      "source": [
        "def hogbom(dirtyImg, psfImg, gain, niter, fthresh):\n",
        "    #Initalization\n",
        "    skyModel = [] #initialize empty model\n",
        "    residImg = np.copy(dirtyImg) #copy the dirty image to the initial residual image\n",
        "    i = 0 #number of iterations\n",
        "    \n",
        "    #CLEAN iterative loop\n",
        "    while np.max(residImg) > fthresh and i < niter:\n",
        "        lmax, mmax = np.unravel_index(residImg.argmax(), residImg.shape) #get pixel position of maximum value\n",
        "        fmax = residImg[lmax, mmax] #flux value of maximum pixel\n",
        "        print('iter %i, (l,m):(%i, %i), flux: %f'%(i, lmax, mmax, fmax))\n",
        "        residImg = subtractPSF(residImg, psfImg, lmax, mmax, fmax, gain)\n",
        "        skyModel.append([lmax, mmax, gain*fmax])\n",
        "        i += 1\n",
        "    \n",
        "    return residImg, skyModel"
      ]
    },
    {
      "cell_type": "markdown",
      "metadata": {},
      "source": [
        "***"
      ]
    },
    {
      "cell_type": "code",
      "execution_count": null,
      "metadata": {},
      "outputs": [],
      "source": [
        "#input parameters\n",
        "gain = 0.1 #loop gain, range: 0 < gain < 1\n",
        "niter = 100 #number of loop iterations\n",
        "fthresh = 3. #minimum flux threshold to deconvolve"
      ]
    },
    {
      "cell_type": "code",
      "execution_count": null,
      "metadata": {},
      "outputs": [],
      "source": [
        "#input images: dirty, PSF\n",
        "#assuming unpolarized, single frequency image\n",
        "fh = fits.open('../data/fits/deconv/KAT-7_6h60s_dec-30_10MHz_10chans_uniform_n100-dirty.fits')\n",
        "dirtyImg = fh[0].data[0,0]\n",
        "fh = fits.open('../data/fits/deconv/KAT-7_6h60s_dec-30_10MHz_10chans_uniform_n100-psf.fits')\n",
        "psfImg = fh[0].data[0,0]\n",
        "idealPSFparams = idealPSF(psfImg) #compute ideal PSF parameters"
      ]
    },
    {
      "cell_type": "code",
      "execution_count": null,
      "metadata": {},
      "outputs": [],
      "source": [
        "residImg, skyModel = hogbom(dirtyImg, psfImg, gain, niter, fthresh)"
      ]
    },
    {
      "cell_type": "code",
      "execution_count": null,
      "metadata": {},
      "outputs": [],
      "source": [
        "#plot dirty image\n",
        "fig = plt.figure(figsize=(8,8))\n",
        "plt.imshow(dirtyImg)\n",
        "plt.title('Dirty Image')\n",
        "plt.colorbar()"
      ]
    },
    {
      "cell_type": "code",
      "execution_count": null,
      "metadata": {},
      "outputs": [],
      "source": [
        "#plot residual image\n",
        "fig = plt.figure(figsize=(8,8))\n",
        "plt.imshow(residImg)\n",
        "plt.title('Residual Image')\n",
        "plt.colorbar()"
      ]
    },
    {
      "cell_type": "code",
      "execution_count": null,
      "metadata": {},
      "outputs": [],
      "source": [
        "#plot restored image\n",
        "restImg = restoreImg(skyModel, residImg, idealPSFparams)\n",
        "fig = plt.figure(figsize=(8,8))\n",
        "plt.imshow(restImg)\n",
        "plt.title('Restored Image')\n",
        "plt.colorbar()"
      ]
    }
  ],
  "metadata": {
    "kernelspec": {
      "display_name": "testament",
      "language": "python",
      "name": "testament"
    },
    "language_info": {
      "codemirror_mode": {
        "name": "ipython",
        "version": 3
      },
      "file_extension": ".py",
      "mimetype": "text/x-python",
      "name": "python",
      "nbconvert_exporter": "python",
      "pygments_lexer": "ipython3",
      "version": "3.8.10"
    }
  },
  "nbformat": 4,
  "nbformat_minor": 1
}