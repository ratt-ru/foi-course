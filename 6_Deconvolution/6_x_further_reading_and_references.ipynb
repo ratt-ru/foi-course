{
  "cells": [
    {
      "cell_type": "markdown",
      "metadata": {
        "collapsed": true
      },
      "source": [
        "***\n",
        "\n",
        "* [Outline](../0_Introduction/0_introduction.ipynb)\n",
        "* [Glossary](../0_Introduction/1_glossary.ipynb)\n",
        "* [6. Deconvolution in Imaging](6_0_introduction.ipynb)  \n",
        "    * Previous: [6.5 Source Finding and Detection](6_5_source_finding.ipynb)  \n",
        "    * Next: [Chapter 7: Observing Systems](../7_Observing_Systems/7_0_introduction.ipynb)\n",
        "\n",
        "***"
      ]
    },
    {
      "cell_type": "markdown",
      "metadata": {},
      "source": [
        "## 6.x Further Reading and References <a id='deconv:sec:refs'></a>"
      ]
    },
    {
      "cell_type": "markdown",
      "metadata": {},
      "source": [
        "### CLEAN Implementations\n",
        "\n",
        "1. [<cite data-cite='1974A&AS...15..417H'>Aperture Synthesis with a Non-Regular Distribution of Interferometer Baselines</cite> &#10548;](http://adsabs.harvard.edu/abs/1974A%26AS...15..417H): Original `CLEAN` paper, image-domain implementation (H\u00f6gbom).\n",
        "2. [<cite data-cite='1980A&A....89..377C'>An efficient implementation of the algorithm 'CLEAN'</cite> &#10548;](http://adsabs.harvard.edu/abs/1980A%26A....89..377C): Gridded visibility-domain `CLEAN` (Clark).\n",
        "3. [<cite data-cite='1984AJ.....89.1076S'>Relaxing the isoplanatism assumption in self-calibration; applications to low-frequency radio interferometry</cite> &#10548;](http://adsabs.harvard.edu/abs/1984AJ.....89.1076S): Visibility-domain `CLEAN` (Cotton-Schwab).\n",
        "4. [<cite data-cite='2008ISTSP...2..793C'>Multiscale CLEAN Deconvolution of Radio Synthesis Images</cite> &#10548;](http://arxiv.org/abs/0806.2228): Multi-scale CLEAN using Gaussian functions for deconvolution.\n",
        "5. [<cite data-cite='2014MNRAS.444..606O'>WSCLEAN: an implementation of a fast, generic wide-field imager for radio astronomy</cite> &#10548;](http://arxiv.org/abs/1407.1943): `WSCLEAN` deconvolver\n",
        "6. [<cite data-cite='2011A&A...532A..71R'>A multi-scale multi-frequency deconvolution algorithm for synthesis imaging in radio interferometry</cite> &#10548;](http://arxiv.org/abs/1106.2745): multi-frequency synthesis\n",
        "7. [<cite data-cite='2015A&A...576A...7D'>MORESANE: MOdel REconstruction by Synthesis-ANalysis Estimators. A sparse deconvolution algorithm for radio interferometric imaging</cite> &#10548;](http://arxiv.org/abs/1412.5387): MORESANE, a wavelet-based deconvolution method for extended sources.\n",
        "\n",
        "### Widefield Methods\n",
        "\n",
        "1. [<cite data-cite='1992A&A...261..353C'>Radio-interferometric imaging of very large fields - The problem of non-coplanar arrays</cite> &#10548;](http://adsabs.harvard.edu/abs/1992A&A...261..353C): facet imaging and 3-D Fourier transform imaging.\n",
        "\n",
        "### Image Quality Assessment\n",
        "\n",
        "1. [<cite data-cite='1998AJ....115.1693C'>The NRAO VLA Sky Surveys</cite> &#10548;](http://adsabs.harvard.edu/abs/1998AJ....115.1693C): `CLEAN` bias.\n",
        "2. [<cite data-cite='taylor1999synthesis'>Synthesis Imaging in Radio Astronomy II (Lecture 13) </cite> &#10548;](http://adsabs.harvard.edu/abs/1999sira.conf.....T): dynamic range as a proxy for image quality.\n",
        "\n",
        "### Source Modelling\n",
        "\n",
        "1. [<cite data-cite='2002ApJ...570..447C'>Shape Reconstruction and Weak Lensing Measurement with Interferometers: A Shapelet Approach</cite> &#10548;](http://arxiv.org/abs/astro-ph/0107085): Shapelet basis set-based sky modeling.\n",
        "2. [<cite data-cite='python_shapelets'>Python-based Shapelets</cite> &#10548;](https://github.com/griffinfoster/shapelets): Python module for using Shapelets in radio interferometry.\n",
        "3. [<cite data-cite='2015MNRAS.450.1308L'>BIRO: Bayesian inference for radio observations</cite> &#10548;](http://arxiv.org/abs/1501.05304): Model selection using Bayesian inference."
      ]
    },
    {
      "cell_type": "markdown",
      "metadata": {},
      "source": [
        "***\n",
        "\n",
        "Next: [Chapter 7: Observing Systems](../7_Observing_Systems/7_0_introduction.ipynb)"
      ]
    }
  ],
  "metadata": {
    "kernelspec": {
      "display_name": "testament",
      "language": "python",
      "name": "testament"
    },
    "language_info": {
      "codemirror_mode": {
        "name": "ipython",
        "version": 3
      },
      "file_extension": ".py",
      "mimetype": "text/x-python",
      "name": "python",
      "nbconvert_exporter": "python",
      "pygments_lexer": "ipython3",
      "version": "3.8.10"
    }
  },
  "nbformat": 4,
  "nbformat_minor": 1
}