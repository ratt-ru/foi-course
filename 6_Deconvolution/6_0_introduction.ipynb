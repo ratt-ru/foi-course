{
  "cells": [
    {
      "cell_type": "markdown",
      "metadata": {},
      "source": [
        "***\n",
        "\n",
        "* [Outline](../0_Introduction/0_introduction.ipynb)\n",
        "* [Glossary](../0_Introduction/1_glossary.ipynb)\n",
        "* [6. Deconvolution in Imaging](#)  \n",
        "    * Next: [6.1 Sky Models](6_1_sky_models.ipynb)\n",
        "\n",
        "***"
      ]
    },
    {
      "cell_type": "markdown",
      "metadata": {},
      "source": [
        "# Chapter 6: Deconvolution in Imaging<a id='deconv:sec:intro'></a>"
      ]
    },
    {
      "cell_type": "markdown",
      "metadata": {},
      "source": [
        "When the topic of imaging comes up in aperture synthesis we are usually referring to the process of transforming visibilities into a spatial domain representation (image) of the sky an the process of deconvolving the array point spread function (PSF) from the measured image to attempt to recover a 'true' sky image. As we have seen in the previous chapter, the resulting images are affected by the the array configuration and observation parameters (bandwidth, time length, pointing declination, etc.). These parameters are known and the resulting array PSF is independent of the sky, so the (reasonable) goal of deconvolution is to separate the effects of the instrument from the sky.\n",
        "\n",
        "Colloquially, one will hear someone talk about creating a 'clean' image from a 'dirty' image. This means that a deconvolution algorithm, typically a variant of the CLEAN algorithm, is used to construct a more 'complete' image based on our knowledge of the array PSF and what types of sources we expect to see in the sky.\n",
        "\n",
        "To understand the motivation for the types of deconvolution algorithms used in radio interferometry we will first discuss how sources are typically represented in a sky model. We will then build up a basic form of the CLEAN algorithms, and increase the complexity of these methods. Then, we will cover the issue of when to halt deconvolution, how image quality is described, and how a final image is constructed. Finally, we will discuss automated source detection for extracting sky source information."
      ]
    },
    {
      "cell_type": "markdown",
      "metadata": {},
      "source": [
        "#### Chapter Outline\n",
        "\n",
        "1. [Sky Models](6_1_sky_models.ipynb)\n",
        "2. [Interative Deconvolution with Point Sources (CLEAN)](6_2_clean.ipynb)\n",
        "3. [CLEAN Implementations](6_3_clean_flavours.ipynb)\n",
        "4. [Residuals and Image Quality](6_4_residuals_and_iqa.ipynb)\n",
        "5. [Source Finding and Detection](6_5_source_finding.ipynb)\n",
        "6. [Further Reading and References](6_x_further_reading_and_references.ipynb)"
      ]
    },
    {
      "cell_type": "markdown",
      "metadata": {},
      "source": [
        "#### Chapter Editors\n",
        "\n",
        "* Alexander Akoto-Danso\n",
        "* Griffin Foster\n",
        "* Ermias Abebe Kassaye\n",
        "* Kshitij Thorat\n",
        "\n",
        "#### Chapter Contributors\n",
        "\n",
        "* Griffin Foster (**6.0**, **6.1**, 6.2, **6.3**, **6.4**)\n",
        "* Laura Richter (**6.2**)\n",
        "* Sphesihle Makhathini (**6.5**)\n",
        "\n",
        "#### Format status:\n",
        "\n",
        "* <span style=\"background-color:red\">&nbsp;&nbsp;&nbsp;&nbsp;</span> : LF: Date\n",
        "* <span style=\"background-color:red\">&nbsp;&nbsp;&nbsp;&nbsp;</span> : NC: Date\n",
        "* <span style=\"background-color:red\">&nbsp;&nbsp;&nbsp;&nbsp;</span> : RF: Date\n",
        "* <span style=\"background-color:red\">&nbsp;&nbsp;&nbsp;&nbsp;</span> : HF: Date\n",
        "* <span style=\"background-color:red\">&nbsp;&nbsp;&nbsp;&nbsp;</span> : GM: Date\n",
        "* <span style=\"background-color:red\">&nbsp;&nbsp;&nbsp;&nbsp;</span> : CC: Date\n",
        "* <span style=\"background-color:red\">&nbsp;&nbsp;&nbsp;&nbsp;</span> : CL: Date\n",
        "* <span style=\"background-color:red\">&nbsp;&nbsp;&nbsp;&nbsp;</span> : ST: Date\n",
        "* <span style=\"background-color:red\">&nbsp;&nbsp;&nbsp;&nbsp;</span> : FN: Date\n",
        "* <span style=\"background-color:red\">&nbsp;&nbsp;&nbsp;&nbsp;</span> : TC: Date\n",
        "* <span style=\"background-color:red\">&nbsp;&nbsp;&nbsp;&nbsp;</span> : XX: Date"
      ]
    },
    {
      "cell_type": "markdown",
      "metadata": {},
      "source": [
        "***\n",
        "\n",
        "Next: [6.1 Sky Models](6_1_sky_models.ipynb)"
      ]
    },
    {
      "cell_type": "markdown",
      "metadata": {},
      "source": [
        "<div class=warn><b>Future Additions:</b></div>\n",
        "\n",
        "* add to intro: an overview of CLEAN deconvolution (dirty and restored image example)\n",
        "* section on CLEAN relationship to compressed sensing"
      ]
    },
    {
      "cell_type": "code",
      "execution_count": null,
      "metadata": {
        "collapsed": true
      },
      "outputs": [],
      "source": []
    }
  ],
  "metadata": {
    "kernelspec": {
      "display_name": "testament",
      "language": "python",
      "name": "testament"
    },
    "language_info": {
      "codemirror_mode": {
        "name": "ipython",
        "version": 3
      },
      "file_extension": ".py",
      "mimetype": "text/x-python",
      "name": "python",
      "nbconvert_exporter": "python",
      "pygments_lexer": "ipython3",
      "version": "3.8.10"
    }
  },
  "nbformat": 4,
  "nbformat_minor": 1
}