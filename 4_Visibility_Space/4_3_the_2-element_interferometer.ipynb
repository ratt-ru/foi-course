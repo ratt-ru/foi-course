{
  "cells": [
    {
      "cell_type": "markdown",
      "metadata": {
        "collapsed": true
      },
      "source": [
        "***\n",
        "<a id='beginning'></a> <!--\\label{beginning}-->\n",
        "* [Outline](../0_Introduction/0_introduction.ipynb)\n",
        "* [Glossary](../0_Introduction/1_glossary.ipynb)\n",
        "* [4. The Visibility space](4_0_introduction.ipynb)\n",
        "    * Previous: [4.2 The Baseline and Its Representation in Space](4_2_the_baseline_and_its_representation_in_space.ipynb)\n",
        "    * Next: [4.4 The Visibility Function](4_4_the_visibility_function.ipynb)\n",
        "\n",
        "***"
      ]
    },
    {
      "cell_type": "markdown",
      "metadata": {},
      "source": [
        "Import standard modules:"
      ]
    },
    {
      "cell_type": "code",
      "execution_count": null,
      "metadata": {},
      "outputs": [],
      "source": [
        "import numpy as np\n",
        "import matplotlib.pyplot as plt\n",
        "%matplotlib inline\n",
        "from IPython.display import HTML \n",
        "HTML('../style/course.css') #apply general CSS"
      ]
    },
    {
      "cell_type": "markdown",
      "metadata": {},
      "source": [
        "Import section specific modules:"
      ]
    },
    {
      "cell_type": "code",
      "execution_count": null,
      "metadata": {},
      "outputs": [],
      "source": [
        "HTML('../style/code_toggle.html')"
      ]
    },
    {
      "cell_type": "markdown",
      "metadata": {},
      "source": [
        "***"
      ]
    },
    {
      "cell_type": "markdown",
      "metadata": {},
      "source": [
        "## 4.3 The 2-element Interferometer"
      ]
    },
    {
      "cell_type": "markdown",
      "metadata": {},
      "source": [
        "To understand the practicalities of interferometry, we must spend some time on the simple 2-element interferometer. Here, we will treat it in 1-D. Similar to [$\\S$ 1.9 &#10142;](../1_Radio_Science/1_9_a_brief_introduction_to_interferometry.ipynb), we will derive the response of an ideal 1D interferometer and its link to the intensity distribution of a source. \n",
        "In [$\\S$ 4.3.1 &#10549;](#vis:sec:431), we establish the link between interferometry on a optical bench and radio interferometry. From the derivation of the cross-correlation of antenna signals, we will derive a spatial fringe pattern - the radio counterpart to the optical fringe pattern. In [$\\S$ 4.3.2 &#10549;](#vis:sec:432) we define  two classical interferometers in a 1D regime: the $\\sum$ and $\\Pi$ interferometers. Finally, in [$\\S$ 4.3.3 &#10549;](#vis:sec:433), we build the complex interferometer and introduce the idea of a *visibility*, which will be further detailed in [$\\S$ 4.4 &#10142;](4_4_the_visibility_function.ipynb)."
      ]
    },
    {
      "cell_type": "markdown",
      "metadata": {},
      "source": [
        "<a id=\"vis:sec:431\"></a> <!---\\label{vis:sec:431}--->\n",
        "### 4.3.1 Wave superposition theorem"
      ]
    },
    {
      "cell_type": "markdown",
      "metadata": {},
      "source": [
        "Consider two point sources $S_1$ and $S_2$. Let us assume their emission is *coherent* and *in phase*: they will thus each emit a wave $s_1(r,t)$ and $s_2(r,t)$ which propagates through space at speed *c*. The point P in [Fig. 4.3.1 &#10549;](#vis:fig:431) will receive the linear superposition of the two waves:\n",
        "\n",
        "$$s(r,t)=s_1(r_1,t)+s_2(r_2,t)$$"
      ]
    },
    {
      "cell_type": "markdown",
      "metadata": {},
      "source": [
        "where $r_1$ and $r_2$ are the radial distances from the two sources $S_1$ and $S_2$."
      ]
    },
    {
      "cell_type": "markdown",
      "metadata": {},
      "source": [
        "Moreover,\n",
        "\\begin{eqnarray}\n",
        "s(r,t) &=& s_1(r_1,t)+s_2(r_2,t) \\\\\n",
        "s(r,t) &=& \\frac{s_{01}}{r_1} e^{\\imath (\\omega_1 t - k_1 r_1 +\\varphi_{01})}+\\frac{s_{02}}{r_2} e^{\\imath (\\omega_2 t - k_2 r_2 + \\varphi_{02})}\n",
        "\\end{eqnarray}\n",
        "\n",
        "where $s_{01}$ and $s_{02}$ are the amplitudes of the two waves."
      ]
    },
    {
      "cell_type": "markdown",
      "metadata": {},
      "source": [
        "If the sources are emitting waves with the same amplitude ($s_{01}=s_{02}=s_{0}$), angular frequency ($\\omega_1=\\omega_2=\\omega$), and phase ($\\varphi_{01}=\\varphi_{02}=\\varphi_0$), then:"
      ]
    },
    {
      "cell_type": "markdown",
      "metadata": {},
      "source": [
        "$s_1(r_1=0,t)=s_2(r_2=0,t)=s_0 e^{\\imath \\omega t}$\n",
        "\n",
        "In the above equation, we have chosen the initial phase to be $\\varphi_0 = 0$."
      ]
    },
    {
      "cell_type": "markdown",
      "metadata": {},
      "source": [
        "At $P$, we have that:\n",
        "\n",
        "\\begin{eqnarray}\n",
        "s_{1P}(r_1,t) &=& s_0 \\exp{\\imath \\left[ \\omega (t - \\frac{r_1}{c}) \\right]} \\\\\n",
        "s_{2P}(r_2,t) &=& s_0 \\exp{\\imath \\left[ \\omega (t - \\frac{r_2}{c}) \\right]} \\\\\n",
        "\\end{eqnarray}"
      ]
    },
    {
      "cell_type": "markdown",
      "metadata": {},
      "source": [
        "We can therefore rewrite the initial phase of these signals at $P$:\n",
        "$$\\varphi_1=-\\omega \\frac{r_1}{c} \\quad s_{1P}(r_1,t)=s_0 \\exp{\\imath (\\omega t + \\varphi_1)}$$\n",
        "\n",
        "$$\\varphi_2=-\\omega \\frac{r_2}{c} \\quad s_{2P}(r_2,t)=s_0 \\exp{\\imath (\\omega t + \\varphi_2)}$$"
      ]
    },
    {
      "cell_type": "markdown",
      "metadata": {},
      "source": [
        "The attentive reader will note that the two signals are out of phase by $\\Delta \\Phi=\\varphi_2-\\varphi_1$ at $P$. This phase difference can be associated with either a time delay or a difference in the distance travelled by the light from each source and $P$.\n",
        "\n",
        "To derive this delay, we first need a definition of the *optical path length* (OPL), which is defined along a curve $\\mathcal{C}$: \n",
        "$$ OPL = \\int_\\mathcal{C} n(s)ds$$\n",
        "where $n$ is the optical index of the propagation medium ($n=1$ in vacuum) and $s$ the *curvilinear abscissa* along the path.\n",
        "\n",
        "With this definition, we can define the *optical path difference* (OPD) $\\Delta l$ as the physical difference length between the path from $S_1$ to $P$ and from $S_2$ to $P$:\n",
        "\n",
        "<span style=\"background-color:cyan\">TLG:GM: Check if the italic words are in the glossary. Add curvilinear and abscissa.</span>\n",
        "\n",
        "$$ \\Delta L = S_2P - S_1P = r_2-r_1 \\quad \\Delta \\Phi = \\varphi_2-\\varphi_1 = 2 \\pi \\frac{\\Delta L}{\\lambda}$$"
      ]
    },
    {
      "cell_type": "markdown",
      "metadata": {},
      "source": [
        "The phase $\\Delta \\Phi$ depends on $\\Delta L=r_2-r_1$, or equivalently, the position of $P$ w.r.t. the sources."
      ]
    },
    {
      "cell_type": "markdown",
      "metadata": {},
      "source": [
        "<a id=\"vis:fig:431\"></a> <!---\\label{vis:fig:431}--->\n",
        "<img src='figures/Interferences.svg' width=50%>"
      ]
    },
    {
      "cell_type": "markdown",
      "metadata": {},
      "source": [
        "**Figure 4.3.1**: Interference region between two emitting sources $S_1$ and $S_2$. At position P, we receive the superposition of the two waves."
      ]
    },
    {
      "cell_type": "markdown",
      "metadata": {},
      "source": [
        "As seen previously, the incoming waves superpose at $P$. Assuming that $S_1$ and $S_2$ have the properties outlined above, the resulting signal has the same frequency $\\omega$ as the constituent waves, but has amplitude $S_{0P}$ which depends on the relative amplitude and phase of the two waves at the location $P$:\n",
        "\n",
        "$$s_P(t)=S_{0P} \\cos( \\omega t + \\phi_{0P})$$\n",
        "\n",
        "$$\\text{ with } S_{0P}=\\sqrt{S_{01}^2+S_{02}^2+2 S_{01} S_{02} \\cos \\Delta \\Phi} = \\sqrt{2 S_0^2(1+ \\cos\\Delta \\Phi)}$$"
      ]
    },
    {
      "cell_type": "markdown",
      "metadata": {},
      "source": [
        "The amplitude $S_{0P}$ is modulated by a factor which depends on the location of $P$. The phase $\\phi_{0P}$ depends on the phases $\\varphi_{01}$ and $\\varphi_{02}$."
      ]
    },
    {
      "cell_type": "markdown",
      "metadata": {},
      "source": [
        "#### 4.3.1.1 Interfering conditions <a id=\"vis:sec:4311\"></a> <!---\\label{vis:sec:4311}--->"
      ]
    },
    {
      "cell_type": "markdown",
      "metadata": {},
      "source": [
        "The $\\cos$ term in the previous equation will modulate the amplitude of the wave. We can define two regimes depending on the value of $S_{0P}$:\n",
        "\n",
        "\n",
        "* $S_{0P}$ is maximal when $\\cos \\Delta\\Phi = +1$, i.e. $\\Delta \\Phi = 2 m \\pi$ with $m \\in \\mathbb{Z}$, meaning that $\\Delta L = m \\lambda$. The two waves add in phase. This is known as *constructive interference*.\n",
        "* $S_{0P}$ is null when $\\cos \\Delta\\Phi = -1$, i.e. $\\Delta \\Phi = (2m+1) \\pi$ with $m \\in \\mathbb{Z}$, meaning that $\\Delta L= (m+\\frac{1}{2}) \\lambda$. The two waves have opposite phase and therefore will cancel out. This is known *destructive interference*.\n",
        "\n",
        "<span style=\"background-color:cyan\">TLG:GM: Check if the italic words are in the glossary. </span>"
      ]
    },
    {
      "cell_type": "markdown",
      "metadata": {},
      "source": [
        "The amplitude of the resulting interference pattern is position-dependent. The interference pattern is also known as the *fringe pattern*. <span style=\"background-color:cyan\">TLG:GM: Check if the italic words are in the glossary. </span> This pattern consists of those fringes with the same (spatially constant) phase. A single fringe is defined as the location of points where $S_2 P - S_1 P = \\text{const}$.\n",
        "In three-dimensional space, the fringes are defined as sets of hyperboloids with axial symmetry around the axis $S_1S_2$ (see [Fig. 4.3.2 &#10549;](#vis:fig:432)). Each hyperboloid corresponds to a particular constant. \n",
        "\n",
        "- In the plane perpendicular to the axis $S_1S_2$, and located mid-way between the sources, $\\delta =0$, and therefore we have a bright fringe.\n",
        "- Conversely, in any plane containing the axis $S_1S_2$, the fringes are hyperbolas.\n",
        "- Far from the sources, in any plane perpendicular to the axis $S_1S_2$, circular fringes will be observed.\n",
        "- Far from the sources, in any plane parallel to the axis $S_1S_2$, linear fringes will be observed."
      ]
    },
    {
      "cell_type": "markdown",
      "metadata": {},
      "source": [
        "<a id=\"vis:fig:432\"></a>  <!---\\label{vis:fig:432}--->\n",
        "<img src='figures/interferences3D.png' width=70%>"
      ]
    },
    {
      "cell_type": "markdown",
      "metadata": {},
      "source": [
        "**Figure 4.3.2**: Interference region between two emitting sources $S_1$ and $S_2$ in three-dimensional space. The amplitude of the interference pattern takes the shape of circular hyperboloids. The axis $S_1S_2$ is a characteristic axis of symmetry in the system. In a plane perpendicular to this axis, we observe circular fringes in the far-field, and in a plane parallel to this axis, we observe linear fringes in the far-field."
      ]
    },
    {
      "cell_type": "markdown",
      "metadata": {},
      "source": [
        "<div class=advice>\n",
        "<b>Note:</b> There is a continuous variation in fringe shape from linear to circular as the plane of observation moves from being parallel to perpendicular to the axis $S_1S_2$. \n",
        "</div>\n"
      ]
    },
    {
      "cell_type": "markdown",
      "metadata": {},
      "source": [
        "<div class=warn>\n",
        "<b>Warning:</b> The interference fringes are clearly visible when the two waves approximately share the same physical characteristics (amplitude, frequency): see the note on temporal/spatial coherence below.<br>\n",
        "</div>"
      ]
    },
    {
      "cell_type": "markdown",
      "metadata": {},
      "source": [
        "#### 4.3.1.2 General considerations in the receiving case"
      ]
    },
    {
      "cell_type": "markdown",
      "metadata": {},
      "source": [
        "In the \"emitting\" case, we have seen that waves originating from two different point sources can interfere. This interference can be projected onto a screen: it then gives different *interference patterns* depending on the location of the screen ([Fig. 4.3.2 &#10549;](#vis:fig:432)). \n",
        "\n",
        "We will now consider the reverse scenario: in the \"receiving\" case, two point receivers are illuminated by a single plane wave coming from a point source located infinitely far away. Before studying the resulting interference, we must introduce the notions of *temporal* and *spatial coherency*. The waves reaching the receivers must have these two attributes.\n",
        "<span style=\"background-color:cyan\">TLG:GM: Check if the italic words are in the glossary. </span>"
      ]
    },
    {
      "cell_type": "markdown",
      "metadata": {},
      "source": [
        "#### 4.3.1.3 Temporal and Spatial coherence\n",
        "\n",
        "This section aims to provide an intuitive approach to understanding wave coherence. The *coherence* of a wave is the degree to which it can maintain its \"shape\" (i.e. the degree of phase correlation) at different locations and different times as it propagates.\n",
        "<span style=\"background-color:cyan\">TLG:GM: Check if the italic words are in the glossary. </span>\n",
        "\n",
        "A propagating wave is said to have *temporal coherence* if the phase difference between any two points, at an instant of time, along the direction of propagation (e.g. $P_1$ and $P'_1$ in [Fig. 4.3.3a &#10549;](#vis:fig:433)) is independent of time. In other words, a wave is temporally coherent if successive wavefronts are propagating between the two points with the same delay. Temporal coherence tells us how monochromatic a source is.\n",
        "\n",
        "Similarly, a propagating wave has *spatial coherence* if the phase difference, between any two points in a plane perpendicular to the direction of propagation and at an instant of time, (here $P_2$ and $P'_2$ on [Fig. 4.3.3a &#10549;](#vis:fig:433)) is independent of time. In other words, a wave is spatially coherent if the spatial shape of the wavefront remains the same as the wave propagates. \n",
        "Spatial coherence gives us information on the uniformity of a wavefront's phase, and is usually associated with the spatial extent of the source.\n",
        "\n",
        "In  [Fig. 4.3.3 &#10549;](#vis:fig:433), we illustrate the various regimes where a wave has temporal or spatial coherence. Green lines illustrate how the phase difference between random couples of points taken in (or perpendicular to) the direction of propagation is independent of time as the wave propagates. Conversely, the red lines show phases are no longer time-independent.\n",
        "\n",
        "Those coherences, if not maintained, will blur the fringe pattern: the wave would then be interfering *destructively*.\n",
        "Spectral and polarization coherences should also be taken into consideration in principle, but this is beyond the scope of this section.\n",
        "<a id=\"vis:fig:433\"></a>  <!---\\label{vis:fig:433}--->\n",
        "\n",
        "<img src='figures/coherence.svg' width=80%>\n",
        "\n",
        "**Figure 4.3.3**: **(a)** Wave with both spatial and temporal coherence **(b)** Spatial coherence and no temporal coherence **(c)** temporal coherence and no spatial coherence **(d)** no spatial coherence and no temporal coherence.\n",
        "\n",
        "Hopefully, we have shown that extended sources (i.e. sources with varying wavefronts) and multi-frequency sources (whose emission have a mix of various wavelengths) have *incoherent emission*. \n",
        "For the rest of this chapter, we will assume that we have a single point source with both spatial and temporal coherence."
      ]
    },
    {
      "cell_type": "markdown",
      "metadata": {},
      "source": [
        "#### 4.3.1.4 Foreword on array pointing, phase center and projected baseline"
      ]
    },
    {
      "cell_type": "markdown",
      "metadata": {},
      "source": [
        "Before moving to the full 3D case where we will have to consider the interferometer's response - how well it detects objects on the celestial sphere - we will focus on a simple case. Consider a two-element (and therefore 1-D) interferometer observing a coherent plane wave emitted by an infinitely-distant point source. We assume this emission is spatially and temporally coherent.\n",
        "\n",
        "Each element of our interferometer is an isotropic receiver (i.e. sees the full sky) lying on the ground ([Fig. 4.3.4 &#10549;](#vis:fig:434)). They are separated by a distance $|\\mathbf{b}|$. As per [$\\S$ 1.2 &#10142;](../1_Radio_Science/1_2_electromagnetic_radiation_and_astronomical_quantities.ipynb), we will consider that the array is illuminated by an electromagnetic plane wave coming from a direction $\\mathbf{s_0}$, at an angle $\\theta$ w.r.t. the baseline. "
      ]
    },
    {
      "cell_type": "markdown",
      "metadata": {},
      "source": [
        "<a id=\"vis:fig:434\"></a>  <!---\\label{vis:fig:434}--->\n",
        "<img src='figures/interferencereceivers.svg' width=40%>"
      ]
    },
    {
      "cell_type": "markdown",
      "metadata": {},
      "source": [
        "**Figure 4.3.4**: The projection of baseline $\\mathbf{b}$ towards the direction $\\theta$ along $\\mathbf{s}_0$ in a simple 1-D sky/baseline example."
      ]
    },
    {
      "cell_type": "markdown",
      "metadata": {},
      "source": [
        "The inclination of the source causes the wave to travel an extra distance $\\Delta L$ to reach $R_1$ after it has reached $R_2$. The wave's optical path length is longer for $R_1$ than $R_2$. This *optical path difference* is defined as $\\Delta L = \\lvert \\mathbf{b} \\rvert \\cos \\theta$.\n",
        "\n",
        "In order to constructively combine the signals measured by $R_1$ and $R_2$, we need to compensate for this extra delay. In interferometry, this delay correction is known as *fringe (or delay) tracking*.\n",
        "As a result of this correction, we define the direction $\\mathbf{s_0}$ on the celestial sphere to be the *phase center* of the array.\n",
        "\n",
        "From the perspective of the source, the array appears projected on the normal plane of the direction of propagation  (coinciding with the incoming plane wave at direction $\\mathbf{s_0}$). The apparent projected distance between the antennas is $|\\mathbf{b}|\\sin \\theta$. This length is called the *projected baseline*. In vector form, the extra OPL is found by projecting $\\mathbf{b}$ onto $\\mathbf{s_0}$: \n",
        "$$\\Delta L= \\mathbf{b} \\cdot \\mathbf{s_0}$$\n",
        "\n",
        "<span style=\"background-color:cyan\">TLG:GM: Check if the italic words are in the glossary. </span>\n",
        "\n",
        "As the source moves on the celestial sphere (due to Earth's rotation), the apparent baseline length will change (see [$\\S$ 4.5.1 &#10142;](4_5_1_uv_coverage_uv_tracks.ipynb) for how astronomers capitalise on this). This means that keeping the source at phase centre (i.e. continuously following a source moving with the celestial sphere - effectively pointing the telescope) requires adapting our compensation for the OPL delay to the variation of the *projected baseline* as a function of time."
      ]
    },
    {
      "cell_type": "markdown",
      "metadata": {},
      "source": [
        "<div class=warn>\n",
        "<b>Warning</b>: in practice, the antennas are usually steerable dishes with a directional response (or <em>beam</em>), which is NOT isotropic. To measure a signal coming from a direction $\\mathbf{s_0}$ ([Fig. 4.3.4 &#10549;](#vis:fig:434)), we therefore physically point these antennas towards the desired direction in order to maximize our antenna response. see [$\\S$ 7.5 &#10142;](../7_Observing_Systems/7_5_primary_beam.ipynb)\n",
        "</div>"
      ]
    },
    {
      "cell_type": "markdown",
      "metadata": {},
      "source": [
        "That just about wraps it up for the simplest scenario: a two-element interferometers looking at a single point source. Let us now consider plane waves coming from two unrelated point sources in the directions $\\mathbf{s_0}$ and $\\mathbf{s}$ in the sky."
      ]
    },
    {
      "cell_type": "markdown",
      "metadata": {},
      "source": [
        "<a id=\"vis:fig:435\"></a>  <!---\\label{vis:fig:435}--->\n",
        "<img src='figures/interferencereceivers2.svg' width=40%>"
      ]
    },
    {
      "cell_type": "markdown",
      "metadata": {},
      "source": [
        "**Figure 4.3.5**: Two receivers receiving plane waves from directions $\\mathbf{s_0}$ and $\\mathbf{s}$ in the sky."
      ]
    },
    {
      "cell_type": "markdown",
      "metadata": {},
      "source": [
        "In this case, the two wavefronts are spatially and temporally incoherent. The signals from both sources will therefore not interfere amongst themselves. The emission from different parts of the sky will thus add linearly:  the net signal detected by the interferometer will be the sum of the signal detected from each source."
      ]
    },
    {
      "cell_type": "markdown",
      "metadata": {},
      "source": [
        "Again, let us take $\\mathbf{s_0}$ as the phase center of our interferometer. Arbitrary directions $\\mathbf{s}$ can be given w.r.t. $\\mathbf{s_0}$ through the difference vector $\\boldsymbol{\\sigma}=\\mathbf{s}-\\mathbf{s_0}$ (as illustrated in [Fig. 4.3.5 &#10549;](#vis:fig:435)). For small $|\\boldsymbol{\\sigma}|$, this vector $\\boldsymbol{\\sigma}$ lies approximately in the plane tangent to the celestial sphere in the direction of $\\mathbf{s_0}$. This vector therefore defines the location of a source in the tangent sky *plane*, relative to the reference direction $\\mathbf{s_0}$.\n",
        "\n",
        "We will later use $\\boldsymbol{\\sigma}$ to derive the response of an interferometer at any position in that plane.\n",
        "\n",
        "Given the directions ($\\mathbf{s}, \\mathbf{s_0}$), the optical path differences (OPDs) are obtained via a dot product with $\\mathbf{b}$. \n",
        "We can compute them directly by computing the dot product between $\\mathbf{b}$ and $\\boldsymbol{\\sigma}$.\n",
        "\n",
        "$$\\mathbf{b} \\cdot \\boldsymbol{\\sigma} = \\mathbf{b} \\cdot (\\mathbf{s} - \\mathbf{s_0}) = \\text{OPD}_{\\mathbf{s}}-\\text{OPD}_{\\mathbf{s_0}}$$"
      ]
    },
    {
      "cell_type": "markdown",
      "metadata": {},
      "source": [
        "<div class=warn>\n",
        "<b>Warning:</b> Unlike the <em>emitting</em> case where we considered two spatially separated sources which emit perfectly coherent and in phase waves (see [$\\S$ 4.3.1 &#10549;](#vis:sec:431)), the two incoming signals received by $R_1$ (or $R_2$) <b>DO NOT INTERFERE</b>. The waves arriving at $R_1$ (or at $R_2$) come from <b>different</b> (and therefore spatially incoherent) sources of the sky. It is critical to understand that there is no equivalence between the <b>emitting</b> case and the <b>receiving</b> case.</div>"
      ]
    },
    {
      "cell_type": "markdown",
      "metadata": {},
      "source": [
        "<div class=warn>\n",
        "<b>Warning:</b> For the moment, the vector $\\mathbf{s}$ and $\\mathbf{s_0}$ are unitary and defined with angles only. Therefore, the length of $\\boldsymbol{\\sigma}$ is a projected angular distance on the sky (defined in terms of direction cosines ($l$, $m$, $n$), defined in [$\\S$ 3.4 &#10142;](../3_Positional_Astronomy/3_4_direction_cosine_coordinates.ipynb) ).</div>"
      ]
    },
    {
      "cell_type": "markdown",
      "metadata": {},
      "source": [
        "<a id=\"vis:sec:432\"></a> <!---\\label{vis:sec:432}--->\n",
        "### 4.3.2 First approach to radio interferometry"
      ]
    },
    {
      "cell_type": "markdown",
      "metadata": {},
      "source": [
        "Instead of considering the interference of two linearly superposed waves at a point $P$ as we did with [Fig. 4.3.1 &#10549;](#vis:fig:431), let us now consider the net signal measured by each antenna. In the radio regime, the receivers are composed of conductors which collect an EM wave and convert it into a voltage. This voltage has a time-varying amplitude and phase, which are related to those of the initial EM-wave (specifically, the relationship between the two is determined by the antenna's impedance).\n",
        "\n",
        "These voltage signals are the waves that we work with as radio astronomers doing interferometry.\n",
        "\n",
        "From the configuration presented in [Fig. 4.3.5 &#10549;](#vis:fig:435), we now try to understand what information can be extracted from different combinations of the measured voltages. We have seen that the extra optical path travelled by the plane wave will induce a time delay between the receivers. We need to take this information into account when combining the antenna signals.\n",
        "\n",
        "There are two ways we can combine these signals:\n",
        "* by addition, to form a *sum* interferometer - a $\\sum$-interferometer\n",
        "* by multiplication, to form a *product* interferometer - a $\\prod$-interferometer.\n",
        "\n",
        "<span style=\"background-color:cyan\">TLG:GM: Check if the italic words are in the glossary. </span>\n",
        "\n",
        "Let us define the measured voltages, assuming they are recorded at the same frequency $\\omega$:\n",
        "\n",
        "$$V_1=V_{01} \\cos (\\omega t + \\varphi_1)  \\quad V_2 = V_{02} \\cos (\\omega t + \\varphi_2)$$\n",
        "\n",
        "Let us use $\\mathbf{s_0}$ as a reference direction for the incoming wave and $R_2$ as the reference antenna. To do so, we shift our starting time $t_0$ such that $V_2$ has a phase of zero at the origin. We can then recast the equations of our signal as a function of $\\Delta L$:\n",
        "\n",
        "\\begin{align}\n",
        "V_1&=V_{01} \\cos (\\omega t + \\varphi_1 - \\varphi_2),  \\quad &V_2 = V_{02} \\cos (\\omega t)\\\\\n",
        "\\Leftrightarrow V_1&=V_{01} \\cos (\\omega (t + \\frac{\\Delta L}{c})),  \\quad &V_2 = V_{02} \\cos (\\omega t)\n",
        "\\end{align}\n",
        "\n",
        "We will assume that the maximum amplitudes of our voltages are all identical: $V_{01}=V_{02}=V_0$. Let us now look at each type of interferometer in further detail."
      ]
    },
    {
      "cell_type": "markdown",
      "metadata": {},
      "source": [
        "#####  4.3.2.1 The $\\sum$-interferometer"
      ]
    },
    {
      "cell_type": "markdown",
      "metadata": {},
      "source": [
        "As per [$\\S$ 4.3.1.1 &#10549;](#vis:sec:4311), we can derive the result of summing both signals."
      ]
    },
    {
      "cell_type": "markdown",
      "metadata": {},
      "source": [
        "\n",
        "$$V_\\sum = V_1 + V_2 = V_{01} \\cos{(\\omega t + \\varphi_1)} + V_{02} \\cos{(\\omega t + \\varphi_2)}$$\n",
        "\n",
        "We can keep following [$\\S$ 4.2.1.1 &#10142;](4_2_the_baseline_and_its_representation_in_space.ipynb#vis:sec:4211) and compute the amplitude of the sum: \n",
        "$$A=\\sqrt{(V_1 + V_2)^2}= \\;... \\;=\\sqrt{2 V_0^2(1+ \\cos\\Delta \\Phi)} \\text{ with } \\Delta\\Phi = \\varphi_1-\\varphi_2$$\n",
        "\n",
        "We can see that the sum's amplitude is modulated by the **time delay** between signals arriving at $R_1$ and $R_2$.\n",
        "\n",
        "The problem with the $\\sum$-interferometer is that the additive constant term $2 V_0^2$ is not known *a priori*, and cannot be easily removed. It represents the average value of the product of the voltages between $R_1$ and $R_2$.\n",
        "\n",
        "In the $\\prod$-interferometer, this problem takes care of itself: this unknown factor becomes a multiplying factor, which can be normalized with ease. This is why the $\\Pi$-interferometer is more commonly used. For the remainder of this chapter, we will focus on the $\\Pi$-interferometer.\n",
        "\n",
        "The reader wanting more information on the $\\sum$-interferometer is heartily encouraged to refer to [<cite data-cite='1966raas.book.....K'>Kraus $\\S$6-20</cite> &#10548;](http://adsabs.harvard.edu/abs/1966raas.book.....K)"
      ]
    },
    {
      "cell_type": "markdown",
      "metadata": {},
      "source": [
        "#####  4.3.2.2 The $\\prod$-interferometer with a $\\cos$ correlator"
      ]
    },
    {
      "cell_type": "markdown",
      "metadata": {},
      "source": [
        "The product of two signals can be achieved through correlation. A correlator is a device which multiplies two voltages. Generally, the correlator performs some averaging in time: this is done to reduce noise in the final measurement. We will assume that the time over which the signal is averaged is long enough to smooth out the fast oscillation associated with $\\omega t$. This is equivalent to filtering the signals with a *low-pass filter*, which is the kind of filter used to remove the fast-varying component of a signal. <span style=\"background-color:cyan\">TLG:GM: Low pass filter. </span>"
      ]
    },
    {
      "cell_type": "markdown",
      "metadata": {},
      "source": [
        "In other words, the correlation is the product of the voltage of two antennas averaged over a time $t$:\n",
        "\n",
        "$$C= \\langle V_1 V_2 \\rangle_t$$ where $\\langle \\cdot \\rangle_t$ is the time-averaging operator and $\\tau=\\frac{\\Delta L}{c}$.\n",
        "\n",
        "\\begin{align}\n",
        "C&=\\langle V_{01} V_{02} \\cos{\\omega t} \\cos{[\\omega (t + \\frac{\\Delta L}{c}) ]}\\rangle_t \\\\\n",
        " &=\\langle V_{01} V_{02} \\cos{\\omega t} \\cos{[\\omega (t + \\tau) ]} \\rangle_t\\\\\n",
        " &= V_0^2 \\frac{\\langle \\cos(2 \\omega t + \\tau)+\\cos (\\omega \\tau)\\rangle_t}{2}\n",
        " \\end{align}\n",
        "\n",
        "$$\\boxed{\\displaystyle C =\\frac{V_0^2}{2}\\cos{(\\omega \\tau)}=\\frac{V_0^2}{2}\\cos{(2 \\pi \\frac{\\Delta L}{\\lambda}})}$$"
      ]
    },
    {
      "cell_type": "markdown",
      "metadata": {},
      "source": [
        "<span style=\"background-color:red\">TLG:AC: Add a reference to the appendix where the product of cosine identities are explained. [$\\S$ A.1 &#10142;](../0_Introduction/2_Appendix.ipynb)</span>\n",
        "\n",
        "In [$\\S$ 4.3.1.1 &#10549;](#vis:sec:4311), we have shown that the interference fringe pattern depends on the observer's position. We also found a phase-dependent equation to describe an individual fringe.\n",
        "\n",
        "Similarly, we see here that the strength of the correlation between two measured signals depends on the OPD, i.e. the time delay between the signals' arrival at each antenna. Since the time delay depends on the projected baseline, the resulting fringe pattern is also spatially dependent on the direction of the source $\\mathbf{s_0}$.\n",
        "\n",
        "From the previous equation, we can define the *fringe phase*: the phase of the fringe pattern at the direction $\\mathbf{s_0}$. It is defined as: $\\phi = \\omega\\tau=\\frac{\\omega}{c} |\\mathbf{b}| \\cos \\theta= \\frac{2\\pi}{\\lambda} |\\mathbf{b}| \\cos \\theta$\n",
        "\n",
        "As the Earth rotates, the source being observed will slowly rotate on the celestial sphere. The delay tracking system will compensate for this motion by adjusting $\\Omega$. As a consequence, the projected baseline, and therefore $\\tau$, will slowly change.\n",
        "\n",
        "We can characterize the speed of the phase variation with the *fringe rate*, defined as the differential of the fringe phase w.r.t. $\\theta$: $ |\\frac{d\\phi}{d\\theta}|=\\frac{2\\pi}{\\lambda} |\\mathbf{b}\\sin\\theta|=\\frac{2\\pi}{T_f}$ where $T_f$ is the *fringe period*. Observing this fringe rate can contribute to the precise localisation of a source (see [$\\S$ 4.4.2.3 &#10142;](4_4_the_visibility_function.ipynb#vis:sec:4423)).\n",
        "<span style=\"background-color:cyan\">TLG:GM: Are italic words in glossary.</span>"
      ]
    },
    {
      "cell_type": "markdown",
      "metadata": {},
      "source": [
        "<p class=conclusion>\n",
        "First result:\n",
        "\n",
        "* The correlation of a signal measured by a baseline - i.e. between two measurements - can be associated to its source's position with respect to the physical baseline.\n",
        "\n",
        "* If $\\lambda$ is small enough compared to the projected baseline $|\\mathbf{b}|\\sin\\theta$, the phase of the correlation can track the position of a source to a high degree of accuracy.\n",
        "\n",
        "* As a consequence, the correlation is sensitive to variations of the spatial period $T_f$, which means that a 2-element interferometer acts as **spatial filter** for this spatial frequency.\n",
        "\n",
        "In other words, *each baseline* probes *a spatial frequency*, or a single Fourier coefficient as described in [$\\S$ 4.1  &#10142;](4_1_periodic_functions_and_fourier_analysis.ipynb). This is the **fundamental link** to be made here: **each baseline** probes **one spatial frequency**, which is determined by its **length** and **direction**. By stacking baselines - i.e. probing more and more Fourier coefficients - we can start reconstituting the full sky!"
      ]
    },
    {
      "cell_type": "markdown",
      "metadata": {},
      "source": [
        "To do so, we need to define what we mean by \"the full sky\". The sky consists of spatially incoherent sources (point-like and/or extended), which can be described using a continuous function $I_\\nu(\\boldsymbol{\\mathbf{s}})$. This function is called the **sky brightness distribution**. The *response* (net measured signal) of an interferometer \"looking at\" a collection of incoherent sources is the *sum of the responses* of *each individual source*. This is expected: as outlined before, signals which are not coherent do not interfere, and thus add linearly. We thus define the *total* correlation between $R_1$ and $R_2$ on the whole sky by summing over all observable directions:\n",
        "\n",
        "$$ C_{\\cos}= \\int_\\Omega k(\\mathbf{s}) \\cos(2 \\pi \\frac{\\Delta_L(\\mathbf{s})}{\\lambda})d\\mathbf{s}$$\n",
        "with $k(\\mathbf{s})$ an implicit multiplying factor depending on $I_\\nu(\\mathbf{s})$.\n",
        "\n",
        "When usign this definition, $C_{\\cos}$ is called a *cosine correlator*.\n",
        "\n",
        "However, as we know from Fourier analysis, any function can be expressed as the sum of an *even* function and an *odd* function. In practice, the *cosine correlator* will only be sensitive to the *even* component of the sky brigthness function - it only probes the $a_n$ components of its Fourier series as defined in [$\\S$4.1  &#10142;](4_1_periodic_functions_and_fourier_analysis.ipynb). To measure the *odd* component of the sky brigthness function, we must build a *sin* correlator."
      ]
    },
    {
      "cell_type": "markdown",
      "metadata": {},
      "source": [
        "<div class=advice>\n",
        "<b>Note:</b> If the sky brightness is an odd function composed of two sources of opposite brightness, then: <br>\n",
        "$I_\\nu(\\mathbf{s}_+)=+1$ and $I_\\nu(\\mathbf{s}_-)=-1$.\n",
        "\n",
        "In these two directions (marked \"+\" and \"-\"), we will have $\\Delta L_+ = \\Delta L_-$ and $k_+=-k_-$.<br>\n",
        "\n",
        "If we use a *cosine correlator*, we will therefore measure:\n",
        "\n",
        "\\begin{align}\n",
        "C_{\\cos} &= k_+ \\cos{2 \\pi \\frac{\\Delta L_{+}}{\\lambda}} + k_- \\cos{2 \\pi \\frac{\\Delta L_{-}}{\\lambda}}\\\\\n",
        "         &=k_+ \\cos{2 \\pi \\frac{\\Delta L_{+}}{\\lambda}} - k_+ \\cos{2 \\pi \\frac{\\Delta L_{+}}{\\lambda}} \\\\\n",
        "         &= 0\n",
        "\\end{align}\n",
        "\n",
        "Similarly, the *odd* components of the sky brightness will not be measured if we rely only on a *cosine* correlator.</div>"
      ]
    },
    {
      "cell_type": "markdown",
      "metadata": {},
      "source": [
        "#### 4.3.2.3 What is the coefficient $k(\\mathbf{s})$ ?"
      ]
    },
    {
      "cell_type": "markdown",
      "metadata": {},
      "source": [
        "If we assume that the voltage output of our antennas is a linear function of the electromagnetic (EM) wave they measure, the voltage measured by each antenna is the integral of the contribution from all directions over their respective field of view $\\Omega_1$ and $\\Omega_2$.\n",
        "\n",
        "$$V_1= \\int_{\\Omega_1} V_{1_\\Omega} d \\Omega_1 \\quad V_2= \\int_{\\Omega_2} V_{2_\\Omega} d\\Omega_2$$\n",
        "\n",
        "In other words, since the individual signals of each source are incoherent, they do not interfere and add linearly: the net signal of all the sources in the field of view of each antenna is the sum of the signal from all individual sources."
      ]
    },
    {
      "cell_type": "markdown",
      "metadata": {},
      "source": [
        "$V_{i_\\Omega}$ is proportional to the power received from direction $\\mathbf{s}$: \n",
        "\n",
        "<center>$V_{i_\\Omega} \\propto \\frac{1}{2} A_{\\text{eff}}(\\mathbf{s}) I_\\nu(\\mathbf{s})\\Delta\\nu d\\Omega$</center>\n",
        "\n",
        "where $A_{\\text{eff}}$ is the effective area of the antenna, $I_\\nu$ the brightness distribution, $\\Delta \\nu$ the bandwidth of observation and $d\\Omega$, an element of observing solid angle (see [$\\S$ 1.2 &#10142;](../1_radio_science/1_2_electromagnetic_radiation_and_astronomical_quantities.ipynb) and [$\\S$ 4.4 &#10142;](4_4_the_visibility_function.ipynb) for definitions). The $\\frac{1}{2}$ comes from the fact that, usually, only one polarization is measured by an antenna.\n",
        "\n",
        "therefore,\n",
        "$$C_{\\cos}= \\langle V_1 V_2 \\rangle_t= \\langle \\int_{\\Omega_1} V_{1_\\Omega} d \\Omega_1 \\int_{\\Omega_2} V_{2_\\Omega} d \\Omega_2 \\rangle_t$$\n",
        "\n",
        "We assume that all the emission from the sky is spatially incoherent, meaning that the only non-zero correlation is between two signals coming from the same direction. We can therefore swap the integrals with the time averaging brackets:\n",
        "\n",
        "$$C_{\\cos}= \\langle V_1 V_2 \\rangle_t= \\int_{\\Omega} \\langle V_{1_\\Omega} V_{2_\\Omega} \\rangle_t d \\Omega \\propto \\Delta \\nu \\int_\\Omega A(\\mathbf{s}) I_\\nu(\\mathbf{s}) \\cos(2 \\pi \\nu \\frac{\\Delta L}{c})d \\Omega$$\n",
        "\n",
        "For the sake of convenience, we can assume - for now - that\n",
        "\n",
        "<center>$k(\\mathbf{s}) \\propto \\Delta \\nu A(\\mathbf{s}) I_\\nu (\\mathbf{s}) $</center>"
      ]
    },
    {
      "cell_type": "markdown",
      "metadata": {},
      "source": [
        "##### 4.3.2.4 The $\\prod$-interferometer with a $\\sin$ correlator"
      ]
    },
    {
      "cell_type": "markdown",
      "metadata": {},
      "source": [
        "A straightforward way to create a $\\sin$ correlator is by introducing an artificial phase delay of $\\frac{\\pi}{2}$ in one of the two signal paths, since\n",
        "\n",
        "<center>$sin(x) = cos(x-\\pi/2)$</center>\n",
        "\n",
        "If we introduce this $\\frac{\\pi}{2}$ phase delay to the path of signal $V_2$, we obtain the following:\n",
        "\n",
        "\\begin{align}\n",
        "V_1 &=V_{01} \\cos (\\omega (t + \\tau))\\\\\n",
        "V_2 &= V_{02} \\cos (\\omega t + \\frac{\\pi}{2} )\\\\\n",
        "C&=\\langle V_{01} V_{02} \\cos{(\\omega t + \\frac{\\pi}{2})} \\cos{[\\omega (t + \\tau) ]} \\rangle_t\\\\\n",
        " &= V_0^2 \\frac{\\langle \\cos(2 \\omega t + \\tau + \\frac{\\pi}{2})+\\cos (\\omega \\tau - \\frac{\\pi}{2})\\rangle_t}{2}\n",
        "\\end{align}\n",
        "\n",
        "$$\\boxed{C_{\\sin} =\\frac{V_0^2}{2}\\sin{\\omega \\tau}}$$\n",
        "\n",
        "As you might expect, this correlator will only be sensitive to the odd part of the sky brightness. This can be verified just as we did for the $\\cos$ correlator's sensitivity."
      ]
    },
    {
      "cell_type": "markdown",
      "metadata": {},
      "source": [
        "<div class=advice>\n",
        "<b>Note:</b> If the sky brightness is an even function composed of two sources of same brightness: <br>\n",
        "i.e. $I_\\nu(\\mathbf{s}_+)=+1$ and $I_\\nu(\\mathbf{s}_-)=+1$. In these two directions (marked \"+\" and \"-\"), we will have $\\Delta L_+ = \\Delta L_-$ and $k_+=-k_-$. <br>\n",
        "With a *sine correlator*, we will therefore have:\n",
        "\n",
        "\\begin{align}\n",
        "C_{\\sin} &= k_+ \\sin{2 \\pi \\frac{\\Delta L_{+}}{\\lambda}} + k_- \\sin{2 \\pi \\frac{\\Delta L_{-}}{\\lambda}}\\\\\n",
        "         &= k_+ \\cos{2 \\pi \\frac{\\Delta L_{+}}{\\lambda}} - k_+ \\sin{2 \\pi \\frac{\\Delta L_{+}}{\\lambda}}\\\\\n",
        "         &= 0\n",
        "\\end{align}\n",
        "The *even* part of the sky brightness will **not** be measured with a *sine* correlator.</div>"
      ]
    },
    {
      "cell_type": "markdown",
      "metadata": {},
      "source": [
        "By implementing two parallel correlators ($\\cos$ & $\\sin$), one can measure the correlation of both the *even* and *odd* parts of the sky brightness $I_\\nu$.\n",
        "\n",
        "$$\\boxed{C_{\\cos} =\\frac{V_0^2}{2}\\cos{\\omega \\tau}} \\quad \\boxed{C_{\\sin} =\\frac{V_0^2}{2}\\sin{\\omega \\tau}}$$"
      ]
    },
    {
      "cell_type": "markdown",
      "metadata": {},
      "source": [
        "<div class=advice>\n",
        "<b>Note:</b> This $\\frac{\\pi}{2}$ delay can be implemented electronically, in either analog or digital manner.</div>"
      ]
    },
    {
      "cell_type": "markdown",
      "metadata": {},
      "source": [
        "<a id=\"vis:sec:433\"></a> <!---\\label{vis:sec:433}--->\n",
        "### 4.3.3 The complex correlator and the complex visibility"
      ]
    },
    {
      "cell_type": "markdown",
      "metadata": {},
      "source": [
        "##### 4.3.3.1 First definition of Visibility"
      ]
    },
    {
      "cell_type": "markdown",
      "metadata": {},
      "source": [
        "The previous section addressed the *practical* implementation of an interferometer observing an arbitrary sky. As we derived two interferometers with $\\cos$ and $\\sin$ correlators, we can combine these operations into one *complex* correlator:"
      ]
    },
    {
      "cell_type": "markdown",
      "metadata": {},
      "source": [
        "\n",
        "\\begin{eqnarray}\n",
        "\\underline{C}&=& \\Re{(\\underline{C})}-\\imath\\Im{(\\underline{C})}=C_{\\cos} - \\imath C_{\\sin}\\\\\n",
        "\\underline{C}&=& \\sum_{n=0}^{\\infty} I_n \\cos(2 \\pi \\frac{\\Delta L_n}{\\lambda})- \\imath \\sum_{n=0}^{\\infty} I_n \\sin(2 \\pi \\frac{\\Delta L_n}{\\lambda})\\\\\n",
        "\\underline{C}&=&\\sum_{n=0}^{\\infty} I_n \\left[ \\cos(2 \\pi \\frac{\\Delta L_n}{\\lambda}) - \\imath \\sin(2 \\pi \\frac{\\Delta L_n}{\\lambda}) \\right] \\\\\n",
        "\\underline{C}&=&\\sum_{n=0}^{\\infty} I_n e^{-\\imath 2\\pi \\frac{\\Delta L_n}{\\lambda}}\n",
        "\\end{eqnarray}\n",
        "And in the continuous case,\n",
        "\n",
        "$$\\boxed{\\underline{C}=\\Delta \\nu \\int_{\\Omega} A(\\mathbf{s}) I_\\nu(\\mathbf{s}) e^{-\\imath 2\\pi \\frac{\\mathbf{b}\\cdot\\mathbf{s}}{\\lambda}} d\\Omega}$$\n",
        "\n",
        "<div class=warn>.ote that this is, in fact, equivalent to $\\mathscr{F}\\{A(\\mathbf{s}) I_\\nu(\\mathbf{s}\\}$. In other words: each correlation corresponds to the **Fourier transform** of the *sky brightness distribution*, **convolved** with the *instrument response*.\n",
        "<span style=\"background-color:cyan\">TLG:GM: Use correct symbol for Fourier Transform. $\\mathscr{F}\\{\\cdot\\}$ (also check rest of notebook).</span>\n",
        "</div>"
      ]
    },
    {
      "cell_type": "markdown",
      "metadata": {},
      "source": [
        "<div class=warn>\n",
        "<b>Warning:</b> The **minus sign** in the definition of the complex correlation is a matter of **convention** for the rest of the course.<br>\n",
        "$\\Omega$ is a solid angle which describe the full-sky or the Field of View of the receiver.\n",
        "</div>"
      ]
    },
    {
      "cell_type": "markdown",
      "metadata": {},
      "source": [
        "$\\underline{C}$ is a complex quantity associated with the measurement of $I_\\nu$ with baseline $\\mathbf{b}$. In the previous equations, the exponent term operates as a spatial filter (on $I_\\nu(\\mathbf{s})$), whose characteristics are dependent on the direction $\\mathbf{s_0}$, the physical baseline $\\mathbf{b}$ and the wavelength $\\lambda$. This spatial filter is associated with a 1D fringe pattern which can be plotted from the real and imaginary part of the exponent.\n",
        "\n",
        "We represent in [Fig 4.3.6 &#10549;](#vis:fig:436), the distribution of the 1D fringe pattern (or array response) derived from the complex correlation. The real and imaginary parts are associated with the *cosine correlator* and *sine correlator*  fringe patterns, respectively. For simplicity, we assume that $A(\\mathbf{s})$ and $I_\\nu(\\mathbf{s})$ are constant.\n",
        "\n",
        "Note that as baseline length increases, the *spatial frequency* it probes becomes larger: you get more peaks for the same angular distance on the sky. In other words, the longer your baseline, the more resolution you can achieve: this is consistent with the *diffraction limit* as defined for baselines - which is good, because the reverse would be troubling!\n",
        "\n",
        "<span style=\"background-color:red\">TLG:AC: Add the Cartesian view as well not just polar plot.</span>"
      ]
    },
    {
      "cell_type": "markdown",
      "metadata": {},
      "source": [
        "<img src='figures/fringes_2.svg' width=60%>\n",
        "<img src='figures/fringe_2D.svg' width=50%>"
      ]
    },
    {
      "cell_type": "code",
      "execution_count": null,
      "metadata": {},
      "outputs": [],
      "source": [
        "import numpy as np\n",
        "theta=np.linspace(0.,180.,1000)\n",
        "blambda=5\n",
        "\n",
        "filter=np.exp(-1j*2*np.pi*blambda*np.cos(np.radians(theta)))\n",
        "\n",
        "filtercosabs=np.abs(np.real(filter))\n",
        "filtersinabs=np.abs(np.imag(filter))\n",
        "\n",
        "f=plt.figure(figsize=(6,6))\n",
        "plt.axes(polar=True)\n",
        "plt.xlabel('theta')\n",
        "plt.plot(np.radians(theta),np.abs(filtercosabs),'b',label=\"Cosine correlator\")\n",
        "plt.plot(np.radians(theta),np.abs(filtersinabs),'r',label=\"Sine correlator\")\n",
        "plt.legend(loc=\"lower center\")\n"
      ]
    },
    {
      "cell_type": "markdown",
      "metadata": {},
      "source": [
        "<a id=\"vis:fig:436\"></a>  <!---\\label{vis:fig:436}--->\n",
        "**Figure 4.3.6**: Fringe patterns derived from the cosine (blue) and sine (red) correlators. 90$^\\circ$ correspond to the zenith and the [0$^\\circ$,180$^\\circ$] corresponds to the ground."
      ]
    },
    {
      "cell_type": "markdown",
      "metadata": {},
      "source": [
        "We have defined the response of a complex correlator towards any direction $\\mathbf{s}$. We will now introduce the direction of the phase centre (i.e. $\\mathbf{s_0}$) by introducing the vector $\\boldsymbol{\\sigma}$ such that:\n",
        "\n",
        "\\begin{eqnarray}\n",
        "\\mathbf{s}=\\mathbf{s_0}+\\boldsymbol{\\sigma}\n",
        "\\end{eqnarray}\n",
        "\n",
        "Then\n",
        "\n",
        "\\begin{eqnarray}\n",
        "\\underline{C}&=& \\Delta \\nu e^{-\\imath 2\\pi \\frac{\\mathbf{b}\\cdot\\mathbf{s_0}}{\\lambda}} \\int_{\\Omega}  A(\\mathbf{s}) I_\\nu(\\mathbf{s}) e^{-\\imath 2\\pi \\frac{\\mathbf{b}\\cdot \\boldsymbol{\\sigma}}{\\lambda}} d\\Omega\n",
        "\\end{eqnarray}"
      ]
    },
    {
      "cell_type": "markdown",
      "metadata": {},
      "source": [
        "The complex correlation $\\underline{C}$ is the integral of the sky brightness as seen through a spatial filter.In other words, it gives us the intensity of a given Fourier component, defined by the baseline length and direction. From the expression of this complex correlation we define the complex visibility, $\\underline{V}$, for which we can define an amplitude and a phase:\n",
        "$$\\underline{V}=|V|e^{\\imath\\phi_V}=\\int_{\\Omega}A(\\boldsymbol{\\sigma}) I_\\nu(\\boldsymbol{\\sigma})   e^{-\\imath 2\\pi \\frac{\\mathbf{b}\\cdot \\boldsymbol{\\sigma}}{\\lambda}} d\\Omega$$"
      ]
    },
    {
      "cell_type": "markdown",
      "metadata": {},
      "source": [
        "<div class=warn>\n",
        "<b>Warning:</b> The position vector is now $\\boldsymbol{\\sigma}$, which depends on our choice $\\mathbf{s_0}$. The visibility is a quantity which depends on the chosen phase center, and will be different if we decide to define our phase centre elsewhere.</div>"
      ]
    },
    {
      "cell_type": "markdown",
      "metadata": {},
      "source": [
        "As a consequence, the complex correlation and the visibility are linked by :\n",
        "$$\\underline{C}= \\Delta \\nu e^{-\\imath 2\\pi \\frac{\\mathbf{b}\\cdot\\mathbf{s_0}}{\\lambda}} |V|e^{\\imath \\phi_V} = \\Delta \\nu |V| e^{\\imath (\\phi_V - 2\\pi \\frac{\\mathbf{b}\\cdot\\mathbf{s_0}}{\\lambda})}$$\n"
      ]
    },
    {
      "cell_type": "markdown",
      "metadata": {},
      "source": [
        "The trick is now to determine the amplitude $|V|$ and phase $\\phi_V$ of the visibility (i.e. **physical quantities**) from the  of the **measured visibility**. This is a **calibration** problem: we seek to go from *measured qantities* to *physical quantities*. In interferometry, we calibrate by comparing our measurement to a predefined model of the sky. The example given here is a simplified version of the more general framework, which will be introduced in [$\\S$ 8 &#10142;](../8_Calibration/8_0_introduction.ipynb) and in the references therein."
      ]
    },
    {
      "cell_type": "markdown",
      "metadata": {},
      "source": [
        "##### 4.3.3.2 Effect of the bandwidth, necessity of delay tracking"
      ]
    },
    {
      "cell_type": "markdown",
      "metadata": {},
      "source": [
        "Measuring a correlation over a finite bandwidth $\\Delta\\nu$ will introduce a *decorrelation* of the two signals because of dependence in $\\nu$ of the fringe term $e^{-\\imath 2 \\pi \\frac{\\mathbf{b}\\cdot \\boldsymbol{\\sigma}}{\\lambda}}$. Indeed, due to the superposition of various wavelengths which will destroy the interferences, we will lose the temporal coherency. This will have an effect of tempering the contrast of the fringe pattern and therefore reduce the amplitude of the correlation.\n",
        "\n",
        "In other words, because we are sampling a *finite segment* of the bandwidth rather than *the full frequency spectrum* of our EM-wave, we will experience similar boundary problems as those described in the Fourier series section of [$\\S$ 4.1 &#10142;](4_1_periodic_functions_and_fourier_analysis.ipynb).\n",
        "\n",
        "Let us investigate the impact of *decorrelation* on the fringe pattern, and how to account for it.\n",
        "\n",
        "At a given frequency $\\nu$, within a infinitesimal bandwidth $d \\nu$, the correlator produces the output:\n",
        "\n",
        "$$d\\underline{C}= |V| e^{\\imath (\\phi_V - 2\\pi \\nu \\tau)} d \\nu$$ with $\\tau= \\frac{\\mathbf{b}\\cdot \\mathbf{s_0}}{c}$\n",
        "\n",
        "If we sum the response over a finite band $\\Delta \\nu$ centered at $\\nu_0$:\n",
        "\n",
        "\\begin{align}\n",
        "\\underline{C}&= |V| \\int_{\\nu_0-\\Delta \\nu /2}^{\\nu_0+\\Delta \\nu /2}e^{\\imath (\\phi_V - 2\\pi \\nu \\tau)} d\\nu \\\\\n",
        "             &= |V| \\int_{\\nu_0-\\Delta \\nu /2}^{\\nu_0+\\Delta \\nu /2} \\cos (\\phi_V - 2\\pi \\nu \\tau)d\\nu + \\imath  |V| \\int_{\\nu_0-\\Delta \\nu /2}^{\\nu_0+\\Delta \\nu /2} \\sin (\\phi_V - 2\\pi \\nu \\tau)d\\nu\\\\\n",
        "             &=  |V| \\left[\\frac{\\sin (\\phi_V - 2\\pi \\nu \\tau)}{-2\\pi \\tau}\\right]_{\\nu_0-\\Delta \\nu /2}^{\\nu_0+\\Delta \\nu /2} + \\imath  |V| \\left[\\frac{-\\cos (\\phi_V - 2\\pi \\nu \\tau)}{-2\\pi \\tau}\\right]_{\\nu_0-\\Delta \\nu /2}^{\\nu_0+\\Delta \\nu /2} \\\\\n",
        "             &= \\frac{|V|}{-2\\pi \\tau} \\left[ \\sin (\\phi_V - 2\\pi (\\nu_0 +\\frac{\\Delta \\nu}{2}) \\tau) - \\sin (\\phi_V - 2\\pi (\\nu_0 -\\frac{\\Delta \\nu}{2}) \\tau)\\right] + \\imath  |V| \\left[ \\dots\\right]_{\\nu_0-\\Delta \\nu /2}^{\\nu_0+\\Delta \\nu /2}\\\\\n",
        "             &=  \\frac{|V|}{2\\pi \\tau} \\left[ 2 \\cos{(\\phi_V - 2\\pi \\nu_0  \\tau) \\sin{\\pi\\Delta\\nu \\tau}} \\right] + \\imath  \\frac{|V|}{2\\pi\\tau} \\left[ 2 \\sin{(\\phi_V - 2\\pi \\nu_0  \\tau) \\sin{\\pi\\Delta\\nu \\tau}}\\right]\\\\\n",
        "             &=  |V|\\Delta\\nu \\frac{\\sin{\\pi\\Delta\\nu \\tau}}{\\pi \\Delta\\nu \\tau}  e^{\\imath (\\phi_V - 2\\pi \\nu_0 \\tau)}\\\\\n",
        "             &=|V|\\Delta \\nu \\; \\text{sinc}(\\pi\\Delta\\nu \\tau) e^{\\imath (\\phi_V - 2\\pi \\nu_0 \\tau)}             \n",
        "\\end{align}"
      ]
    },
    {
      "cell_type": "markdown",
      "metadata": {},
      "source": [
        "We see that the amplitude of the correlation experiences a modulation by a sinc function, which depends on the bandwidth $\\Delta\\nu$ and the delay $\\tau$ defined in the direction of the phase center. We still want to observe radio signals over some bandwidth: this effect is thus unwelcome! One way to *kill* this damping factor is to cancel $\\tau$, which is the delay between the two signals. \n",
        "This is done by injecting an arbitrary delay $\\tau_c=\\tau$ in the signal path of the receiver that first received the signal. \n",
        "\n",
        "The direction $\\mathbf{s_0}$ will slowly move in the sky as the Earth rotates. The phase center should thus be tracked by imposing a time dependent delay $\\tau_c$ into the appropriate signal path to compensate for $\\tau$.\n",
        "\n",
        "As a result, the fringes and their envelopes will always follow the phase center.\n",
        "\n",
        "In the following code, we will simulate the impact of observing with an interferometer in a finite bandwidth $\\Delta \\nu$. To do that, we sum over some wavelength range $\\Delta \\lambda$, the exponent factors only to mimic the computation of $\\underline{C}$. The resulting figure is  [Fig. 4.3.7 &#10549;](#vis:fig:437). <span style=\"background-color:red\">TLG:AC: Add the Cartesian view as well not just polar plot.</span>"
      ]
    },
    {
      "cell_type": "code",
      "execution_count": null,
      "metadata": {},
      "outputs": [],
      "source": [
        "theta=np.linspace(0.,180.,1000)\n",
        "blambda=np.linspace(4,6,100)\n",
        "\n",
        "\n",
        "filter=0\n",
        "for ilambda in np.arange(100):\n",
        "    filter+=np.exp(-1j*2*np.pi*blambda[ilambda]*np.cos(np.radians(theta)))\n",
        "\n",
        "filtercosabs=np.abs(np.real(filter))\n",
        "filtersinabs=np.abs(np.imag(filter))\n",
        "\n",
        "f=plt.figure(figsize=(10,10))\n",
        "plt.axes(polar=True)\n",
        "\n",
        "plt.xlabel('theta')\n",
        "plt.plot(np.radians(theta),np.abs(filtercosabs),'b',label=\"Cosine correlator\")\n",
        "plt.plot(np.radians(theta),np.abs(filtersinabs),'r',label=\"Sine correlator\")\n",
        "plt.legend(loc=\"lower center\")\n",
        "#plt.savefig(\"sinc1.eps\")"
      ]
    },
    {
      "cell_type": "markdown",
      "metadata": {},
      "source": [
        "<a id=\"vis:fig:436\"></a>  <!---\\label{vis:fig:436}--->\n",
        "**Figure 4.3.7**: Directional fringe pattern caused by the finite bandwidth $\\Delta \\nu$ of our observation, which modulates the fringe amplitude with a sinc. "
      ]
    },
    {
      "cell_type": "markdown",
      "metadata": {},
      "source": [
        "From this plot, we can see that the fringe pattern has a priviliged direction. The observation in a finite bandwidth has turned the previous fringe pattern (which had a low directivity) into a directive fringe pattern, pointing towards the zenith. If the source is to be observed at a different elevation, the array response will be lower.\n",
        "Using *fringe tracking*, we can track a source as it moves on the celestial sphere. This guarantees that the maximum array response is pointed toward the phase center."
      ]
    },
    {
      "cell_type": "markdown",
      "metadata": {},
      "source": [
        "<div class=advice>\n",
        "<b>Note:</b> Delay tracking is the core principle of *phased arrays*, which electronically point the maximum array response towards the direction of interest by introducing delays between the receivers.</div>"
      ]
    },
    {
      "cell_type": "markdown",
      "metadata": {},
      "source": [
        "<div class=warn>\n",
        "<b>Warning:</b> This effect is one effect among other *direction-dependent* effects which occurs in radio interferometry. The aim of this final section was to better explain the need for delay tracking."
      ]
    },
    {
      "cell_type": "markdown",
      "metadata": {},
      "source": [
        "<span style=\"background-color:red\">TLG:AC: Time-smearing.</span>"
      ]
    },
    {
      "cell_type": "markdown",
      "metadata": {},
      "source": [
        "### 4.3.4 Conclusion"
      ]
    },
    {
      "cell_type": "markdown",
      "metadata": {},
      "source": [
        "In this section, we have discussed the simple case of a 1D 2-element interferometer. From the correlation of the two voltage signals, we created a complex visibility. This is the measured quantity obtained by observing the sky through a spatial filter whose characteristics depend on the projected baseline.\n",
        "\n",
        "In the next section, we will continue to work with the complex visibility in a more general scope, by combining the notations defined in [$\\S$ 4.2 &#10142;](4_2_the_baseline_and_its_representation_in_space.ipynb) with the notions defined in the present section.\n",
        "\n",
        "We will investigate the physical quantity which can be recovered through the sampling of the complex visibility function."
      ]
    },
    {
      "cell_type": "markdown",
      "metadata": {},
      "source": [
        "<p class=conclusion>\n",
        "  <font size=4><b>Important things to remember</b></font>\n",
        "  <br>\n",
        "\n",
        "&bull; Different parts of the sky are <b>incoherent</b>, they do not interfere at the receiver level.<br>\n",
        "&bull; The interference pattern is \"created\" by a special combination of the antenna signals.<br>\n",
        "&bull; The important quantity to consider in an interferometer is the *projected* baseline which will depend on the time and direction of observation.<br>\n",
        "</p>"
      ]
    },
    {
      "cell_type": "markdown",
      "metadata": {},
      "source": [
        "#### Format status:\n",
        "\n",
        "* <span style=\"background-color:green\">&nbsp;&nbsp;&nbsp;&nbsp;</span> : LF: 08/02/2017\n",
        "* <span style=\"background-color:green\">&nbsp;&nbsp;&nbsp;&nbsp;</span> : NC: 08/02/2017\n",
        "* <span style=\"background-color:green\">&nbsp;&nbsp;&nbsp;&nbsp;</span> : RF: 08/02/2017\n",
        "* <span style=\"background-color:green\">&nbsp;&nbsp;&nbsp;&nbsp;</span> : HF: 08/02/2017\n",
        "* <span style=\"background-color:green\">&nbsp;&nbsp;&nbsp;&nbsp;</span> : GM: 08/02/2017\n",
        "* <span style=\"background-color:green\">&nbsp;&nbsp;&nbsp;&nbsp;</span> : CC: 08/02/2017\n",
        "* <span style=\"background-color:green\">&nbsp;&nbsp;&nbsp;&nbsp;</span> : CL: 08/02/2017\n",
        "* <span style=\"background-color:green\">&nbsp;&nbsp;&nbsp;&nbsp;</span> : ST: 08/02/2017\n",
        "* <span style=\"background-color:green\">&nbsp;&nbsp;&nbsp;&nbsp;</span> : FN: 08/02/2017\n",
        "* <span style=\"background-color:green\">&nbsp;&nbsp;&nbsp;&nbsp;</span> : TC: 08/02/2017\n",
        "* <span style=\"background-color:green\">&nbsp;&nbsp;&nbsp;&nbsp;</span> : XX: 08/02/2017"
      ]
    },
    {
      "cell_type": "markdown",
      "metadata": {
        "collapsed": true
      },
      "source": [
        "***\n",
        " \n",
        "* Next: [4.4 The Visibility Function](4_4_the_visibility_function.ipynb)"
      ]
    }
  ],
  "metadata": {
    "@webio": {
      "lastCommId": null,
      "lastKernelId": null
    },
    "kernelspec": {
      "display_name": "testament",
      "language": "python",
      "name": "testament"
    },
    "language_info": {
      "codemirror_mode": {
        "name": "ipython",
        "version": 3
      },
      "file_extension": ".py",
      "mimetype": "text/x-python",
      "name": "python",
      "nbconvert_exporter": "python",
      "pygments_lexer": "ipython3",
      "version": "3.8.10"
    }
  },
  "nbformat": 4,
  "nbformat_minor": 1
}