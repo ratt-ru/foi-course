{
  "cells": [
    {
      "cell_type": "markdown",
      "metadata": {},
      "source": [
        "***\n",
        "<a id='beginning'></a> <!--\\label{beginning}-->\n",
        "* [Outline](../0_Introduction/0_introduction.ipynb)\n",
        "* [Glossary](../0_Introduction/1_glossary.ipynb)\n",
        "* [4. The Visibility Space](4_0_introduction.ipynb)\n",
        "***"
      ]
    },
    {
      "cell_type": "markdown",
      "metadata": {},
      "source": [
        "Import standard modules:"
      ]
    },
    {
      "cell_type": "code",
      "execution_count": null,
      "metadata": {},
      "outputs": [],
      "source": [
        "import numpy as np\n",
        "import matplotlib.pyplot as plt\n",
        "%matplotlib inline\n",
        "from IPython.display import HTML \n",
        "HTML('../style/course.css') #apply general CSS"
      ]
    },
    {
      "cell_type": "markdown",
      "metadata": {},
      "source": [
        "Import section specific modules:"
      ]
    },
    {
      "cell_type": "code",
      "execution_count": null,
      "metadata": {},
      "outputs": [],
      "source": [
        "from IPython.display import Image"
      ]
    },
    {
      "cell_type": "code",
      "execution_count": null,
      "metadata": {},
      "outputs": [],
      "source": [
        "HTML('../style/code_toggle.html')"
      ]
    },
    {
      "cell_type": "markdown",
      "metadata": {},
      "source": [
        "## Visibility Space Problem Set"
      ]
    },
    {
      "cell_type": "markdown",
      "metadata": {},
      "source": [
        "### 1. Position of Orion\n",
        "\n",
        "The positions of the stars in the Orion constellation can be found in the figure below."
      ]
    },
    {
      "cell_type": "markdown",
      "metadata": {},
      "source": [
        "<img src='figures/orion_fig.png' width=300>"
      ]
    },
    {
      "cell_type": "markdown",
      "metadata": {},
      "source": [
        "**Figure:** Schematic sky map of the Orion consellation."
      ]
    },
    {
      "cell_type": "markdown",
      "metadata": {},
      "source": [
        "Betelgeuse and Rigel are the brightest stars in this constellation. The equatorial coordinates of the constellation's centre, Betelgeuse, and Rigel are:\n",
        "\n",
        "| Name | Right Ascension ($\\alpha$) | Declination ($\\delta$) |\n",
        "|:---:|:---:|:---:|\n",
        "| Center | 5h 30m $(\\alpha_0)$ | $0^{\\circ}$ $(\\delta_0)$ |\n",
        "| Betelgeuse | 5h 55m 10.3053s | $7^{\\circ}~24'~25.42''$ |\n",
        "| Rigel | 5h 14m 32.272s | $-8^{\\circ}~12'~5.898''$ |"
      ]
    },
    {
      "cell_type": "markdown",
      "metadata": {},
      "source": [
        "(1) Calculate the $l$ and $m$ coordinates of Orion's center, Betelgeuse and Rigel? Assume that your field center was chosen to coincide with Orion's center. [specify your answers in degrees ($^{\\circ}$)]. [5] **Hint:**\n",
        "\\begin{eqnarray}\n",
        "    \\Delta \\alpha &=& \\alpha-\\alpha_0\\nonumber\\\\\n",
        "    l &=& \\cos \\delta \\sin \\Delta \\alpha \\nonumber\\\\\n",
        "    m &=& \\sin \\delta \\cos \\delta_0 - \\cos \\delta \\sin \\delta_0\\cos \\Delta \\alpha\\nonumber\n",
        "\\end{eqnarray}"
      ]
    },
    {
      "cell_type": "markdown",
      "metadata": {},
      "source": [
        "(2) What is the distance from the field center to Betelgeuse in the projected $lm$-plane? [1] **Hint:** $l^2+m^2 = d^2$. "
      ]
    },
    {
      "cell_type": "markdown",
      "metadata": {},
      "source": [
        "(3) What is the angular distance from the field center to Betelgeuse on the celestial sphere? [1] **Hint:** $l^2+m^2 = \\sin^2 \\theta$."
      ]
    },
    {
      "cell_type": "markdown",
      "metadata": {},
      "source": [
        "(4) Verify the previous question by using the equatorial coordinates directly (stay on the celestial sphere)? [1] **Hint:** Use the spherical Pythagorean theorem."
      ]
    },
    {
      "cell_type": "markdown",
      "metadata": {},
      "source": [
        "(5) Why do we measure $l$ and $m$ in $^{\\circ}$ if they are direction cosines and therefore by definition unit-less? [1] **Hint:** Use the previous three results to answer this question."
      ]
    },
    {
      "cell_type": "markdown",
      "metadata": {},
      "source": [
        "(6) What will the hour angle of Orion's center be when it appear above the horizon? In which direction will Orion's center appear? [1] **Hint:** Remember Orion's center is at $\\delta = 0^{\\circ}$. It is the same declination the sun has when it lies on one of the equinoxes. "
      ]
    },
    {
      "cell_type": "markdown",
      "metadata": {},
      "source": [
        "**Subtotal 10**"
      ]
    },
    {
      "cell_type": "markdown",
      "metadata": {},
      "source": [
        "### 2. Papino and Paperino\n",
        "\n",
        "We will be using a fictitious piece of sky (containing only two radio sources) in the remainder of the assignment. The equatorial coordinates of this fictitious sky are:\n",
        "\n",
        "| Name | Flux | Right Ascension ($\\alpha$) | Declination $\\delta$ |\n",
        "|:---:|:---:|:---:|:---:|\n",
        "| Papino | 1Jy | -4h 44m 6.686s $(\\alpha_0)$ | $-74^{\\circ}39'37.481''$ $(\\delta_0)$ |\n",
        "| Paperino | 0.2Jy | -4h 44m 6.686 | $-73^{\\circ}39'37.298''$ |"
      ]
    },
    {
      "cell_type": "markdown",
      "metadata": {},
      "source": [
        "(1) Calculate the $l$ and $m$ coordinates of Papino and Paperino? Assume Papino and the field-center coincide.  Express your answer in *radians*. [3]"
      ]
    },
    {
      "cell_type": "markdown",
      "metadata": {},
      "source": [
        "(2) Write down an equation that completely describes this fictitious sky by assuming Papino and Paperino are perfect point sources (i.e. $I(l,m)$)? [3] **Hint:** A point source can be represented with a delta-function, the amplitude of the delta function is equal to the flux of the point source and the translation parameters describe the position of the point source."
      ]
    },
    {
      "cell_type": "markdown",
      "metadata": {},
      "source": [
        "(3) Find the expression of the complex visibilities $V(u,v)$ that we would observe with an ideal interferometer (an interferometer that could sample the entire *uv*-plane). [2] **Hint:** Take the Fourier transform of $I(l,m)$. The unit of $v$ is rad$^{-1}$ (per radian). "
      ]
    },
    {
      "cell_type": "markdown",
      "metadata": {},
      "source": [
        "(4) Calculate $V(v)=V(0,v)$, i.e. the cross section of $V(u,v)$ with the plane $u=0$. [2]"
      ]
    },
    {
      "cell_type": "markdown",
      "metadata": {},
      "source": [
        "**Subtotal 10**"
      ]
    },
    {
      "cell_type": "markdown",
      "metadata": {},
      "source": [
        "### 3. KAT-7 Observation of Papino and Paperino\n",
        "\n",
        "KAT-7 is a radio interferometer that consists out of 7 dishes and is located in the Karoo, South Africa. The ENU (east-north-up) coordinates of this telescope is listed in the table below. We will assume that we observed the fictitious field from the problem 2. The main aim of this section is to enable you to derive the *uv*-tracks of an interferometer and to improve your understanding of visibilities.\n",
        "\n",
        "The ENU coordinates of KAT-7:\n",
        "\n",
        "| Antenna | E ($x$) | N ($y$) | U ($z$) |\n",
        "|:---:|:---:|:---:|:---:|\n",
        "| Antenna 1 | 25.095 m ($x_1$) | -9.095 m ($y_1$) | 0.045 m ($z_1$) |\n",
        "| Antenna 2 | 90.284 m | 26.380 m | -0.226 m |\n",
        "| Antenna 3 | 3.985 m | 26.893 m | 0.000 m |\n",
        "| Antenna 4 | -21.605 m | 25.494 m | 0.019 m |\n",
        "| Antenna 5 | -38.272 m | -2.592 m | 0.391 m |\n",
        "| Antenna 6 | -61.595 m | -79.699 m | 0.702 m |\n",
        "| Antenna 7 | -87.988 m | 75.754 m | 0.138\\m |\n",
        "\n",
        "The observation parameters are:\n",
        "\n",
        "| Name | Value |\n",
        "|:---:|:---:|\n",
        "| Latitude $L$ | $-30^{\\circ}43'17.34''$ |\n",
        "| Starting hour angle $H_0$ | -4h |\n",
        "| Stopping hour angle $H_1$ | 4h |\n",
        "| Field center $\\delta_0$ | $-74^{\\circ}39'37.481''$ |\n",
        "| Field center $\\alpha_0$ | -4h~44m~6.686s |\n",
        "| Observational Frequency $\\nu$ | 1.4 GHz |\n",
        "\n"
      ]
    },
    {
      "cell_type": "code",
      "execution_count": null,
      "metadata": {},
      "outputs": [],
      "source": [
        "antennas = np.array([[ 25.095, -9.095,  0.045], #LOADING KAT7 ANTENNAS\n",
        "            [ 90.284, 26.380, -0.226],\n",
        "            [  3.985, 26.839,  0.000],\n",
        "            [-21.605, 25.494,  0.019],\n",
        "            [-38.272, -2.582,  0.391],\n",
        "            [-61.595,-79.699,  0.792],\n",
        "            [-87.988, 75.754,  0.138]])"
      ]
    },
    {
      "cell_type": "code",
      "execution_count": null,
      "metadata": {},
      "outputs": [],
      "source": [
        "plt.scatter(antennas[:,0], antennas[:,1])\n",
        "plt.grid('on')\n",
        "plt.xlabel('E-W [m]')\n",
        "plt.ylabel('N-S [m]')\n",
        "plt.title('KAT7 Array Layout')\n",
        "plt.show()"
      ]
    },
    {
      "cell_type": "markdown",
      "metadata": {},
      "source": [
        "(1) Calculate the ENU baseline difference vector $\\boldsymbol{b}_{12}^{xyz}$ of baseline 12? [1] **Hint:** $\\boldsymbol{b}_{12}^{xyz} = (x_2-x_1,y_2-y_1,z_2-z_1)$."
      ]
    },
    {
      "cell_type": "markdown",
      "metadata": {},
      "source": [
        "(2) Calculate the length $D_{12}$ of $\\boldsymbol{b}_{12}^{xyz}$. [1]"
      ]
    },
    {
      "cell_type": "markdown",
      "metadata": {},
      "source": [
        "(3) Calculate the azimuth angle $\\mathcal{A}_{12}$ and the elevation (altitude) angle $\\mathcal{E}_{12}$ of $\\boldsymbol{b}_{12}^{xyz}$? [2] **Hint:** Remember the azimuth angle is measured from the north towards the east. "
      ]
    },
    {
      "cell_type": "markdown",
      "metadata": {},
      "source": [
        "(4) Calculate $\\boldsymbol{b}_{12}^{XYZ}=\\begin{bmatrix}X_{12}\\\\Y_{12}\\\\Z_{12}\\end{bmatrix}$? [3] **Hint:** Recall that\n",
        "\\begin{equation}\n",
        "\\begin{bmatrix}X_{12}\\\\Y_{12}\\\\Z_{12}\\end{bmatrix}=D_{12}\n",
        " \\begin{bmatrix}\n",
        " \\cos L_a \\sin \\mathcal{E}_{12} - \\sin L_a \\cos \\mathcal{E}_{12} \\cos \\mathcal{A}_{12}\\nonumber\\\\ \n",
        " \\cos \\mathcal{E}_{12} \\sin \\mathcal{A}_{12} \\nonumber\\\\\n",
        " \\sin L_a \\sin \\mathcal{E}_{12} + \\cos L_a \\cos \\mathcal{E}_{12} \\cos \\mathcal{A}_{12}\n",
        " \\end{bmatrix}\n",
        " \\end{equation}"
      ]
    },
    {
      "cell_type": "markdown",
      "metadata": {},
      "source": [
        "(5) Calculate the observational wavelength $\\lambda$? [1] **Hint:** $\\lambda f=c$."
      ]
    },
    {
      "cell_type": "markdown",
      "metadata": {},
      "source": [
        "(6) Calculate $\\sqrt{X_{12}^2 + Y_{12}^2}\\lambda^{-1}$, $|\\sin \\delta_0| \\sqrt{X_{12}^2 + Y_{12}^2}\\lambda^{-1}$ and $\\cos\\delta_0 Z_{12}\\lambda^{-1}$ [3]."
      ]
    },
    {
      "cell_type": "markdown",
      "metadata": {},
      "source": [
        "(7) Draw the *uv*-tracks of baseline 12 and 21 that are generated; during a 24h observation? [2] **Hint:** The baseline vector of an interferometer trace out an elliptical locus (after 24 hours it will complete one entire revolution). The values calculated in the previous question determine the shape of the elliptical locus. Moreover, $\\boldsymbol{b}_{12}^{xyz}=-\\boldsymbol{b}_{21}^{xyz}$."
      ]
    },
    {
      "cell_type": "markdown",
      "metadata": {},
      "source": [
        "(8) Generate the coordinate pair (*u,v*) associated with baseline 12 and $H_0=$ -4h. [2] **Hint:** Recall that\n",
        " \\begin{equation}\n",
        " \\begin{bmatrix}\n",
        " u_{12}\\\\\n",
        " v_{12}\n",
        " \\end{bmatrix} =\\lambda^{-1}\n",
        " \\begin{bmatrix}\n",
        " \\sin H & \\cos H & 0\\\\\n",
        " -\\sin \\delta_0 \\cos H & \\sin \\delta_0 \\sin H & \\cos \\delta_0\n",
        " \\end{bmatrix}\n",
        " \\begin{bmatrix}\n",
        " X_{12}\\\\\n",
        " Y_{12}\\\\\n",
        " Z_{12}\n",
        "\\end{bmatrix}\n",
        "\\end{equation}"
      ]
    },
    {
      "cell_type": "markdown",
      "metadata": {},
      "source": [
        "(9)  Why is *u* and *v* unit-less? Why then do we measure *u* and *v* in rad$^{-1}$? [1] **Hint:** In what unit do we measure length and wavelength? What is the unit of the ratio of these two quantities?"
      ]
    },
    {
      "cell_type": "markdown",
      "metadata": {},
      "source": [
        "(10) Generate the coordinate pair (*u,v*) associated with baseline 12 and $H_1=$ 4h. [2]"
      ]
    },
    {
      "cell_type": "markdown",
      "metadata": {},
      "source": [
        "(11) Draw the *uv*-tracks of baseline 12 and 21 for -4h $\\leq H \\leq$ 4h. [2]"
      ]
    },
    {
      "cell_type": "markdown",
      "metadata": {},
      "source": [
        "(12) Assume we observe the exact same sky as we calculated in the previous section (i.e. the *l* and *m* coordinates of our skymodel stay the same), but now let $\\delta_0 = 0^{\\circ}$ (Papino lies on the celestial equator). Calculate the *uv*-coverage of baseline 12 with -4h < H < 4h. Also, plot the visibilities that we would observe as a function of timeslots - (we obtained the visibilities at 600 different (*u,v*) pairs on the elliptical locus)? [5]"
      ]
    },
    {
      "cell_type": "markdown",
      "metadata": {},
      "source": [
        "**Subtotal 25**"
      ]
    },
    {
      "cell_type": "markdown",
      "metadata": {},
      "source": [
        "### 4. Basic Properties of an Interferometric Array\n",
        "\n",
        "In the table below we have some of the basic properties of an interferometric array, with these basic properties we can determine some of the array's secondary properties. For all the questions that follow, assume we are *observing at 1.4 GHz* ($\\nu_0$). **Note:** Assume that all the angles in the formulae given are in *radians*. Express all your answers, those that are angles, in degrees, arcminutes and arcseconds.\n",
        "\n",
        "| Property | Value |\n",
        "|:---:|:---:|\n",
        "| Antennas $N_{\\textrm{ant}}$ | 7 |\n",
        "| Dish diameter $D$ | 12 m |\n",
        "| Longest baseline length $b_{\\textrm{max}}$ | 185 m |\n",
        "| Channel bandwidth $\\Delta \\nu$ | 92.9121 MHz |\n",
        "| Frequency range | 1.4 - 1.95 GHz |"
      ]
    },
    {
      "cell_type": "code",
      "execution_count": null,
      "metadata": {},
      "outputs": [],
      "source": [
        "f0 = 1.4*10**9\n",
        "D = 12\n",
        "bmax = 185\n",
        "cB = 92.9121*10**6\n",
        "Na = 7"
      ]
    },
    {
      "cell_type": "markdown",
      "metadata": {},
      "source": [
        "(1) How many baselines does the interferometric array have? [1] **Hint:** $\\frac{N_{\\textrm{ant}}^2-N_{\\textrm{ant}}}{2}$."
      ]
    },
    {
      "cell_type": "markdown",
      "metadata": {},
      "source": [
        "(2) Determine the approximate size of the primary beam (full width half maximum beamwidth) of the interferometric array. [2] **Hint:** $\\theta_p \\approx \\frac{\\lambda_0}{D}$."
      ]
    },
    {
      "cell_type": "markdown",
      "metadata": {},
      "source": [
        "(3) Determine the angular resolution of the interferometric array. [1] **Hint:** $\\theta_s \\approx \\frac{\\lambda_0}{b_{\\textrm{max}}}$."
      ]
    },
    {
      "cell_type": "markdown",
      "metadata": {},
      "source": [
        "(4) Determine the maximum angular radius $\\Delta \\theta$ a source can be from the field center and not be heavily attenuated by the fringe washing function. [1] **Hint:** $\\Delta \\theta \\Delta \\nu << \\theta_s \\nu_0$."
      ]
    },
    {
      "cell_type": "markdown",
      "metadata": {},
      "source": [
        "(5) Determine the maximum integration time $\\Delta t$ length if you want to prevent time smearing (within the maximum angular radius given by your fringe washing function). [1] **Hint:** $\\frac{2\\pi\\Delta \\theta\\Delta t}{P} <<\\theta_s$."
      ]
    },
    {
      "cell_type": "markdown",
      "metadata": {},
      "source": [
        "(6) Determine the field of view $\\Delta \\theta_F$ in which we may assume that the $w$-term is negligible. [1] **Hint:** $\\Delta \\theta_F < \\frac{1}{3}\\sqrt{\\theta_s}$"
      ]
    },
    {
      "cell_type": "markdown",
      "metadata": {},
      "source": [
        "(7) Represent $\\theta_p$, $\\theta_s$, $\\Delta \\theta$ and $\\Delta \\theta_F$ graphically (in one figure). [3] **Hint:** Draw concentric circles and use the angles as radii or diameters."
      ]
    },
    {
      "cell_type": "markdown",
      "metadata": {},
      "source": [
        "**Subtotal 10**"
      ]
    },
    {
      "cell_type": "markdown",
      "metadata": {},
      "source": [
        "**Total Marks 55**  \n",
        "**Full Marks 50**"
      ]
    },
    {
      "cell_type": "markdown",
      "metadata": {},
      "source": [
        "***\n",
        "Return: [4. The Visibility Space](4_0_introduction.ipynb)"
      ]
    }
  ],
  "metadata": {
    "kernelspec": {
      "display_name": "testament",
      "language": "python",
      "name": "testament"
    },
    "language_info": {
      "codemirror_mode": {
        "name": "ipython",
        "version": 3
      },
      "file_extension": ".py",
      "mimetype": "text/x-python",
      "name": "python",
      "nbconvert_exporter": "python",
      "pygments_lexer": "ipython3",
      "version": "3.8.10"
    }
  },
  "nbformat": 4,
  "nbformat_minor": 1
}