{
  "cells": [
    {
      "cell_type": "markdown",
      "metadata": {},
      "source": [
        "***\n",
        "\n",
        "* [Outline](../0_Introduction/0_introduction.ipynb)\n",
        "* [Glossary](../0_Introduction/1_glossary.ipynb)\n",
        "* [4. The Visibility Space](4_0_introduction.ipynb)\n",
        "    * Previous: [4.0 Introduction](4_0_introduction.ipynb)\n",
        "    * Next: [4.2 The Baseline and its Representation in Space](4_2_the_baseline_and_its_representation_in_space.ipynb)\n",
        "\n",
        "***"
      ]
    },
    {
      "cell_type": "markdown",
      "metadata": {},
      "source": [
        "Import standard modules:"
      ]
    },
    {
      "cell_type": "code",
      "execution_count": null,
      "metadata": {},
      "outputs": [],
      "source": [
        "import numpy as np\n",
        "import matplotlib.pyplot as plt\n",
        "%matplotlib inline\n",
        "from IPython.display import HTML \n",
        "HTML('../style/course.css') #apply general CSS"
      ]
    },
    {
      "cell_type": "markdown",
      "metadata": {},
      "source": [
        "Import section specific modules:"
      ]
    },
    {
      "cell_type": "code",
      "execution_count": null,
      "metadata": {},
      "outputs": [],
      "source": [
        "from IPython.display import HTML\n",
        "HTML('../style/code_toggle.html')"
      ]
    },
    {
      "cell_type": "markdown",
      "metadata": {},
      "source": [
        "# 4.1 Periodic Functions and Fourier Analysis"
      ]
    },
    {
      "cell_type": "markdown",
      "metadata": {},
      "source": [
        "<span style=\"background-color:red\">TLG:MC: Merge the fundamentals about Fourier series and Fourier transform into chapter two. Keep the physics related to visibilities here, for instance the point source stuff and the Gaussian source stuff. Cut down in size.</span>\n",
        "\n",
        "<span style=\"background-color:red\">TLG:RC: Reduce your use of subsections. You go way to deep into subsections.</span>\n",
        "\n",
        "In this section, we will talk briefly about waves, then introduce Fourier analysis. Our aim is to make Fourier analysis as obvious as possible, while still going into sufficient depth to allow students to develop a good physical intuition.\n",
        "\n",
        "A short note on nomenclature: in the literature, Fourier space can be referred to as *phase space*, *Fourier space*, *$k$-space*, *visibility space*, *uv-space* and more besides depending on the discipline. In this book, these terms will be used interchangeably: they all mean the same thing.\n",
        "\n",
        "<span style=\"background-color:cyan\">TLG:GM: Are these definitions in the glossary? Fourier analysis especially.</span>\n"
      ]
    },
    {
      "cell_type": "markdown",
      "metadata": {},
      "source": [
        "### 4.1.1 Periodic Functions"
      ]
    },
    {
      "cell_type": "markdown",
      "metadata": {},
      "source": [
        "Here, we will provide a very brief reminder of important properties of periodic functions. These should already be covered - and in greater detail - in [$\\S$2.2](../2_Mathematical_Groundwork/2_2_important_functions.ipynb). This should therefore not be new material, but things to keep in mind as you read this chapter."
      ]
    },
    {
      "cell_type": "markdown",
      "metadata": {},
      "source": [
        "#### 4.1.1.1 Characteristics of a Periodic Function"
      ]
    },
    {
      "cell_type": "markdown",
      "metadata": {},
      "source": [
        "A periodic function is an endlessly repeating function. The simplest periodic function is the humble *sine* function:"
      ]
    },
    {
      "cell_type": "code",
      "execution_count": null,
      "metadata": {},
      "outputs": [],
      "source": [
        "x=(np.arange(800)-400)/200.*np.pi\n",
        "plt.title(\"Sine function\")\n",
        "plt.plot(x,np.sin(x))"
      ]
    },
    {
      "cell_type": "markdown",
      "metadata": {},
      "source": [
        "**Figure 4.1.1**: A simple sine function"
      ]
    },
    {
      "cell_type": "markdown",
      "metadata": {},
      "source": [
        "Two quantities define a periodic function: *amplitude* and *frequency*. \n",
        "<span style=\"background-color:cyan\">TLG:GM: Are these definitions in the glossary?</span>\n",
        "Amplitude defines the size of the wave; frequency defines how often the wave repeats. In the example above, both are set to 1; the function therefore repeats every $2\\pi$ (since the sin function is the y-projection of a particle moving in a circular orbit), and has an amplitude of 1 (since the aforementioned orbit is of unit radius).\n",
        "\n",
        "Two constants can also be added to a periodic function: *amplitude offset* and *phase offset*. \n",
        "<span style=\"background-color:cyan\">TLG:GM: Are these definitions in the glossary?</span>\n",
        "A more general expression for our basic periodic function would therefore be:"
      ]
    },
    {
      "cell_type": "code",
      "execution_count": null,
      "metadata": {},
      "outputs": [],
      "source": [
        "amplitude        = 1\n",
        "frequency        = 1\n",
        "phase_offset     = np.pi/2.\n",
        "amplitude_offset = 0\n",
        "plt.title(\"General sine function\")\n",
        "plt.plot(x,np.sin(x))\n",
        "plt.plot(x,amplitude*np.sin(frequency*x+phase_offset)+amplitude_offset)"
      ]
    },
    {
      "cell_type": "markdown",
      "metadata": {},
      "source": [
        "**Figure 4.1.2**: Comparison between a basic sine function and what happens when you play with its parameters"
      ]
    },
    {
      "cell_type": "markdown",
      "metadata": {},
      "source": [
        "I strongly encourage you to play with the graph above - for example, what happens when you set the amplitude to -1 ? What happens if you set the amplitude to -1 and the phase offset to $\\pi$? \n",
        "\n",
        "<div class=advice>\n",
        "**N.B.** Note that setting the phase offset of a sine function to $\\frac{\\pi}{2}$ gives you a *different* periodic function: a cosine function.\n",
        "</div>"
      ]
    },
    {
      "cell_type": "markdown",
      "metadata": {},
      "source": [
        "<div class=warn>\n",
        "In many physics textbooks, the frequency $f$ may be referred to as the *angular frequency* $\\omega$. The two are linked by the following relation:\n",
        "\n",
        "<center>$\\omega = 2\\pi f$</center>\n",
        "</div>"
      ]
    },
    {
      "cell_type": "markdown",
      "metadata": {},
      "source": [
        "<span style=\"background-color:cyan\">TLG:GM: Are these definitions in the glossary?</span>"
      ]
    },
    {
      "cell_type": "markdown",
      "metadata": {},
      "source": [
        "#### 4.1.1.2 Complex Periodic Functions"
      ]
    },
    {
      "cell_type": "markdown",
      "metadata": {},
      "source": [
        "There exist many periodic functions, all built from the humble sine function. One of particular interest to physicists - for it helps us describe electromagnetic waves - is the exponential form of the complex periodic function, as defined by Euler's formula:\n",
        "<div class=warn>\n",
        "<center>$e^{ix} = \\cos(x) + i \\sin(x)$</center>\n",
        "</div>\n",
        "For the remainder of this section, we will use both sine and exponential forms of periodic functions."
      ]
    },
    {
      "cell_type": "markdown",
      "metadata": {},
      "source": [
        "### 4.1.2 Fourier analysis: Reconstructing Signals"
      ]
    },
    {
      "cell_type": "markdown",
      "metadata": {},
      "source": [
        "We will now go over relevant properties of Fourier analysis, again to highlight key concepts to keep in mind when you start delving into the rest of this section. All of this content is described in greater detail in [$\\S$2.3](../2_Mathematical_Groundwork/2_3_fourier_series.ipynb)."
      ]
    },
    {
      "cell_type": "markdown",
      "metadata": {
        "collapsed": true
      },
      "source": [
        "#### 4.1.2.1 Fourier Series\n",
        "\n",
        "<span style=\"background-color:red\">TLG:MC: Merge into 2.3. Try to add to that section\n",
        "bringing with it some simplicity. Merge your explanation with what is there.</span>\n",
        "A key discovery of French mathematician Joseph Fourier was that, within a bounded interval, any integrable function - no matter its shape - could be replicated using a linear combination of sines and cosines. The bounded interval is significant: since we are replicating the original function with periodic functions, the predefined interval will essentially correspond to the maximum period of our sines and cosines.\n",
        "\n",
        "Note that Fourier series are covered in greater mathematical detail in [$\\S$ 2.3. &#10142;](../2_Mathematical_Groundwork/2_3_fourier_series.ipynb). Here, we will try to give a more physical understanding of the operation.\n",
        "\n",
        "Consider some arbitrary function (here, $f(x) = (x-0.5)^3+3$):"
      ]
    },
    {
      "cell_type": "code",
      "execution_count": null,
      "metadata": {},
      "outputs": [],
      "source": [
        "# define range of x-axis\n",
        "x=(np.arange(1200)-600.)/200\n",
        "# calculate y as a function of x\n",
        "y=(x-0.5)**3+2\n",
        "# plot\n",
        "plt.plot(x,y)\n",
        "plt.title(\"Arbitrary function\")\n",
        "plt.ylabel(\"f(x)\")\n",
        "plt.xlabel(\"x\")"
      ]
    },
    {
      "cell_type": "markdown",
      "metadata": {},
      "source": [
        "**Figure 4.1.3**: Plot of our arbitrary function"
      ]
    },
    {
      "cell_type": "markdown",
      "metadata": {},
      "source": [
        "Let us now consider that we are only interested in this function in the range $x=[-2,2]$. Our interval is thus 4: the period over which we will replicate our initial function $f(x)$ will be 4. Our function here is definitely integrable over the period of interest; we can thus perform a Fourier series and try to replicate our function over our interval of interest. The formula to do so is as follows:\n",
        "\n",
        "<center>$\\displaystyle f(t) = \\frac{1}{2}a_0 + \\sum_{n=1}^{\\inf}[a_n\\cos(w_n t) + b_n \\sin(w_n t)]$</center>\n",
        "\n",
        "with\n",
        "\n",
        "<center>$\\displaystyle w_n = \\frac{2\\pi n}{x_1-x_0}$</center>\n",
        "\n",
        "<center>$\\displaystyle a_n = \\frac{2}{x_1-x_0}\\int_{x_0}^{x_1} f(t) \\cos(w_n t)dt $</center>\n",
        "\n",
        "<center>$\\displaystyle b_n = \\frac{2}{x_1-x_0}\\int_{x_0}^{x_1} f(t) \\sin(w_n t)dt $</center>\n",
        "\n",
        "Note the factor of 0.5 in front of $a_0$.\n",
        "\n",
        "In practice, of course, the upper limit of $n\\rightarrow\\infty$ is not achievable. Let us try to replicate the arbitrary function above using different values of $n_{max}$."
      ]
    },
    {
      "cell_type": "code",
      "execution_count": null,
      "metadata": {},
      "outputs": [],
      "source": [
        "nmax=10\n",
        "x=(np.arange(1201)-800.)/200\n",
        "y=(x-0.5)**3+2\n",
        "\n",
        "def FourierSeriesApprox(xvals,yvals,nmax):\n",
        "    approx=np.zeros_like(yvals)\n",
        "    T=(xvals[-1]-xvals[0])\n",
        "    w=2*np.pi/T\n",
        "    dt=xvals[1]-xvals[0]\n",
        "    approx=approx+1/T*(np.sum(yvals)*dt)\n",
        "    for t in range(len(xvals)):\n",
        "        for n in (np.arange(nmax)+1):\n",
        "            an=2/T*np.sum(np.cos(w*n*xvals)*yvals)*dt\n",
        "            bn=2/T*np.sum(np.sin(w*n*xvals)*yvals)*dt\n",
        "            approx[t]=approx[t]+an*np.cos(w*n*xvals[t])+bn*np.sin(w*n*xvals[t])\n",
        "    return approx\n",
        "        \n",
        "yApprox=FourierSeriesApprox(x,y,nmax)\n",
        "#plt.plot(x,y)\n",
        "plt.figure(figsize=(18,12))\n",
        "plt.plot(x,yApprox,label=\"Fourier series approx. with nmax=%i\"%nmax)\n",
        "plt.plot(x,y,label=\"Initial function\")\n",
        "plt.legend(loc=\"upper left\")"
      ]
    },
    {
      "cell_type": "markdown",
      "metadata": {},
      "source": [
        "**Figure 4.1.4**: Overlay of our arbitrary function and its Fourier series approximation for a given number of Fourier coefficients"
      ]
    },
    {
      "cell_type": "markdown",
      "metadata": {},
      "source": [
        "Note that our fit becomes worse at the edges if we are fitting a function with a different period than our sampling period. This is because our sines and cosines must repeat at some point - hence the divergence at the edges of our sampling.\n",
        "\n",
        "<div class=warn>\n",
        "Each $n$ corresponds to a given *spatial frequency* of our function over the sampling range: there are certain frequencies for which our periodic functions prove better \"fits\" for our function. This is the **key point** of Fourier analysis: we seek to find what scales contain most of our function's information. As $n_{max}$ increases, we pick up finer and finer detail; as it tends to infinity, we get closer to being able to deal with discontinuities.\n",
        "</div>\n",
        "\n",
        "Physicists tend to discuss this in terms of energy. Each characteristic scale has a certain amount of information - a certain amount of \"energy\" from the function's total energy budget. If the function is constant, for example, we know that the characteristic scale will be in the constant term in the Fourier series (i.e. $a_0$): equivalently, we can say that all the function's power is concentrated in $a_0$. The reason we talk about \"power\" is explained in [$\\S$ 4.1.2.3 &#10549;](#vis:sec:ps).\n",
        "\n",
        "Note that the Fourier series can also be written in terms of a complex exponential as follows:\n",
        "\n",
        "<center>\n",
        "\\begin{align}\\displaystyle\n",
        "f(t) &= \\sum_{n=-N}^N c_n e^{i w_n x}\\\\\n",
        "w_n  &= \\frac{2\\pi n}{x_1-x_0}\\\\\n",
        "c_n  &= \\frac{1}{x_1-x_0} \\int_{x_0}^{x_1} f(t) \\cdot e^{-i w_n x}dx\n",
        "\\end{align}</center>"
      ]
    },
    {
      "cell_type": "markdown",
      "metadata": {},
      "source": [
        "##### 4.1.2.2 Fourier Transform\n",
        "<span style=\"background-color:red\">TLG:MC: Very important but merge into 2.4.</span>\n",
        "\n",
        "In the example above, we have taken a *limited time band* and found weights associated with *discrete spatial frequencies*. However, why should we restrict ourselves to *discrete* spatial frequencies? Indeed, with sufficiently large $n_{max}$, we should approach a *continuous* sampling of our function's Fourier coefficients.\n",
        "\n",
        "By considering our function over its full range (i.e. $[x_0,x_1]\\rightarrow[-\\infty,\\infty]$) and sampling infinitesimally finely in space, we can thus take the complex exponential form of the Fourier series to define the Fourier transform $\\tilde{f}$ of a function $f$ defined in \n",
        "Note that Fourier series are covered in greater mathematical detail in [$\\S$ 2.4. &#10142;](../2_Mathematical_Groundwork/2_4_the_fourier_transform.ipynb):\n",
        "\n",
        "<center> $\\displaystyle \\tilde{f}(s) = \\int_{-\\infty}^{\\infty} f(t) e^{-i2\\pi t s} dt$ </center> \n",
        "\n",
        "In other words, we create a *continuous* description <span style=\"background-color:cyan\">TLG:GM: Are these definitions in the glossary?</span>, for every frequency, of the relative \"weight\" of the scale associated with that frequency in our function $f(t)$. For the purposes of this section, that is as far as we will take our analysis; everything that's been said about Fourier series holds for Fourier transforms, which are a more general case of the former.\n",
        "\n",
        "<div class=advice>\n",
        "Note that this works for both *time* frequencies and *spatial* frequencies. <span style=\"background-color:cyan\">TLG:GM: Are these definitions in the glossary?</span> This latter quantity is what interests us as astronomers - by taking the (2-dimensional) Fourier transform of a (2-dimensional) image of the sky, we can find where the light of our sources lies. Most importantly, **the reverse is true**: we can recreate an image if we know its Fourier space well enough!\n",
        "</div>\n",
        "\n",
        "<span style=\"background-color:cyan\">TLG:ST: Use a note style</span>\n",
        "<span style=\"background-color:red\">TLG:GC: See the comments about the figures below.</span>\n",
        "\n",
        "\n",
        "##### 4.1.2.2.1 Boundary Problems\n",
        "<span style=\"background-color:red\">TLG:MC: Very important but merge into 2.4.</span>\n",
        "\n",
        "<span style=\"background-color:cyan\">TLG:GN: Are F Transform and Series in Glossary? Italic them too.</span>\n",
        "\n",
        "One key advantage Fourier transforms hold over Fourier series is that we are no longer beholden to poorly-set boundaries. Consider a simple sine wave of the following form:\n",
        "\n",
        "<center> $f(x) = sin(4x)$ </center>\n",
        "\n",
        "If we try to find the Fourier coefficient for this function over a range other than a multiple of its period, then we may run into problems. Observe:"
      ]
    },
    {
      "cell_type": "code",
      "execution_count": null,
      "metadata": {
        "scrolled": true
      },
      "outputs": [],
      "source": [
        "def FourierSeriesApprox(xvals,yvals,nmax):\n",
        "    approx=np.zeros_like(yvals)\n",
        "    T=(xvals[-1]-xvals[0])\n",
        "    w=2*np.pi/T\n",
        "    dt=xvals[1]-xvals[0]\n",
        "    approx=approx+1/T*(np.sum(yvals)*dt)\n",
        "    for t in range(len(xvals)):\n",
        "        for n in (np.arange(nmax)+1):\n",
        "            an=2/T*np.sum(np.cos(w*n*xvals)*yvals)*dt\n",
        "            bn=2/T*np.sum(np.sin(w*n*xvals)*yvals)*dt\n",
        "            approx[t]=approx[t]+an*np.cos(w*n*xvals[t])+bn*np.sin(w*n*xvals[t])\n",
        "    return approx\n",
        "\n",
        "nmax=50\n",
        "x=(np.arange(1201))/400.\n",
        "y=np.sin(4*x)\n",
        "yApprox=FourierSeriesApprox(x,y,nmax)\n",
        "\n",
        "x1=(np.arange(601-300)*np.pi)/300\n",
        "y1=np.sin(4*x1)\n",
        "y1Approx=FourierSeriesApprox(x1,y1,nmax)\n",
        "\n",
        "plt.figure(figsize=(12,4))\n",
        "\n",
        "plt.subplot(1,2,1)\n",
        "plt.plot(x,yApprox,label=\"Fourier series approx. with nmax=%i\"%nmax)\n",
        "plt.plot(x,y,label=\"Initial function\")\n",
        "plt.legend(loc=\"upper left\")\n",
        "plt.title(\"Poorly-set boundary\")\n",
        "#plt.show()\n",
        "plt.subplot(1,2,2)\n",
        "plt.plot(x1,y1Approx,label=\"Fourier series approx. with nmax=%i\"%nmax)\n",
        "plt.plot(x1,y1,label=\"Initial function\")\n",
        "plt.legend(loc=\"upper left\")\n",
        "plt.title(\"Apppropriate boundary\")\n",
        "plt.show()"
      ]
    },
    {
      "cell_type": "markdown",
      "metadata": {},
      "source": [
        "**Figure 4.1.5**: With an appropriate choice of boundaries, can replicate a function with a single Fourier coefficient - with poor boundary choice, even an infinite amount of Fourier coefficients will not suffice."
      ]
    },
    {
      "cell_type": "markdown",
      "metadata": {},
      "source": [
        "The only change between those two functions is the range over which they are plotted (i.e. $x_{min}$ and $x_{max}$). In the first case, we go from 0 to 3, and in the second case from 0 to $\\pi$. Although we have only changed our function's boundaries, we get the **exact** result with $n_{max}=2$ in the second case! The point here is the **characteristic Fourier scales of our function are unchanged** - but that **boundary errors** - poorly-set boundaries, in other words - can cause issues when trying to retrieve these scales.\n",
        "\n",
        "Fourier transforms do not have this problem: they sample over all space, and therefore never sample under the period of any given characteristic scale of our original function. \n",
        "\n",
        "##### 4.1.2.2.2 Fourier transform of a sine function\n",
        "\n",
        "Having recovered our function with $n_{max}=2$, and knowing that the boundaries used to do so were $x=[0,\\pi/2]$: how many non-zero Fourier coefficients do we have, and what's their value? What do we get with the right boundaries and $n_{max}=1$, and what does that tell us?\n",
        "\n",
        "We know that the function is odd, so the integral over the range will be zero: $a_0 = 0$. Similarly, because the function is odd, all $b_n$ will be zero, since our function has no even characteristic scales. $a_1$ will be zero, because the function averages to zero over the periods this function investigates. $a_2$, however, will pick up the exact function: it has the correct $w_n$!\n",
        "\n",
        "Putting a larger $n_{max}$ will change the poorly-bound Fourier series, but not the appropriately-bound one; you can try this for yourself. This means that, in the appropriately-bound case, all $a_{n \\ne 2} = 0$ ! Knowing that Fourier transforms never suffer from boundary problems: what is the 1-D Fourier transform of this function? What would it be for $f(x) = \\cos(2x) $ ?\n",
        "\n",
        "<div class=warn>\n",
        "As it happens, a sine (or cosine) in the image plane is equivalent to a **point** in the uv-plane: the Fourier transform of a sine or cosine is a *Dirac delta* placed at the function's frequency. This is what radio astronomers refer to when they talk about *interference fringes*: they are talking about the image-plane periodic function associated with a uv-plane point.\n",
        "</div>\n",
        "\n",
        "##### 4.1.2.2.3 Fourier transform of a Dirac delta\n",
        "\n",
        "Consider the extreme case of a point source sitting in the middle of an otherwise empty image (i.e. only one white pixel on an otherwise black image). This is typically described by using a Dirac delta - as defined in [$\\S$ 2.2 &#10142;](../2_Mathematical_Groundwork/2_2_important_functions.ipynb):\n",
        "\n",
        "* Infinitely thin\n",
        "\n",
        "* Infinitely high\n",
        "\n",
        "* Constant area: $\\int_{-\\infty}^{+\\infty} \\delta(x)dx = 1$\n",
        "\n",
        "In other words, you can think of the Dirac delta as the limit where a Gaussian has $\\sigma \\rightarrow 0$ and $A\\rightarrow\\infty$, while keeping the area under the Gaussian a constant.\n",
        "\n",
        "\n",
        "If we have a 1-dimensional image (i.e. a row of pixels on your computer screen) with a point source (i.e. only one pixel is activated - it thus contains a Dirac delta), what scale is most representative of our image? If we consider its Fourier transform (thus freeing us from questions of boundary), we get the following:\n",
        "\n",
        "<center> \\begin{align}\n",
        "\\displaystyle {f}(t) &= \\delta(t)\\\\\n",
        "\\displaystyle \\tilde{f}(s) &= \\int_{-\\infty}^{\\infty} f(t) e^{-i2\\pi t s}\\\\\n",
        "                           &= \\int_{-\\infty}^{\\infty} \\delta(t) e^{-i2\\pi t s} dt\n",
        "\\end{align} </center> \n",
        "\n",
        "By the definition of the Dirac delta, this immediately gives us:\n",
        "\n",
        "<center> $\\displaystyle \\tilde{f}(s) =  e^{-i2\\pi \\cdot0\\cdot s} = 1$ </center> \n",
        "\n",
        "The Fourier transform of a point source (i.e. a single-pixel source. In terms of an astronomical image - an image of the sky - this is the definition of an *unresolved* source) is therefore a constant across all Fourier space. What does this mean in terms of *fringes* (each of which corresponds to **one** Fourier component or *spatial frequency*)? Quite simply that **every fringe** picks up the point source; it is **equally present** at **all spatial scales**. What happens if the Dirac delta is shifted? \n",
        "\n",
        "Let us consider a point source in a 2-dimensional image. If the source is located at coordinates $(x_0,y_0)$, then the function ${f}(x,y)$ describing the brightness distribution in our image (in our extended example, which single pixel is activated - at $x_0,y_0$) would be:\n",
        "\n",
        "<center> $\\displaystyle {f}(x,y) = \\delta(x-x_0)\\delta(y-y_0)$ </center> \n",
        "\n",
        "And the corresponding Fourier space:\n",
        "\n",
        "<center> \n",
        "\\begin{align}\n",
        "\\displaystyle \n",
        "\\tilde{f}(k_x,k_y) &= \\int_{-\\infty}^{\\infty} f(x,y) e^{-i2\\pi (k_x\\cdot x + k_y\\cdot y)} dk_y dk_x\n",
        "\\end{align}</center>\n",
        "\n",
        "Note that here, we define $k_x$ and $k_y$ to be the *spatial frequencies* in our image, in the $x$ and $y$ directions respectively. Again, by plugging $f(x,y)$ into this equation and using the definition of the Dirac delta, we immediately find:\n",
        "\n",
        "<center>\\begin{align}\n",
        "\\displaystyle \\tilde{f}(k_x,k_y) &= \\int_{-\\infty}^{\\infty} \\delta(x-x_0)\\delta(y-y_0) e^{-i2\\pi (k_x\\cdot x + k_y\\cdot y)} dk_y dk_x\\displaystyle \\\\\n",
        "                                 &= e^{-i2\\pi (k_x\\cdot x_0 + k_y\\cdot y_0)}\n",
        "\\end{align}</center>\n",
        "\n",
        "If our source is at the centre of the image ($x_0=y_0=0$), then we recover our first result: the Fourier plane corresponding to our source is constant. If, however, our source is **not** in the centre of the image (in radio interferometric parlance, if it is not at **phase centre** - the reason for this name will be made explicit in later chapters), then our Fourier space consists of the linear combination of two complex waves. In other words, a Dirac delta not located in the centre of the image plane creates **a fringe pattern in the $uv$-plane** (i.e. Fourier space), the periods of which are directly related to its position. In other words, **a fringe pattern in Fourier space corresponds to a point source in the image plane**.\n",
        "\n",
        "##### 4.1.2.2.4 Fourier transform of a Gaussian\n",
        "\n",
        "In practice, few sources in the sky are simple point sources. A more \"physical\" source is a two-dimensional Gaussian:\n",
        "\n",
        "<big><center> $\\displaystyle f(x,y) = a e^{-\\frac{(x-\\mu_x)^2}{2\\sigma_x^2}}e^{-\\frac{(y-\\mu_y)^2}{2\\sigma_y^2}} = a e^{-\\frac{(x-\\mu_x)^2+(y-\\mu_y)^2}{2(\\sigma_x^2+\\sigma_y^2)}}$ </center></big>\n",
        "\n",
        "\n",
        "With different values of $\\mu_x,\\mu_y,\\sigma_x,\\sigma_y$, all sorts of \"blob-like\" sources can be described. More complex sources can be described as a combination of multiple Gaussians. What does the uv-plane of a simple Gaussian source look like? In our case, since $f(x,y) = f(x)f(y)$, we can split the two-dimensional Fourier integral into the product of two one-dimensional Fourier integrals and use the result from Section 2.4.2:\n",
        "\n",
        "<center> \n",
        "\\begin{align}\n",
        "\\displaystyle\n",
        "\\tilde{f}(k_x,k_y) &= \\int_{-\\infty}^{\\infty} f(x,y) e^{-i2\\pi (k_x\\cdot x + k_y\\cdot y)} dk_y dk_x\\\\\n",
        "                   &= \\int_{-\\infty}^{\\infty} f(x) e^{-i2\\pi k_x\\cdot x} dk_x \\int_{-\\infty}^{\\infty} f(y) e^{-i2\\pi k_y\\cdot y} dk_y\\\\\n",
        "                   &= a e^{-\\imath 2\\pi \\mu_x k_x}\\,\\sqrt{2\\pi}\\sigma_x\\,e^{-2\\pi^2k_x^2\\sigma_x^2} e^{-\\imath 2\\pi \\mu_y k_y}\\, \\sqrt{2\\pi}\\sigma_y\\,e^{-2\\pi^2k_y^2\\sigma_y^2}\\\\\n",
        "                   &= 2\\pi a \\sigma_x \\sigma_y e^{-2\\pi^2 (k_x^2 \\sigma_x^2 + k_y^2 \\sigma_y^2)}e^{-i 2\\pi (\\mu_x k_x + \\mu_y k_y)}\n",
        "\\end{align}</center>\n",
        "\n",
        "If our Gaussian is located at phase centre (i.e. if $\\mu_x=\\mu_y=0$), then  we are left with another Gaussian:\n",
        "\n",
        "<center>\\begin{align}\n",
        "\\tilde{f}(k_x,k_y) &= 2\\pi a \\sigma_x \\sigma_y e^{-2\\pi^2 (k_x^2 \\sigma_x^2 + k_y^2 \\sigma_y^2)} e^0\\\\\n",
        "                   &= 2\\pi a \\sigma_x \\sigma_y e^{-(\\frac{k_x^2}{2\\sigma_{kx}^2}+\\frac{k_y^2}{2\\sigma_{ky}^2})}\\\\\n",
        "\\sigma_{kx}        &= \\frac{1}{2\\pi\\sigma_x}\\\\\n",
        "\\sigma_{ky}        &= \\frac{1}{2\\pi\\sigma_y}\n",
        "\\end{align}</center>\n",
        "\n",
        "In other words, the width of our uv-plane Gaussian directly tells us the width of the original Gaussian. If our original Gaussian is located somewhere other than phase centre, we now get a Gaussian multiplied with a fringe pattern in $k$-space (i.e. in the uv-plane). The period of these fringes depends only on $(\\mu_x,\\mu_y)$ and therefore tell us where the Gaussian is located."
      ]
    },
    {
      "cell_type": "markdown",
      "metadata": {},
      "source": [
        "### 4.1.3 Relationship between Image and Fourier planes\n",
        "\n",
        "So far, we have restricted our analyses to images with a single source. Of course, we know that the sky has a lot more than a single source - what then of the Fourier plane of images with more than a single source?\n",
        "\n",
        "Let us consider an image with $n$ sources of arbitrary shapes, each defined by a functions $f_n(x,y)$. The value of this image at different positions would then be given by:\n",
        "<center>\n",
        "\\begin{align}\\displaystyle\n",
        "B(x,y) &= \\sum_n f_n(x,y)\n",
        "\\end{align}</center>\n",
        "\n",
        "The corresponding Fourier plane, then, would be the Fourier transform of $B(x,y)$:\n",
        "\n",
        "<center>\n",
        "\\begin{align}\\displaystyle\n",
        "\\tilde{B}(k_x,k_y) &= \\text{FT}\\big[B(x,y)\\big]\\\\\n",
        "                   &= \\text{FT}\\bigg[\\sum_n f_n(x,y)\\bigg]\\\\\n",
        "                   &= \\sum_n \\text{FT}\\bigg[f_n(x,y)\\bigg]\\\\\n",
        "\\end{align}</center>\n",
        "\n",
        "In other words, the Fourier plane of our image consists of the linear sum of the Fourier components of each individual source. This means that, in practice, \"reading\" the Fourier plane of a given image is all but impossible! Some mighty wizards can and do practice such high magic, but they are few and far between."
      ]
    },
    {
      "cell_type": "markdown",
      "metadata": {},
      "source": [
        "<div class=warn>\n",
        "<big> Why is this relevant? Because interferometers do not sample the image plane: they **directly sample the Fourier plane**. The remainder of this chapter will be dedicated to outlining how this is done in practice, and the constraints this choice imposes (and avoids!).</big>\n",
        "</div>"
      ]
    },
    {
      "cell_type": "markdown",
      "metadata": {},
      "source": [
        "#### Format status:\n",
        "* <span style=\"background-color:green\">&nbsp;&nbsp;&nbsp;&nbsp;</span> : LF: 2017/02/06\n",
        "* <span style=\"background-color:green\">&nbsp;&nbsp;&nbsp;&nbsp;</span> : NC: 2017/02/06\n",
        "* <span style=\"background-color:green\">&nbsp;&nbsp;&nbsp;&nbsp;</span> : RF: 2017/02/06\n",
        "* <span style=\"background-color:green\">&nbsp;&nbsp;&nbsp;&nbsp;</span> : HF: 2017/02/06\n",
        "* <span style=\"background-color:green\">&nbsp;&nbsp;&nbsp;&nbsp;</span> : GM: 2017/02/06\n",
        "* <span style=\"background-color:green\">&nbsp;&nbsp;&nbsp;&nbsp;</span> : CL: 2017/02/06\n",
        "* <span style=\"background-color:green\">&nbsp;&nbsp;&nbsp;&nbsp;</span> : ST: 2017/02/06\n",
        "* <span style=\"background-color:green\">&nbsp;&nbsp;&nbsp;&nbsp;</span> : FN: 2017/02/06\n",
        "* <span style=\"background-color:green\">&nbsp;&nbsp;&nbsp;&nbsp;</span> : SP: 2017/02/06\n",
        "* <span style=\"background-color:red\">&nbsp;&nbsp;&nbsp;&nbsp;</span> : TC: Date\n",
        "* <span style=\"background-color:green\">&nbsp;&nbsp;&nbsp;&nbsp;</span> : XX: 2017/02/06"
      ]
    },
    {
      "cell_type": "markdown",
      "metadata": {},
      "source": [
        "***\n",
        "\n",
        "* Next: [4.2 The Baseline and its Representation in Space](4_2_the_baseline_and_its_representation_in_space.ipynb)"
      ]
    }
  ],
  "metadata": {
    "@webio": {
      "lastCommId": null,
      "lastKernelId": null
    },
    "kernelspec": {
      "display_name": "testament",
      "language": "python",
      "name": "testament"
    },
    "language_info": {
      "codemirror_mode": {
        "name": "ipython",
        "version": 3
      },
      "file_extension": ".py",
      "mimetype": "text/x-python",
      "name": "python",
      "nbconvert_exporter": "python",
      "pygments_lexer": "ipython3",
      "version": "3.8.10"
    }
  },
  "nbformat": 4,
  "nbformat_minor": 1
}