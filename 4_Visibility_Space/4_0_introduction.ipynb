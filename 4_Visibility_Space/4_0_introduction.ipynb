{
 "cells": [
  {
   "cell_type": "markdown",
   "metadata": {},
   "source": [
    "***\n",
    "<a id='beginning'></a> <!--label{beginning}-->\n",
    "   * [Outline](../0_Introduction/0_introduction.ipynb)\n",
    "   * [Glossary](../0_Introduction/1_glossary.ipynb)\n",
    "   * [4. The Visibility space](#)\n",
    "       * Previous Chapter: [3. Positional Astronomy](../3_Positional_Astronomy/3_0_introduction.ipynb)\n",
    "    \n",
    "       * Next: [4.1 Periodic Functions and Fourier Analysis](4_1_periodic_functions_and_fourier_analysis.ipynb)\n",
    "    \n",
    "***"
   ]
  },
  {
   "cell_type": "markdown",
   "metadata": {},
   "source": [
    "Import standard modules:"
   ]
  },
  {
   "cell_type": "code",
   "execution_count": 1,
   "metadata": {},
   "outputs": [
    {
     "data": {
      "text/html": [
       "<style>\n",
       "\n",
       "p.prerequisites {\n",
       "    border:5px;\n",
       "    border-style:none;\n",
       "    background-color:#F0F0F0;\n",
       "    box-shadow: 5px 5px 2px #888888;\n",
       "    border-color:#FF0000;\n",
       "    padding: 1em;\n",
       "    }\n",
       "\n",
       "p.conclusion {\n",
       "    border:5px;\n",
       "    border-style:none;\n",
       "    background-color:#c8ebca;\n",
       "    box-shadow: 5px 5px 2px #888888;\n",
       "    border-color:#c8ebca;\n",
       "    padding: 1em;\n",
       "    }\n",
       "\n",
       "div.warn {    \n",
       "    background-color: #fcf2f2;\n",
       "    border-color: #dFb5b4;\n",
       "    border-left: 5px solid #dfb5b4;\n",
       "    padding: 0.5em;\n",
       "    }\n",
       "\n",
       "div.advice {    \n",
       "    background-color: #ecf8ed;\n",
       "    border-color: #a2dda5;\n",
       "    border-left: 5px solid #a2dda5;\n",
       "    padding: 0.5em;\n",
       "    }\n",
       "\n",
       "</style>\n",
       "\n"
      ],
      "text/plain": [
       "<IPython.core.display.HTML object>"
      ]
     },
     "execution_count": 1,
     "metadata": {},
     "output_type": "execute_result"
    }
   ],
   "source": [
    "import numpy as np\n",
    "import matplotlib.pyplot as plt\n",
    "%matplotlib inline\n",
    "from IPython.display import HTML\n",
    "HTML('../style/course.css') #apply general CSS"
   ]
  },
  {
   "cell_type": "markdown",
   "metadata": {},
   "source": [
    "Import section specific modules:"
   ]
  },
  {
   "cell_type": "markdown",
   "metadata": {},
   "source": [
    "# Chapter 4: The Visibility Space<a id='visibility:sec:intro'></a>"
   ]
  },
  {
   "cell_type": "markdown",
   "metadata": {},
   "source": [
    "An interferometric array consists of a collection of individual elements, each pair of elements is cross-correlated to make a baseline measurement. Interferometry is a powerful technique as it enables us to indirectly and accurately measure astrometric positions of the components in the sky. Interferometeters also indirectly provide us with information about the spatial characteristics of sky components. Using aperture synthesis, one can perform synthesis imaging from these measurements.\n",
    "\n",
    "In this chapter, we define the quantities that are measured by an interferometer and how it relates to the original that we observed.\n",
    "The questions we want to address in this chapter are:\n",
    "\n",
    "  * What is measured in radio interferometry?\n",
    "  * How can I determine what quantity I measure with a baseline of an interferometer?,\n",
    "  * How the interferometric measurements can be used to determine the structure of the observed sky?\n",
    "  \n",
    "<img src='figures/basic_block.svg' width=60%>\n",
    "   \n",
    "Before addressing these questions, we will spend some time in [$\\S$ 4.1 &#10142;](4_1_periodic_functions_and_fourier_analysis.ipynb) discussing the relationship between the image plane and the Fourier plane: this is fundamental to understanding interferometry. Then, in [$\\S$ 4.2 &#10142;](4_2_the_baseline_and_its_representation_in_space.ipynb), we will define the *baseline* and its representation in various reference frames.\n",
    "\n",
    "The notion of baseline is necessary to adequately describe the 2-element interferometer, as done in [$\\S$ 4.3 &#10142;](4_3_the_2-element_interferometer.ipynb). This simple interferometer can be seen as a tool that samples the visibility function [$\\S$ 4.4 &#10142;](4_4_the_visibility_function.ipynb), which is associated with the intensity distribution of the sky. Depending on the location of the interferometer on Earth, this function can be probed along $uv$ tracks defined in [$\\S$ 4.5.1 &#10142;](4_5_1_uv_Coverage_uv_tracks.ipynb). In [$\\S$ 4.5.2 &#10142;](4_5_2_uv_coverage_improving_your_coverage.ipynb), we investigate how the $uv$ coverage of an interferometric array can be improved to better sample the visibility function.\n",
    "\n",
    "In the final section [$\\S$ 4.6 &#10142;](4_6_The_Fourier_Approximation_VanCittert-Zernike_Theorem.ipynb), we describe the van Cittert-Zernike theorem, which, given some assertions, links the intensity distribution of the sky to the interforometric measurements by a Fourier relationship. "
   ]
  },
  {
   "cell_type": "markdown",
   "metadata": {},
   "source": [
    "#### Chapter Outline\n",
    "\n",
    "1. <span style=\"background-color:red\">&nbsp;&nbsp;&nbsp;&nbsp;</span>[Periodic Functions and Fourier Analysis](4_1_periodic_functions_and_fourier_analysis.ipynb)\n",
    "2. <span style=\"background-color:yellow\">&nbsp;&nbsp;&nbsp;&nbsp;</span> [The Baseline and Its Representation in Space](4_2_the_baseline_and_its_representation_in_space.ipynb)\n",
    "3. <span style=\"background-color:yellow\">&nbsp;&nbsp;&nbsp;&nbsp;</span> [The 2-element Interferometer](4_3_the_2-element_interferometer.ipynb)\n",
    "4. <span style=\"background-color:yellow\">&nbsp;&nbsp;&nbsp;&nbsp;</span>[The Visibility Function](4_4_the_visibility_function.ipynb)\n",
    "5. <span style=\"background-color:yellow\">&nbsp;&nbsp;&nbsp;&nbsp;</span>UV Coverage\n",
    "    1. [$uv$ Tracks](4_5_1_uv_coverage_uv_tracks.ipynb)\n",
    "    2. [Improving Your Coverage](4_5_2_uv_coverage_improving_your_coverage.ipynb)\n",
    "6. <span style=\"background-color:red\">&nbsp;&nbsp;&nbsp;&nbsp;</span>[The Van Cittert-Zernike Theorem](4_6_the_fourier_approximation_van_cittert-zernike_theorem.ipynb)\n",
    "7. <span style=\"background-color:red\">&nbsp;&nbsp;&nbsp;&nbsp;</span>[Further Reading and References](4_x_further_reading_and_references.ipynb)"
   ]
  },
  {
   "cell_type": "markdown",
   "metadata": {},
   "source": [
    "#### Chapter Editors\n",
    "\n",
    "* Landman Bester (2016)\n",
    "* Griffin Foster (2016)\n",
    "* Trienko Grobler (2016, 2017)\n",
    "* Modhurita Mitra (2016)"
   ]
  },
  {
   "cell_type": "markdown",
   "metadata": {},
   "source": [
    "#### Chapter Contributors"
   ]
  },
  {
   "cell_type": "markdown",
   "metadata": {},
   "source": [
    "* Julien Girard (**4.0**, 4.1, **4.2**, **4.3**, **4.4**, **4.5**,**4.6**)\n",
    "* Etienne Bonnassieux (4.0, **4.1**, 4.2, 4.3, 4.4, 4.5, 4.6)"
   ]
  },
  {
   "cell_type": "markdown",
   "metadata": {},
   "source": [
    "#### Format status:\n",
    "* <span style=\"background-color:green\">&nbsp;&nbsp;&nbsp;&nbsp;</span> : LF: Date\n",
    "* <span style=\"background-color:green\">&nbsp;&nbsp;&nbsp;&nbsp;</span> : NC: Date\n",
    "* <span style=\"background-color:green\">&nbsp;&nbsp;&nbsp;&nbsp;</span> : RF: Date\n",
    "* <span style=\"background-color:green\">&nbsp;&nbsp;&nbsp;&nbsp;</span> : HF: Date\n",
    "* <span style=\"background-color:green\">&nbsp;&nbsp;&nbsp;&nbsp;</span> : GM: Date\n",
    "* <span style=\"background-color:green\">&nbsp;&nbsp;&nbsp;&nbsp;</span> : CC: Date\n",
    "* <span style=\"background-color:green\">&nbsp;&nbsp;&nbsp;&nbsp;</span> : CL: Date\n",
    "* <span style=\"background-color:green\">&nbsp;&nbsp;&nbsp;&nbsp;</span> : ST: Date\n",
    "* <span style=\"background-color:green\">&nbsp;&nbsp;&nbsp;&nbsp;</span> : FN: Date\n",
    "* <span style=\"background-color:green\">&nbsp;&nbsp;&nbsp;&nbsp;</span> : TC: Date\n",
    "* <span style=\"background-color:green\">&nbsp;&nbsp;&nbsp;&nbsp;</span> : XX: Date"
   ]
  }
 ],
 "metadata": {
  "kernelspec": {
   "display_name": "testament",
   "language": "python",
   "name": "testament"
  },
  "language_info": {
   "codemirror_mode": {
    "name": "ipython",
    "version": 3
   },
   "file_extension": ".py",
   "mimetype": "text/x-python",
   "name": "python",
   "nbconvert_exporter": "python",
   "pygments_lexer": "ipython3",
   "version": "3.8.10"
  }
 },
 "nbformat": 4,
 "nbformat_minor": 1
}
