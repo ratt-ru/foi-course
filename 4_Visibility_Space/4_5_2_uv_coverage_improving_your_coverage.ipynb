{
  "cells": [
    {
      "cell_type": "markdown",
      "metadata": {
        "collapsed": true
      },
      "source": [
        "***\n",
        "\n",
        "<a id='beginning'></a> <!--\\label{beginning}-->\n",
        "* [Outline](../0_Introduction/0_introduction.ipynb)\n",
        "* [Glossary](../0_Introduction/1_glossary.ipynb)\n",
        "* [4. The Visibility space](4_0_introduction.ipynb)\n",
        "    * Previous: [4.5.1 UV Coverage: UV tracks](4_5_1_uv_coverage_uv_tracks.ipynb)\n",
        "    * Next: [4.6 The Fourier Approximation & the van Cittert-Zernike theorem](4_6_the_fourier_approximation_van_cittert-zernike_theorem.ipynb)\n",
        "\n",
        "***"
      ]
    },
    {
      "cell_type": "markdown",
      "metadata": {},
      "source": [
        "Import standard modules:"
      ]
    },
    {
      "cell_type": "code",
      "execution_count": null,
      "metadata": {},
      "outputs": [],
      "source": [
        "import numpy as np\n",
        "import matplotlib.pyplot as plt\n",
        "%matplotlib inline\n",
        "from IPython.display import HTML \n",
        "HTML('../style/course.css') #apply general CSS"
      ]
    },
    {
      "cell_type": "markdown",
      "metadata": {},
      "source": [
        "Import section specific modules:"
      ]
    },
    {
      "cell_type": "code",
      "execution_count": null,
      "metadata": {},
      "outputs": [],
      "source": [
        "from IPython.display import display\n",
        "from ipywidgets import *\n",
        "from mpl_toolkits.mplot3d import Axes3D\n",
        "import plotBL"
      ]
    },
    {
      "cell_type": "code",
      "execution_count": null,
      "metadata": {},
      "outputs": [],
      "source": [
        "HTML('../style/code_toggle.html')"
      ]
    },
    {
      "cell_type": "markdown",
      "metadata": {},
      "source": [
        "***"
      ]
    },
    {
      "cell_type": "markdown",
      "metadata": {},
      "source": [
        "### 4.5.2 $uv$ coverage : Improving your $uv$ coverage"
      ]
    },
    {
      "cell_type": "markdown",
      "metadata": {},
      "source": [
        "In [$\\S$ 4.5.1 &#10142;](4_5_1_uv_coverage_uv_tracks.ipynb), we have explored the ways in which the visibility function is sampled. Depending on the interferometer's location (in latitude), the projected baseline w.r.t. the observed source, and the time and frequency of our observation, the $uv$ plane is sampled along tracks which can be derived from the projected baseline in the ($u$,$v$,$w$) reference frame. These $uv$ tracks are portions of ellipses. Over the course of an observation, samples are accumulated along these tracks and form the *$uv$ coverage*.\n",
        "To accurately measure the sky, we need a good knowledge of its attendant visibility function: we therefore need to sample the $uv$-plane as fully as possible.\n",
        "\n",
        "<span style=\"background-color:cyan\">TLG:GM: Check if the italic words are in the glossary. </span>\n",
        "\n",
        "We will see, in this section, how the $uv$ coverage can be improved using multiple element interferometers ([$\\S$ 4.5.2.1 &#10549;](#vis:sec:4521))  and using time ([$\\S$ 4.5.2.2 &#10549;](#vis:sec:4522)) and frequency ([$\\S$ 4.5.2.3 &#10549;](#vis:sec:4523)) integration to our advantage."
      ]
    },
    {
      "cell_type": "markdown",
      "metadata": {},
      "source": [
        "<a id=\"vis:sec:4521\"></a> <!---\\label{vis:sec:4521}--->\n",
        "#### 4.5.2.1 Configuration of an $N$-element interferometer"
      ]
    },
    {
      "cell_type": "markdown",
      "metadata": {},
      "source": [
        "Until now, we only considered 2-element interferometers. In practice, interferometers are built from $N>2$  elements. We then compute the corresponding $\\frac{N(N-1)}{2}$ independent cross-correlations (doing this for each frequency channel, each time step and each polarization). For an $N$-element interferometer, the sampling in the $uv$ plane is thus proportional to $\\sim N^2$."
      ]
    },
    {
      "cell_type": "markdown",
      "metadata": {},
      "source": [
        "In the following, we will show the characteristic $uv$ coverage of existing, well-known radio interferometers, observing at a single frequency and for a single time step (i.e. a *snapshot* observation). You may select the array of your choice from the list below:"
      ]
    },
    {
      "cell_type": "code",
      "execution_count": null,
      "metadata": {},
      "outputs": [],
      "source": [
        "config = widgets.Dropdown(\n",
        "    options={'VLAa':'configs/vlaa.enu.txt',\n",
        "        'VLAb':'configs/vlab.enu.txt',\n",
        "        'VLAc':'configs/vlac.enu.txt',\n",
        "        'VLAd':'configs/vlad.enu.txt',\n",
        "        'WSRT':'configs/wsrt.enu.txt',\n",
        "        'kat7':'configs/kat-7.enu.txt',\n",
        "        'meerkat':'configs/meerkat.enu.txt'}.items(),\n",
        "    value=\"configs/vlaa.enu.txt\",\n",
        "    Description=\"Antennas:\")\n",
        "\n",
        "display(config)"
      ]
    },
    {
      "cell_type": "markdown",
      "metadata": {},
      "source": [
        "From the list above, you can select different configurations corresponding to real instrumental layouts.\n",
        "However, if you want to specify the relative positions of the antennas in an $ENU$ reference frame yourself, you can edit the following block and set the variable \"custom\" to \"1\"."
      ]
    },
    {
      "cell_type": "code",
      "execution_count": null,
      "metadata": {},
      "outputs": [],
      "source": [
        "# you need to re-evaluate this box if you modify the array.\n",
        "antennaPosition=np.genfromtxt(config.value)"
      ]
    },
    {
      "cell_type": "code",
      "execution_count": null,
      "metadata": {},
      "outputs": [],
      "source": [
        "# custom antenna distribution\n",
        "custom = 0\n",
        "if (custom):\n",
        "    antennaPosition = np.zeros((10, 2), dtype=float)\n",
        "    antennaPosition[0,:] = [0,0]\n",
        "    antennaPosition[1,:] = [-4, 5]\n",
        "    antennaPosition[2,:] = [4, 5]\n",
        "    antennaPosition[3,:] = [-10,0]\n",
        "    antennaPosition[4,:] = [-8,-3]\n",
        "    antennaPosition[5,:] = [-4,-5]\n",
        "    antennaPosition[6,:] = [0,-6]\n",
        "    antennaPosition[7,:] = [4,-5]\n",
        "    antennaPosition[8,:] = [8,-3]\n",
        "    antennaPosition[9,:] = [10,0]"
      ]
    },
    {
      "cell_type": "markdown",
      "metadata": {},
      "source": [
        "Let's plot the distribution of the antennas from the selected (or customized) interferometer:"
      ]
    },
    {
      "cell_type": "code",
      "execution_count": null,
      "metadata": {},
      "outputs": [],
      "source": [
        "%matplotlib inline\n",
        "mxabs = np.max(abs(antennaPosition[:]))*1.1;\n",
        "# make use of pylab librery to plot\n",
        "fig=plt.figure(figsize=(6,6))\n",
        "plt.plot((antennaPosition[:,0]-np.mean(antennaPosition[:,0]))/1e3,\n",
        "         (antennaPosition[:,1]-np.mean(antennaPosition[:,1]))/1e3, 'o')\n",
        "plt.xlim(-mxabs/1e3, mxabs/1e3)\n",
        "plt.ylim(-mxabs/1e3, (mxabs+5)/1e3)\n",
        "plt.xlabel(\"E (km)\")\n",
        "plt.ylabel(\"N (km)\")\n",
        "plt.title(\"Antenna positions\")"
      ]
    },
    {
      "cell_type": "markdown",
      "metadata": {},
      "source": [
        "<a id=\"fig:4414\"></a>\n",
        "**Figure 4.5.14**: Distribution of the antennas in a $ENU$ reference frame. Each dot represents an antenna which will be part of $N$-1 baselines."
      ]
    },
    {
      "cell_type": "markdown",
      "metadata": {},
      "source": [
        "As for the previous simulations, we will simulate an observation using the VLA as the default case."
      ]
    },
    {
      "cell_type": "markdown",
      "metadata": {},
      "source": [
        "##### 4.5.2.1.1 Observation configuration"
      ]
    },
    {
      "cell_type": "code",
      "execution_count": null,
      "metadata": {},
      "outputs": [],
      "source": [
        "# Observation parameters\n",
        "c=3e8                                         # Speed of light\n",
        "f=1420e6                                      # Frequency\n",
        "lam = c/f                                     # Wavelength \n",
        "\n",
        "time_steps = 1200                              # time steps\n",
        "h = np.linspace(-6,6,num=time_steps)*np.pi/12 # Hour angle window\n",
        "\n",
        "# declination convert in radian\n",
        "\n",
        "L = np.radians(34.0790)      # Latitude of the VLA\n",
        "dec = np.radians(34.)"
      ]
    },
    {
      "cell_type": "markdown",
      "metadata": {},
      "source": [
        "#### 4.5.2.1.2 The *snapshot* $\\boldsymbol{uv}$ coverage"
      ]
    },
    {
      "cell_type": "code",
      "execution_count": null,
      "metadata": {},
      "outputs": [],
      "source": [
        "%matplotlib inline\n",
        "Ntimes=3\n",
        "plotBL.plotuv(antennaPosition,L,dec,h,Ntimes,lam)"
      ]
    },
    {
      "cell_type": "markdown",
      "metadata": {},
      "source": [
        "<a id=\"vis:fig:4515\"></a> <!---\\label{vis:fig:4515}--->\n",
        "**Figure 4.5.15**: Snapshot $uv$ coverage of the interferometer. Red and blue points correspond to symmetric $uv$ points: indeed, each baseline gives us the measurement of $V_\\nu$ at ($u$,$v$) __and__ its complex conjugate $V^*_\\nu$ at ($-u$,$-v$)."
      ]
    },
    {
      "cell_type": "markdown",
      "metadata": {},
      "source": [
        "Depending on the number of elements and their relative distribution on the ground, the shape of the snapshot $uv$ coverage can vary dramatically from one interferometer to another. One may prefer an antenna distribution which maximizes an instantaneous coverage which spans the entire $uv$ plane (e.g. VLA in [Fig. 4.5.15 &#10549;](#vis:fig:4515)) rather than a compact array which samples a smaller portion of the $uv$ plane. With the raw increase of total sensitivity, improving the instantaneous $uv$ coverage is the main motivation for increasing the number of antennas and optimising their relative positions. A *good* $uv$ coverage is obtained if the $uv$ plane is sufficiently - and smoothly! - sampled. In the next section, we will see how the Earth contributes to improve the $uv$ coverage."
      ]
    },
    {
      "cell_type": "markdown",
      "metadata": {},
      "source": [
        "<a id=\"vis:sec:4522\"></a> <!---\\label{vis:sec:4522}--->\n",
        "#### 4.5.2.3 Time integration: Earth Rotation Synthesis"
      ]
    },
    {
      "cell_type": "markdown",
      "metadata": {},
      "source": [
        "Observing a source for several hours requires tracking this source with fringe (or delay) tracking. As the source moves with the sky, the projected baselines - as seen from the source - will continuously vary along elliptical $uv$ tracks.\n",
        "With good enough time sampling, it is possible to sample each $uv$ track along the observation and accumulate a number of $\\frac{N(N-1)}{2}\\times N_\\text{times}$ independent measurements.\n",
        "\n",
        "The following experiment will allow you to change the number of time steps collected during an observation, from a snapshot observation up to a 12 hour observation.\n",
        "\n",
        "The next block will let you plot a snapshot observation. You can increase the duration of the observation with the slider which defines the total number of time steps for which the $uv$ coverage is computed. When using the slider, the new resulting plot will be generated next to the previous one to allow for visual comparisons.\n",
        "\n",
        "(Test values of 2, $\\sim$300, $\\sim$1200 to see the effects on the $uv$ coverage. Give the notebook some time to regenerate the plot, especially for large values of time samples!)."
      ]
    },
    {
      "cell_type": "code",
      "execution_count": null,
      "metadata": {
        "scrolled": false
      },
      "outputs": [],
      "source": [
        "from ipywidgets import *\n",
        "from IPython.display import display\n",
        "\n",
        "def Interactplot(key,Ntimes):\n",
        "    print(\"Ntimes=\"+str(Ntimes))\n",
        "    plotBL.plotuv(antennaPosition,L,dec,h,Ntimes,lam)\n",
        "    \n",
        "slider=IntSlider(description=\"Ntimes\",min=2,max=1200,step=100,continuous_update=False)\n",
        "\n",
        "slider.on_trait_change(Interactplot,'value')\n",
        "display(slider)\n",
        "Interactplot(\"\",2)"
      ]
    },
    {
      "cell_type": "markdown",
      "metadata": {},
      "source": [
        "<a id=\"fig:4416\"></a>\n",
        "**Figure 4.5.16**: Sampled $uv$ coverage of the interferometer for various values of time samples. Red and blue points corresponds to symmetric $uv$ points, since each baseline give us the measurement of $V_\\nu$ at ($u$,$v$) **and** its complex conjugate $V^*_\\nu$ at ($-u$,$-v$)."
      ]
    },
    {
      "cell_type": "markdown",
      "metadata": {},
      "source": [
        "With an increasing number of time steps, you can start to see each individual baselines' elliptical $uv$ track in the $uv$ plane. It is easy to see that the longer the observation, the better our sampling of the visibility function."
      ]
    },
    {
      "cell_type": "markdown",
      "metadata": {},
      "source": [
        "<a id=\"vis:sec:4523\"></a> <!---\\label{vis:sec:4523}--->\n",
        "#### 4.5.2.3 Integration in frequency: Frequency Synthesis"
      ]
    },
    {
      "cell_type": "markdown",
      "metadata": {},
      "source": [
        "We have seen in [$\\S$ 4.3 &#10142;](4_2_The_2-element_Interferometer.ipynb) that the $u$, $v$, $w$ coordinates are usually normalized by $\\lambda$. As a consequence, observing with the *same* interferometer at a *different* frequency gives a different set of spatial frequencies. Sampling the ($u,v$)-plane with the same baseline and two diffe frequencies is equivalent to **rescaling** the projected baseline. Indeed, for the same snapshot $uv$ coverage at wavelength $\\lambda_1$, the $uv$ coverage at $\\lambda_2 < \\lambda_1$ will be a shrunk version of that a $\\lambda_1$. \n",
        "\n",
        "If the distribution of our sampling frequencies is (quasi) continuous, e.g. if the observing system operates in a bandwidth [$f_\\text{min}$,$f_\\text{max}$], with $N_\\text{freqs}$ channels, we can contiguously sample portions of the $uv$ plane with $\\frac{N(N-1)}{2}\\times N_\\text{freqs}$ independent measurements. For each baseline, a radial track will be generated due to the frequency scaling effect of $u$ and $v$."
      ]
    },
    {
      "cell_type": "markdown",
      "metadata": {},
      "source": [
        "<div class=warn>\n",
        "<b>Warning:</b> It is only possible to do this up to a point: see *bandwidth smearing* in [$\\S$ 9.3 &#10142;](../9_Practical/9_3_observing_smearing.ipynb)) for more details on the limits of this technique.\n",
        "</div>\n",
        "<span style=\"background-color:cyan\">TLG:GM: Check if the italic words are in the glossary. </span>"
      ]
    },
    {
      "cell_type": "markdown",
      "metadata": {},
      "source": [
        "In the next block, we will plot a snapshot observation. You can increase the number of continuous frequency channels  (at 10 MHz steps) with the slider. Upon a change on the slider, a new plot will be generated next to the previous one, to allow visual comparisons (Note: give the notebook some time to generate the plot).\n",
        "\n",
        "(Test values of 1, 20, 200 to see the effects on the $uv$ coverage)."
      ]
    },
    {
      "cell_type": "code",
      "execution_count": null,
      "metadata": {
        "scrolled": false
      },
      "outputs": [],
      "source": [
        "df=10e6 # frequency step\n",
        "f0=c/lam # starting frequency\n",
        "lamb0=lam # starting wavelength\n",
        "\n",
        "\n",
        "def Interactplot(key,Nfreqs):\n",
        "    print(\"Nfreqs=\"+str(Nfreqs))\n",
        "    plotBL.plotuv_freq(antennaPosition,L,dec,h,Nfreqs,lamb0,df)\n",
        "    \n",
        "slider=IntSlider(description=\"Nfreqs\",min=1,max=200,step=1,continuous_update=False)\n",
        "\n",
        "slider.on_trait_change(Interactplot,'value')\n",
        "display(slider)\n",
        "Interactplot(\"\",1)"
      ]
    },
    {
      "cell_type": "markdown",
      "metadata": {},
      "source": [
        "<a id=\"fig:4417\"></a>\n",
        "**Figure 4.5.17**: Snapshot $uv$ coverage of the interferometer for various numbers of frequency channels. Red and blue points corresponds to symmetric $uv$ points, since each baseline give us the measurement of $V_\\nu$ at ($u$,$v$) **and** its complex conjugate $V^*_\\nu$ at ($-u$,$-v$)."
      ]
    },
    {
      "cell_type": "markdown",
      "metadata": {},
      "source": [
        "With an increasing number of frequency channels, you can see each individual baseline following a radial track on the $uv$-plane. It is easy to see that the more frequency channels you allocate to an observation, the better the sampling of the visibility function (theoretically at least!)."
      ]
    },
    {
      "cell_type": "markdown",
      "metadata": {},
      "source": [
        "#### 4.5.2.4 Conclusion"
      ]
    },
    {
      "cell_type": "markdown",
      "metadata": {},
      "source": [
        "The $uv$ plane is what an interferometers actually measures.\n",
        "\n",
        "In an ideal case, this plane is equivalent to the visibility function, which what we **want** to measure. The $uv$-coverage of an observation tells us which parts of the visibility function has been sampled.\n",
        "\n",
        "In [$\\S$ 4.5.1 &#10142;](4_5_1_uv_coverage_uv_tracks.ipynb), we showed that sampling the $uv$-plane with a single baseline amounts to sampling along an elliptical track due to the rotation of the Earth. The track's parameters can be predicted if we know the location of the interferometer on Earth, the direction of the source and the baseline characteristics. The $uv$-track is thus the set of spatial frequencies (i.e.$uv$ points) which a single baseline will sample over the course of an observation.\n",
        "\n",
        "In [$\\S$ 4.5.2 &#10549;](4_5_2_uv_coverage_improving_your_coverage.ipynb), we discussed three different ways of improving your $uv$ coverage. Firstly, we can increase the number of antennas and alter their distribution: this improves the *instantaneous* spatial coverage. Second, we can use the fact that the observed source is moving with the Celestial Sphere (i.e. the Earth spins). The continuous variation of the projected baseline - and therefore its $u,v$-coordinates - allow us to sample portions of elliptical $uv$ tracks. \n",
        "\n",
        "A long integration time allows astronomers to easily improve their $uv$-plane coverage at little cost. Note that maximising using this technique to improve $uv$-coverage will require taking more measurements in time, thus increasing computational costs.\n",
        "\n",
        "Thirdly, by using broadband receivers, we can sample the visibilities at various frequencies and compute the cross-correlations in different frequency channels. By doing so, the $uv$-coverage is improved along radial $uv$ tracks.\n",
        "Of course, these methods cannot extend our $uv$-coverage arbitrarily. They are limited by both the instrument sensitivity and the instrument's point source response (see [$\\S$ 9.3 &#10142;](../9_Practical/9_3_Observing_smearing.ipynb)).\n",
        "\n",
        "In [$\\S$ 4.6  &#10142;](4_6_the_fourier_approximation_van_cittert-zernike_theorem.ipynb) we will explicitly enunciate the underlying hypotheses we relied on in the previous section. This section is required before we can begin to treat the topic of *imaging* in [$\\S$ 5 &#10142;](../5_Imaging/5_0_introduction.ipynb)."
      ]
    },
    {
      "cell_type": "markdown",
      "metadata": {},
      "source": [
        "<p class=conclusion>\n",
        "<font size=4><b>Important things to remember</b></font>\n",
        "<br>\n",
        "<br>\n",
        "&bull; The number of antennas and their non-redundant distribution are important factors to improve the *snapshot* $uv$ coverage.<br>\n",
        "&bull; Time integration using Earth Rotation Synthesis (a technique known in the literature as *supersynthesis*) builds up the elliptical $uv$ tracks of each baseline, but generates <em>time smearing</em>.<br>\n",
        "&bull; Frequency integration - observing in a larger bandwidth composed of multiple contiguous channels - also helps improve the $uv$ coverage radially, but generates <em>frequency smearing</em>.<br>\n",
        "</p>"
      ]
    },
    {
      "cell_type": "markdown",
      "metadata": {},
      "source": [
        "#### Format status:\n",
        "\n",
        "* <span style=\"background-color:green\">&nbsp;&nbsp;&nbsp;&nbsp;</span> : LF: 09/02/2017\n",
        "* <span style=\"background-color:green\">&nbsp;&nbsp;&nbsp;&nbsp;</span> : NC: 09/02/2017\n",
        "* <span style=\"background-color:green\">&nbsp;&nbsp;&nbsp;&nbsp;</span> : RF: 09/02/2017\n",
        "* <span style=\"background-color:green\">&nbsp;&nbsp;&nbsp;&nbsp;</span> : HF: 09/02/2017\n",
        "* <span style=\"background-color:green\">&nbsp;&nbsp;&nbsp;&nbsp;</span> : GM: 09/02/2017\n",
        "* <span style=\"background-color:green\">&nbsp;&nbsp;&nbsp;&nbsp;</span> : CC: 09/02/2017\n",
        "* <span style=\"background-color:green\">&nbsp;&nbsp;&nbsp;&nbsp;</span> : CL: 09/02/2017\n",
        "* <span style=\"background-color:green\">&nbsp;&nbsp;&nbsp;&nbsp;</span> : ST: 09/02/2017\n",
        "* <span style=\"background-color:green\">&nbsp;&nbsp;&nbsp;&nbsp;</span> : FN: 09/02/2017\n",
        "* <span style=\"background-color:green\">&nbsp;&nbsp;&nbsp;&nbsp;</span> : TC: 09/02/2017\n",
        "* <span style=\"background-color:green\">&nbsp;&nbsp;&nbsp;&nbsp;</span> : XX: 09/02/2017"
      ]
    },
    {
      "cell_type": "markdown",
      "metadata": {},
      "source": [
        "***\n",
        "\n",
        "* Next: [4.6 The Fourier Approximation & the van Cittert-Zernike theorem](4_6_the_fourier_approximation_van_cittert-zernike_theorem.ipynb)"
      ]
    }
  ],
  "metadata": {
    "@webio": {
      "lastCommId": null,
      "lastKernelId": null
    },
    "kernelspec": {
      "display_name": "testament",
      "language": "python",
      "name": "testament"
    },
    "language_info": {
      "codemirror_mode": {
        "name": "ipython",
        "version": 3
      },
      "file_extension": ".py",
      "mimetype": "text/x-python",
      "name": "python",
      "nbconvert_exporter": "python",
      "pygments_lexer": "ipython3",
      "version": "3.8.10"
    }
  },
  "nbformat": 4,
  "nbformat_minor": 1
}