{
  "cells": [
    {
      "cell_type": "markdown",
      "metadata": {},
      "source": [
        "#### ***\n",
        "\n",
        "* [Outline](../0_Introduction/0_introduction.ipynb)\n",
        "* [Glossary](../0_Introduction/1_glossary.ipynb)\n",
        "* [4. The Visibility Space](4_0_introduction.ipynb)\n",
        "    * Previous: [4.1 Periodic Functions and Fourier Analysis](4_1_periodic_functions_and_fourier_analysis.ipynb)\n",
        "    * Next: [4.3 The 2-element Interferometer](4_3_the_2-element_interferometer.ipynb)\n",
        "\n",
        "***"
      ]
    },
    {
      "cell_type": "markdown",
      "metadata": {},
      "source": [
        "Import standard modules:"
      ]
    },
    {
      "cell_type": "code",
      "execution_count": null,
      "metadata": {
        "collapsed": false
      },
      "outputs": [],
      "source": [
        "import numpy as np\n",
        "import matplotlib.pyplot as plt\n",
        "%matplotlib inline\n",
        "from IPython.display import HTML \n",
        "HTML('../style/course.css') #apply general CSS"
      ]
    },
    {
      "cell_type": "markdown",
      "metadata": {},
      "source": [
        "Import section specific modules:"
      ]
    },
    {
      "cell_type": "code",
      "execution_count": null,
      "metadata": {
        "collapsed": false
      },
      "outputs": [],
      "source": [
        "from IPython.display import HTML\n",
        "HTML('../style/code_toggle.html')"
      ]
    },
    {
      "cell_type": "markdown",
      "metadata": {},
      "source": [
        "# 4.2 The Baseline and Its Representation in Space"
      ]
    },
    {
      "cell_type": "markdown",
      "metadata": {},
      "source": [
        "In the last section, we briefly summarised the mathematical tools we will need in this section. This section is intended to explain the physics underpinning interferometry. Before we can dig into what actually interests us - i.e. **physics** - we will therefore have to describe interferometers more explicitly.\n",
        "\n",
        "Before we can get into the details of the relationship between the *visibilities* measured by each baseline and the *sky brightness* astronomers are interested in, we will need to define some key concepts. We will begin with the *baseline*: is the separation vector between two antenna elements in an interferometric array. It is a fundamental concept in interferometry: a baseline directly measures a point in Fourier space.\n",
        "\n",
        "An interferometric array consists of several baselines (formed by every pair of antennas in the array). The baselines are thus determined by the array's configuration. In this chapter, we will introduce *projected baselines*, and derive expressions for the baseline vector in various coordinate systems.\n",
        "\n",
        "<span style=\"background-color:cyan\">TLG:GM: Check if the italic words are in the glossary.</span>"
      ]
    },
    {
      "cell_type": "markdown",
      "metadata": {},
      "source": [
        "Let us start by defining the notation and vector definitions we will use throughout this course. They are designed to take us from the *local* and *instantaneous* observer frame of reference (local $x$,$y$, $z$ on Earth) to the sky coordinates in the equatorial frame ($H$, $\\delta$) through a series of coordinate changes:\n",
        "\n",
        "1. From local ($x$,$y$,$z$) to the (**E**ast, **N**orth, **U**p) \n",
        "2. From local  **E**, **N**, **U** to local azimuth/elevation ($\\mathcal{A}$, $\\mathcal{E}$) \n",
        "3. From local ($\\mathcal{A}$, $\\mathcal{E}$) to equatorial (($H$, $\\delta$), or equivalently, ($X$, $Y$, $Z$)) \n",
        "4. From the equatorial ($X$, $Y$, $Z$) to the ($u$, $v$, $w$)-space\n",
        "\n",
        "<span style=\"background-color:cyan\">TLG:GM: Check if the italic words are in the glossary.</span>"
      ]
    },
    {
      "cell_type": "markdown",
      "metadata": {},
      "source": [
        "<a id=\"vis:sec:421\"></a> <!---\\label{vis:sec:421}--->\n",
        "### 4.2.1 The physical baseline\n",
        "\n",
        "The physical baseline is a geometric construct based on the separation between two antenna elements in 3-D space, whereas the projected baseline is the mapping of this 3-D physical baseline onto a 2-D plane (determined by the direction of the observation). While the physical baseline is a constant in the terrestrial reference frame (the acronym ITRF - In Terrestrial Reference Frame - is commonly used), the projected baseline changes as the Earth rotates (in the frame of reference of a source fixed in the sky - a.ka. the \"sky frame of reference\")."
      ]
    },
    {
      "cell_type": "markdown",
      "metadata": {},
      "source": [
        "#### 4.2.1.1 Local definition of the baseline vector  <a id=\"vis:sec:4211\"></a> <!---\\label{vis:sec:4211}--->"
      ]
    },
    {
      "cell_type": "markdown",
      "metadata": {},
      "source": [
        "A position can be described in 3-D with a vector. Let us define an origin $O$, an orthogonal basis $\\mathcal{B}$ and a local Cartesian reference frame attached to the ground $\\mathcal{R}$ ($O$, $\\mathcal{B}$($\\mathbf{\\hat{e}_x}, \\mathbf{\\hat{e}_y}, \\mathbf{\\hat{e}_z}$)) (see [Fig. 4.2.1 &#10549;](#vis:fig:421)).\n",
        "\n",
        "\n",
        "Let us now consider two antennas in this frame of reference. They are defined by their position in  $\\mathcal{B}$:\n",
        "\n",
        "$$\\textbf{a}_1=\\vec{OA}_1=x_1 \\mathbf{\\hat{e}_x} + y_1 \\mathbf{\\hat{e}_y} + z_1 \\mathbf{\\hat{e}_z}$$\n",
        "\n",
        "$$\\textbf{a}_2=\\vec{OA}_2=x_2\\mathbf{\\hat{e}_x} + y_2 \\mathbf{\\hat{e}_y} + z_2 \\mathbf{\\hat{e}_z}$$\n",
        "\n",
        "In other words, all the information on the position of our antennas is given by ($x_1$,$y_1$,$z_1$) and ($x_2$,$y_2$,$z_2$), which are defined in the basis $\\mathcal{B}$.\n",
        "\n",
        "Let us assume that the distance between the antennas is small enough to consider the curve of the Earth between them to be flat. The Earth then becomes a plane, on which the basis vectors can be translated without any rotation. The *local physical baseline* in Cartesian coordinates is defined as the difference vector\n",
        "\n",
        "$$\\mathbf{b} = \\mathbf{a}_2 - \\mathbf{a}_1 = \\vec{A_1A_2} $$\n",
        "\n",
        "It is important to note that the physical baseline is a **vector**: it depends only on the **relative positions** of two antenna elements, and is **independent of the origin** of the reference frame."
      ]
    },
    {
      "cell_type": "markdown",
      "metadata": {},
      "source": [
        "<a id=\"vis:fig:421\"></a> <!---\\label{vis:fig:421}---> \n",
        "<img src='figures/vectorxyz.svg' width=30%>"
      ]
    },
    {
      "cell_type": "markdown",
      "metadata": {},
      "source": [
        "**Figure 4.2.1:** Vectors $a_1$ and $a_2$ in a local 3-dimensional Cartesian coordinate system."
      ]
    },
    {
      "cell_type": "markdown",
      "metadata": {},
      "source": [
        "<a id=\"vis:sec:4212\"></a> <!--\\label{vis:sec:4212}--></a>\n",
        "#### 4.2.1.2 The (East, North, Up) Reference Frame: A Global Definition of the Baseline Vector"
      ]
    },
    {
      "cell_type": "markdown",
      "metadata": {},
      "source": [
        "Unfortunately, in our formulation thus far, the directions of $\\mathbf{\\hat{e}_x}, \\mathbf{\\hat{e}_y}, \\mathbf{\\hat{e}_z}$ are arbitrary. We can do better: let us attach our coordinate basis to an \"absolute\" point of reference on Earth. To do this, we use a *terrestrial reference frame*: a new Cartesian basis defined by the cardinal points. Thus:\n",
        "\n",
        "* We define the origin $O$ at some point on Earth. This origin can be arbitrary, but it is convenient to choose either the 'centre' of the array or the position of one of the array elements.\n",
        "* A **global** right-handed orthonormal basis $\\mathcal{B}'$($\\mathbf{\\hat{e}_E}, \\mathbf{\\hat{e}_N}, \\mathbf{\\hat{e}_U}$) pointing, respectively, towards the geographical **East**, geographical **North**, and towards the local vertical (pointing to the Zenith away from the Earth, i.e. **Up**).\n",
        "\n",
        "The baseline vector is still expressed in a local reference frame, chosen to coincide with the geographical North and East (see [Fig. 4.2.2 &#10549;](#vis:fig:422)).\n",
        "<span style=\"background-color:cyan\">TLG:GM: Check if the italic words are in the glossary. Remember italic words can only be glossary definitions. </span>"
      ]
    },
    {
      "cell_type": "markdown",
      "metadata": {},
      "source": [
        "#### 4.2.1.3 Expression in Horizontal Coordinates ($\\mathcal{A}$, $\\mathcal{E}$)"
      ]
    },
    {
      "cell_type": "markdown",
      "metadata": {},
      "source": [
        "As seen in [$\\S$ 3.4 &#10142;](../3_Positional_Astronomy/3_3_horizontal_coordinates.ipynb), an observer located somewhere on Earth can define a direction in the sky in terms of local *azimuth*  $\\mathcal{A}$ and *elevation*  $\\mathcal{E}$. A baseline can similarly be expressed in these coordinates.\n",
        "\n",
        "Let us set Antenna 1 as the origin of the reference frame on the ground. The North, East and Up axes are defined as per [$\\S$ 4.2.1.2 &#10549;](#vis:sec:4212).\n",
        "\n",
        "The *azimuth* is the angle contained in the plane of the local ground measured clock-wise from North to East. The *elevation* is the angle measured from the horizon to the local zenith.\n",
        "<span style=\"background-color:cyan\">TLG:GM: Check if the italic words are in the glossary. Remember italic words can only be glossary definitions. </span>"
      ]
    },
    {
      "cell_type": "markdown",
      "metadata": {},
      "source": [
        "<a id=\"vis:fig:422\"></a> <!--\\label{vis:fig:422}--></a>\n",
        "<img src='figures/enu_alt_az.svg' width=40%>"
      ]
    },
    {
      "cell_type": "markdown",
      "metadata": {},
      "source": [
        "**Figure 4.2.2**: Relation between the horizontal frame ($\\mathcal{A}$, $\\mathcal{E}$) and the ($E$, $N$, $U$) Cartesian frame."
      ]
    },
    {
      "cell_type": "markdown",
      "metadata": {},
      "source": [
        "The baseline vector is expressed in the basis $\\mathcal{B}'$:\n",
        "\n",
        "\\begin{equation}\n",
        "\\mathbf{b}_{\\text{ENU}}\n",
        "=\n",
        "\\lvert \\mathbf{b} \\rvert\n",
        "\\begin{bmatrix}\n",
        "\\sin \\mathcal{A} \\cos \\mathcal{E}\\\\\n",
        "\\cos \\mathcal{A} \\cos \\mathcal{E}\\\\\n",
        "\\sin \\mathcal{E}\n",
        "\\end{bmatrix}\n",
        "\\end{equation}"
      ]
    },
    {
      "cell_type": "markdown",
      "metadata": {},
      "source": [
        "<div class=advice>\n",
        "<b>Note:</b> If Antenna 2 and Antenna 1 share the same component along $\\mathbf{\\hat{e}_U}$ (e.g. Antenna 1 and Antenna 2 are lying on the ground plane), then the elevation of the baseline is $\\mathcal{E}=0^\\circ$.\n",
        "</div>"
      ]
    },
    {
      "cell_type": "markdown",
      "metadata": {},
      "source": [
        "<div class=warn>\n",
        "<b>Warnings:</b><br>\n",
        "<ul>\n",
        "<li>Geographers and the Astronomers use different conventions for the origin and variation of the azimuth. We will use the Astronomer convention as defined in [$\\S$ 3 &#10142;](../3_Positional_Astronomy/3_0_introduction.ipynb).</li>\n",
        "<li>The horizontal coordinate system behaves like a 2D spherical coordinates system, with a slight difference in convention choices (angle chosen as origin and direction of variation).</li>\n",
        "<li>The latitude $L_a$ was not expressed here but will become important later in the chapter.</li>\n",
        "</ul>\n",
        "</div>"
      ]
    },
    {
      "cell_type": "markdown",
      "metadata": {},
      "source": [
        "#### 4.2.1.4 Expression in the Equatorial (X,Y,Z) Frame"
      ]
    },
    {
      "cell_type": "markdown",
      "metadata": {},
      "source": [
        "The baseline is fully described in the $ENU$ system using the azimuth $\\mathcal{A}$ and elevation $\\mathcal{E}$. As shown in [$\\S$ 3.1 &#10142;](../3_Positional_Astronomy/3_1_equatorial_coordinates.ipynb), for an observer located at latitude $L_a$, the extension of the direction of the baseline defines a position on the sky. This position can be associated with Equatorial coordinates ($H$, $\\delta$), where $H$ is the hour angle and $\\delta$ the declination.\n",
        "\n",
        "To generalize the baseline further (and to ease subsequent derivations), we need to define a set of reference frames which will map the baseline onto sky coordinates on the celestial sphere. To do so, we define an intermediate frame of reference $XYZ$ with basis ($\\mathbf{\\hat{e}_X}$,$\\mathbf{\\hat{e}_Y}$,$\\mathbf{\\hat{e}_Z}$). We attach this frame of reference to the Earth. We can now position these axes with respect to the Equatorial coordinates $(H; \\delta)$. Let us define the axes of the $XYZ$ frame as:\n",
        "\n",
        "* the $X$-axis points towards $(H=0^\\textrm{h}, \\delta = 0^{\\circ})$ ($\\gamma$ is the point where the vernal equinox crosses the local meridian)\n",
        "* the $Y$-axis towards $(H=-6^\\textrm{h}, \\delta = 0^{\\circ})$ (East)\n",
        "* the $Z$-axis towards the North Celestial Pole (NCP).\n",
        "\n",
        "[Fig. 4.2.3 &#10549;](#vis:fig:413) shows that the plane associated with the array elements (red) can be related to the plane of the celestial sphere (blue) via a coordinate transformation."
      ]
    },
    {
      "cell_type": "markdown",
      "metadata": {},
      "source": [
        "<a id=\"vis:fig:413\"></a> <!--\\label{vis:fig:413}--></a>\n",
        "<img src='figures/conversion.svg' width=50%>\n",
        "\n",
        "**Figure 4.2.3**: The (X,Y,Z) Reference frame. $T$: local zenith. ($X$,$Y$) = Celestial plane (blue) $\\perp$ to the NCP. ($N$,$S$,$E$,$W$) Antenna plane (red) $\\perp$ to the local zenith (T)."
      ]
    },
    {
      "cell_type": "markdown",
      "metadata": {},
      "source": [
        "<div class=warn>\n",
        "<b>Warning:</b>\n",
        "<ul>\n",
        "<li>Although we use Equatorial coordinates to define the $XYZ$-coordinate system, it represents a <em>terrestrial</em> reference frame, as the $X$, $Y$ and $Z$ axes never change orientation for a local observer on Earth.</li>\n",
        "<li>However, as the declination refers to the celestial equator, the latitude of the observer $L_a$ is required.</li>\n",
        "</ul>\n",
        "</div>\n",
        "\n",
        "We can convert ($\\mathcal{A}$, $\\mathcal{E}$, $L_a$) into $(H, \\delta)$ in this new frame:\n",
        "\n",
        "\\begin{equation}\n",
        "\\begin{bmatrix}\n",
        "X\\\\\n",
        "Y\\\\\n",
        "Z\n",
        "\\end{bmatrix}\n",
        "=\n",
        "\\begin{bmatrix}\n",
        "\\lvert \\mathbf{b} \\rvert \\cos \\delta \\cos H\\\\\n",
        "-\\lvert \\mathbf{b} \\rvert \\cos \\delta \\sin H\\\\\n",
        "\\lvert \\mathbf{b} \\rvert \\sin \\delta\n",
        "\\end{bmatrix}\n",
        "= \\lvert \\mathbf{b} \\rvert\n",
        "\\begin{bmatrix}\n",
        "\\cos L_a \\sin \\mathcal{E} - \\sin L_a \\cos \\mathcal{E} \\cos \\mathcal{A}\\nonumber\\\\ \n",
        "\\cos \\mathcal{E} \\sin \\mathcal{A} \\nonumber\\\\\n",
        "\\sin L_a \\sin \\mathcal{E} + \\cos L_a \\cos \\mathcal{E} \\cos \\mathcal{A}\\\\\n",
        "\\end{bmatrix}\n",
        "\\end{equation}\n",
        "<a id=\"vis:eq:3_1\"></a> <!---<a id=\"vis:eq:3_1\"></a>--->\n",
        "\n",
        "**Equation 3.1**: Conversion from baseline vector $\\mathcal{E},\\mathcal{A}$ to $XYZ$ . $\\mathbf{b}$: amplitude of baseline vector. $H$: Hour angle, $\\delta$: Declination, $L_a$: latitude of the array. \n",
        "\n",
        "<div class=advice>\n",
        "<b>Note:</b> The complete derivation of [Eq. 3.1 &#10142;](#vis:eq:3_1)  from the spherical triangle <b>ZTS</b> can be found in [$\\S$ A.1 &#10142;](../0_Introduction/2_Appendix.ipynb).\n",
        "</div>"
      ]
    },
    {
      "cell_type": "markdown",
      "metadata": {},
      "source": [
        "### 4.2.2 The ($u$,$v$,$w$) Space"
      ]
    },
    {
      "cell_type": "markdown",
      "metadata": {},
      "source": [
        "Now that we have defined a baseline in a terrestrial XYZ frame we are ready for the final transformation to the celestial *uvw* reference frame. Let ($H_0$, $\\delta_0$) be the point on the celestial sphere in the direction of a source $\\mathbf{s_0}$. We now define a new set of axes:\n",
        "\n",
        "* the $u$-axis lies in the celestial equatorial plane, and points toward the hour angle $H_0-6^\\text{h}$.\n",
        "* the $v$-axis lies in the plane of the great circle with hour angle $H_0$, and points toward the declination $\\frac{\\pi}{2}-\\delta_0$.\n",
        "* the $w$-axis points in the direction of $\\mathbf{s_0}$.\n",
        "\n",
        "The ($u$,$v$) axes form a 2-D plane perpendicular to $\\mathbf{s_0}$."
      ]
    },
    {
      "cell_type": "markdown",
      "metadata": {},
      "source": [
        "The transformation from the ($X$,$Y$,$Z$) frame to the ($u$, $v$, $w$) frame requires two succesive rotations applied to the equatorial coordinates of the baseline:\n",
        "\n",
        "1. $\\mathcal{R}_\\text{Z}^{\\frac{\\pi}{2}-H_0}$:  the rotation of the $X$,$Y$ axes around the $Z=Z'$ axis of angle $\\frac{\\pi}{2}-H_0$ making the new axes $X'$, $Y'$ (Green axes in [Fig. 4.2.4 &#10549;](#vis:fig:414))\n",
        "2. $\\mathcal{R}_\\text{X'}^{\\frac{\\pi}{2}-\\delta_0}$:  the rotation of the $Y'$,$Z'$ axes around the $X'=u$ axis of angle $\\frac{\\pi}{2}-\\delta_0$ making the new axes $u$, $v$ (red axes in [Fig. 4.2.4 &#10549;](#vis:fig:414)).\n",
        "\n"
      ]
    },
    {
      "cell_type": "markdown",
      "metadata": {},
      "source": [
        "<a id=\"vis:fig:414\"></a> <!--\\label{vis:fig:414}--></a>\n",
        "<img src='figures/coordinates2b.svg' width=50%>"
      ]
    },
    {
      "cell_type": "markdown",
      "metadata": {},
      "source": [
        "**Figure 4.2.4**: Relation of the (X,Y,Z) frame to the ($u$,$v$,$w$) frame. $Z$: local zenith. ($X$,$Y$) = Celestial plane $\\perp$ to the NCP."
      ]
    },
    {
      "cell_type": "markdown",
      "metadata": {},
      "source": [
        "The conversion from $XYZ$ to $uvw$ is expressed as following:\n",
        "\\begin{equation}\n",
        "\\begin{pmatrix}\n",
        "u\\\\\n",
        "v\\\\\n",
        "w\n",
        "\\end{pmatrix}\n",
        "=\n",
        "\\mathcal{R}_\\text{X'}^{\\frac{\\pi}{2}-\\delta_0}\n",
        "\\mathcal{R}_\\text{Z}^{\\frac{\\pi}{2}-H_0}\n",
        "\\begin{pmatrix}\n",
        "X\\\\\n",
        "Y\\\\\n",
        "Z\n",
        "\\end{pmatrix}\n",
        "\\end{equation}\n",
        "\n"
      ]
    },
    {
      "cell_type": "markdown",
      "metadata": {},
      "source": [
        "where\n",
        "\\begin{equation}\n",
        "\\mathcal{R}_\\text{X'}^{\\frac{\\pi}{2}-\\delta_0}\n",
        "=\n",
        "\\begin{pmatrix}\n",
        "1& 0& 0\\\\\n",
        "0 & \\cos (\\frac{\\pi}{2}- \\delta_0) & \\sin (\\frac{\\pi}{2}- \\delta_0)  \\\\\n",
        "0 &-\\sin (\\frac{\\pi}{2}- \\delta_0) & \\cos (\\frac{\\pi}{2}- \\delta_0) \\\\\n",
        "\\end{pmatrix} \n",
        "=\n",
        "\\begin{pmatrix}\n",
        "1& 0& 0\\\\\n",
        "0 & \\sin \\delta_0 & \\cos \\delta_0  \\\\\n",
        "0 &-\\cos \\delta_0 & \\sin \\delta_0 \\\\\n",
        "\\end{pmatrix} \n",
        "\\end{equation}"
      ]
    },
    {
      "cell_type": "markdown",
      "metadata": {},
      "source": [
        "and \\begin{equation}\n",
        "\\mathcal{R}_\\text{Z}^{\\frac{\\pi}{2}-H_0}\n",
        "=\n",
        "\\begin{pmatrix}\n",
        "\\cos (\\frac{\\pi}{2}- H_0) & \\sin (\\frac{\\pi}{2}- H_0) & 0 \\\\\n",
        "-\\sin (\\frac{\\pi}{2}- H_0) & \\cos (\\frac{\\pi}{2}- H_0) & 0 \\\\\n",
        "0 & 0 & 1\n",
        "\\end{pmatrix} \n",
        "=\n",
        "\\begin{pmatrix}\n",
        "\\sin H_0 & \\cos H_0 & 0 \\\\\n",
        "-\\cos H_0 & \\sin H_0 & 0 \\\\\n",
        "0 & 0 & 1\n",
        "\\end{pmatrix} \n",
        "\\end{equation}"
      ]
    },
    {
      "cell_type": "markdown",
      "metadata": {},
      "source": [
        "<div class=warn>\n",
        "<b>Warning:</b> The sequence of operations applied to vectors should be read from right to left, as is the rule in linear algebra.\n",
        "</div>"
      ]
    },
    {
      "cell_type": "markdown",
      "metadata": {},
      "source": [
        "This results in the following transformation matrix:\n",
        "\\begin{equation}\n",
        "\\begin{pmatrix}\n",
        "u\\\\\n",
        "v\\\\\n",
        "w\n",
        "\\end{pmatrix}\n",
        "=\n",
        "\\begin{pmatrix}\n",
        "\\sin H_0 & \\cos H_0 & 0\\\\ \n",
        "-\\sin \\delta_0 \\cos H_0 & \\sin\\delta_0\\sin H_0 & \\cos\\delta_0\\\\\n",
        "\\cos \\delta_0 \\cos H_0 & -\\cos\\delta_0\\sin H_0 & \\sin\\delta_0\\\\\n",
        "\\end{pmatrix} \n",
        "\\begin{pmatrix}\n",
        "X\\\\\n",
        "Y\\\\\n",
        "Z\n",
        "\\end{pmatrix}\n",
        "\\end{equation}\n",
        "\n"
      ]
    },
    {
      "cell_type": "markdown",
      "metadata": {},
      "source": [
        "<div class=warn>\n",
        "<b>Warning:</b>\n",
        "We usually express the components ($u$, $v$, $w$) in units of wavelength (of the observation) by dividing the baseline vector by $\\lambda$:<br>\n",
        "\n",
        "\\begin{equation}\n",
        "\\mathbf{b_\\lambda}\n",
        "= \n",
        "\\frac{\\mathbf{b}}{\\lambda}\n",
        "= \n",
        "\\begin{pmatrix}\n",
        "u\\\\\n",
        "v\\\\\n",
        "w\n",
        "\\end{pmatrix}\n",
        "=\n",
        "\\frac{1}{\\lambda}\n",
        "\\begin{pmatrix}\n",
        "\\sin H_0 & \\cos H_0 & 0\\\\ \n",
        "-\\sin \\delta_0 \\cos H_0 & \\sin\\delta_0\\sin H_0 & \\cos\\delta_0\\\\\n",
        "\\cos \\delta_0 \\cos H_0 & -\\cos\\delta_0\\sin H_0 & \\sin\\delta_0\\\\\n",
        "\\end{pmatrix} \n",
        "\\begin{pmatrix}\n",
        "X\\\\\n",
        "Y\\\\\n",
        "Z\n",
        "\\end{pmatrix}\n",
        "\\end{equation}\n",
        "\n",
        "In the following sections and chapters, we will drop the $\\lambda$ subscript, as we will always assume that the $u$, $v$, $w$ components are given in units of wavelengths.\n",
        "</div>"
      ]
    },
    {
      "cell_type": "markdown",
      "metadata": {},
      "source": [
        "### 4.2.3 Conclusion"
      ]
    },
    {
      "cell_type": "markdown",
      "metadata": {},
      "source": [
        "This section was dedicated to writing a mathematical expression the baseline vector in astronomy-friendly reference frames. This will later allow us to quickly link the physical length of a baseline between two receivers to a quantity measured on the celestial sphere. \n",
        "In [$\\S$ 4.3 &#10142;](4_3_the_2-element_interferometer.ipynb), we will focus on a simple one dimensional 2-element interferometer. We will address the correlation of two signals collected from a remote point source, and construct the corresponding visibility function which will be described in greater detail in [$\\S$ 4.4 &#10142;](4_4_the_visibility_function.ipynb).\n",
        "\n",
        "<div class=advice>\n",
        "Do not worry too much about the relevance of $uvw$ space - it will be made clear in [$\\S$4.4](4_Visibility_Space/4_4_the_visibility_function.ipynb). For now, suffice to say that this derivation will be useful to us later on.\n",
        "</div>"
      ]
    },
    {
      "cell_type": "markdown",
      "metadata": {},
      "source": [
        "#### Format status:\n",
        "* <span style=\"background-color:green\">&nbsp;&nbsp;&nbsp;&nbsp;</span> : LF: 2017/02/06\n",
        "* <span style=\"background-color:green\">&nbsp;&nbsp;&nbsp;&nbsp;</span> : NC: 2017/02/06\n",
        "* <span style=\"background-color:green\">&nbsp;&nbsp;&nbsp;&nbsp;</span> : RF: 2017/02/06\n",
        "* <span style=\"background-color:green\">&nbsp;&nbsp;&nbsp;&nbsp;</span> : HF: 2017/02/06\n",
        "* <span style=\"background-color:green\">&nbsp;&nbsp;&nbsp;&nbsp;</span> : GM: 2017/02/06\n",
        "* <span style=\"background-color:green\">&nbsp;&nbsp;&nbsp;&nbsp;</span> : CL: 2017/02/06\n",
        "* <span style=\"background-color:green\">&nbsp;&nbsp;&nbsp;&nbsp;</span> : ST: 2017/02/06\n",
        "* <span style=\"background-color:green\">&nbsp;&nbsp;&nbsp;&nbsp;</span> : FN: 2017/02/06\n",
        "* <span style=\"background-color:green\">&nbsp;&nbsp;&nbsp;&nbsp;</span> : SP: 2017/02/06\n",
        "* <span style=\"background-color:red\">&nbsp;&nbsp;&nbsp;&nbsp;</span> : TC: Date\n",
        "* <span style=\"background-color:green\">&nbsp;&nbsp;&nbsp;&nbsp;</span> : XX: 2017/02/06"
      ]
    },
    {
      "cell_type": "markdown",
      "metadata": {},
      "source": [
        "***\n",
        "\n",
        "* Next: [4.3 The 2-element Interferometer](4_3_the_2-element_interferometer.ipynb)"
      ]
    }
  ],
  "metadata": {
    "kernelspec": {
      "display_name": "Python 2",
      "language": "python",
      "name": "python2"
    },
    "language_info": {
      "codemirror_mode": {
        "name": "ipython",
        "version": 2
      },
      "file_extension": ".py",
      "mimetype": "text/x-python",
      "name": "python",
      "nbconvert_exporter": "python",
      "pygments_lexer": "ipython2",
      "version": "2.7.8"
    }
  },
  "nbformat": 4,
  "nbformat_minor": 0
}