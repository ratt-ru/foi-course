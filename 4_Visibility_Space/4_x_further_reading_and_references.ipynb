{
  "cells": [
    {
      "cell_type": "markdown",
      "metadata": {
        "collapsed": true
      },
      "source": [
        "***\n",
        "<a id='beginning'></a> <!--\\label{beginning}-->\n",
        "\n",
        "* [Outline](../0_Introduction/0_introduction.ipynb)\n",
        "* [Glossary](../0_Introduction/1_glossary.ipynb)\n",
        "* [4. The Visibility space](4_0_introduction.ipynb)\n",
        "    * Previous: [4.5 The Fourier Approximation & the van Cittert-Zernike theorem](4_5_The_Fourier_Approximation_VanCittert-Zernike_Theorem.ipynb)\n",
        "    * Next Chapter: [5. Imaging](../5_Imaging/5_0_introduction.ipynb)\n",
        "\n",
        "***"
      ]
    },
    {
      "cell_type": "markdown",
      "metadata": {},
      "source": [
        "## 4.x Further Reading and References <a id='visib:sec:refs'></a>"
      ]
    },
    {
      "cell_type": "markdown",
      "metadata": {},
      "source": [
        "<span style=\"background-color:red\">TLG:AC: Proper expansion. Summary, References and Further reading.</span> "
      ]
    },
    {
      "cell_type": "markdown",
      "metadata": {},
      "source": [
        "1. [<cite data-cite='taylor1999synthesis'>Synthesis Imaging in Radio Astronomy II (Lecture 1, 2) </cite> &#10548;](http://adsabs.harvard.edu/abs/1999sira.conf.....T) : general introduction.\n",
        "2. [<cite data-cite='thompson2008interferometry'>Interferometry and Synthesis in Radio Astronomy (Chapter 1.3, 12, 14) </cite> &#10548;](http://onlinelibrary.wiley.com/book/10.1002/9783527617845) : a complimentary chapter to Lecture 1 and 2 of *Synthesis Imaging in Radio Astronomy II*.\n",
        "3. [<cite data-cite='1966raas.book.....K'>Radio Astronomy (Chapters 6-10) &#10548;</cite>](http://adsabs.harvard.edu/abs/1966raas.book.....K): general overview of radio astronomy."
      ]
    },
    {
      "cell_type": "markdown",
      "metadata": {
        "collapsed": true
      },
      "source": [
        "***\n",
        "\n",
        "* Next: [5. Imaging](../5_Imaging/5_0_introduction.ipynb)"
      ]
    }
  ],
  "metadata": {
    "kernelspec": {
      "display_name": "testament",
      "language": "python",
      "name": "testament"
    },
    "language_info": {
      "codemirror_mode": {
        "name": "ipython",
        "version": 3
      },
      "file_extension": ".py",
      "mimetype": "text/x-python",
      "name": "python",
      "nbconvert_exporter": "python",
      "pygments_lexer": "ipython3",
      "version": "3.8.10"
    }
  },
  "nbformat": 4,
  "nbformat_minor": 1
}