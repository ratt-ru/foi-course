{
  "cells": [
    {
      "cell_type": "markdown",
      "metadata": {},
      "source": [
        "***\n",
        "<a id='beginning'></a> <!--\\label{beginning}-->\n",
        "* [Outline](../0_Introduction/0_introduction.ipynb)\n",
        "* [Glossary](../0_Introduction/1_glossary.ipynb)\n",
        "* [4. The Visibility Space](4_0_introduction.ipynb)\n",
        "    * Previous: [4.4 The Visibility Function](4_4_the_visibility_function.ipynb)\n",
        "    * Next: [4.5.2 UV Coverage: Improving Your Coverage](4_5_2_uv_coverage_improving_your_coverage.ipynb)\n",
        "\n",
        "***"
      ]
    },
    {
      "cell_type": "markdown",
      "metadata": {},
      "source": [
        "Import standard modules:"
      ]
    },
    {
      "cell_type": "code",
      "execution_count": null,
      "metadata": {},
      "outputs": [],
      "source": [
        "import numpy as np\n",
        "import matplotlib.pyplot as plt\n",
        "%matplotlib inline\n",
        "from IPython.display import HTML \n",
        "HTML('../style/course.css') #apply general CSS"
      ]
    },
    {
      "cell_type": "markdown",
      "metadata": {},
      "source": [
        "Import section specific modules:"
      ]
    },
    {
      "cell_type": "code",
      "execution_count": null,
      "metadata": {},
      "outputs": [],
      "source": [
        "from mpl_toolkits.mplot3d import Axes3D\n",
        "import plotBL"
      ]
    },
    {
      "cell_type": "code",
      "execution_count": null,
      "metadata": {},
      "outputs": [],
      "source": [
        "HTML('../style/code_toggle.html')"
      ]
    },
    {
      "cell_type": "markdown",
      "metadata": {},
      "source": [
        "### 4.5.1 UV coverage : UV tracks"
      ]
    },
    {
      "cell_type": "markdown",
      "metadata": {},
      "source": [
        "The objective of [$\\S$ 4.5.1 &#10549;](4_5_1_uv_coverage_uv_tracks.ipynb) and [$\\S$ 4.5.2 &#10142;](4_5_2_uv_coverage_improving_your_coverage.ipynb) is to give you a glimpse into the process of *aperture synthesis*. <span style=\"background-color:cyan\">TLG:GM: Check if the italic words are in the glossary. </span> An interferometer measures components of the Fourier Transform of the sky by sampling the visibility function, $\\mathcal{V}$. This collection of samples lives in ($u$, $v$, $w$) space, and are often projected onto the so-called $uv$-plane.\n",
        "In [$\\S$ 4.5.1 &#10549;](4_5_1_uv_coverage_uv_tracks.ipynb), we will focus on the way the visibility function is sampled. This sampling is a function of the interferometer's configuration, the direction of the source and the observation time.\n",
        "In [$\\S$ 4.5.2 &#10142;](4_5_2_uv_coverage_improving_your_coverage.ipynb), we will see how this sampling can be improved by using certain observing techniques."
      ]
    },
    {
      "cell_type": "markdown",
      "metadata": {},
      "source": [
        "#### 4.5.1.1 The projected baseline with time: the $uv$ track"
      ]
    },
    {
      "cell_type": "markdown",
      "metadata": {},
      "source": [
        "A projected baseline depends on a baseline's coordinates, and the direction being observed in the sky. It corresponds to the baseline as seen from the source. The projected baseline is what determines the spatial frequency of the sky that the baseline will measure. As the Earth rotates, the projected baseline and its corresponding spatial frequency (defined by the baseline's ($u$, $v$)-coordinates) vary slowly in time, generating a path in the $uv$-plane.\n",
        "\n",
        "We will now generate test cases to see what locus the path takes, and how it can be predicted depending on the baseline's geometry."
      ]
    },
    {
      "cell_type": "markdown",
      "metadata": {},
      "source": [
        "##### 4.5.1.1.1 Baseline projection as seen from the source"
      ]
    },
    {
      "cell_type": "markdown",
      "metadata": {},
      "source": [
        "Let's generate one baseline from two antennas Ant$_1$ and Ant$_2$."
      ]
    },
    {
      "cell_type": "code",
      "execution_count": null,
      "metadata": {},
      "outputs": [],
      "source": [
        "ant1 = np.array([-500e3,500e3,0])   # in m\n",
        "ant2 = np.array([500e3,-500e3,+10]) # in m"
      ]
    },
    {
      "cell_type": "markdown",
      "metadata": {},
      "source": [
        "Let's express the corresponding physical baseline in ENU coordinates."
      ]
    },
    {
      "cell_type": "code",
      "execution_count": null,
      "metadata": {},
      "outputs": [],
      "source": [
        "b_ENU = ant2-ant1                # baseline \n",
        "D = np.sqrt(np.sum((b_ENU)**2))  # |b|\n",
        "print(str(D/1000)+\" km\")"
      ]
    },
    {
      "cell_type": "markdown",
      "metadata": {
        "collapsed": true
      },
      "source": [
        "Let's place the interferometer at a latitude $L_a=+45^\\circ00'00''$."
      ]
    },
    {
      "cell_type": "code",
      "execution_count": null,
      "metadata": {},
      "outputs": [],
      "source": [
        "L = (np.pi/180)*(45+0./60+0./3600)      # Latitude in radians"
      ]
    },
    {
      "cell_type": "code",
      "execution_count": null,
      "metadata": {},
      "outputs": [],
      "source": [
        "A = np.arctan2(b_ENU[0],b_ENU[1])\n",
        "print(\"Baseline Azimuth=\"+str(np.degrees(A))+\"\u00b0\")\n",
        "\n",
        "E = np.arcsin(b_ENU[2]/D)\n",
        "print(\"Baseline Elevation=\"+str(np.degrees(E))+\"\u00b0\")"
      ]
    },
    {
      "cell_type": "code",
      "execution_count": null,
      "metadata": {},
      "outputs": [],
      "source": [
        "%matplotlib nbagg\n",
        "plotBL.sphere(ant1,ant2,A,E,D,L)"
      ]
    },
    {
      "cell_type": "markdown",
      "metadata": {},
      "source": [
        "**Figure 4.5.1**: A baseline located at +45$^\\circ$ as seen from the sky. This plot is interactive and can be rotated in 3D to see different baseline projections, depending on the position of the source w.r.t. the physical baseline."
      ]
    },
    {
      "cell_type": "markdown",
      "metadata": {},
      "source": [
        "On the interactive plot above, we represent a baseline located at +45$^\\circ$. It is aligned with the local south-west/north-east axis, as seen from the sky frame of reference. By rotating the sphere westward, you can simulate the variation of the projected baseline as seen from a source in apparent motion on the celestial sphere."
      ]
    },
    {
      "cell_type": "markdown",
      "metadata": {},
      "source": [
        "##### 4.5.1.1.2  Coordinates of the baseline in the ($u$,$v$,$w$) plane"
      ]
    },
    {
      "cell_type": "markdown",
      "metadata": {},
      "source": [
        "We will now simulate an observation to study how a projected baseline will change with time. We will position this baseline at a South African latitude. We first need the expression of the physical baseline in a convenient reference frame, attached to the source in the sky."
      ]
    },
    {
      "cell_type": "markdown",
      "metadata": {},
      "source": [
        "In [$\\S$ 4.2 &#10142;](4_2_the_baseline_and_its_representation_in_space.ipynb), we linked the equatorial coordinates of the baseline to the ($u$,$v$,$w$) coordinates through the transformation matrix:\n",
        "\\begin{equation}\n",
        "\\begin{pmatrix}\n",
        "u\\\\\n",
        "v\\\\\n",
        "w\n",
        "\\end{pmatrix}\n",
        "=\n",
        "\\frac{1}{\\lambda}\n",
        "\\begin{pmatrix}\n",
        "\\sin H_0 & \\cos H_0 & 0\\\\ \n",
        "-\\sin \\delta_0 \\cos H_0 & \\sin\\delta_0\\sin H_0 & \\cos\\delta_0\\\\\n",
        "\\cos \\delta_0 \\cos H_0 & -\\cos\\delta_0\\sin H_0 & \\sin\\delta_0\\\\\n",
        "\\end{pmatrix} \n",
        "\\begin{pmatrix}\n",
        "X\\\\\n",
        "Y\\\\\n",
        "Z\n",
        "\\end{pmatrix}\n",
        "\\end{equation}"
      ]
    },
    {
      "cell_type": "markdown",
      "metadata": {},
      "source": [
        "<a id=\"vis:eq:451\"></a> <!---\\label{vis:eq:451}--->\n",
        "\\begin{equation}\n",
        "\\begin{bmatrix}\n",
        "X\\\\\n",
        "Y\\\\\n",
        "Z\n",
        "\\end{bmatrix}\n",
        "=|\\mathbf{b}|\n",
        "\\begin{bmatrix}\n",
        "\\cos L_a \\sin \\mathcal{E} - \\sin L_a \\cos \\mathcal{E} \\cos \\mathcal{A}\\nonumber\\\\ \n",
        "\\cos \\mathcal{E} \\sin \\mathcal{A} \\nonumber\\\\\n",
        "\\sin L_a \\sin \\mathcal{E} + \\cos L_a \\cos \\mathcal{E} \\cos \\mathcal{A}\\\\\n",
        "\\end{bmatrix}\n",
        "\\end{equation}\n"
      ]
    },
    {
      "cell_type": "markdown",
      "metadata": {},
      "source": [
        "**Equation 4.5.1** "
      ]
    },
    {
      "cell_type": "markdown",
      "metadata": {
        "collapsed": true
      },
      "source": [
        "This expression of $\\mathbf{b}$ is a function of ($\\mathcal{A}$,$\\mathcal{E}$), and therefore of ($X$,$Y$,$Z$) in the equatorial frame of reference."
      ]
    },
    {
      "cell_type": "markdown",
      "metadata": {
        "collapsed": true
      },
      "source": [
        "##### 4.5.1.1.2 Observation parameters\n",
        "\n",
        "Let's define an arbitrary set of observation parameters to mimic a real observation.\n",
        "\n",
        "* Latitude of the baseline: $L_a=-30^\\circ43'17.34''$\n",
        "* Declination of the observation: $\\delta=-74^\\circ39'37.481''$\n",
        "* Duration of the observation: $\\Delta \\text{HA}=[-4^\\text{h},4^\\text{h}]$\n",
        "* Time steps: 600\n",
        "* Frequency: 1420 MHz"
      ]
    },
    {
      "cell_type": "code",
      "execution_count": null,
      "metadata": {},
      "outputs": [],
      "source": [
        "# Observation parameters\n",
        "c = 3e8                                        # Speed of light\n",
        "f = 1420e9                                     # Frequency\n",
        "lam = c/f                                      # Wavelength \n",
        "dec = (np.pi/180)*(-30-43.0/60-17.34/3600)     # Declination\n",
        "\n",
        "time_steps = 600                               # Time Steps\n",
        "h = np.linspace(-4,4,num=time_steps)*np.pi/12  # Hour angle window"
      ]
    },
    {
      "cell_type": "markdown",
      "metadata": {
        "collapsed": true
      },
      "source": [
        "##### 4.5.1.1.3 Computing of the projected baselines in ($u$,$v$,$w$) coordinates as a function of time\n",
        "\n",
        "As seen previously, we convert the baseline coordinates using the previous matrix transformation."
      ]
    },
    {
      "cell_type": "code",
      "execution_count": null,
      "metadata": {},
      "outputs": [],
      "source": [
        "ant1 = np.array([25.095,-9.095,0.045])\n",
        "ant2 = np.array([90.284,26.380,-0.226])\n",
        "b_ENU = ant2-ant1\n",
        "D = np.sqrt(np.sum((b_ENU)**2))\n",
        "L = (np.pi/180)*(-30-43.0/60-17.34/3600)\n",
        "\n",
        "A=np.arctan2(b_ENU[0],b_ENU[1])\n",
        "print(\"Azimuth=\",A*(180/np.pi))\n",
        "E=np.arcsin(b_ENU[2]/D)\n",
        "print(\"Elevation=\",E*(180/np.pi))\n",
        "\n",
        "X = D*(np.cos(L)*np.sin(E)-np.sin(L)*np.cos(E)*np.cos(A))\n",
        "Y = D*np.cos(E)*np.sin(A)\n",
        "Z = D*(np.sin(L)*np.sin(E)+np.cos(L)*np.cos(E)*np.cos(A))"
      ]
    },
    {
      "cell_type": "markdown",
      "metadata": {
        "collapsed": true
      },
      "source": [
        "As the $u$, $v$, $w$ coordinates explicitly depend on $H$, we must evaluate them for each observational time step. We will use the equations defined in [$\\S$ 4.2.2 &#10142;](4_2_the_baseline_and_its_representation_in_space.ipynb#):"
      ]
    },
    {
      "cell_type": "markdown",
      "metadata": {
        "collapsed": true
      },
      "source": [
        "* $\\lambda u = X \\sin H + Y \\cos H$\n",
        "* $\\lambda v= -X \\sin \\delta \\cos H + Y \\sin\\delta\\sin H + Z \\cos\\delta$\n",
        "* $\\lambda w= X \\cos \\delta \\cos H -Y \\cos\\delta\\sin H + Z \\sin\\delta$"
      ]
    },
    {
      "cell_type": "code",
      "execution_count": null,
      "metadata": {},
      "outputs": [],
      "source": [
        "u = lam**(-1)*(np.sin(h)*X+np.cos(h)*Y)/1e3\n",
        "v = lam**(-1)*(-np.sin(dec)*np.cos(h)*X+np.sin(dec)*np.sin(h)*Y+np.cos(dec)*Z)/1e3\n",
        "w = lam**(-1)*(np.cos(dec)*np.cos(h)*X-np.cos(dec)*np.sin(h)*Y+np.sin(dec)*Z)/1e3"
      ]
    },
    {
      "cell_type": "markdown",
      "metadata": {
        "collapsed": true
      },
      "source": [
        "We now have everything that describes the $uvw$-track of the baseline (over an 8-hour observational period). It is hard to predict which locus the $uvw$ track traverses given only the three mathematical equations from above. Let's plot it in $uvw$ space and its projection in $uv$ space."
      ]
    },
    {
      "cell_type": "code",
      "execution_count": null,
      "metadata": {},
      "outputs": [],
      "source": [
        "%matplotlib nbagg\n",
        "plotBL.UV(u,v,w)"
      ]
    },
    {
      "cell_type": "markdown",
      "metadata": {},
      "source": [
        "**Figure 4.5.2**: $uvw$ track derived from the simulation and projection in the $uv$-plane."
      ]
    },
    {
      "cell_type": "markdown",
      "metadata": {
        "collapsed": true
      },
      "source": [
        "The track in $uvw$ space are curves and the projection in the $uv$ plane are arcs. Let us focus on the track's projection in this plane. To get observation-independent knowledge of the track we can try to combine the three equations of $u$, $v$ and $w$, the aim being to eliminate $H$ from the equation. We end up with an equation linking $u$, $v$, $X$ and $Y$ (the full derivation can be found in [$\\S$ A.3 &#10142;](../0_Introduction/2_Appendix.ipynb)):\n",
        "\n",
        "$$\\boxed{u^2 + \\left[ \\frac{v -\\frac{Z}{\\lambda} \\cos \\delta}{\\sin \\delta} \\right]^2 = \\left[ \\frac{X}{\\lambda} \\right]^2 + \\left[ \\frac{Y}{\\lambda} \\right]^2}$$\n",
        "\n",
        "One can note that in this particular case, the $uv$ track takes on the form of an *ellipse*.\n",
        "\n",
        "<span style=\"background-color:cyan\">TLG:GM: Check if the italic words are in the glossary. </span>\n",
        "\n",
        "This ellipse is centered at $(0,\\frac{Z}{\\lambda} \\cos \\delta)$ in the ($u$,$v$) plane.\n",
        "\n",
        "The major axis is  $a=\\frac{\\sqrt{X^2 + Y^2}}{\\lambda}$.\n",
        "\n",
        "The minor axis (along the axis $v$) will be a function of $Z$, $\\delta$ and $a$.\n",
        "We can check this by plotting the theoretical ellipse over the observed portion of the track. (You can fall back to the duration of the observation to see that the track is mapping this ellipse exactly)."
      ]
    },
    {
      "cell_type": "code",
      "execution_count": null,
      "metadata": {},
      "outputs": [],
      "source": [
        "%matplotlib inline\n",
        "from matplotlib.patches import Ellipse\n",
        "\n",
        "# parameters of the UVtrack as an ellipse\n",
        "a=np.sqrt(X**2+Y**2)/lam/1e3 # major axis  \n",
        "b=a*np.sin(dec)              # minor axis\n",
        "v0=Z/lam*np.cos(dec)/1e3     # center of ellipse\n",
        "\n",
        "plotBL.UVellipse(u,v,w,a,b,v0)"
      ]
    },
    {
      "cell_type": "markdown",
      "metadata": {},
      "source": [
        "**Figure 4.5.3**: The blue (resp. the red) curve is the $uv$ track of the baseline $\\mathbf{b}_{12}$ (resp. $\\mathbf{b}_{21}$). As $I_\\nu$ is real, the real part of the visibility $\\mathcal{V}$ is even and the imaginary part is odd making $\\mathcal{V}(-u,-v)=\\mathcal{V}^*$. It implies that one baseline automatically provides a measurement of a visibility and its complex conjugate at ($-u$,$-v$)."
      ]
    },
    {
      "cell_type": "markdown",
      "metadata": {},
      "source": [
        "#### 4.5.1.2 Special cases"
      ]
    },
    {
      "cell_type": "markdown",
      "metadata": {},
      "source": [
        "##### 4.5.1.2.1 The Polar interferometer"
      ]
    },
    {
      "cell_type": "markdown",
      "metadata": {},
      "source": [
        "Let settle one baseline at the North pole. The local zenith corresponds to the North Celestial Pole (NCP) at $\\delta=90^\\circ$. As seen from the NCP, the baseline will rotate and the projected baseline will correspond to the physical baseline. This configuration is the only case where this happens.\n",
        "\n",
        "If $\\mathbf{b}$ rotates, we can guess that the $uv$ tracks will be perfect circles. Let's check:"
      ]
    },
    {
      "cell_type": "code",
      "execution_count": null,
      "metadata": {},
      "outputs": [],
      "source": [
        "L=np.radians(90.)\n",
        "ant1 = np.array([25.095,-9.095,0.045])\n",
        "ant2 = np.array([90.284,26.380,-0.226])\n",
        "b_ENU = ant2-ant1\n",
        "D = np.sqrt(np.sum((b_ENU)**2))\n",
        "\n",
        "A=np.arctan2(b_ENU[0],b_ENU[1])\n",
        "print(\"Azimuth=\",A*(180/np.pi))\n",
        "E=np.arcsin(b_ENU[2]/D)\n",
        "print(\"Elevation=\",E*(180/np.pi))\n",
        "\n",
        "X = D*(np.cos(L)*np.sin(E)-np.sin(L)*np.cos(E)*np.cos(A))\n",
        "Y = D*np.cos(E)*np.sin(A)\n",
        "Z = D*(np.sin(L)*np.sin(E)+np.cos(L)*np.cos(E)*np.cos(A))"
      ]
    },
    {
      "cell_type": "markdown",
      "metadata": {},
      "source": [
        "Let's compute the $uv$ tracks of an observation of the NCP ($\\delta=90^\\circ$):"
      ]
    },
    {
      "cell_type": "code",
      "execution_count": null,
      "metadata": {},
      "outputs": [],
      "source": [
        "dec=np.radians(90.)\n",
        "\n",
        "uNCP = lam**(-1)*(np.sin(h)*X+np.cos(h)*Y)/1e3\n",
        "vNCP = lam**(-1)*(-np.sin(dec)*np.cos(h)*X+np.sin(dec)*np.sin(h)*Y+np.cos(dec)*Z)/1e3\n",
        "wNCP = lam**(-1)*(np.cos(dec)*np.cos(h)*X-np.cos(dec)*np.sin(h)*Y+np.sin(dec)*Z)/1e3\n",
        "\n",
        "# parameters of the UVtrack as an ellipse\n",
        "aNCP=np.sqrt(X**2+Y**2)/lam/1e3 # major axis  \n",
        "bNCP=aNCP*np.sin(dec)              # minor axi\n",
        "v0NCP=Z/lam*np.cos(dec)/1e3     # center of ellipse"
      ]
    },
    {
      "cell_type": "markdown",
      "metadata": {},
      "source": [
        "Let's compute the uv tracks when observing a source at $\\delta=30^\\circ$:"
      ]
    },
    {
      "cell_type": "code",
      "execution_count": null,
      "metadata": {},
      "outputs": [],
      "source": [
        "dec=np.radians(30.)\n",
        "\n",
        "u30 = lam**(-1)*(np.sin(h)*X+np.cos(h)*Y)/1e3\n",
        "v30 = lam**(-1)*(-np.sin(dec)*np.cos(h)*X+np.sin(dec)*np.sin(h)*Y+np.cos(dec)*Z)/1e3\n",
        "w30 = lam**(-1)*(np.cos(dec)*np.cos(h)*X-np.cos(dec)*np.sin(h)*Y+np.sin(dec)*Z)/1e3\n",
        "\n",
        "a30=np.sqrt(X**2+Y**2)/lam/1e3 # major axis  \n",
        "b30=a*np.sin(dec)              # minor axi\n",
        "v030=Z/lam*np.cos(dec)/1e3     # center of ellipse"
      ]
    },
    {
      "cell_type": "code",
      "execution_count": null,
      "metadata": {},
      "outputs": [],
      "source": [
        "%matplotlib inline\n",
        "plotBL.UVellipse(u30,v30,w30,a30,b30,v030)\n",
        "plotBL.UVellipse(uNCP,vNCP,wNCP,aNCP,bNCP,v0NCP)"
      ]
    },
    {
      "cell_type": "markdown",
      "metadata": {},
      "source": [
        "**Figure 4.5.4**: $uv$ track for a baseline at the pole observing at $\\delta=90^\\circ$ (NCP) and at $\\delta=30^\\circ$ with the same color conventions as the previous figure."
      ]
    },
    {
      "cell_type": "markdown",
      "metadata": {},
      "source": [
        "When observing a source at declination $\\delta$, we still have an elliptical shape but centered at (0,0). In the case of a polar interferometer, the full $uv$ track can be covered in 12 hours only due to the symmetry of the baseline."
      ]
    },
    {
      "cell_type": "markdown",
      "metadata": {},
      "source": [
        "##### 4.5.1.2.2 The Equatorial interferometer"
      ]
    },
    {
      "cell_type": "markdown",
      "metadata": {},
      "source": [
        "Let's consider the other extreme scenario: this time, we position the interferometer at the equator. The local zenith is crossed by the Celestial Equator at $\\delta=0^\\circ$. As seen from the celestial equator, the baseline will not rotate and the projected baseline will no longer correspond to the physical baseline. This configuration is the only case where this happens.\n",
        "\n",
        "If $\\mathbf{b}$ is not rotating, we can intuitively guess that the $uv$ tracks will be straight lines."
      ]
    },
    {
      "cell_type": "code",
      "execution_count": null,
      "metadata": {},
      "outputs": [],
      "source": [
        "L=np.radians(90.)\n",
        "X = D*(np.cos(L)*np.sin(E)-np.sin(L)*np.cos(E)*np.cos(A))\n",
        "Y = D*np.cos(E)*np.sin(A)\n",
        "Z = D*(np.sin(L)*np.sin(E)+np.cos(L)*np.cos(E)*np.cos(A))\n",
        "\n",
        "# At local zenith == Celestial Equator\n",
        "dec=np.radians(0.)\n",
        "\n",
        "uEQ = lam**(-1)*(np.sin(h)*X+np.cos(h)*Y)/1e3\n",
        "vEQ = lam**(-1)*(-np.sin(dec)*np.cos(h)*X+np.sin(dec)*np.sin(h)*Y+np.cos(dec)*Z)/1e3\n",
        "wEQ = lam**(-1)*(np.cos(dec)*np.cos(h)*X-np.cos(dec)*np.sin(h)*Y+np.sin(dec)*Z)/1e3\n",
        "\n",
        "# parameters of the UVtrack as an ellipse\n",
        "aEQ=np.sqrt(X**2+Y**2)/lam/1e3 # major axis  \n",
        "bEQ=aEQ*np.sin(dec)              # minor axi\n",
        "v0EQ=Z/lam*np.cos(dec)/1e3     # center of ellipse\n",
        "\n",
        "# Close to Zenith\n",
        "dec=np.radians(10.)\n",
        "\n",
        "u10 = lam**(-1)*(np.sin(h)*X+np.cos(h)*Y)/1e3\n",
        "v10 = lam**(-1)*(-np.sin(dec)*np.cos(h)*X+np.sin(dec)*np.sin(h)*Y+np.cos(dec)*Z)/1e3\n",
        "w10 = lam**(-1)*(np.cos(dec)*np.cos(h)*X-np.cos(dec)*np.sin(h)*Y+np.sin(dec)*Z)/1e3\n",
        "\n",
        "a10=np.sqrt(X**2+Y**2)/lam/1e3 # major axis  \n",
        "b10=a*np.sin(dec)              # minor axi\n",
        "v010=Z/lam*np.cos(dec)/1e3     # center of ellipse"
      ]
    },
    {
      "cell_type": "code",
      "execution_count": null,
      "metadata": {},
      "outputs": [],
      "source": [
        "%matplotlib inline\n",
        "plotBL.UVellipse(u10,v10,w10,a10,b10,v010)\n",
        "plotBL.UVellipse(uEQ,vEQ,wEQ,aEQ,bEQ,v0EQ)"
      ]
    },
    {
      "cell_type": "markdown",
      "metadata": {},
      "source": [
        "**Figure 4.5.5**: $uv$ track for a baseline at the equator observing at $\\delta=0^\\circ$ and at $\\delta=10^\\circ$, with the same color conventions as the previous figure."
      ]
    },
    {
      "cell_type": "markdown",
      "metadata": {},
      "source": [
        "An equatorial interferometer observing its zenith will see radio sources crossing the sky on straight, linear paths. Therefore, they will produce straight $uv$ coordinates."
      ]
    },
    {
      "cell_type": "markdown",
      "metadata": {},
      "source": [
        "##### 4.5.1.1.3 The East-West array <a id='vis:sec:ew'></a> <!--\\label{vis:sec:ew}-->"
      ]
    },
    {
      "cell_type": "markdown",
      "metadata": {},
      "source": [
        "The East-West array is the special case of an interferometer with physical baselines aligned with the East-West direction in the ground-based frame of reference. They have the convenient property of giving a $uv$ coverage which lies entirely on a plane."
      ]
    },
    {
      "cell_type": "markdown",
      "metadata": {},
      "source": [
        "If the baseline is aligned with the East-West direction, then the Elevation $\\mathcal{E}$ of the baseline is zero and the Azimuth $\\mathcal{A}$ is $\\frac{\\pi}{2}$. [Eq. 4.5.1 &#10549;](#vis:eq:451) then simplifies considerably:"
      ]
    },
    {
      "cell_type": "markdown",
      "metadata": {},
      "source": [
        "The only non-zero component of the baseline will be its $Y$-component."
      ]
    },
    {
      "cell_type": "markdown",
      "metadata": {},
      "source": [
        "\\begin{equation}\n",
        "\\frac{1}{\\lambda}\n",
        "\\begin{bmatrix}\n",
        "X\\\\\n",
        "Y\\\\\n",
        "Z\n",
        "\\end{bmatrix}\n",
        "=\n",
        "|\\mathbf{b_\\lambda}|\n",
        "\\begin{bmatrix}\n",
        "\\cos L_a \\sin 0 - \\sin L_a \\cos 0 \\cos \\frac{\\pi}{2}\\nonumber\\\\ \n",
        "\\cos 0 \\sin \\frac{\\pi}{2} \\nonumber\\\\\n",
        "\\sin L_a \\sin 0 + \\cos L_a \\cos 0 \\cos \\frac{\\pi}{2}\\\\\n",
        "\\end{bmatrix}\n",
        "=\n",
        "\\begin{bmatrix}\n",
        "0\\\\\n",
        "|\\mathbf{b_\\lambda}|\\\\\n",
        "0 \\\\\n",
        "\\end{bmatrix}\n",
        "\\end{equation}"
      ]
    },
    {
      "cell_type": "markdown",
      "metadata": {},
      "source": [
        "If we observe a source at declination $\\delta_0$ with varying Hour Angle, $H$, we obtain:\n",
        "\n",
        "\\begin{equation}\n",
        "\\begin{pmatrix}\n",
        "u\\\\\n",
        "v\\\\\n",
        "w\\\\\n",
        "\\end{pmatrix}\n",
        "=\n",
        "\\begin{pmatrix}\n",
        "\\sin H & \\cos H & 0\\\\ \n",
        "-\\sin \\delta_0 \\cos H & \\sin\\delta_0\\sin H & \\cos\\delta_0\\\\\n",
        "\\cos \\delta_0 \\cos H & -\\cos\\delta_0\\sin H & \\sin\\delta_0\\\\\n",
        "\\end{pmatrix} \n",
        "\\begin{pmatrix}\n",
        "0\\\\\n",
        "|\\mathbf{b_\\lambda}| \\\\\n",
        "0\n",
        "\\end{pmatrix}\n",
        "\\end{equation}\n",
        "\n",
        "\\begin{equation}\n",
        "\\begin{pmatrix}\n",
        "u\\\\\n",
        "v\\\\\n",
        "w\\\\\n",
        "\\end{pmatrix}\n",
        "=\n",
        "\\begin{pmatrix}\n",
        "|\\mathbf{b_\\lambda}| \\cos H \\\\ \n",
        "|\\mathbf{b_\\lambda}| \\sin\\delta_0 \\sin H\\\\\n",
        "-|\\mathbf{b_\\lambda}|\\cos\\delta_0\\sin H\\\\\n",
        "\\end{pmatrix} \n",
        "\\end{equation}\n",
        "\n",
        "when $H = 6^\\text{h}$ (West)\n",
        "\n",
        "\\begin{equation}\n",
        "\\begin{pmatrix}\n",
        "u\\\\\n",
        "v\\\\\n",
        "w\\\\\n",
        "\\end{pmatrix}\n",
        "=\n",
        "\\begin{pmatrix}\n",
        "0 \\\\ \n",
        "|\\mathbf{b_\\lambda}|\\sin\\delta_0\\\\\n",
        "|\\mathbf{b_\\lambda}|\\cos\\delta_0\\\\\n",
        "\\end{pmatrix} \n",
        "\\end{equation}\n",
        "\n",
        "when $H = 0^\\text{h}$ (South)\n",
        "\\begin{equation}\n",
        "\\begin{pmatrix}\n",
        "u\\\\\n",
        "v\\\\\n",
        "w\\\\\n",
        "\\end{pmatrix}\n",
        "=\n",
        "\\begin{pmatrix}\n",
        "|\\mathbf{b_\\lambda}| \\\\ \n",
        "0\\\\\n",
        "0\\\\\n",
        "\\end{pmatrix} \n",
        "\\end{equation}\n",
        "\n",
        "when $H = -6^\\text{h}$ (East)\n",
        "\n",
        "\\begin{equation}\n",
        "\\begin{pmatrix}\n",
        "u\\\\\n",
        "v\\\\\n",
        "w\\\\\n",
        "\\end{pmatrix}\n",
        "=\n",
        "\\begin{pmatrix}\n",
        "0 \\\\ \n",
        "-|\\mathbf{b_\\lambda}|\\sin\\delta_0\\\\\n",
        "-|\\mathbf{b_\\lambda}|\\cos\\delta_0\n",
        "\\end{pmatrix} \n",
        "\\end{equation}"
      ]
    },
    {
      "cell_type": "markdown",
      "metadata": {},
      "source": [
        "In this case, one can notice that we always have a relationship between $u$, $v$ and $|\\mathbf{b_\\lambda}|$:\n",
        "\n",
        "$$ u^2+\\left( \\frac{v}{\\sin\\delta_0}\\right) ^2=|\\mathbf{b_\\lambda}|^2$$ "
      ]
    },
    {
      "cell_type": "markdown",
      "metadata": {},
      "source": [
        "<div class=warn>\n",
        "<b>Warning:</b> The $\\sin\\delta_0$ factor, appearing in the previous equation, can be interpreted as a compression factor.\n",
        "</div>"
      ]
    },
    {
      "cell_type": "markdown",
      "metadata": {},
      "source": [
        "#### 4.5.1.3 Sampling the visibility plane with $uv$-tracks"
      ]
    },
    {
      "cell_type": "markdown",
      "metadata": {},
      "source": [
        "##### 4.5.1.3.1 Simulating a baseline"
      ]
    },
    {
      "cell_type": "markdown",
      "metadata": {},
      "source": [
        "When we have an EW baseline, some equations simplify.\n",
        "\n",
        "Firstly, $XYZ = [0~d~0]^T$, where $d$ is the baseline length measured in wavelengths.\n",
        "\n",
        "Secondly, we have the following relationships: $u = d\\cos(H)$, $v = d\\sin(H)\\sin(\\delta)$,\n",
        "\n",
        "where $H$ is the hour angle of the field center and $\\delta$ its declination.\n",
        "\n",
        "In this section, we will plot the $uv$-coverage of an EW-baseline whose field center is at two different declinations."
      ]
    },
    {
      "cell_type": "code",
      "execution_count": null,
      "metadata": {},
      "outputs": [],
      "source": [
        "H = np.linspace(-6,6,600)*(np.pi/12) #Hour angle in radians\n",
        "d = 100 #We assume that we have already divided by wavelength\n",
        "\n",
        "delta = 60*(np.pi/180) #Declination in degrees\n",
        "u_60 = d*np.cos(H)\n",
        "v_60 = d*np.sin(H)*np.sin(delta)"
      ]
    },
    {
      "cell_type": "markdown",
      "metadata": {},
      "source": [
        "<span style=\"background-color:red\">TLG:AC: Add the following figures. This is specifically for an EW array. They will add some more insight. </span>\n",
        "<img src='figures/EW_1_d.svg' width=40%>\n",
        "<img src='figures/EW_2_d.svg' width=40%>\n",
        "<img src='figures/EW_3_d.svg' width=40%>"
      ]
    },
    {
      "cell_type": "markdown",
      "metadata": {},
      "source": [
        "##### 4.5.1.3.2 Simulating the sky"
      ]
    },
    {
      "cell_type": "markdown",
      "metadata": {},
      "source": [
        "Let us populate our sky with three sources, with positions given in RA ($\\alpha$) and DEC ($\\delta$):\n",
        "* Source 1: (5h 32m 0.4s,60$^{\\circ}$-17' 57'') - 1 Jy\n",
        "* Source 2: (5h 36m 12.8s,-61$^{\\circ}$ 12' 6.9'') - 0.5 Jy\n",
        "* Source 3: (5h 40m 45.5s,-61$^{\\circ}$ 56' 34'') - 0.2 Jy\n",
        "\n",
        "We place the field center at $(\\alpha_0,\\delta_0) = $ (5h 30m,60$^{\\circ}$).  "
      ]
    },
    {
      "cell_type": "code",
      "execution_count": null,
      "metadata": {},
      "outputs": [],
      "source": [
        "RA_sources = np.array([5+30.0/60,5+32.0/60+0.4/3600,5+36.0/60+12.8/3600,5+40.0/60+45.5/3600])\n",
        "DEC_sources = np.array([60,60+17.0/60+57.0/3600,61+12.0/60+6.9/3600,61+56.0/60+34.0/3600])\n",
        "Flux_sources_labels = np.array([\"\",\"1 Jy\",\"0.5 Jy\",\"0.2 Jy\"])\n",
        "Flux_sources = np.array([1,0.5,0.1]) #in Jy\n",
        "step_size = 200\n",
        "print(\"Phase center     Source 1     Source 2     Source3\")\n",
        "print(repr(\"RA=\"+str(RA_sources)).ljust(2))\n",
        "print(\"DEC=\"+str(DEC_sources))"
      ]
    },
    {
      "cell_type": "markdown",
      "metadata": {},
      "source": [
        "We then convert the ($\\alpha$,$\\delta$) to $l,m$: <span style=\"background-color:red\">TLG:AC:Point to Chapter 3.</span>\n",
        "* $l = \\cos \\delta \\sin \\Delta \\alpha$\n",
        "* $m = \\sin \\delta\\cos\\delta_0 -\\cos \\delta\\sin\\delta_0\\cos\\Delta \\alpha$\n",
        "* $\\Delta \\alpha = \\alpha - \\alpha_0$"
      ]
    },
    {
      "cell_type": "code",
      "execution_count": null,
      "metadata": {},
      "outputs": [],
      "source": [
        "RA_rad = np.array(RA_sources)*(np.pi/12)\n",
        "DEC_rad = np.array(DEC_sources)*(np.pi/180)\n",
        "RA_delta_rad = RA_rad-RA_rad[0]\n",
        "\n",
        "l = np.cos(DEC_rad)*np.sin(RA_delta_rad)\n",
        "m = (np.sin(DEC_rad)*np.cos(DEC_rad[0])-np.cos(DEC_rad)*np.sin(DEC_rad[0])*np.cos(RA_delta_rad))\n",
        "print(\"l=\",l*(180/np.pi))\n",
        "print(\"m=\",m*(180/np.pi))\n",
        "\n",
        "point_sources = np.zeros((len(RA_sources)-1,3))\n",
        "point_sources[:,0] = Flux_sources\n",
        "point_sources[:,1] = l[1:]\n",
        "point_sources[:,2] = m[1:]"
      ]
    },
    {
      "cell_type": "markdown",
      "metadata": {},
      "source": [
        "The source and phase centre coordinates are now given in degrees."
      ]
    },
    {
      "cell_type": "code",
      "execution_count": null,
      "metadata": {},
      "outputs": [],
      "source": [
        "%matplotlib inline\n",
        "fig = plt.figure(figsize=(10,10))\n",
        "ax = fig.add_subplot(111)\n",
        "plt.xlim([-4,4])\n",
        "plt.ylim([-4,4])\n",
        "plt.xlabel(\"$l$ [degrees]\")\n",
        "plt.ylabel(\"$m$ [degrees]\")\n",
        "plt.plot(l[0],m[0],\"bx\")\n",
        "plt.plot(l[1:]*(180/np.pi),m[1:]*(180/np.pi),\"ro\") \n",
        "counter = 1\n",
        "for xy in zip(l[1:]*(180/np.pi)+0.25, m[1:]*(180/np.pi)+0.25):                                              \n",
        "    ax.annotate(Flux_sources_labels[counter], xy=xy, textcoords='offset points',horizontalalignment='right',\n",
        "                verticalalignment='bottom')  \n",
        "    counter = counter + 1\n",
        "        \n",
        "plt.grid()"
      ]
    },
    {
      "cell_type": "markdown",
      "metadata": {},
      "source": [
        "**Figure 4.5.6**: Distribution of the simulated sky in the $l$,$m$ plane."
      ]
    },
    {
      "cell_type": "markdown",
      "metadata": {},
      "source": [
        "##### 4.5.1.3.3 Simulating an observation"
      ]
    },
    {
      "cell_type": "markdown",
      "metadata": {},
      "source": [
        "We will now create a fully-filled $uv$-plane, and sample it using the EW-baseline track we created in the first section. We will be ignoring the $w$-term for the sake of simplicity."
      ]
    },
    {
      "cell_type": "code",
      "execution_count": null,
      "metadata": {},
      "outputs": [],
      "source": [
        "u = np.linspace(-1*(np.amax(np.abs(u_60)))-10, np.amax(np.abs(u_60))+10, num=step_size, endpoint=True)\n",
        "v = np.linspace(-1*(np.amax(abs(v_60)))-10, np.amax(abs(v_60))+10, num=step_size, endpoint=True)   \n",
        "uu, vv = np.meshgrid(u, v)\n",
        "zz = np.zeros(uu.shape).astype(complex)"
      ]
    },
    {
      "cell_type": "markdown",
      "metadata": {},
      "source": [
        "We create the dimensions of our visibility plane."
      ]
    },
    {
      "cell_type": "code",
      "execution_count": null,
      "metadata": {},
      "outputs": [],
      "source": [
        "s = point_sources.shape\n",
        "for counter in range(1, s[0]+1):\n",
        "    A_i = point_sources[counter-1,0]\n",
        "    l_i = point_sources[counter-1,1]\n",
        "    m_i = point_sources[counter-1,2]\n",
        "    zz += A_i*np.exp(-2*np.pi*1j*(uu*l_i+vv*m_i))\n",
        "zz = zz[:,::-1]"
      ]
    },
    {
      "cell_type": "markdown",
      "metadata": {},
      "source": [
        "We create our fully-filled visibility plane. With a \"perfect\" interferometer, we could sample the entire $uv$-plane. Since we only have a finite amount of antennas, this is never possible in practice. Recall that our sky brightness $I(l,m)$ is related to our visibilites $V(u,v)$ via the Fourier transform. For a bunch of point sources we can therefore write:\n",
        "\n",
        "$$V(u,v)=\\mathcal{F}\\{I(l,m)\\} = \\mathcal{F}\\{\\sum_k A_k \\delta(l-l_k,m-m_k)\\} = \\sum_k A_k e^{-2\\pi i (ul_i+vm_i)}$$\n",
        "\n",
        "Let's compute the total visibilities for our simulated sky."
      ]
    },
    {
      "cell_type": "code",
      "execution_count": null,
      "metadata": {},
      "outputs": [],
      "source": [
        "u_track = u_60\n",
        "v_track = v_60\n",
        "z = np.zeros(u_track.shape).astype(complex)       \n",
        "\n",
        "s = point_sources.shape\n",
        "for counter in range(1, s[0]+1):\n",
        "    A_i = point_sources[counter-1,0]\n",
        "    l_i = point_sources[counter-1,1]\n",
        "    m_i = point_sources[counter-1,2]\n",
        "    z += A_i*np.exp(-1*2*np.pi*1j*(u_track*l_i+v_track*m_i))"
      ]
    },
    {
      "cell_type": "markdown",
      "metadata": {},
      "source": [
        "Below we sample our visibility plane on the $uv$-track derived in the first section, i.e. $V(u_t,v_t)$."
      ]
    },
    {
      "cell_type": "code",
      "execution_count": null,
      "metadata": {},
      "outputs": [],
      "source": [
        "plt.figure(figsize=(12,6))\n",
        "\n",
        "plt.subplot(121)\n",
        "plt.imshow(zz.real,extent=[-1*(np.amax(np.abs(u_60)))-10, np.amax(np.abs(u_60))+10,-1*(np.amax(abs(v_60)))-10, \\\n",
        "                           np.amax(abs(v_60))+10])\n",
        "plt.plot(u_60,v_60,\"k\")\n",
        "plt.xlim([-1*(np.amax(np.abs(u_60)))-10, np.amax(np.abs(u_60))+10])\n",
        "plt.ylim(-1*(np.amax(abs(v_60)))-10, np.amax(abs(v_60))+10)\n",
        "plt.xlabel(\"u\")\n",
        "plt.ylabel(\"v\")\n",
        "plt.title(\"Real part of visibilities\")\n",
        "\n",
        "plt.subplot(122)\n",
        "plt.imshow(zz.imag,extent=[-1*(np.amax(np.abs(u_60)))-10, np.amax(np.abs(u_60))+10,-1*(np.amax(abs(v_60)))-10, \\\n",
        "                           np.amax(abs(v_60))+10])\n",
        "plt.plot(u_60,v_60,\"k\")\n",
        "plt.xlim([-1*(np.amax(np.abs(u_60)))-10, np.amax(np.abs(u_60))+10])\n",
        "plt.ylim(-1*(np.amax(abs(v_60)))-10, np.amax(abs(v_60))+10)\n",
        "plt.xlabel(\"u\")\n",
        "plt.ylabel(\"v\")\n",
        "plt.title(\"Imaginary part of visibilities\")"
      ]
    },
    {
      "cell_type": "markdown",
      "metadata": {},
      "source": [
        "**Figure 4.5.7**: Real and imaginary parts of the visibility function. The black curve is the portion of the $uv$ track crossing the visibility."
      ]
    },
    {
      "cell_type": "markdown",
      "metadata": {},
      "source": [
        "We now plot the sampled visibilites as a function of time-slots, i.e $V(u_t(t_s),v_t(t_s))$."
      ]
    },
    {
      "cell_type": "code",
      "execution_count": null,
      "metadata": {},
      "outputs": [],
      "source": [
        "plt.figure(figsize=(12,6))\n",
        "plt.subplot(121)\n",
        "plt.plot(z.real)\n",
        "plt.xlabel(\"Timeslots\")\n",
        "plt.ylabel(\"Jy\")\n",
        "plt.title(\"Real: sampled visibilities\")\n",
        "\n",
        "plt.subplot(122)\n",
        "plt.plot(z.imag)\n",
        "plt.xlabel(\"Timeslots\")\n",
        "plt.ylabel(\"Jy\")\n",
        "plt.title(\"Imag: sampled visibilities\")"
      ]
    },
    {
      "cell_type": "markdown",
      "metadata": {},
      "source": [
        "**Figure 4.5.8**: Real and imaginary parts of the visibility sampled by the black curve in Fig. 4.5.7, plotted as a function of time."
      ]
    },
    {
      "cell_type": "code",
      "execution_count": null,
      "metadata": {},
      "outputs": [],
      "source": [
        "plt.figure(figsize=(12,6))\n",
        "plt.subplot(121)\n",
        "plt.imshow(abs(zz),\n",
        "    extent=[-1*(np.amax(np.abs(u_60)))-10,\n",
        "            np.amax(np.abs(u_60))+10,\n",
        "            -1*(np.amax(abs(v_60)))-10,\n",
        "            np.amax(abs(v_60))+10])\n",
        "plt.plot(u_60,v_60,\"k\")\n",
        "plt.xlim([-1*(np.amax(np.abs(u_60)))-10, np.amax(np.abs(u_60))+10])\n",
        "plt.ylim(-1*(np.amax(abs(v_60)))-10, np.amax(abs(v_60))+10)\n",
        "plt.xlabel(\"u\")\n",
        "plt.ylabel(\"v\")\n",
        "plt.title(\"Amplitude of visibilities\")\n",
        "\n",
        "plt.subplot(122)\n",
        "plt.imshow(np.angle(zz),\n",
        "    extent=[-1*(np.amax(np.abs(u_60)))-10,\n",
        "            np.amax(np.abs(u_60))+10,\n",
        "            -1*(np.amax(abs(v_60)))-10,\n",
        "            np.amax(abs(v_60))+10])\n",
        "plt.plot(u_60,v_60,\"k\")\n",
        "plt.xlim([-1*(np.amax(np.abs(u_60)))-10, np.amax(np.abs(u_60))+10])\n",
        "plt.ylim(-1*(np.amax(abs(v_60)))-10, np.amax(abs(v_60))+10)\n",
        "plt.xlabel(\"u\")\n",
        "plt.ylabel(\"v\")\n",
        "plt.title(\"Phase of visibilities\")"
      ]
    },
    {
      "cell_type": "markdown",
      "metadata": {},
      "source": [
        "**Figure 4.5.9**: Amplitude and Phase of the visibility function. The black curve is the portion of the $uv$ track crossing the visibility."
      ]
    },
    {
      "cell_type": "code",
      "execution_count": null,
      "metadata": {},
      "outputs": [],
      "source": [
        "plt.figure(figsize=(12,6))\n",
        "plt.subplot(121)\n",
        "plt.plot(abs(z))\n",
        "plt.xlabel(\"Timeslots\")\n",
        "plt.ylabel(\"Jy\")\n",
        "plt.title(\"Abs: sampled visibilities\")\n",
        "\n",
        "plt.subplot(122)\n",
        "plt.plot(np.angle(z))\n",
        "plt.xlabel(\"Timeslots\")\n",
        "plt.ylabel(\"Jy\")\n",
        "plt.title(\"Phase: sampled visibilities\")"
      ]
    },
    {
      "cell_type": "markdown",
      "metadata": {},
      "source": [
        "**Figure 4.5.10**: Amplitude and Phase of the visibility sampled by the black curve in Fig. 4.5.7, plotted as a function of time."
      ]
    },
    {
      "cell_type": "markdown",
      "metadata": {
        "collapsed": true
      },
      "source": [
        "##### 4.5.1.3.4 \"Real-life\" visibility"
      ]
    },
    {
      "cell_type": "markdown",
      "metadata": {
        "collapsed": true
      },
      "source": [
        "In the following figure, we present a collection of visibility measurements taken with different baselines, as a function of time. These measurements come from a real LOFAR dataset observing Cygnus A ([Fig. 4.4.11 &#10549;](#vis:fig:4411)), a powerful radiosource.\n",
        "Each color corresponds to a different baseline measurement, and consequently, a different sampling of the same visibility function along different uv-track."
      ]
    },
    {
      "cell_type": "markdown",
      "metadata": {
        "collapsed": true
      },
      "source": [
        "<a id=\"vis:fig:4411\"></a> <!---\\label{vis:eq:4411}--->\n",
        "<img src='figures/cygnusA.jpg' width=30%>"
      ]
    },
    {
      "cell_type": "markdown",
      "metadata": {},
      "source": [
        "**Figure 4.5.11**: Cygnus A at 21 cm."
      ]
    },
    {
      "cell_type": "markdown",
      "metadata": {
        "collapsed": true
      },
      "source": [
        "<a id=\"vis:fig:4412\"></a> <!---\\label{vis:eq:4412}--->\n",
        "<img src='figures/baselines.jpg' width=70%>"
      ]
    },
    {
      "cell_type": "markdown",
      "metadata": {},
      "source": [
        "**Figure 4.5.12**: Visibility amplitude as a function of time."
      ]
    },
    {
      "cell_type": "markdown",
      "metadata": {},
      "source": [
        "[Fig. 4.5.12 &#10549;](#vis:fig:4412) shows a plot of the amplitudes of all the visibility samples from our observation of Cygnus A. The large number of antennas makes its interpretation difficult. Even the inspection of single visibility's amplitude (i.e. a single $uv$ track) is hard to interpret due to the source's intrinsic complexity. Let us see what happens if we  plot the same information as a function of the $uv$-distance, $r_{uv}$."
      ]
    },
    {
      "cell_type": "markdown",
      "metadata": {
        "collapsed": true
      },
      "source": [
        "<a id=\"vis:fig:4413\"></a> <!---\\label{vis:eq:4413}--->\n",
        "<img src='figures/baseline-uvdist.jpg' width=70%>"
      ]
    },
    {
      "cell_type": "markdown",
      "metadata": {},
      "source": [
        "**Figure 4.5.13**: Visibility amplitude as a function of $r_{uv}$."
      ]
    },
    {
      "cell_type": "markdown",
      "metadata": {},
      "source": [
        "[Fig. 4.5.13 &#10549;](#vis:fig:4413) display the same information as [Fig. 4.5.12 &#10549;](#vis:fig:4412) this time as a function of $r_{uv}$. It should be quite clear that, as in [$\\S$ 4.4 &#10142;](4_4_the_visibility_function.ipynb), we are stacking the radial plots of the visibility function. The interpretation of these radial plots provides us with information about the size of the source. For [Fig. 4.5.13 &#10549;](#vis:fig:4413) in particular, when the amplitude of the visibility goes to zero, one characteristic size of the source has been resolved."
      ]
    },
    {
      "cell_type": "markdown",
      "metadata": {},
      "source": [
        "From these plots, it is clear that the more baselines we have, the better the sampling of the visibility function.\n",
        "In the next section, we discuss how astronomers improve their $uv$ coverage."
      ]
    },
    {
      "cell_type": "markdown",
      "metadata": {
        "collapsed": true
      },
      "source": [
        "<p class=conclusion>\n",
        "  <font size=4><b>Important things to remember</b></font>\n",
        "  <br>\n",
        "  <br>\n",
        "\n",
        "&bull; Each individual baseline samples the visibility function along a single $uv$ track.<br>\n",
        "&bull; The $uv$ tracks are ellipses whose parameters depends on the latitude and declination of observation.<br>\n",
        "&bull; The polar (resp. equatorial) interferometer gives circular (linear) $uv$ tracks.<br>\n",
        "&bull; Accumulating samples over time enhances the sampling of the visibility function, thus improving our knowledge of the source.<br>\n",
        "\n",
        "</p>"
      ]
    },
    {
      "cell_type": "markdown",
      "metadata": {
        "collapsed": true
      },
      "source": [
        "***\n",
        "\n",
        "* Next: [4.5.2 UV Coverage: Improving Your Coverage](4_5_2_uv_coverage_improving_your_coverage.ipynb)"
      ]
    },
    {
      "cell_type": "markdown",
      "metadata": {},
      "source": [
        "#### Format status:\n",
        "\n",
        "* <span style=\"background-color:green\">&nbsp;&nbsp;&nbsp;&nbsp;</span> : LF: 09/02/2017\n",
        "* <span style=\"background-color:green\">&nbsp;&nbsp;&nbsp;&nbsp;</span> : NC: 09/02/2017\n",
        "* <span style=\"background-color:green\">&nbsp;&nbsp;&nbsp;&nbsp;</span> : RF: 09/02/2017\n",
        "* <span style=\"background-color:green\">&nbsp;&nbsp;&nbsp;&nbsp;</span> : HF: 09/02/2017\n",
        "* <span style=\"background-color:green\">&nbsp;&nbsp;&nbsp;&nbsp;</span> : GM: 09/02/2017\n",
        "* <span style=\"background-color:green\">&nbsp;&nbsp;&nbsp;&nbsp;</span> : CC: 09/02/2017\n",
        "* <span style=\"background-color:green\">&nbsp;&nbsp;&nbsp;&nbsp;</span> : CL: 09/02/2017\n",
        "* <span style=\"background-color:green\">&nbsp;&nbsp;&nbsp;&nbsp;</span> : ST: 09/02/2017\n",
        "* <span style=\"background-color:green\">&nbsp;&nbsp;&nbsp;&nbsp;</span> : FN: 09/02/2017\n",
        "* <span style=\"background-color:green\">&nbsp;&nbsp;&nbsp;&nbsp;</span> : TC: 09/02/2017\n",
        "* <span style=\"background-color:green\">&nbsp;&nbsp;&nbsp;&nbsp;</span> : XX: 09/02/2017"
      ]
    },
    {
      "cell_type": "markdown",
      "metadata": {},
      "source": [
        "<div class=warn><b>Future Additions:</b></div>"
      ]
    }
  ],
  "metadata": {
    "@webio": {
      "lastCommId": null,
      "lastKernelId": null
    },
    "kernelspec": {
      "display_name": "Python 3 (ipykernel)",
      "language": "python",
      "name": "python3"
    },
    "language_info": {
      "codemirror_mode": {
        "name": "ipython",
        "version": 3
      },
      "file_extension": ".py",
      "mimetype": "text/x-python",
      "name": "python",
      "nbconvert_exporter": "python",
      "pygments_lexer": "ipython3",
      "version": "3.8.10"
    }
  },
  "nbformat": 4,
  "nbformat_minor": 1
}