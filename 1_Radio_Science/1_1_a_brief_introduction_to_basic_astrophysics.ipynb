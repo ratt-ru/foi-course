{
  "cells": [
    {
      "cell_type": "markdown",
      "metadata": {
        "deletable": true,
        "editable": true
      },
      "source": [
        "***\n",
        "\n",
        "* [Outline](../0_Introduction/0_introduction.ipynb)\n",
        "* [Glossary](../0_Introduction/1_glossary.ipynb)\n",
        "* [1. Radio Science using Interferometric Arrays](1_0_introduction.ipynb)  \n",
        "    * Previous: [1.0 Introduction](../1_Radio_Science/1_0_introduction.ipynb)\n",
        "    * Next: [1.2 Electromagnetic radiation and astronomical quantities](../1_Radio_Science/1_2_electromagnetic_radiation_and_astronomical_quantities.ipynb)\n",
        "\n",
        "***"
      ]
    },
    {
      "cell_type": "markdown",
      "metadata": {
        "deletable": true,
        "editable": true
      },
      "source": [
        "Section status: <span style=\"background-color:green\">&nbsp;&nbsp;&nbsp;&nbsp;</span>\n",
        "\n",
        "Import standard modules:"
      ]
    },
    {
      "cell_type": "code",
      "execution_count": null,
      "metadata": {
        "collapsed": false,
        "deletable": true,
        "editable": true
      },
      "outputs": [],
      "source": [
        "import numpy as np\n",
        "import matplotlib.pyplot as plt\n",
        "%matplotlib inline\n",
        "from IPython.display import HTML \n",
        "HTML('../style/course.css') #apply general CSS"
      ]
    },
    {
      "cell_type": "markdown",
      "metadata": {
        "deletable": true,
        "editable": true
      },
      "source": [
        "Import section specific modules:"
      ]
    },
    {
      "cell_type": "code",
      "execution_count": null,
      "metadata": {
        "collapsed": true,
        "deletable": true,
        "editable": true
      },
      "outputs": [],
      "source": [
        "pass"
      ]
    },
    {
      "cell_type": "markdown",
      "metadata": {
        "deletable": true,
        "editable": true
      },
      "source": [
        "## 1.1 A Brief Introduction to Basic Astrophysics <a id='science:sec:astro'></a>"
      ]
    },
    {
      "cell_type": "markdown",
      "metadata": {
        "deletable": true,
        "editable": true
      },
      "source": [
        "While this book is focusing on the very specialised area of radio techniques, we still aim at putting our course into the context of the broad final goal that fundamentally justifies our efforts (besides producing highly skilled radio technicians). Our aim is to contribute to the effort of finding out how the cosmos works by studying extraterrestrial phenomena."
      ]
    },
    {
      "cell_type": "markdown",
      "metadata": {
        "deletable": true,
        "editable": true
      },
      "source": [
        "Astrophysics is a discipline of physics or astronomy which tries to explain extraterrestrial phenomena by means of fundamental physical principles, and, with that, to test fundamental theories of physics. The key point which separates it from terrestrial physics, which often includes direct probing of objects in a laboratory, is that astronomers cannot interact with the objects of their study. One part of the astronomical laboratory is set up by nature and it is only the observing apparatus that can be technically optimized and be pointed (or tuned) towards a position on the sky. Experimental astrophysics therefore misses the full control of the experimental setup that (to some degree) can be achieved in terrestrial experiments and part of astronomy consists of the luck to find an appropriate object to study a specific hypothesis."
      ]
    },
    {
      "cell_type": "markdown",
      "metadata": {
        "deletable": true,
        "editable": true
      },
      "source": [
        "The reason why (observational) astrophysics is nevertheless indispensable as a part of fundamental physics is that laboratories on earth can hardly achieve the extreme conditions in (many parts of) the cosmos, under which we can test our global theories. The most energetic particles are not generated on earth, but in space. Dense molecular clouds with particle densities of a few $10^4 - 10^6$ atoms cm$^{-3}$ are the birth places of stars, which can form owing to a gravitational collapse of the surrounding medium, which is exceedingly dense compared to the normal interstellar gas in spiral galaxies with a typical density of 1 atom cm$^{-3}$. While vacuum pumps can produce vacua of 100 atoms cm$^{-3}$ and hence get below a particle density of molecular clouds, the particle density in a typical gas cloud cannot be reached on earth. At the same time the enormous density at the centre of neutron stars of a few times 10$^{17}$ kg m$^{-3}$ will never be reached on earth (for so many particles). Only the cosmos gives us the potential to study our physical principles on the largest scales and to study the physics of macroscopic black holes would be an unwise endeavour on earth. Finally, (trivially) only observations of the cosmos enable us to look at the cosmic microwave background and hence back to the first time the cosmos became transparent, the minute inhomogeneities of which contain crucial information about fundamental physics. Indeed, without astrophysics, neither the existence of Dark Matter would have been noticed nor the accelerated expansion of our universe have been observed. Both discoveries shaped our current picture of our universe and its fundamental laws."
      ]
    },
    {
      "cell_type": "markdown",
      "metadata": {
        "deletable": true,
        "editable": true
      },
      "source": [
        "The objects of astrophysical studies are diverse in dimension and frequency of occurrence. To name some:"
      ]
    },
    {
      "cell_type": "markdown",
      "metadata": {
        "deletable": true,
        "editable": true
      },
      "source": [
        "* The sun\n",
        "* Objects in the solar system\n",
        "* Stars\n",
        "* Extrasolar planets\n",
        "* Neutron stars\n",
        "* Small black holes\n",
        "* Magnetic fields\n",
        "* Interplanetary and interstellar gas\n",
        "* Interplanetary and interstellar dust\n",
        "* The Milky Way\n",
        "* Galaxies\n",
        "* Quasars and active galaxies\n",
        "* Super massive black holes\n",
        "* Clustering of galaxies\n",
        "* Cosmic structure\n",
        "* The cosmic microwave background"
      ]
    },
    {
      "cell_type": "markdown",
      "metadata": {
        "deletable": true,
        "editable": true
      },
      "source": [
        "While there are detectors observing other phenomena, the medium through which these objects are mostly observed is electromagnetic radiation. Astronomical observatories hence mostly consist of telescopes which are used to collimate and detect electromagnetic radiation from the cosmos. Radio telescopes are one type of such detector."
      ]
    },
    {
      "cell_type": "markdown",
      "metadata": {
        "collapsed": true,
        "deletable": true,
        "editable": true
      },
      "source": [
        "***\n",
        "\n",
        "* Next: [1.2 Electromagnetic radiation and astronomical quantities](../1_Radio_Science/1_2_electromagnetic_radiation_and_astronomical_quantities.ipynb)"
      ]
    }
  ],
  "metadata": {
    "kernelspec": {
      "display_name": "Python 2",
      "language": "python",
      "name": "python2"
    },
    "language_info": {
      "codemirror_mode": {
        "name": "ipython",
        "version": 2
      },
      "file_extension": ".py",
      "mimetype": "text/x-python",
      "name": "python",
      "nbconvert_exporter": "python",
      "pygments_lexer": "ipython2",
      "version": "2.7.12"
    }
  },
  "nbformat": 4,
  "nbformat_minor": 0
}