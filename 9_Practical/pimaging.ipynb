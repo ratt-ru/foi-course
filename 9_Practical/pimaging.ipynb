{
  "cells": [
    {
      "cell_type": "markdown",
      "metadata": {
        "slideshow": {
          "slide_type": "slide"
        }
      },
      "source": [
        "<center>\n",
        "<h1 class=\"title\">Imaging</h1>\n",
        "\n",
        "<h2>S.K. Sirothia</h2>\n",
        "<h3>RARG, SKA-SA</h3>\n",
        "<h3>NASSP Radio Interferometry Practical</h3>\n",
        "</center>"
      ]
    },
    {
      "cell_type": "markdown",
      "metadata": {
        "slideshow": {
          "slide_type": "slide"
        }
      },
      "source": [
        "# Check the msfile\n",
        "\n",
        "    #Set up some useful variables\n",
        "    prefix = '3gc4_prac_01'\n",
        "    srcsplitms = '3gc4_prac_01.src.split.ms'\n",
        "\n",
        "    vis = srcsplitms\n",
        "    listobs()"
      ]
    },
    {
      "cell_type": "markdown",
      "metadata": {
        "slideshow": {
          "slide_type": "subslide"
        }
      },
      "source": [
        "## The listobs output on casa logger window\n",
        "![image](fig_pimag/list_obs.png)"
      ]
    },
    {
      "cell_type": "markdown",
      "metadata": {
        "slideshow": {
          "slide_type": "slide"
        }
      },
      "source": [
        "\n",
        "<center>\n",
        "\n",
        "<h1 class=\"title\">Imaging mode 'Channel'</h1>\n",
        "\n",
        "</center>\n"
      ]
    },
    {
      "cell_type": "markdown",
      "metadata": {
        "slideshow": {
          "slide_type": "slide"
        }
      },
      "source": [
        "# CASA task CLEAN (Make the dirty image)\n",
        "    \n",
        "    default('clean')                     #Set the clean defaults\n",
        "    vis = srcsplitms                     #Pick up our split source data\n",
        "    dirtyname = prefix + '.dirtyimg'     #Make an image root file name\n",
        "    imagename = dirtyname\n",
        "\n",
        "    mode = 'channel'                     #Setting the parameters related to imaging\n",
        "    nchan = 72                           #Set up the output image cube\n",
        "    start = 1\n",
        "    width = 1\n",
        "    \n",
        "    field = '0'                          #Set the field to image\n",
        "    spw = ''                             #Set the spectral window to image\n",
        "    \n",
        "    imsize = [256,256]                   #Set the image size\n",
        "    cell = [45.,45.]                     #Pixel size 45 arcsec for this KAT7 data\n",
        "\n",
        "    weighting = 'briggs'                 #Set the visibility weighting scheme\n",
        "    robust = 0.5\n",
        "    \n",
        "    niter = 0                            #No cleaning since we are making the dirtly image\n",
        "    inp()                                #Check the inputs\n",
        "\n",
        "    clean()                              #Run the task clean to make the dirtly image\n",
        "    \n",
        "    dirtyimage = dirtyname+'.image'      #Check the image\n",
        "    viewer(dirtyimage)"
      ]
    },
    {
      "cell_type": "markdown",
      "metadata": {
        "slideshow": {
          "slide_type": "slide"
        }
      },
      "source": [
        "## Clean log, in the casa shell window \n",
        "![image](fig_pimag/inp_dirtyimage_clean.png)"
      ]
    },
    {
      "cell_type": "markdown",
      "metadata": {
        "slideshow": {
          "slide_type": "slide"
        }
      },
      "source": [
        "## Checking the inputs, in the casa logger window \n",
        "![image](fig_pimag/clean_dirtyimage_casa_logger.png)"
      ]
    },
    {
      "cell_type": "markdown",
      "metadata": {
        "slideshow": {
          "slide_type": "slide"
        }
      },
      "source": [
        "## Dirty image in the casa viewer window\n",
        "![image](fig_pimag/viewer_dirtyimage.png)"
      ]
    },
    {
      "cell_type": "markdown",
      "metadata": {
        "collapsed": true,
        "slideshow": {
          "slide_type": "slide"
        }
      },
      "source": [
        "# CASA task CLEAN (Make the clean image)\n",
        "\n",
        "    default('clean')                     #Set the clean defaults\n",
        "    vis = srcsplitms                     #Pick up our split source data\n",
        "    imname = prefix + '.cleanimg'        #Make an image root file name\n",
        "    imagename = imname\n",
        "\n",
        "    mode = 'channel'                     #Setting the parameters related to imaging\n",
        "    nchan = 72                           #Set up the output image cube\n",
        "    start = 1\n",
        "    width = 1\n",
        "\n",
        "    field = '0'                          #Set the field to image (This is a single-source MS with one spw)\n",
        "    spw = ''                             #Set the spectral window to image\n",
        "    imsize = [256,256]                   #Set the image size\n",
        "    cell = [45.,45.]                     #Pixel size 45 arcsec for this KAT7 data\n",
        "\n",
        "    gain = 0.1                           #Standard gain factor 0.1\n",
        "    psfmode = 'clark'                    #Do a simple Clark clean\n",
        "    csclean = False                      #No Cotton-Schwab iterations\n",
        "    #imsize = [512,512]                  #Twice as big for Cotton-Schwab (cleans inner quarter)\n",
        "    #csclean = True                      #If desired, you can do a Cotton-Schwab clean \n",
        "                                         #but will have only marginal improvement for this data\n",
        "\n",
        "    niter = 6000                         #Fix maximum number of iterations\n",
        "    threshold=10.0                       #Also set flux residual threshold (in mJy)\n",
        "\n",
        "    weighting = 'briggs'                 #Set the visibility weighting scheme\n",
        "    robust = 0.5                         #Use Briggs weighting (a moderate value, on the uniform side)\n",
        "\n",
        "    #mask = [108,108,148,148]            #Set a cleanbox +/-20 pixels around the center 128,128\n",
        "    mask = ''                            #If you don't want any clean boxes or masks\n",
        "\n",
        "    interactive=False                    #If you want interactive clean set to True\n",
        "\n",
        "    inp()                                #Check the inputs\n",
        "    clean()                              #Run the task clean to make the dirtly image\n",
        "\n",
        "    clnimage = imname+'.image'           #Check the image\n",
        "    viewer(clnimage)"
      ]
    },
    {
      "cell_type": "markdown",
      "metadata": {
        "slideshow": {
          "slide_type": "slide"
        }
      },
      "source": [
        "## Clean log, in the casa shell window \n",
        "![image](fig_pimag/inp_cleanimage_clean.png)"
      ]
    },
    {
      "cell_type": "markdown",
      "metadata": {
        "slideshow": {
          "slide_type": "slide"
        }
      },
      "source": [
        "## Checking the inputs, in the casa logger window \n",
        "![image](fig_pimag/clean_cleanimage_casa_logger.png)"
      ]
    },
    {
      "cell_type": "markdown",
      "metadata": {
        "slideshow": {
          "slide_type": "slide"
        }
      },
      "source": [
        "## Clean image in the casa viewer window\n",
        "![image](fig_pimag/viewer_cleanimage.png)"
      ]
    },
    {
      "cell_type": "markdown",
      "metadata": {
        "slideshow": {
          "slide_type": "slide"
        }
      },
      "source": [
        "\n",
        "<center>\n",
        "\n",
        "<h1 class=\"title\">Imaging mode 'mfs'</h1>\n",
        "\n",
        "</center>\n"
      ]
    },
    {
      "cell_type": "markdown",
      "metadata": {
        "slideshow": {
          "slide_type": "slide"
        }
      },
      "source": [
        "# CASA task CLEAN (Make the dirty image mode=mfs)\n",
        "    \n",
        "    default('clean')                     #Set the clean defaults\n",
        "    vis = srcsplitms                     #Pick up our split source data\n",
        "    dirtyname = prefix + '.dirtyimg'     #Make an image root file name\n",
        "    imagename = dirtyname\n",
        "    \n",
        "    os.system('rm -rf '+imagename+'*')   #remove previous version of these images\n",
        "    \n",
        "    mode = 'mfs'                         #Setting the parameters related to imaging\n",
        "    nchan = 72                           #Set up the output image cube\n",
        "    start = 1\n",
        "    width = 1\n",
        "    \n",
        "    field = '0'                          #Set the field to image\n",
        "    spw = ''                             #Set the spectral window to image\n",
        "    \n",
        "    imsize = [256,256]                   #Set the image size\n",
        "    cell = [45.,45.]                     #Pixel size 45 arcsec for this KAT7 data\n",
        "\n",
        "    weighting = 'briggs'                 #Set the visibility weighting scheme\n",
        "    robust = 0.5\n",
        "    \n",
        "    niter = 0                            #No cleaning since we are making the dirtly image\n",
        "    inp()                                #Check the inputs\n",
        "\n",
        "    clean()                              #Run the task clean to make the dirtly image\n",
        "    \n",
        "    dirtyimage = dirtyname+'.image'      #Check the image\n",
        "    viewer(dirtyimage)"
      ]
    },
    {
      "cell_type": "markdown",
      "metadata": {
        "slideshow": {
          "slide_type": "slide"
        }
      },
      "source": [
        "## Dirty image (mode=mfs) in the casa viewer window\n",
        "![image](fig_pimag/viewer_dirtyimagemfs.png)"
      ]
    },
    {
      "cell_type": "markdown",
      "metadata": {
        "collapsed": true,
        "slideshow": {
          "slide_type": "slide"
        }
      },
      "source": [
        "# CASA task CLEAN (Make the clean image, mode=mfs)\n",
        "\n",
        "    default('clean')                     #Set the clean defaults\n",
        "    vis = srcsplitms                     #Pick up our split source data\n",
        "    imname = prefix + '.cleanimg'        #Make an image root file name\n",
        "    imagename = imname\n",
        "\n",
        "    os.system('rm -rf '+imagename+'*')   #remove previous version of these images\n",
        "\n",
        "    mode = 'mfs'                         #Setting the parameters related to imaging\n",
        "    nchan = 72                           #Set up the output image cube\n",
        "    start = 1\n",
        "    width = 1\n",
        "\n",
        "    field = '0'                          #Set the field to image (This is a single-source MS with one spw)\n",
        "    spw = ''                             #Set the spectral window to image\n",
        "    imsize = [256,256]                   #Set the image size\n",
        "    cell = [45.,45.]                     #Pixel size 45 arcsec for this KAT7 data\n",
        "\n",
        "    gain = 0.1                           #Standard gain factor 0.1\n",
        "    psfmode = 'clark'                    #Do a simple Clark clean\n",
        "    csclean = False                      #No Cotton-Schwab iterations\n",
        "    #imsize = [512,512]                  #Twice as big for Cotton-Schwab (cleans inner quarter)\n",
        "    #csclean = True                      #If desired, you can do a Cotton-Schwab clean \n",
        "                                         #but will have only marginal improvement for this data\n",
        "\n",
        "    niter = 6000                         #Fix maximum number of iterations\n",
        "    threshold=10.0                       #Also set flux residual threshold (in mJy)\n",
        "\n",
        "    weighting = 'briggs'                 #Set the visibility weighting scheme\n",
        "    robust = 0.5                         #Use Briggs weighting (a moderate value, on the uniform side)\n",
        "\n",
        "    #mask = [108,108,148,148]            #Set a cleanbox +/-20 pixels around the center 128,128\n",
        "    mask = ''                            #If you don't want any clean boxes or masks\n",
        "\n",
        "    interactive=False                    #If you want interactive clean set to True\n",
        "\n",
        "    inp()                                #Check the inputs\n",
        "    clean()                              #Run the task clean to make the dirtly image\n",
        "\n",
        "    clnimage = imname+'.image'           #Check the image\n",
        "    viewer(clnimage)"
      ]
    },
    {
      "cell_type": "markdown",
      "metadata": {
        "slideshow": {
          "slide_type": "slide"
        }
      },
      "source": [
        "## Clean image (mode=mfs) in the casa viewer window\n",
        "![image](fig_pimag/viewer_cleanimagemfs.png)"
      ]
    }
  ],
  "metadata": {
    "celltoolbar": "Slideshow",
    "kernelspec": {
      "display_name": "testament",
      "language": "python",
      "name": "testament"
    },
    "language_info": {
      "codemirror_mode": {
        "name": "ipython",
        "version": 3
      },
      "file_extension": ".py",
      "mimetype": "text/x-python",
      "name": "python",
      "nbconvert_exporter": "python",
      "pygments_lexer": "ipython3",
      "version": "3.8.10"
    }
  },
  "nbformat": 4,
  "nbformat_minor": 2
}