{
  "cells": [
    {
      "cell_type": "markdown",
      "metadata": {},
      "source": [
        "***\n",
        "\n",
        "* [Outline](#)\n",
        "    * [9.3 Accumulation interval and smearing](#)  \n",
        "        *  [Phase changes as a function of accumulation frequencies](#)\n",
        "        *  [Phase changes as a function of accumulation times](#)\n",
        "        *  [Phase changes as a function of baseline length](#)\n",
        "        *  [Phase changes as a function of distance from the phase centre](#)\n",
        "        *  [Observation](#)  \n",
        "* [Glossary](*)\n",
        "  \n",
        "* Previous: [9.2. Calibration ](*)\n",
        "* Next: [9.4. Line observations: calibration and imaging issues](*)\n",
        "***"
      ]
    },
    {
      "cell_type": "markdown",
      "metadata": {},
      "source": [
        "In this section, we explore smearing and the requirements to avoid time and bandwidth smearing.\n",
        "Some practical examples with the JVLA radio interferometer are given. The examples show various  accumulations intervals and thier smearing effects on a source at different sky position."
      ]
    },
    {
      "cell_type": "markdown",
      "metadata": {},
      "source": [
        "# Time and bandwidth smearing"
      ]
    },
    {
      "cell_type": "markdown",
      "metadata": {},
      "source": [
        "Time and bandwidth smearing also know as averaging, occurs  when visibilities are averaged over non-zero extent  of time and frequency bins (see Bridle and Schwab). This effect happen in the correlator, since the output of a correlator is an average measurement over some time and frequency intervals (accumulations intervals). Also, keep in mind that during data processing these visibilities may be further averaged in other to same computer memory or to reduce computation cost.\n",
        "\n",
        "One may see smearing as a decrease in the amplitude of off-axis sources. This is undertood as follow: \n",
        "\n",
        "The visibility contribution of a point source of flux $S$ located in the direction given by the unit vector $\\bf{\\sigma}$ is given by\n",
        "\n",
        "$$\n",
        "\\begin{equation}\n",
        "V = S \\exp \\big \\{  \\frac{2\\pi i}{\\lambda} \\bf{u}\\cdot(\\bf{\\sigma}-\\bf{\\sigma}_0) \\big \\},\n",
        "\\end{equation}\n",
        "$$\n",
        "\n",
        "where $\\bf{u}$ is the baseline vector, and $\\bf{\\sigma}_0$ is the phase centre (or fringe stopping centre) of the observation. The phase term $\\Delta \\Phi = \\frac{2\\pi}{\\lambda} \\bf{u}\\cdot(\\bf{\\sigma}-\\bf{\\sigma}_0)$ rotates as a function of:\n",
        "\n",
        "1. Frequency due to the inverse scaling with $\\lambda$.\n",
        "2. Time due to the fact that $\\bf{u}$ changes with time, at least in an Earth or orbit-based interferometer i.e $\\bf{u}=\\bf{u}(t)$, where $t$ is the integration time.\n",
        "\n",
        "Taking a vector average over a time/frequency bin then results  in a net loss of amplitude."
      ]
    },
    {
      "cell_type": "markdown",
      "metadata": {},
      "source": [
        "###Phase changes as a function of accumulation frequency"
      ]
    },
    {
      "cell_type": "markdown",
      "metadata": {},
      "source": [
        "Knowing that $c=\\lambda \\nu$ with $\\nu$ the initial frequency of the observation, we can expressed the phase changing in frequency as $\\Delta \\Phi_{\\nu} = \\frac{2\\pi}{c}(\\nu+\\Delta \\nu)~ \\bf{u}\\cdot(\\bf{\\sigma}-\\bf{\\sigma}_0)$, where $\\Delta \\nu$ is the frequency step or accumulation frequency. This will result in a high frange speed for larger $\\Delta \\nu$ given that the term $\\nu+\\Delta \\nu$ increases linearly with $\\Delta \\nu$."
      ]
    },
    {
      "cell_type": "markdown",
      "metadata": {},
      "source": [
        "### Phase changes as a function of accumulation times"
      ]
    },
    {
      "cell_type": "markdown",
      "metadata": {},
      "source": [
        "The baseline vector $\\bf{u}=\\bf{u}(t)$ is a function of time. \n",
        "Supose that the visibilities for a set of integration times $t_1$, $\\cdots$ $t_n$ were average \n",
        "together and the result is the single point visibility $V$. \n",
        "\n",
        "The phase changing in time is given by \n",
        "$\\Delta \\Phi_{t} = \\frac{2\\pi}{\\lambda} \\bf{u}^{a}\\cdot(\\bf{\\sigma}-\\bf{\\sigma}_0)$,\n",
        "where $\\bf{u}^{a}$ is the averaged baseline vector for the set  of vectors $\\bf{u}(t_1) \\cdots \\bf{u}(t_n)$. Any increase in $\\Delta t=(t_n-t_1)$ result in net loss of amplitude.\n",
        "\n",
        "Smearing  also increases  with baseline length and distance from the phase centre."
      ]
    },
    {
      "cell_type": "markdown",
      "metadata": {},
      "source": [
        "### Phase changes as a function of baseline length"
      ]
    },
    {
      "cell_type": "markdown",
      "metadata": {},
      "source": [
        "For larger norm of $\\bf{u}_{pq}$ i.e the baseline length, the larger\n",
        "the phase and thus the amplitude $S$ is severely attenuated by the exponentiel term i.e \n",
        "the frange $\\exp \\big \\{ i\\Phi\\}$."
      ]
    },
    {
      "cell_type": "markdown",
      "metadata": {},
      "source": [
        " ### Phase changes as a function of distance from the phase centre"
      ]
    },
    {
      "cell_type": "markdown",
      "metadata": {},
      "source": [
        "The fringes for sources far from the observatry pointing direction rotates rapidely\n",
        "in the visibility domain and therefore can only lead to a decrease in amplitude. \n",
        "This is understood as: the larger the source radius $||\\bf{\\sigma}-\\bf{\\sigma}_0||$, from the pointing direction,\n",
        "the larger the phase and thus amplitude descrease."
      ]
    },
    {
      "cell_type": "markdown",
      "metadata": {},
      "source": [
        "Besides reducing apparent source flux $S$, smearing also distorts the PSF, since different baselines   are attenuated differently.\n"
      ]
    },
    {
      "cell_type": "markdown",
      "metadata": {},
      "source": [
        "# Observation"
      ]
    },
    {
      "cell_type": "markdown",
      "metadata": {},
      "source": [
        "The following example are produced by simulating a series of high time-frequency resolution observation and applying averaging to see the effets of time/bandwidth smearing on a 1Jy source move from the phase centre.\n",
        "\n",
        "Our example uses the JVLA telescope observing at $1.4GHz$ with accumulation times 10 s, 50 s, 100 s and channel bandwidth of 125 KHz, 1250 KHz, 6250 KHz.\n",
        "<img src=\"timeSmearing.png\">\n",
        "<img src=\"bandwidthSmearing.png\">"
      ]
    }
  ],
  "metadata": {
    "kernelspec": {
      "display_name": "testament",
      "language": "python",
      "name": "testament"
    },
    "language_info": {
      "codemirror_mode": {
        "name": "ipython",
        "version": 3
      },
      "file_extension": ".py",
      "mimetype": "text/x-python",
      "name": "python",
      "nbconvert_exporter": "python",
      "pygments_lexer": "ipython3",
      "version": "3.8.10"
    }
  },
  "nbformat": 4,
  "nbformat_minor": 1
}