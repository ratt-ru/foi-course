{
 "cells": [
  {
   "cell_type": "markdown",
   "metadata": {},
   "source": [
    "***\n",
    "\n",
    "* [Outline](../0_Introduction/0_introduction.ipynb)\n",
    "* [Glossary](../0_Introduction/1_glossary.ipynb)\n",
    "* [2. Mathematical Groundwork]()\n",
    "    * Previous: [2.11 Least-squares Minimization](2_11_least_squares.ipynb)\n",
    "    * Next: [2.13 Spherical Trigonometry](2_13_spherical_trigonometry.ipynb)\n",
    "\n",
    "***"
   ]
  },
  {
   "cell_type": "markdown",
   "metadata": {
    "collapsed": true
   },
   "source": [
    "Import standard modules:"
   ]
  },
  {
   "cell_type": "code",
   "execution_count": 1,
   "metadata": {},
   "outputs": [
    {
     "data": {
      "text/html": [
       "<style>\n",
       "\n",
       "p.prerequisites {\n",
       "    border:5px;\n",
       "    border-style:none;\n",
       "    background-color:#F0F0F0;\n",
       "    box-shadow: 5px 5px 2px #888888;\n",
       "    border-color:#FF0000;\n",
       "    padding: 1em;\n",
       "    }\n",
       "\n",
       "p.conclusion {\n",
       "    border:5px;\n",
       "    border-style:none;\n",
       "    background-color:#c8ebca;\n",
       "    box-shadow: 5px 5px 2px #888888;\n",
       "    border-color:#c8ebca;\n",
       "    padding: 1em;\n",
       "    }\n",
       "\n",
       "div.warn {    \n",
       "    background-color: #fcf2f2;\n",
       "    border-color: #dFb5b4;\n",
       "    border-left: 5px solid #dfb5b4;\n",
       "    padding: 0.5em;\n",
       "    }\n",
       "\n",
       "div.advice {    \n",
       "    background-color: #ecf8ed;\n",
       "    border-color: #a2dda5;\n",
       "    border-left: 5px solid #a2dda5;\n",
       "    padding: 0.5em;\n",
       "    }\n",
       "\n",
       "</style>\n",
       "\n"
      ],
      "text/plain": [
       "<IPython.core.display.HTML object>"
      ]
     },
     "execution_count": 1,
     "metadata": {},
     "output_type": "execute_result"
    }
   ],
   "source": [
    "import numpy as np\n",
    "import matplotlib.pyplot as plt\n",
    "%matplotlib inline\n",
    "from IPython.display import HTML \n",
    "HTML('../style/course.css') #apply general CSS"
   ]
  },
  {
   "cell_type": "markdown",
   "metadata": {},
   "source": [
    "Import section specific modules:"
   ]
  },
  {
   "cell_type": "code",
   "execution_count": 2,
   "metadata": {},
   "outputs": [],
   "source": [
    "pass"
   ]
  },
  {
   "cell_type": "markdown",
   "metadata": {},
   "source": [
    "## 2.12 Solid Angle<a id='math:sec:sldangle'></a>"
   ]
  },
  {
   "cell_type": "markdown",
   "metadata": {},
   "source": [
    "Recall that in two dimensions the plane angle $\\theta$ subtended by a circular arc $l$ with radius $r$ is defined as $\\frac{l}{r}$. In the same way the solid angle $\\Omega$ subtended by a portion of a sphere's surface area $A$ with a radius $r$ is $\\frac{A}{r^2}$. These definitions are illustrated in [Fig. 2.12.1 &#10549;](#math:fig:solid) <!--\\ref{math:fig:solid}-->. "
   ]
  },
  {
   "cell_type": "markdown",
   "metadata": {},
   "source": [
    "<img src='figures/solid.png' width=40%>"
   ]
  },
  {
   "cell_type": "markdown",
   "metadata": {},
   "source": [
    "**Figure 2.12.1**: The definition of a solid angle. <a id='math:fig:solid'></a> <!--\\label{math:fig:solid}-->"
   ]
  },
  {
   "cell_type": "markdown",
   "metadata": {},
   "source": [
    "The plane angle is measured in radians (rad), while the solid angle is measured in steradians (sr). \n",
    "\n",
    "<p class=conclusion>\n",
    "  <font size=4> <B>Simple Angle Conversions</B></font>\n",
    "  <br>\n",
    "  <br>\n",
    "&bull; 1 degree ($^{\\circ}$) = 60 arcminutes ($'$) = 3600 arcseconds ($''$), where 360$^{\\circ}$ = circle.<br> \n",
    "&bull; 1 radian (rad) = 57.296$^{\\circ}$ = 206265$''$, where 2$\\pi$ rad = circle.<br>\n",
    "&bull; 1 hour (h) = 60 minutes = 3600 seconds, where 24 h = circle<br>\n",
    "&bull; 1 h = 15$^{\\circ}$<br>\n",
    "&bull; 1 steradian (sr) = 1 rad$^2$ = 3282.8 deg$^2$ = 4.25 x $10^{10}$ arcsec$^2$, where 4$\\pi^2$ sr = sphere\n",
    "</p>\n",
    "\n",
    "The solid angle subtended by the surface area of an entire sphere with a radius of $r$ can be computed as follows:\n",
    "\\begin{equation}\n",
    "\\Omega_{\\textrm{spere}}=\\frac{4\\pi r^2}{r^2}=4\\pi~\\textrm{sr}.\n",
    "\\end{equation}   "
   ]
  },
  {
   "cell_type": "markdown",
   "metadata": {},
   "source": [
    "### 2.12.1 Infinitesimal solid angle"
   ]
  },
  {
   "cell_type": "markdown",
   "metadata": {},
   "source": [
    "The spherical coordinates $(\\rho,\\theta,\\phi)$ of a point $P$ are illustrated \n",
    "in [Fig. 2.12.2 &#10549;](#math:fig:spherical) <!--\\ref{math:fig:spherical}-->."
   ]
  },
  {
   "cell_type": "markdown",
   "metadata": {},
   "source": [
    "<img src='figures/spherical.png' width=40%>"
   ]
  },
  {
   "cell_type": "markdown",
   "metadata": {},
   "source": [
    "**Figure 2.12.2**: The spherical coordinates $(\\rho,\\theta,\\phi)$ of $P$. <a id='math:fig:spherical'></a> <!--\\label{math:fig:spherical}-->"
   ]
  },
  {
   "cell_type": "markdown",
   "metadata": {},
   "source": [
    "The Cartesian coordinates $(x,y,z)$ of $P$ can be obtained from its spherical coordinates\n",
    "$(\\rho,\\theta,\\phi)$ via:\n",
    "\n",
    "<p class=conclusion>\n",
    "  <font size=4> <b>Relation between spherical and Cartesian coordinates</b></font>\n",
    "  <br>\n",
    "  <br>\n",
    "\\begin{eqnarray}\n",
    "x &=& \\rho \\sin \\theta \\cos \\phi\\\\\n",
    "y &=& \\rho \\sin \\theta \\sin \\phi \\nonumber \\\\\n",
    "z &=& \\rho \\cos \\phi \\nonumber \n",
    "\\end{eqnarray}\n",
    "</p>"
   ]
  },
  {
   "cell_type": "markdown",
   "metadata": {},
   "source": [
    "If we fix $\\rho$ and $\\theta$ and we vary $\\phi$, $P$ maps out the red circle in \n",
    "[Fig. 2.12.3 &#10549;](#math:fig:infarea) <!--\\ref{math:fig:infarea}-->.\n",
    "The radius of the red circle is equal to $\\rho \\sin \\theta$. If the azimuth angle changes by $d\\phi$, the arc length along the red circle changes by $\\rho\\sin\\theta d\\phi$. If $\\rho$ and $\\phi$ are fixed and $\\theta$ is varied, $P$ traverses out the blue circle. If the polar angle changes by $d\\theta$, the arc length along the blue circle changes by $\\rho d\\theta$. The infinitesimal area $dS$ depicted in [Fig. 2.12.3 &#10549;](#math:fig:infarea) <!--\\ref{math:fig:infarea}--> is therefore equal to\n",
    "\n",
    "\\begin{equation}\n",
    "dS = \\rho^2 \\sin \\theta d\\theta d\\phi.\n",
    "\\end{equation}\n",
    "\n",
    "It now follows from the definition of the solid angle that the infinitesimal solid angle element occupied by the surface element $dS$ is equal to (see [<cite data-cite='Gombosi1994'>Gaskinetic theory</cite> &#10548;](http://www.cambridge.org/us/academic/subjects/earth-and-environmental-science/atmospheric-science-and-meteorology/gaskinetic-theory))\n",
    "\n",
    "\\begin{equation}\n",
    "d\\Omega = \\frac{\\rho^2 \\sin \\theta d\\theta d\\phi}{\\rho^2}=\\sin \\theta d\\theta d\\phi.\n",
    "\\end{equation}\n",
    "</p>"
   ]
  },
  {
   "cell_type": "markdown",
   "metadata": {},
   "source": [
    "<img src='figures/spherical_dO.png' width=50%>"
   ]
  },
  {
   "cell_type": "markdown",
   "metadata": {},
   "source": [
    "**Figure 2.12.3**: The infinitesimal surface area $dS$. <a id='math:fig:infarea'></a> <!--\\label{math:fig:infarea}-->"
   ]
  },
  {
   "cell_type": "markdown",
   "metadata": {},
   "source": [
    "***\n",
    "\n",
    "* Next: [2.x Further Reading and References](2_x_further_reading_and_references.ipynb)"
   ]
  }
 ],
 "metadata": {
  "@webio": {
   "lastCommId": null,
   "lastKernelId": null
  },
  "kernelspec": {
   "display_name": "testament",
   "language": "python",
   "name": "testament"
  },
  "language_info": {
   "codemirror_mode": {
    "name": "ipython",
    "version": 3
   },
   "file_extension": ".py",
   "mimetype": "text/x-python",
   "name": "python",
   "nbconvert_exporter": "python",
   "pygments_lexer": "ipython3",
   "version": "3.8.10"
  }
 },
 "nbformat": 4,
 "nbformat_minor": 1
}
