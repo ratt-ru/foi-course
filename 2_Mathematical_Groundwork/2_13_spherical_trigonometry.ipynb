{
 "cells": [
  {
   "cell_type": "markdown",
   "metadata": {},
   "source": [
    "***\n",
    "\n",
    "* [Outline](../0_Introduction/0_introduction.ipynb)\n",
    "* [Glossary](../0_Introduction/1_glossary.ipynb)\n",
    "* [2. Mathematical Groundwork](2_0_introduction.ipynb)\n",
    "    * Previous: [2.12 Solid Angle](2_12_solid_angle.ipynb)  \n",
    "    * Next: [2.14 CLEAN in 1D](2_14_CLEAN_in_1D.ipynb)\n",
    "\n",
    "***"
   ]
  },
  {
   "cell_type": "markdown",
   "metadata": {},
   "source": [
    "Import standard modules:"
   ]
  },
  {
   "cell_type": "code",
   "execution_count": 1,
   "metadata": {},
   "outputs": [
    {
     "data": {
      "text/html": [
       "<style>\n",
       "\n",
       "p.prerequisites {\n",
       "    border:5px;\n",
       "    border-style:none;\n",
       "    background-color:#F0F0F0;\n",
       "    box-shadow: 5px 5px 2px #888888;\n",
       "    border-color:#FF0000;\n",
       "    padding: 1em;\n",
       "    }\n",
       "\n",
       "p.conclusion {\n",
       "    border:5px;\n",
       "    border-style:none;\n",
       "    background-color:#c8ebca;\n",
       "    box-shadow: 5px 5px 2px #888888;\n",
       "    border-color:#c8ebca;\n",
       "    padding: 1em;\n",
       "    }\n",
       "\n",
       "div.warn {    \n",
       "    background-color: #fcf2f2;\n",
       "    border-color: #dFb5b4;\n",
       "    border-left: 5px solid #dfb5b4;\n",
       "    padding: 0.5em;\n",
       "    }\n",
       "\n",
       "div.advice {    \n",
       "    background-color: #ecf8ed;\n",
       "    border-color: #a2dda5;\n",
       "    border-left: 5px solid #a2dda5;\n",
       "    padding: 0.5em;\n",
       "    }\n",
       "\n",
       "</style>\n",
       "\n"
      ],
      "text/plain": [
       "<IPython.core.display.HTML object>"
      ]
     },
     "execution_count": 1,
     "metadata": {},
     "output_type": "execute_result"
    }
   ],
   "source": [
    "import numpy as np\n",
    "import matplotlib.pyplot as plt\n",
    "%matplotlib inline\n",
    "from IPython.display import HTML \n",
    "HTML('../style/course.css') #apply general CSS"
   ]
  },
  {
   "cell_type": "markdown",
   "metadata": {},
   "source": [
    "Import section specific modules:"
   ]
  },
  {
   "cell_type": "code",
   "execution_count": 2,
   "metadata": {},
   "outputs": [],
   "source": [
    "pass"
   ]
  },
  {
   "cell_type": "markdown",
   "metadata": {},
   "source": [
    "## 2.13 Spherical Trigonometry <a id='math:sec:st'></a> <!--\\label{math:sec:st}-->"
   ]
  },
  {
   "cell_type": "markdown",
   "metadata": {},
   "source": [
    "Most people have a basic understanding of planar trigonometry. In this section we explore how  trigonometry can be extended into the spherical realm. Spherical trigonometry is a branch of spherical geometry in which we study the relationship between the sides and angles of *spherical triangles*. Spherical triangles are formed by the pairwise intersection of three *great circlular* arcs in three vertices. A great circular arc is an arc segment of a *great circle*. A great circle is formed by the intersection of a sphere and a plane that passes through the center of the sphere. It is possible to derive the following basic spherical trigonometric identities by studying arbitrary spherical triangles that are located on the unit sphere:\n",
    "\n",
    "<p class=conclusion>\n",
    "  <font size=4> <b>Spherical Trigonometric Identities</b></font>\n",
    "  <br>\n",
    "  <br>\n",
    "&bull; <b>Spherical cosine rule</b>: $\\cos b = \\cos a \\cos c + \\sin a \\sin c \\cos B$ <br><br>\n",
    "&bull; <b>Spherical sine rule</b>: $\\sin b \\sin A = \\sin B \\sin a$ <br><br> \n",
    "&bull; <b>Five part rule</b>: $\\sin b \\cos A = \\cos a \\sin c - \\sin a\\cos c\\cos B$ \n",
    "</p>\n",
    "\n",
    "The first two rules are analogous to the planar sine and cosine rule. The sides and angles used in the above expressions are graphically depicted in  [Fig. 2.13.1 &#10549;](#math:fig:spher_trig) <!--\\ref{math:fig:spher_trig}-->.\n",
    "\n",
    "<div class=advice>\n",
    "<b>Advice:</b> We use spherical trigonometry to convert between different astronomical coordinate systems (see [Appendix &#10142;](../0_Introduction/2_Appendix.ipynb)).\n",
    "</div>"
   ]
  },
  {
   "cell_type": "markdown",
   "metadata": {},
   "source": [
    "<img src='figures/spher_trig.svg' width=40%>"
   ]
  },
  {
   "cell_type": "markdown",
   "metadata": {},
   "source": [
    "**Figure 2.13.1**: The spherical triangle $ABC$. <a id='pos:math:spher_trig'></a> <!--\\label{math:fig:spher_trig}-->"
   ]
  },
  {
   "cell_type": "markdown",
   "metadata": {},
   "source": [
    "***\n",
    "\n",
    "Next: [2.14 CLEAN in 1D](2_14_CLEAN_in_1D.ipynb)"
   ]
  }
 ],
 "metadata": {
  "@webio": {
   "lastCommId": null,
   "lastKernelId": null
  },
  "kernelspec": {
   "display_name": "testament",
   "language": "python",
   "name": "testament"
  },
  "language_info": {
   "codemirror_mode": {
    "name": "ipython",
    "version": 3
   },
   "file_extension": ".py",
   "mimetype": "text/x-python",
   "name": "python",
   "nbconvert_exporter": "python",
   "pygments_lexer": "ipython3",
   "version": "3.8.10"
  }
 },
 "nbformat": 4,
 "nbformat_minor": 1
}
