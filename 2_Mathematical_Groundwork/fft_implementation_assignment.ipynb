{
 "cells": [
  {
   "cell_type": "markdown",
   "metadata": {},
   "source": [
    "## Implementation of a Radix-2 Fast Fourier Transform"
   ]
  },
  {
   "cell_type": "markdown",
   "metadata": {},
   "source": [
    "Import standard modules:"
   ]
  },
  {
   "cell_type": "code",
   "execution_count": null,
   "metadata": {},
   "outputs": [],
   "source": [
    "import numpy as np\n",
    "import matplotlib.pyplot as plt\n",
    "%matplotlib inline\n",
    "from IPython.display import HTML \n",
    "HTML('../style/course.css') #apply general CSS\n",
    "\n",
    "import cmath"
   ]
  },
  {
   "cell_type": "markdown",
   "metadata": {},
   "source": [
    "This assignment is to implement a python-based Fast Fourier Transform (FFT). Building on [$\\S$ 2.8 &#10142;](2_8_the_discrete_fourier_transform.ipynb) we will implement a 1-D radix-2 Cooley-Tukey-based FFT using decimation in time (DIT) an $N = 2^n$ input function, and then generalize the function to take any input."
   ]
  },
  {
   "cell_type": "markdown",
   "metadata": {},
   "source": [
    "From [$\\S$ 2.8.2 &#10142;](2_8_the_discrete_fourier_transform.ipynb) the discrete Fourier transform (DFT) is defined as:\n",
    "\n",
    "$$ \\mathscr{F}_{\\rm D}\\{y\\}_k = Y_k =  \\sum_{n\\,=\\,0}^{N-1} y_n\\,e^{-\\imath 2\\pi \\frac{nk}{N}}, $$\n",
    "\n",
    "That is, the $k^{th}$ element of the Fourier transformed spectrum $Y$ is a sum over all $n$ elements of the function $y$, each multipled by a complex twiddle factor $e^{-\\imath 2\\pi \\frac{nk}{N}}$. In [$\\S$ 2.8.5 &#10142;](2_8_the_discrete_fourier_transform.ipynb) two methods for computing the DFT for a size $N = 2^n$ discrete function. A double loop to compute all elements of the Fourier-transformed spectrum, and a matrix multiplication by generating the Fourier kernel $K$. The compute time to perform the DFT is $\\mathcal{O}(N^2)$, this is it takes $cN^2$ operations where $c > 1$ is a constant factor. Though as note in [$\\S$ 2.8.5 &#10142;](2_8_the_discrete_fourier_transform.ipynb) the matrix implementation is much fast that the loop because this algorithm takes advantage of fast vector math libraries.\n",
    "\n",
    "The DFT code is replicated here as it will be used to compare our implementation of the FFT:"
   ]
  },
  {
   "cell_type": "code",
   "execution_count": null,
   "metadata": {},
   "outputs": [],
   "source": [
    "def loop_DFT(x):\n",
    "    \"\"\"\n",
    "    Implementing the DFT in a double loop\n",
    "    Input: x = the vector we want to find the DFT of\n",
    "    \"\"\"\n",
    "    #Get the length of the vector (will only work for 1D arrays)\n",
    "    N = x.size\n",
    "    #Create vector to store result in\n",
    "    X = np.zeros(N, dtype=complex)\n",
    "    for k in range(N):\n",
    "        for n in range(N):\n",
    "            X[k] += np.exp(-1j * 2.0* np.pi* k * n / N) * x[n]\n",
    "    return X\n",
    "\n",
    "def matrix_DFT(x):\n",
    "    \"\"\"\n",
    "    Implementing the DFT in vectorised form\n",
    "    Input: x = the vector we want to find the DFT of\n",
    "    \"\"\"\n",
    "    #Get the length of the vector (will only work for 1D arrays)\n",
    "    N = x.size\n",
    "    #Create vector to store result in\n",
    "    n = np.arange(N)\n",
    "    k = n.reshape((N,1))\n",
    "    K = np.exp(-1j * 2.0 * np.pi * k * n / N)\n",
    "    return K.dot(x)"
   ]
  },
  {
   "cell_type": "markdown",
   "metadata": {},
   "source": [
    "In [$\\S$ 2.8.6 &#10142;](2_8_the_discrete_fourier_transform.ipynb) the fast Fourier transform was introduced as using recursion to implement a Fourier transform in $\\mathcal{O}(N\\log_2N)$ computations, significantly reducing the computational cost of computing the Fourier transform, especially for large $N$. A 'one layer' fast Fourier transform was presented which split the input function into two, and applied the twiddle factor to all values in the layer before calling the matrix-based DFT. This code is replicated below."
   ]
  },
  {
   "cell_type": "code",
   "execution_count": null,
   "metadata": {},
   "outputs": [],
   "source": [
    "def one_layer_FFT(x):\n",
    "    \"\"\"An implementation of the 1D Cooley-Tukey FFT using one layer\"\"\"\n",
    "    N = x.size\n",
    "    if N%2 > 0:\n",
    "        print(\"Warning: length of x is not a power of two, returning DFT\")\n",
    "        return matrix_DFT(x)\n",
    "    else:\n",
    "        X_even = matrix_DFT(x[::2])\n",
    "        X_odd = matrix_DFT(x[1::2])\n",
    "        factor = np.exp(-2j * np.pi * np.arange(N) / N)\n",
    "        return np.concatenate([X_even + factor[:N // 2] * X_odd, X_even + factor[N // 2:] * X_odd])"
   ]
  },
  {
   "cell_type": "markdown",
   "metadata": {},
   "source": [
    "We can easily show that each of these functions produce the same results by introducting a discrete test function $x$ and showing that the same results are reported by each function call:"
   ]
  },
  {
   "cell_type": "code",
   "execution_count": null,
   "metadata": {},
   "outputs": [],
   "source": [
    "xTest = np.random.random(256)  # create random vector to take the DFT of\n",
    "\n",
    "# returns True if all values are equal (within numerical error)\n",
    "print(np.allclose(loop_DFT(xTest), matrix_DFT(xTest))) \n",
    "\n",
    "# returns True if all values are equal (within numerical error)\n",
    "print(np.allclose(matrix_DFT(xTest), one_layer_FFT(xTest))) "
   ]
  },
  {
   "cell_type": "markdown",
   "metadata": {},
   "source": [
    "We can also time each function to report of the amount of time is takes to return a finished spectrum."
   ]
  },
  {
   "cell_type": "code",
   "execution_count": null,
   "metadata": {},
   "outputs": [],
   "source": [
    "print('Double Loop DFT:')\n",
    "%timeit loop_DFT(xTest)\n",
    "print('\\nMatrix DFT:')\n",
    "%timeit matrix_DFT(xTest)\n",
    "print('\\nOne Layer FFT + Matrix DFT:')\n",
    "%timeit one_layer_FFT(xTest)"
   ]
  },
  {
   "cell_type": "markdown",
   "metadata": {},
   "source": [
    "As we can see the matrix DFT is significatly faster than the double loop DFT, this is because of the fast vectorization functions in numpy. And, the 'one-layer' FFT is about twice as fast as the matrix DFT because of the FFT architecture. We can go one fast and use the built-in numpy FFT:"
   ]
  },
  {
   "cell_type": "code",
   "execution_count": null,
   "metadata": {},
   "outputs": [],
   "source": [
    "print(np.allclose(one_layer_FFT(xTest), np.fft.fft(xTest)))\n",
    "\n",
    "print('numpy FFT:')\n",
    "%timeit np.fft.fft(xTest)"
   ]
  },
  {
   "cell_type": "markdown",
   "metadata": {},
   "source": [
    "The numpy FFT is *very* fast, in part because of the low-level programing implementation, but fundamentally because it uses an FFT architecture. Our goal for this assignment is to implement such an architecture."
   ]
  },
  {
   "cell_type": "markdown",
   "metadata": {},
   "source": [
    "### Decimation-in-Time (DIT) FFT (12 Points)"
   ]
  },
  {
   "cell_type": "markdown",
   "metadata": {},
   "source": [
    "The computational efficiency of the FFT comes from the recursive design of the algorithm which takes advantage of a binary tree design and the use of generalized *twiddle factors*. There are two designs of the binary tree which leads to the *decimation-in-time (DIT)* and *decimation-in-frequency (DIF)* architectures. Both architectures produce equivalent results, they they differ in the direction and starting point of the computations on the FFT binary tree. See the wikipedia page on the [Cooley-Tukey FFT &#10548;](https://en.wikipedia.org/wiki/Cooley%E2%80%93Tukey_FFT_algorithm) for a diagram and pseudo-code of the DIT implementation.\n",
    "\n",
    "For this section of the assignment implement the Radix-2 DIT FFT algorithm for the case of a $2^n$ size input, this input can be either real or complex."
   ]
  },
  {
   "cell_type": "code",
   "execution_count": null,
   "metadata": {},
   "outputs": [],
   "source": [
    "def ditrad2(x):\n",
    "    \"\"\"radix-2 DIT FFT\n",
    "    x: list or array of N values to perform FFT on, can be real or imaginary, x must be of size 2^n\n",
    "    \"\"\"\n",
    "    ox = np.asarray(x, dtype='complex') # assure the input is an array of complex values\n",
    "    # INSERT: assign a value to N, the size of the FFT\n",
    "    N = #??? 1 point\n",
    "    \n",
    "    if N==1: return ox # base case\n",
    "\n",
    "    # INSERT: compute the 'even' and 'odd' components of the FFT,\n",
    "    # you will recursively call ditrad() here on a subset of the input values\n",
    "    # Hint: a binary tree design splits the input in half\n",
    "    even = #??? 2 points\n",
    "    odd = #??? 2 points\n",
    "    \n",
    "    twiddles = np.exp(-2.j * cmath.pi * np.arange(N) / N) # compute the twiddle factors\n",
    "\n",
    "    # INSERT: apply the twiddle factors and return the FFT by combining the even and odd values\n",
    "    # Hint: twiddle factors are only applied to the odd values\n",
    "    # Hint: combing even and odd is different from the way the inputs were split apart above.\n",
    "    return #??? 3 points"
   ]
  },
  {
   "cell_type": "markdown",
   "metadata": {},
   "source": [
    "Once `ditrad2()` is properly implemented then the results of calling the function should be equivalent to the output of the numpy FFT, and should run faster than the DFT and one-layer FFT."
   ]
  },
  {
   "cell_type": "code",
   "execution_count": null,
   "metadata": {},
   "outputs": [],
   "source": [
    "print('The output of ditrad2() is correct?', np.allclose(np.fft.fft(xTest), ditrad2(xTest))) # 2 points if true\n",
    "\n",
    "print('your FFT:')\n",
    "%timeit ditrad2(xTest) # 2 point if your time < One Layer FFT + Matrix DFT"
   ]
  },
  {
   "cell_type": "markdown",
   "metadata": {},
   "source": [
    "### A non-$2^n$ FFT (10 points)"
   ]
  },
  {
   "cell_type": "markdown",
   "metadata": {},
   "source": [
    "Now that we have implemented a fast radix-2 algorithm for vectors of length $2^n$, we can write a generic algorithm which can take any length input. This algorithm will check if the length of the input is divisible by 2, if so then it will use the FFT, otherwise it will default to the slower matrix-based DFT."
   ]
  },
  {
   "cell_type": "code",
   "execution_count": null,
   "metadata": {},
   "outputs": [],
   "source": [
    "def generalFFT(x):\n",
    "    \"\"\"radix-2 DIT FFT\n",
    "    x: list or array of N values to perform FFT on, can be real or imaginary\n",
    "    \"\"\"\n",
    "    ox = np.asarray(x, dtype='complex') # assure the input is an array of complex values\n",
    "    # INSERT: assign a value to N, the size of the FFT\n",
    "    N = #??? 1 point\n",
    "    \n",
    "    if N==1: return ox # base case\n",
    "    elif # INSERT: check if the length is divisible by 2, 1 point\n",
    "\n",
    "        # INSERT: do a FFT, use your ditrad2() code here, 3 points\n",
    "        # Hint: your ditrad2() code can be copied here, and will work with only a minor modification\n",
    "        \n",
    "    else: # INSERT: if not divisable by 2, do a slow Fourier Transform\n",
    "        return # ??? 1 point"
   ]
  },
  {
   "cell_type": "markdown",
   "metadata": {},
   "source": [
    "Now running this algorithm on inputs of different lengths there should be different run times. For a vector with a prime number length then the algorithm will default to the slow matrix-based DFT. For a vector of length nearly always divisible by 2 then the algorithm should be faster."
   ]
  },
  {
   "cell_type": "code",
   "execution_count": null,
   "metadata": {},
   "outputs": [],
   "source": [
    "xTest2 = np.random.random(251)  # create random vector to take the DFT of, not, this is not of length 2^n\n",
    "xTest3 = np.random.random(12*32)  # create random vector to take the DFT of, not, this is not of length 2^n"
   ]
  },
  {
   "cell_type": "code",
   "execution_count": null,
   "metadata": {},
   "outputs": [],
   "source": [
    "print('The output of generalFFT() is correct?', np.allclose(np.fft.fft(xTest2), generalFFT(xTest2))) # 1 point\n",
    "\n",
    "print('Your generic FFT:')\n",
    "%timeit generalFFT(xTest2) # 1 point if it runs in approximately the same time as matrix_DFT\n",
    "\n",
    "%timeit generalFFT(xTest3) # 2 point if it runs faster than the xTest2 vector"
   ]
  },
  {
   "cell_type": "markdown",
   "metadata": {},
   "source": [
    "### FUTURE: Extras\n",
    "\n",
    "* in place FFT, fixed point, radix-2 DIF, radix-4"
   ]
  }
 ],
 "metadata": {
  "kernelspec": {
   "display_name": "testament",
   "language": "python",
   "name": "testament"
  },
  "language_info": {
   "codemirror_mode": {
    "name": "ipython",
    "version": 3
   },
   "file_extension": ".py",
   "mimetype": "text/x-python",
   "name": "python",
   "nbconvert_exporter": "python",
   "pygments_lexer": "ipython3",
   "version": "3.8.10"
  }
 },
 "nbformat": 4,
 "nbformat_minor": 2
}
