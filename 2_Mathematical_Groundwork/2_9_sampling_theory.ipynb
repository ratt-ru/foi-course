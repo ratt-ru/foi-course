{
 "cells": [
  {
   "cell_type": "markdown",
   "metadata": {},
   "source": [
    "***\n",
    "\n",
    "* [Outline](../0_Introduction/0_introduction.ipynb)\n",
    "* [Glossary](../0_Introduction/1_glossary.ipynb)\n",
    "* [2. Mathematical Groundwork](2_0_introduction.ipynb)\n",
    "    * Previous: [2.8 The Discrete Fourier Transform (DFT) and the Fast Fourier Transform (FFT)](2_8_the_discrete_fourier_transform.ipynb)\n",
    "    * Next: [2.10 Linear Algrebra](2_10_linear_algebra.ipynb)\n",
    "\n",
    "***"
   ]
  },
  {
   "cell_type": "markdown",
   "metadata": {},
   "source": [
    "Import standard modules:"
   ]
  },
  {
   "cell_type": "code",
   "execution_count": null,
   "metadata": {},
   "outputs": [],
   "source": [
    "import numpy as np\n",
    "import matplotlib.pyplot as plt\n",
    "%matplotlib inline\n",
    "from IPython.display import HTML \n",
    "HTML('../style/course.css') #apply general CSS"
   ]
  },
  {
   "cell_type": "markdown",
   "metadata": {},
   "source": [
    "Import section specific modules:"
   ]
  },
  {
   "cell_type": "code",
   "execution_count": null,
   "metadata": {},
   "outputs": [],
   "source": [
    "from IPython.display import HTML, display\n",
    "from ipywidgets import interact\n",
    "HTML('../style/code_toggle.html')"
   ]
  },
  {
   "cell_type": "markdown",
   "metadata": {},
   "source": [
    "## 2.9 Sampling Theory<a id='math:sec:sampling_theory'></a>"
   ]
  },
  {
   "cell_type": "markdown",
   "metadata": {},
   "source": [
    "Our goal in radio interferometry is to produce a map of the sky by sampling a finite number of spatial frequency modes present in its spectrum (this will become clearer as the course unfolds). By sampling only a discrete number of frequency modes we are effectively turning a continuous problem into a discrete one. Recall that at the end of the last section we saw some peculiarities in the output of the discrete Fourier transform (DFT). In particular we note the following features:\n",
    "\n",
    "   * That there were non-zero components $Y_k$ at frequencies which were not present in the input signal.\n",
    "   * That the amplitudes of the $Y_k$ corresponding to the frequencies present in the input signal were not all equal dispite the fact that they are the same in the input signal.\n",
    "   * That is was not possible to find the frequencies present in the input signal when $N$ (the number of samples) was below a certain number. \n",
    "\n",
    "These features will, in some form or another, also be present in radio interferometry. The aim of this section is to develop an intuitive understanding of why the above features are present in the discrete spectrum. This requires discussing aliasing and the Nyquist-Shannon sampling theorem (or just sampling theorem for short) which will allow us to answer questions such as:\n",
    "\n",
    "* Given the (effective) diameter of a telescope, what is the maximum pixel size we can choose for the reconstructed image?\n",
    "* Which of the features in the reconstructed image are real features corresponding to the sky and which are artificial features introduced by sampling only a limited number of frequency modes?\n",
    "\n",
    "Note that, in interferometry, we are sampling in the spatial frequency domain. Unfortunately, our intuition does not extend as easily to this domain. We are more inclined to think of the world in terms of a sequence of events i.e. in the time domain. A similar statement is true in interferometry. Our intuition extends more easily to the image domain than to its spectral dual. In this section, for simplicity, we will use time series to get a feeling for what is going on in the dual Fourier space viz. the frequency domain. "
   ]
  },
  {
   "cell_type": "markdown",
   "metadata": {},
   "source": [
    "### 2.9.1 Sampling a Continuous Function <a id='math:sec:sampling_continuous_function'></a>"
   ]
  },
  {
   "cell_type": "markdown",
   "metadata": {},
   "source": [
    "Intuitively we can think of the act of sampling simply as selecting a number of points of a continuous function. For simplicity let's start by considering a real valued function \n",
    "\n",
    "$$ f:\\mathbb{R} \\rightarrow \\mathbb{R}. $$\n",
    "\n",
    "The mathematical equivalent of selecting an infinite number of equally spaced samples can be expressed as \n",
    "\n",
    "$$ f(t_n) = \\sum_{n = -\\infty}^{\\infty} f(t) \\delta(t - n\\Delta t) = f(t)\\frac{1}{\\Delta t}III(\\frac{t}{\\Delta t}), $$\n",
    "\n",
    "where $\\Delta t$ is the sampling interval, the index $n$ labels the samples and $III(\\cdot)$ is the Dirac comb (Shah function). Obviously it is not possible to sample a function at an infinite number of points in practice. Suppose we sample a function at $N$ points in a finite domain, $t_0 \\leq t \\leq t_f$ say. This can be achieved as follows\n",
    "\n",
    "$$ f(t_n) = \\sum_{n = 0}^{N-1} f(t) \\delta(t - n\\Delta t - t_0), \\quad \\mbox{where} \\quad \\Delta t = \\frac{t_f - t_0}{N-1}, \\quad \\mbox{and} \\quad t_n = t_0 + n\\Delta t. $$\n",
    "\n",
    "So far we have done nothing fancy, we have just expressed the act of sampling in terms of a continuous mathematical function. We can go a step further and write it purely in terms of the special functions introduced in ([$\\S$ 2.2](2_2_important_functions.ipynb)) as\n",
    "\n",
    "$$f(t_n)= f(t)\\frac{1}{\\Delta t}III(\\frac{t}{\\Delta t})\\sqcap_{t_0,t_f}(t), $$\n",
    "\n",
    "where $\\sqcap_{a,b}(\\cdot)$ is the boxcar function. The sampling function can therefore be expressed as\n",
    "\n",
    "$$ s_{t_0,\\Delta t, N} = \\frac{1}{\\Delta t}III(\\frac{t}{\\Delta t})\\sqcap_{t_0,t_f}(t),   $$\n",
    "\n",
    "where it should be understood that the function $s_{t_0,\\Delta t, N} $ implies a sampling of $N$ points in the interval $t_0 \\leq t \\leq t_f$ where $t_f = (N-1)\\Delta t$. "
   ]
  },
  {
   "cell_type": "markdown",
   "metadata": {},
   "source": [
    "At this stage you might be rolling your eyes at this seemingly cumbersome notation but it does serve a purpose. Consider what happens when we take the Fourier transform of the sampled function $f(t_n)$. First, recall the definition of the 1-D Fourier transform\n",
    "\n",
    "$$ \\mathscr{F}\\{f(t)\\}(s) = \\int_{-\\infty}^{\\infty} f(t)e^{-2\\pi\\imath t s} dt. $$\n",
    "\n",
    "Substituting in the sampled function we get\n",
    "\n",
    "$$ \\mathscr{F}\\{f(t_n)\\}(s) = \\int_{-\\infty}^{\\infty} f(t)\\frac{1}{\\Delta t}III(\\frac{t}{\\Delta t})\\sqcap_{t_0,t_f}(t)e^{-2\\pi\\imath t s} dt. $$\n",
    "\n",
    "Next the Dirac comb changes the continuous integral into a discrete sum i.e.\n",
    "\n",
    "$$ \\mathscr{F}\\{f(t_n)\\}(s) = \\sum_{n = -\\infty}^{\\infty} f(t_n) \\sqcap_{t_0,t_f}(t)e^{-2\\pi\\imath t_n s}. $$\n",
    "\n",
    "The boxcar function sets at the terms for which $n \\notin [0,\\cdots,N-1]$ to zero. Thus we have\n",
    "\n",
    "$$ \\mathscr{F}\\{f(t_n)\\}(s) = \\sum_{n = 0}^{N-1} f(t_n) e^{-2\\pi\\imath t_n s}.  $$\n",
    "\n",
    "At this stage you can probably spot where we are going with this. Defining\n",
    "\n",
    "$$ y_n = e^{-2\\pi\\imath t_0}f(t_n) \\quad \\mbox{where} \\quad t_n = t_0 + n\\Delta t, $$\n",
    "\n",
    "we see that\n",
    "\n",
    "$$ \\mathscr{F}\\{f(t_n)\\}(s) = \\sum_{n = 0}^{N-1} f(t_n) e^{-2\\pi\\imath t_n s} = \\sum_{n = 0}^{N-1} y_n e^{-2\\pi\\imath n\\Delta t s}. $$\n",
    "\n",
    "Finally, defining \n",
    "\n",
    "$$ s_k = \\frac{k}{\\Delta t N}, $$\n",
    "\n",
    "gives\n",
    "\n",
    "$$ \\mathscr{F}\\{y_n\\}(s)_k = Y_k = \\sum_{n = 0}^{N-1} y_n e^{-2\\pi\\imath \\frac{n k}{N}}. $$\n",
    "\n",
    "Note that, if $t_0 = 0$, we recover the Discrete Fourier Transform (DFT) as the Fourier transform of a sampled function $f(t_n)$. The factor $e^{-2\\pi\\imath t_0}$ is just a phase shift, it does not alter the amplitude of the components $Y_k$ at all (for a fixed time interval). "
   ]
  },
  {
   "cell_type": "markdown",
   "metadata": {},
   "source": [
    "Writing the DFT as the Fourier transform of a sampled signal allows us to understand some of the peculiarities we noted about the DFT in the introduction. To see this, recall that multiplication in the time domain is the same as convolution in the frequency domain i.e.\n",
    "\n",
    "$$ z(t) = f(t)g(t) \\quad \\Rightarrow \\quad \\mathscr{F}\\{z\\}(s) = \\mathscr{F}\\{f\\}(s) \\circ \\mathscr{F}\\{g\\}(s). $$\n",
    "\n",
    "Applying this result to our sampled function we see that\n",
    "\n",
    "$$ \\mathscr{F}\\{f(t_n)\\}(s) =  \\mathscr{F}\\{f(t)\\frac{1}{\\Delta t}III(\\frac{t}{\\Delta t})\\} \\circ  \\mathscr{F}\\{\\sqcap_{t_0,t_f}(t)\\}. $$\n",
    "\n",
    "If we also use the fact that the Fourier transform of the boxcar function is given by (might be a good idea for you to verify this)\n",
    "\n",
    "$$ \\mathscr{F}\\{\\sqcap_{t_0,t_f}(t)\\} = (N-1)\\Delta t ~ \\text{sinc} ((N-1)\\Delta t s), $$\n",
    "\n",
    "then we have established that\n",
    "\n",
    "$$ \\mathscr{F}\\{f(t_n)\\}(s) =  \\mathscr{F}\\{f(t)\\frac{1}{\\Delta t}III(\\frac{t}{\\Delta t})\\} \\circ  (N-1)\\Delta t ~ \\text{sinc} ((N-1)\\Delta t s). $$\n",
    "\n",
    "We see here that the output of the DFT is the convolution of a sinc function with the Fourier transform of an infinitely sampled function. This explains why there are non-zero components of $Y_k$ even at frequencies which do not correspond to any of the frequencies in the input signal. It is caused by the fact that, in practice, we can only compute the DFT of a limited number of samples. Before we discuss the concept of aliasing, use the interactive demo below to convince yourself (by adjusting the $N$ slider from the far left to the far right) that the width of the sinc function decreases with increased number of samples (for a fixed time interval). Also check that, for a fixed total time interval and as long as we have a sufficient number of samples, the starting value $t_0$ only changes the phase of $Y_k$ but not its amplitude. Note we are only plotting the components of $Y_k$ corresponding to frequencies below $f_k \\leq 5$Hz. "
   ]
  },
  {
   "cell_type": "code",
   "execution_count": null,
   "metadata": {},
   "outputs": [],
   "source": [
    "def inter_DFT(N,t0,tf,f1=1,f2=2,f3=3,plot_interval=5.0,plot_phase=True,show_Nyquist=False):\n",
    "    \"\"\"\n",
    "    Interactive DFT visualizer\n",
    "    \"\"\"\n",
    "    #set time domain\n",
    "    t = np.linspace(t0,tf,N)\n",
    "    #Get the signal\n",
    "    y = np.sin(2.0*np.pi*f1*t) + np.sin(2.0*np.pi*f2*t) + np.sin(2.0*np.pi*f3*t)\n",
    "    #Take the DFT (here we use FFT for speed)\n",
    "    Y = np.fft.fft(y)\n",
    "    #Get sampling interval\n",
    "    delt = (tf - t0)/(N-1)\n",
    "    #Sampling rate\n",
    "    fs = 1.0/delt\n",
    "    #Covert k to frequency\n",
    "    k = np.arange(N)\n",
    "    fk = k*fs/N    \n",
    "    #Plot amplitude and phase\n",
    "    plt.figure(figsize=(15, 6))\n",
    "    plt.subplot(121)\n",
    "    absY = abs(Y)\n",
    "    Ymax = np.unique(absY.max())[0]\n",
    "    plt.stem(fk,absY)\n",
    "    plt.xlabel('$f_k$',fontsize=18)\n",
    "    plt.ylabel(r'$|Y_k|$',fontsize=18)\n",
    "    plt.xlim(0,plot_interval)\n",
    "    #Compute Nyquist freq\n",
    "    f_N = (N-1)/(2*(tf - t0))\n",
    "    if show_Nyquist and f_N < plot_interval:\n",
    "        arrow = plt.arrow(f_N, 0, 0, Ymax, head_width=0.5, head_length=3.0, fc='r', ec='k')\n",
    "    plt.subplot(122)\n",
    "    if plot_phase:\n",
    "        plt.stem(fk,np.angle(Y))\n",
    "        plt.xlabel('$f_k$',fontsize=18)\n",
    "        plt.ylabel(r'phase$(Y_k)$',fontsize=18)\n",
    "        plt.xlim(0,plot_interval)\n",
    "        plt.show()\n",
    "    else:\n",
    "        #Here we plot the theoretical spectrum\n",
    "        ft = np.array([f1,f2,f3])\n",
    "        Ymax = absY.max()\n",
    "        Yt = np.array([Ymax,Ymax,Ymax])\n",
    "        plt.stem(ft,Yt)\n",
    "        plt.xlabel('$f_k$',fontsize=18)\n",
    "        plt.ylabel('$|Y_k|$',fontsize=18)\n",
    "        plt.xlim(0,plot_interval)\n",
    "        plt.arrow(f_N, 0, 0, Ymax, head_width=0.5, head_length=3.0, fc='r', ec='k')\n",
    "        "
   ]
  },
  {
   "cell_type": "code",
   "execution_count": null,
   "metadata": {},
   "outputs": [],
   "source": [
    "i = interact(lambda N,t0:inter_DFT(N=N,t0=t0,tf=t0+10),\n",
    "                    N=(50,512,1),t0=(0,5,0.01)) and None"
   ]
  },
  {
   "cell_type": "markdown",
   "metadata": {},
   "source": [
    "**Figure 2.9.1:** *This demo illustrates the effect that finite sampling has on the DFT. As the number $N$ is increased you should see that the peaks in $|Y_k|$ get sharper (because the convolving sinc function gets narrower). Moreover, the value of $t_0$ only affects the phase of $Y_k$ and not its amplitude.*"
   ]
  },
  {
   "cell_type": "markdown",
   "metadata": {},
   "source": [
    "Can you explain what happens to the $|Y_k|$ as $N \\rightarrow 0$? Why do the amplitudes change? "
   ]
  },
  {
   "cell_type": "markdown",
   "metadata": {},
   "source": [
    "### 2.9.2 Nyquist-Shannon Sampling Theorem<a id='math:sec:nyquists_sampling_theorem'></a>"
   ]
  },
  {
   "cell_type": "markdown",
   "metadata": {},
   "source": [
    "Hopefully, you will have noticed that the information contained in $Y_k$ is very sensitive to the sampling interval $\\Delta t$. The Nyquist-Shannon sampling theorem explains why it is not possible to recover the frequency information contained in a signal when the sampling becomes too course i.e. $\\Delta t$ is too large or $N$ is too small. One way to state the theorem is that, when sampling a signal at an interval $\\Delta t$ (equivalently a frequency of $f_s = \\frac{1}{\\Delta t}$), it is not possible to recover any frequency information above a frequency of $f_N = \\frac{1}{2\\Delta t} = \\frac{f_s}{2}$. We call $f_N$ the *Nyquist frequency*. In the above example we kept the sampling interval fixed. Thus, by decreasing $N$, we increase the width of the sampling interval $\\Delta t$ and hence decrease $f_N$. This explains the seemingly erratic behaviour of $|Y_k|$ as $N \\rightarrow 0$. Note that, at $f_1 = 1$Hz, $f_2 = 2$Hz and $f_3 = 3$Hz, the input frequencies remain the same. Decreasing $N$ below a certain limit therefore results in a value of $f_N$ less than the maximum frequency present in the signal. Proving the sampling theorem is trivial once the Poisson summation formula has been established. Recall that, by the Poisson summation formula, the periodic summation of the spectrum $Y(f)$ of the (Schwartz) function $y(t)$ can be obtained as a Fourier series with coefficients $y_n = \\Delta t \\ y(n \\Delta t)$ i.e. "
   ]
  },
  {
   "cell_type": "markdown",
   "metadata": {},
   "source": [
    "$$ Y_{f_s}(f) = \\sum_{k = -\\infty}^{\\infty} Y(f - kf_s) = \\sum_{n = -\\infty}^{\\infty} y_n e^{-2 \\pi \\imath f \\Delta t n} = \\sum_{n = -\\infty}^{\\infty} \\Delta t ~ y(\\Delta t n) e^{-2\\pi\\imath f \\Delta t n}. $$"
   ]
  },
  {
   "cell_type": "markdown",
   "metadata": {},
   "source": [
    "Since our primary aim is to develop an intuition for the effects of finite sampling, we will leave the maths to the mathematicians and take this fact as given. It tells us that, if we sample this signal at equally space intervals of $t_n = n\\Delta t$, we can construct the periodic summation of its spectrum with period $f_s = \\frac{1}{\\Delta t}$ just by summing the series on the RHS of the above equation. Now suppose we have a signal $y(t)$ which contains no frequencies above a certain upper limit called the bandwidth which we denote $B$ (in other words we have a bandlimited signal). The interactive figure below allows you to experiment with what the periodic summation of the signal's spectrum would look like as a function of the bandwidth."
   ]
  },
  {
   "cell_type": "code",
   "execution_count": null,
   "metadata": {},
   "outputs": [],
   "source": [
    "def bandlimit_func(f,B,fc):\n",
    "    Y = np.zeros(f.size)\n",
    "    I = np.argwhere(np.abs(f) <= B).squeeze()\n",
    "    fint = f[I[:]]\n",
    "    Il = np.argwhere(f <= fc - B).squeeze()[-1]\n",
    "    Iu = np.argwhere(f <= fc + B).squeeze()[-1]\n",
    "    try:\n",
    "        Y[Il:Iu+1] = 1 - fint**2/B**2\n",
    "    except:\n",
    "        Y[Il:Iu] = 1 - fint**2/B**2\n",
    "    return Y\n",
    "\n",
    "def inter_PerSum(B):\n",
    "    fs = 10\n",
    "    print('f_s = ', fs)\n",
    "    N = 100\n",
    "    m = 4 # half the number of copies\n",
    "    #f = np.linspace(-fs,fs,N)\n",
    "    f = np.linspace(-m*fs,m*fs,2*m*N)\n",
    "    Ys = np.zeros(2*m*N)\n",
    "    plt.figure('x',figsize=(14,7))\n",
    "    for i in range(-(m-1),m):\n",
    "        Ys += bandlimit_func(f,B,i*fs)\n",
    "        #plt.xticks([i*fs],[r'$%s f_s0$'%i])\n",
    "    plt.plot(f[-2*(m-1)*N:2*(m-1)*N+1],Ys[-2*(m-1)*N:2*(m-1)*N+1])\n",
    "    plt.ylabel('$|Y_{f_s}(f)|$',fontsize=18)\n",
    "    plt.xlabel('$f / [Hz]$',fontsize=18)\n",
    "    plt.xticks([-fs, -fs/2, 0, fs/2, fs],[r'$-f_s$', r'$-f_N$', r'$0$', r'$f_N$', r'$f_s$'],fontsize=16)\n",
    "    plt.xlim(-2*fs,2*fs)\n",
    "    plt.show()\n",
    "    \n",
    "interact(lambda B:inter_PerSum(B=B),\n",
    "                B=(0,8,1)) and None"
   ]
  },
  {
   "cell_type": "markdown",
   "metadata": {},
   "source": [
    "**Figure 2.9.2:** *Demonstrates the periodic summation with period $f_s$ of a spectrum $|Y(f)|$ as a function of bandwidth $B$. The Nyquist frequency is indicated as $f_N$ in the figure.*"
   ]
  },
  {
   "cell_type": "markdown",
   "metadata": {},
   "source": [
    "Note that, when $B > \\frac{f_s}{2} = f_N$, the individual copies of the spectrum start overlapping and it is becomes impossible to isolate the spectrum $Y(f)$ from $Y_{f_s}(f)$. On the onther hand, when $B < f_N$, we can recover $Y(f)$ by only retaining the part of the spectrum confined to the region $-f_N < f < f_N$. At this point the Nyquist-Shannon sampling theorem is proved since the spectrum $Y(f)$ uniquely determines the signal $y(t)$. All that remains to do is specify how we could go about doing this. Note that, if there are no frequencies greater than $\\frac{f_s}{2} = f_N$ present in the signal, the spectrum $Y(f)$ can be found from $Y_{f_s}(f)$ simply by constructing the filter"
   ]
  },
  {
   "cell_type": "markdown",
   "metadata": {},
   "source": [
    "$$ Y(f) = \\sqcap(\\frac{f}{f_s}) Y_{f_s}(f), $$ "
   ]
  },
  {
   "cell_type": "markdown",
   "metadata": {},
   "source": [
    "where $\\sqcap(\\cdot)$ is the rectangle (or boxcar) function. Now we can apply the Poisson summation formula to find"
   ]
  },
  {
   "cell_type": "markdown",
   "metadata": {},
   "source": [
    "\\begin{eqnarray}\n",
    "Y(f) &=& \\sqcap(\\frac{f}{f_s}) Y_{f_s}(f), \\\\ \n",
    "&=& \\sqcap(\\frac{f}{f_s}) \\sum_{n = -\\infty}^{\\infty} \\Delta t ~ y(\\Delta t n) e^{-2\\pi\\imath f \\Delta t n},\\\\\n",
    "&=& \\sum_{n = -\\infty}^{\\infty} y(\\Delta t n) \\Delta t ~ \\sqcap(\\Delta t ~ f) e^{-2\\pi\\imath f \\Delta t n},\\\\\n",
    "&=& \\sum_{n = -\\infty}^{\\infty} y(\\Delta t n) \\mathscr{F}\\{\\text{sinc}\\left(\\frac{t - n\\Delta t}{\\Delta t}\\right)\\},\n",
    "\\end{eqnarray}"
   ]
  },
  {
   "cell_type": "markdown",
   "metadata": {},
   "source": [
    "where we have used the formula for the Fourier transform of the rectangle function. Taking the inverse Fourier transform of both sides results in the Whittaker-Shannon interpolation formula"
   ]
  },
  {
   "cell_type": "markdown",
   "metadata": {},
   "source": [
    "$$ y(t) = \\sum_{n =-\\infty}^{\\infty} y(n\\Delta t) ~ \\text{sinc}\\left(\\frac{t - n\\Delta t}{\\Delta t}\\right) = \\sum_{n =-\\infty}^{\\infty} y_n ~ \\text{sinc}\\left(\\frac{t - t_n}{\\Delta t}\\right) . $$ "
   ]
  },
  {
   "cell_type": "markdown",
   "metadata": {},
   "source": [
    "Note that, in order to use this formula, we still need an infinite number of samples of $y(t)$, something which is impossible in practice. The operation of transforming the RHS into the LHS is effectively a digital to analogue conversion since we are going from a finitely sampled signal $y_n$ to a continuous approximation $y(t)$. This could be implemented approximately using, for example, the zero-order hold model (see [here &#10548;](https://en.wikipedia.org/wiki/Zero-order_hold) for example). The approximation error reduces if the signal is sufficiently oversampled (i.e. sampled at intervals $\\Delta t < \\frac{1}{2f_N}$). Undersampling, on the other hand, results in aliasing. "
   ]
  },
  {
   "cell_type": "markdown",
   "metadata": {},
   "source": [
    "### 2.9.3 Aliasing <a id='math:sec:aliasing'></a>"
   ]
  },
  {
   "cell_type": "markdown",
   "metadata": {},
   "source": [
    "We have already touched upon the concept of aliasing. Recall that, during our discussion on periodic summation, we noted that the Discrete Time Fourier Transform (DTFT) results in a periodic summation $Y_{f_s}(f)$ of the spectrum $Y(f)$ of the signal $y(t)$. The copies of $Y(f)$ at $k \\neq 0$ were called aliases. From the discussion above, we also know that, when the signal is undersampled, these aliases will start to overlap resulting in a distortion of the spectrum $Y(f)$. This is what is usually refered to as *aliasing*. If we try to reconstruct the signal $y(t)$ from the distorted spectrum we will end up with *artefacts* in the signal $y(t)$. Here we will demonstrate the consequences of aliasing with a simple example and explain the implications this has for practical applications of the DFT.   "
   ]
  },
  {
   "cell_type": "markdown",
   "metadata": {},
   "source": [
    "Going back to our sum of sine functions model above, let's consider what happens if we now allow one of the frequency components to vary i.e. "
   ]
  },
  {
   "cell_type": "markdown",
   "metadata": {},
   "source": [
    "$$ y = \\sin(2\\pi f_1 t) + \\sin(2\\pi f_2 t) + \\sin(2\\pi f_i t), $$"
   ]
  },
  {
   "cell_type": "markdown",
   "metadata": {},
   "source": [
    "where $f_i$ is the varaible frequency. If we sample this function in the interval $0< t < 10$s with 256 samples (i.e. $\\Delta t = \\frac{t_f - t_0}{N - 1} = \\frac{10}{255} \\approx 0.0392s$) we obtain a Nyquist frequency of $f_N = \\frac{1}{2\\Delta t} = 12.75$ Hz. In the following demonstration the Nyquist frequency is indicated with the red arrow. The figure on the left shows the resulting $|Y_k|$ from the DFT. The figure on the right shows the input frequencies $f_1$, $f_2$ and $f_i$. Use the slider to investigate the output of the DFT as $f_i$ approaches $f_N$. Can you explain the output when $f_i > f_N$?"
   ]
  },
  {
   "cell_type": "code",
   "execution_count": null,
   "metadata": {
    "scrolled": false
   },
   "outputs": [],
   "source": [
    "interact(lambda fi:inter_DFT(N=256,t0=0.0,tf=10,f3=fi,plot_interval=26,plot_phase=False,show_Nyquist=True),\n",
    "                fi=(3,25,0.25)) and None"
   ]
  },
  {
   "cell_type": "markdown",
   "metadata": {},
   "source": [
    "**Figure 2.9.3:** *This demo illustrates the effects of aliasing. Note how frequencies $f_i > f_N$ are aliased back into the spectrum at $f < f_N$.*"
   ]
  },
  {
   "cell_type": "markdown",
   "metadata": {},
   "source": [
    "Notice that the spectrum is reflected about $f_N$. As we noted before, this happens because of periodicity and because the DFT of a real valued signal is Hermitian. Since these additional frequency peaks do not contain any new information, they do not present a problem when trying to recover the signal $y(t)$ from its spectrum. Any non-zero frequency components above $f_N$ can safely be discarded. A more troublesome feature of the spectrum is that input frequencies $f_i$ above $f_N$ are folded or aliased back into the spectrum i.e. a frequency at $f_i = f_N + \\epsilon$ appears at $f_k = f_N - \\epsilon$. This effect is referred to as aliasing. It can, in principle, be eliminated by applying anti-aliasing filters to the signal. Unfortunately the details behind practical implementations of anti-aliasing filters is beyond the scope of the current discussion. Here we will simply give a brief illustration of what they do.  "
   ]
  },
  {
   "cell_type": "markdown",
   "metadata": {},
   "source": [
    "Suppose we have an input signal whose spectrum is an unnormalised zero mean Gaussian of the form\n",
    "$$ |Y(f)| = e^{\\frac{-f^2}{2\\sigma^2}}, $$\n",
    "where $\\sigma$ is the standard deviation and $f$ is the frequency in Hertz. If we sampled the original signal with a sampling frequency of $f_s = 10$Hz (i.e. $\\Delta t = 0.1$s) then, regardless of the width $\\sigma$ of $|Y(f)|$, the DTFT repeats itself over frequency intervals $[(k-\\frac{1}{2})f_s,(k+\\frac{1}{2})f_s]$ where $k \\in \\mathbb{Z}$ is any integer. Whether these aliases overlap depends on the width $\\sigma$ of $|Y(f)|$. For example, with $\\sigma = 1$ we get the following output  "
   ]
  },
  {
   "cell_type": "code",
   "execution_count": null,
   "metadata": {},
   "outputs": [],
   "source": [
    "def gaussian(x, mu, sig):\n",
    "    return np.exp(-(x - mu)**2.0 / (2 * sig**2.0))\n",
    "\n",
    "#Set sampling frequency \n",
    "fs = 10\n",
    "#Set frequency domain of DFT\n",
    "f = np.linspace(-fs,fs)\n",
    "Y = gaussian(f,0,1.0)\n",
    "\n",
    "plt.figure('rep_spec',figsize=(14,7))\n",
    "plt.plot(f-0,Y,'b')\n",
    "plt.plot(f-10.,Y, 'k')\n",
    "plt.plot(f+10,Y, 'k')\n",
    "plt.plot(f-20.,Y, 'k')\n",
    "plt.plot(f+20,Y, 'k')\n",
    "#plt.ylim(-0.5,fft_gau.max())\n",
    "plt.ylabel('$|Y_{f_s}(f)|$',fontsize=18)\n",
    "plt.xlabel('$f / [Hz]$',fontsize=18)\n",
    "plt.show()"
   ]
  },
  {
   "cell_type": "markdown",
   "metadata": {},
   "source": [
    "**Figure 2.9.4:** *The spectrum of a sufficiently oversampled signal.*"
   ]
  },
  {
   "cell_type": "markdown",
   "metadata": {},
   "source": [
    "Here we have plotted $|Y(f)|$ (i.e. the $k=0$ component of $|Y_{f_s}(f)|$) in blue. This is the quantity we are actually after. With the stated values of $\\sigma$ and $f_s$ we would have no problem recovering the input signal $y(t)$ from $Y(f)$ because there is almost no overlap between the aliases. If, on the other hand, the width is $\\sigma = 2.5$, the situation changes because the aliases start overlapping as shown below. "
   ]
  },
  {
   "cell_type": "code",
   "execution_count": null,
   "metadata": {},
   "outputs": [],
   "source": [
    "f = np.linspace(-10,10)\n",
    "Y = gaussian(f,0,2.5)\n",
    "\n",
    "plt.figure('rep_spec',figsize=(14,7))\n",
    "plt.plot(f-0,Y,'b')\n",
    "plt.plot(f-10.,Y, 'k')\n",
    "plt.plot(f+10,Y, 'k')\n",
    "plt.plot(f-20.,Y, 'k')\n",
    "plt.plot(f+20,Y, 'k')\n",
    "#plt.ylim(-0.5,fft_gau.max())\n",
    "plt.ylabel('$|Y_{f_s}(f)|$',fontsize=18)\n",
    "plt.xlabel('$f / [Hz]$',fontsize=18)\n",
    "plt.show()"
   ]
  },
  {
   "cell_type": "markdown",
   "metadata": {},
   "source": [
    "**Figure 2.9.5:** *The spectrum of an undersampled signal.*"
   ]
  },
  {
   "cell_type": "markdown",
   "metadata": {},
   "source": [
    "With the specified sampling rate there will always be some loss of information about the signal. Actually the situation is even worse than that since, when computing the DFT, input frequencies at $f_i = f_N + \\epsilon$ (for $\\epsilon > 0$) will also be aliased back into the spectrum at $f_k = f_N - \\epsilon$. Attempting to reconstruct the input signal $y(t)$ from the resulting DFT components $Y_k$ would not return the correct result. An anti-aliasing filter is a form of low-pass filter which prevents the components of $Y_k$ corresponding to input frequencies $f_i > f_N$ from contaminating the reconstructed signal $y(t)$. Its basic operation is illustrated in the following figure.      "
   ]
  },
  {
   "cell_type": "code",
   "execution_count": null,
   "metadata": {},
   "outputs": [],
   "source": [
    "f = np.linspace(-5,5,20)\n",
    "f2 = np.hstack((f[0],f, f[-1]))\n",
    "Y = gaussian(f,0,2.5)\n",
    "Y2 = np.hstack((0.0,Y,0.0))\n",
    "\n",
    "plt.figure('rep_spec',figsize=(14,7))\n",
    "plt.plot(f2-0,Y2,'b')\n",
    "plt.plot(f2-10.,Y2, 'k')\n",
    "plt.plot(f2+10,Y2, 'k')\n",
    "plt.plot(f2-20.,Y2, 'k')\n",
    "plt.plot(f2+20,Y2, 'k')\n",
    "\n",
    "#plt.ylim(-0.5,fft_gau.max())\n",
    "plt.ylabel('$|Y_{f_s}(f)|$',fontsize=18)\n",
    "plt.xlabel('$f / [Hz]$',fontsize=18)\n",
    "plt.show()"
   ]
  },
  {
   "cell_type": "markdown",
   "metadata": {},
   "source": [
    "**Figure 2.9.6:** *This figure illustrates the function of an anti-aliasing filter.*"
   ]
  },
  {
   "cell_type": "markdown",
   "metadata": {},
   "source": [
    "An ideal anti-aliasing filter filters out all frequencies above the Nyquist frequency $f_N$. This ensures that the signal $y(t)$ computed from the (possibly truncated) spectrum of $Y(f)$ will not contain any incorrect frequency components. Note that information about frequencies above $f_N$ will still have been lost. For simlicity the above discussion only considered the magnitude $|Y(f)|$ but similar ideas apply to the phase as well. Whereas an ideal anti-aliasing filter blocks out all frequencies above $f_N$ (i.e. has a gain of one when $f \\leq f_N$ and zero otherwise), its frequency response should be linear so that it does not result in any phase distortion.   "
   ]
  },
  {
   "cell_type": "markdown",
   "metadata": {},
   "source": [
    "***\n",
    "\n",
    "* Next: [2.10 Linear Algrebra](2_10_linear_algebra.ipynb)"
   ]
  }
 ],
 "metadata": {
  "@webio": {
   "lastCommId": null,
   "lastKernelId": null
  },
  "kernelspec": {
   "display_name": "testament",
   "language": "python",
   "name": "testament"
  },
  "language_info": {
   "codemirror_mode": {
    "name": "ipython",
    "version": 3
   },
   "file_extension": ".py",
   "mimetype": "text/x-python",
   "name": "python",
   "nbconvert_exporter": "python",
   "pygments_lexer": "ipython3",
   "version": "3.8.10"
  },
  "widgets": {
   "state": {
    "1fa9b6fe0410463f9e4c72e8cc29aa5a": {
     "views": [
      {
       "cell_index": 29
      }
     ]
    },
    "e59c326e50794f7cbcc3f0544b38dc26": {
     "views": [
      {
       "cell_index": 12
      }
     ]
    }
   },
   "version": "1.2.0"
  }
 },
 "nbformat": 4,
 "nbformat_minor": 1
}
