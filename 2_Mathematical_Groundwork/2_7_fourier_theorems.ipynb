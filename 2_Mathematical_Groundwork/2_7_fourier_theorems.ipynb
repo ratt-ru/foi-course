{
 "cells": [
  {
   "cell_type": "markdown",
   "metadata": {},
   "source": [
    "***\n",
    "\n",
    "* [Outline](../0_Introduction/0_introduction.ipynb)\n",
    "* [Glossary](../0_Introduction/1_glossary.ipynb)\n",
    "* [2. Mathematical Groundwork](2_0_introduction.ipynb)\n",
    "    * Previous: [2.6 Cross-correlation and Auto-correlation](2_6_cross_correlation_and_auto_correlation.ipynb)\n",
    "    * Next: [2.8 The Discrete Fourier Transform (DFT) and the Fast Fourier Transform (FFT)](2_8_the_discrete_fourier_transform.ipynb)\n",
    "***"
   ]
  },
  {
   "cell_type": "markdown",
   "metadata": {},
   "source": [
    "Import standard modules:"
   ]
  },
  {
   "cell_type": "code",
   "execution_count": 1,
   "metadata": {},
   "outputs": [
    {
     "data": {
      "text/html": [
       "<style>\n",
       "\n",
       "p.prerequisites {\n",
       "    border:5px;\n",
       "    border-style:none;\n",
       "    background-color:#F0F0F0;\n",
       "    box-shadow: 5px 5px 2px #888888;\n",
       "    border-color:#FF0000;\n",
       "    padding: 1em;\n",
       "    }\n",
       "\n",
       "p.conclusion {\n",
       "    border:5px;\n",
       "    border-style:none;\n",
       "    background-color:#c8ebca;\n",
       "    box-shadow: 5px 5px 2px #888888;\n",
       "    border-color:#c8ebca;\n",
       "    padding: 1em;\n",
       "    }\n",
       "\n",
       "div.warn {    \n",
       "    background-color: #fcf2f2;\n",
       "    border-color: #dFb5b4;\n",
       "    border-left: 5px solid #dfb5b4;\n",
       "    padding: 0.5em;\n",
       "    }\n",
       "\n",
       "div.advice {    \n",
       "    background-color: #ecf8ed;\n",
       "    border-color: #a2dda5;\n",
       "    border-left: 5px solid #a2dda5;\n",
       "    padding: 0.5em;\n",
       "    }\n",
       "\n",
       "</style>\n",
       "\n"
      ],
      "text/plain": [
       "<IPython.core.display.HTML object>"
      ]
     },
     "execution_count": 1,
     "metadata": {},
     "output_type": "execute_result"
    }
   ],
   "source": [
    "import numpy as np\n",
    "import matplotlib.pyplot as plt\n",
    "%matplotlib inline\n",
    "from IPython.display import HTML \n",
    "HTML('../style/course.css') #apply general CSS"
   ]
  },
  {
   "cell_type": "markdown",
   "metadata": {},
   "source": [
    "Import section specific modules:"
   ]
  },
  {
   "cell_type": "code",
   "execution_count": 2,
   "metadata": {},
   "outputs": [],
   "source": [
    "pass"
   ]
  },
  {
   "cell_type": "markdown",
   "metadata": {},
   "source": [
    "## 2.7. Fourier Theorems<a id='math:sec:fourier_theorems'></a>"
   ]
  },
  {
   "cell_type": "markdown",
   "metadata": {},
   "source": [
    "Fourier theorems will serve as an important tool box for the rest of the course. While they are presented without context at the beginning of our introduction, we hope that the reader will eventually realise their tremendous impact not only in radio interferometry but in general. In fact, had Fourier lived to see the first dynamite explosion, he would probably have received 2 or 3 Nobel prizes. \n",
    "\n",
    "For all functions $ f:\\,\\mathbb{R} \\rightarrow \\mathbb{C} $ we assume that they are (Lebesgue-) integrable (i.e. $\\int_{-\\infty}^{+\\infty} \\lvert f(x) \\rvert \\,dx \\in \\mathbb{R}$) so that their Fourier transform \n",
    "$\\mathscr{F}\\{f\\} = F$ exists. The Fourier transform has been introduced in [$\\S$ 2.4](2_4_the_fourier_transform.ipynb#math:sec:the_fourier_transform) <!--\\ref{math:sec:the_fourier_transform}-->. Functions in the \"Fourier domain\" are denoted by capital letters, funcions in the \"original domain\" by lower case letters."
   ]
  },
  {
   "cell_type": "markdown",
   "metadata": {},
   "source": [
    "### 2.7.1. Linearity of the Fourier Transform<a id='math:sec:linearity_of_the_fourier_transform'></a>"
   ]
  },
  {
   "cell_type": "markdown",
   "metadata": {},
   "source": [
    "The Fourier transform is linear with respect to:\n",
    "* multiplication by a scalar"
   ]
  },
  {
   "cell_type": "markdown",
   "metadata": {},
   "source": [
    "<a id='math:eq:7_001'></a><!--\\label{math:eq:7_001}-->$$\n",
    "\\forall f:\\,\\mathbb{R} \\rightarrow \\mathbb{C}, \\quad z \\in \\mathbb{C}\\\\\n",
    "\\mathscr{F}\\{zf\\} \\,=\\, z\\mathscr{F}\\{f\\}\\qquad\n",
    "$$"
   ]
  },
  {
   "cell_type": "markdown",
   "metadata": {},
   "source": [
    "Proof:"
   ]
  },
  {
   "cell_type": "markdown",
   "metadata": {},
   "source": [
    "<a id='math:eq:7_002'></a><!--\\label{math:eq:7_002}-->$$\n",
    "\\begin{align}\n",
    "\\mathscr{F}\\{zf\\}(s) \\,&=\\, \\int_{-\\infty}^{+\\infty}zf(x)\\,e^{-\\imath 2\\pi xs}dx\\\\\n",
    "&=\\,z\\int_{-\\infty}^{+\\infty}f(x)\\,e^{-\\imath 2\\pi xs}dx\n",
    "\\end{align}\\qquad\n",
    "$$"
   ]
  },
  {
   "cell_type": "markdown",
   "metadata": {},
   "source": [
    "* addition"
   ]
  },
  {
   "cell_type": "markdown",
   "metadata": {},
   "source": [
    "<a id='math:eq:7_003'></a><!--\\label{math:eq:7_003}-->$$\n",
    "\\forall f,g:\\,\\mathbb{R} \\rightarrow \\mathbb{C}\\\\\n",
    "\\mathscr{F}\\{f + g\\} \\,=\\, \\mathscr{F}\\{f\\} + \\mathscr{F}\\{g\\} \\qquad\n",
    "$$"
   ]
  },
  {
   "cell_type": "markdown",
   "metadata": {},
   "source": [
    "Proof:"
   ]
  },
  {
   "cell_type": "markdown",
   "metadata": {},
   "source": [
    "<a id='math:eq:7_003'></a><!--\\label{math:eq:7_003}-->$$\n",
    "\\begin{align}\n",
    "\\mathscr{F}\\{f + g\\}(s) \\,&= \\,\\int_{-\\infty}^{+\\infty}f(x)+g(x)\\,e^{-\\imath 2\\pi xs}dx\\\\\n",
    "&=\\int_{-\\infty}^{+\\infty}f(x)\\,e^{-\\imath 2\\pi xs}dx + \\int_{-\\infty}^{+\\infty}g(x)\\,e^{-\\imath 2\\pi xs}dx\n",
    "\\end{align}\\qquad\n",
    "$$"
   ]
  },
  {
   "cell_type": "markdown",
   "metadata": {},
   "source": [
    "The same is true for the inverse Fourier transform and for the multi-dimensional Fourier transform. We leave the proof to the reader."
   ]
  },
  {
   "cell_type": "markdown",
   "metadata": {},
   "source": [
    "### 2.7.2. Similarity Theorem<a id='math:sec:similarity_theorem'></a>"
   ]
  },
  {
   "cell_type": "markdown",
   "metadata": {},
   "source": [
    "The Fourier transform of a scaled function $\\mathscr{F}\\{f_{\\rm c}\\}$, where $f_{\\rm c}(x) \\,= \\,f(ax)$, is given by: "
   ]
  },
  {
   "cell_type": "markdown",
   "metadata": {},
   "source": [
    " <a id='math:eq:7_004'></a><!--\\label{math:eq:7_004}-->$$\n",
    "\\forall f, f_{\\rm c}:\\,\\mathbb{R} \\rightarrow \\mathbb{C}, \\quad a,x,s \\in \\mathbb{R}\\\\\n",
    "\\Rightarrow \\quad\n",
    "\\mathscr{F}\\{f_{\\rm c}\\}(s) = \\frac{1}{\\lvert a\\rvert }\\mathscr{F}\\{f\\}(\\frac{s}{a})\\qquad\n",
    "$$"
   ]
  },
  {
   "cell_type": "markdown",
   "metadata": {},
   "source": [
    "Proof:"
   ]
  },
  {
   "cell_type": "markdown",
   "metadata": {},
   "source": [
    "<a id='math:eq:7_005'></a><!--\\label{math:eq:7_005}-->$$\n",
    "\\begin{align}\n",
    "\\mathscr{F}\\{f_{\\rm c}\\}(s) \\,&= \\,\\int_{-\\infty}^{+\\infty}f_{\\rm c}(x)\\,e^{-\\imath 2\\pi xs}\\,dx\\\\\n",
    "&= \\,\\int_{-\\infty}^{+\\infty}f(ax)\\,e^{-\\imath 2\\pi xs}\\,dx\\\\\n",
    "&\\underset{x^\\prime = ax}{=}\\,\\int_{-\\text{sign}(a)\\infty}^{+\\text{sign}(a)\\infty}f(x^{\\prime})\\,e^{-\\imath 2\\pi \\frac{x^\\prime}{a} s}\\frac{dx}{dx^\\prime}\\,dx^\\prime\\\\\n",
    "&=\\,\\frac{1}{\\lvert a \\rvert}\\int_{-\\infty}^{+\\infty}f(x^\\prime)\\,e^{-\\imath 2\\pi x^\\prime \\frac{s}{a}}\\,dx\\\\\n",
    "&=\\, \\frac{1}{\\lvert a \\rvert}\\mathscr{F}\\{f\\}(\\frac{s}{a})\n",
    "\\end{align}\\qquad\n",
    "$$"
   ]
  },
  {
   "cell_type": "markdown",
   "metadata": {},
   "source": [
    "Note that the sign of the scaling factor determines the signs on the limits of the integral. This theorem holds true for the inverse Fourier transform and for the multi-dimensional Fourier transform. We leave the proof to the reader."
   ]
  },
  {
   "cell_type": "markdown",
   "metadata": {},
   "source": [
    "### 2.7.3. Shift Theorem<a id='math:sec:shift_theorem'></a>"
   ]
  },
  {
   "cell_type": "markdown",
   "metadata": {},
   "source": [
    "The Fourier transform of a shifted function $\\mathscr{F}\\{f_{\\rm t}\\}$, where $f_{\\rm t}(x) \\,= \\,f(x-a)$, is given by"
   ]
  },
  {
   "cell_type": "markdown",
   "metadata": {},
   "source": [
    "<a id='math:eq:7_006'></a><!--\\label{math:eq:7_006}-->$$\n",
    "\\forall f, f_{\\rm t}:\\,\\mathbb{R} \\rightarrow \\mathbb{C}, \\quad a,x,s \\in \\mathbb{R}\\\\\n",
    "\\Rightarrow \\quad\n",
    "\\mathscr{F}\\{f_{\\rm t}\\}(s) \\,=\\, e^{-2\\pi\\imath a s}\\mathscr{F}\\{f\\}(s)\\qquad\n",
    "$$"
   ]
  },
  {
   "cell_type": "markdown",
   "metadata": {},
   "source": [
    "Proof:"
   ]
  },
  {
   "cell_type": "markdown",
   "metadata": {},
   "source": [
    "<a id='math:eq:7_007'></a><!--\\label{math:eq:7_007}-->$$\n",
    "\\begin{align}\n",
    "\\mathscr{F}\\{f_{\\rm t}\\}(s) \\,&= \\,\\int_{-\\infty}^{+\\infty}f_{\\rm t}(x)\\,e^{-\\imath 2\\pi xs}\\,dx\\\\\n",
    "&= \\,\\int_{-\\infty}^{+\\infty}f(x-a)\\,e^{-\\imath 2\\pi xs}\\,dx\\\\\n",
    "&\\underset{x^\\prime = x-a}{=}\\,\\int_{-\\infty}^{+\\infty}f(x^{\\prime})\\,e^{-\\imath 2\\pi (x^\\prime + a) s}\\frac{dx}{dx^\\prime}\\,dx^\\prime\\\\\n",
    "&=\\,e^{-\\imath 2\\pi a s}\\int_{-\\infty}^{+\\infty}f(x^\\prime)\\,e^{-\\imath 2\\pi x^\\prime s}\\,dx\\\\\n",
    "&=\\, e^{-\\imath 2\\pi a s}\\,\\mathscr{F}\\{f\\}(s)\n",
    "\\end{align}\\qquad\n",
    "$$"
   ]
  },
  {
   "cell_type": "markdown",
   "metadata": {},
   "source": [
    "The same is true for the inverse Fourier transform but with a change of sign, i.e."
   ]
  },
  {
   "cell_type": "markdown",
   "metadata": {},
   "source": [
    "<a id='math:eq:7_008'></a><!--\\label{math:eq:7_008}-->$$\n",
    "\\forall F, F_{\\rm t}:\\,\\mathbb{R} \\rightarrow \\mathbb{C}, \\quad a,x,s \\in \\mathbb{R}\\\\\n",
    "F_{\\rm t}(s) \\,= \\,F(s-a)\\\\\n",
    "\\Rightarrow\\\\\n",
    "\\mathscr{F}^{-1}\\{F_{\\rm t}\\}(x) \\,=\\, e^{2\\pi\\imath a x}\\mathscr{F}^{-1}\\{F\\}(x)\n",
    "$$"
   ]
  },
  {
   "cell_type": "markdown",
   "metadata": {},
   "source": [
    "where $F_{\\rm t}(s) \\,= \\,\\mathscr{F}\\{f\\}(s-a)$. This also holds for the multi-dimensional Fourier transform. We leave the proof to the reader. Thus, if $g(x) \\,= \\,e^{\\imath 2\\pi a x}$, we also have that"
   ]
  },
  {
   "cell_type": "markdown",
   "metadata": {},
   "source": [
    "<a id='math:eq:7_009'></a><!--\\label{math:eq:7_009}-->$$\n",
    "\\forall f:\\,\\mathbb{R} \\rightarrow \\mathbb{C}, \\quad a,x,s \\in \\mathbb{R}\\\\\n",
    "\\Rightarrow \\quad \\mathscr{F}\\{g f\\}(s) \\,=\\, \\mathscr{F}\\{f\\}(s-a)\n",
    "$$"
   ]
  },
  {
   "cell_type": "markdown",
   "metadata": {},
   "source": [
    "Proof:"
   ]
  },
  {
   "cell_type": "markdown",
   "metadata": {},
   "source": [
    "<a id='math:eq:7_010'></a><!--\\label{math:eq:7_010}-->\n",
    "$$\n",
    "\\begin{split}\n",
    "F_t \\,&=\\, \\mathscr{F}\\left\\{\\mathscr{F}^{-1}\\{F_{\\rm t}\\}\\right\\} \\\\\n",
    "&=\\, \\mathscr{F}\\left\\{g\\mathscr{F}^{-1}\\{\\mathscr{F}\\left\\{f\\right\\}\\}\\right\\}\\\\\n",
    "&=\\,\\mathscr{F}\\left\\{gf\\right\\}\\\\\n",
    "\\end{split}$$"
   ]
  },
  {
   "cell_type": "markdown",
   "metadata": {},
   "source": [
    "which again is also valid for the inverse Fourier transform"
   ]
  },
  {
   "cell_type": "markdown",
   "metadata": {},
   "source": [
    "<a id='math:eq:7_011'></a><!--\\label{math:eq:7_011}-->$$\n",
    "\\forall F:\\,\\mathbb{R} \\rightarrow \\mathbb{C}, \\quad a,x,s \\in \\mathbb{R}\\\\\n",
    "G(x) \\,= \\,e^{-\\imath 2\\pi a s}\\\\\n",
    "\\Rightarrow \\quad\n",
    "\\mathscr{F}^{-1}\\{G F\\}(x) \\,=\\, \\mathscr{F}^{-1}\\{F\\}(x-a)\\qquad\n",
    "$$"
   ]
  },
  {
   "cell_type": "markdown",
   "metadata": {},
   "source": [
    "where $G(s) \\,= \\,e^{-\\imath 2\\pi a s}$."
   ]
  },
  {
   "cell_type": "markdown",
   "metadata": {},
   "source": [
    "### 2.7.4. Convolution Theorem<a id='math:sec:convolution_theorem'></a>"
   ]
  },
  {
   "cell_type": "markdown",
   "metadata": {},
   "source": [
    "The Fourier transform of the convolution of two functions is the product of the Fourier transforms of the functions, i.e."
   ]
  },
  {
   "cell_type": "markdown",
   "metadata": {},
   "source": [
    "<a id='math:eq:7_012'></a><!--\\label{math:eq:7_012}-->$$\n",
    "\\forall f,g:\\,\\mathbb{R} \\rightarrow \\mathbb{C}\\\\\n",
    "\\mathscr{F}\\{f \\circ g\\} \\,=\\, \\mathscr{F}\\{f\\} \\mathscr{F}\\{g\\}\n",
    "$$"
   ]
  },
  {
   "cell_type": "markdown",
   "metadata": {},
   "source": [
    "Proof:"
   ]
  },
  {
   "cell_type": "markdown",
   "metadata": {},
   "source": [
    "<a id='math:eq:7_013'></a><!--\\label{math:eq:7_013}-->$$\n",
    "\\begin{align}\n",
    "\\mathscr{F}\\{f \\circ g\\}(s) \\,&= \\,\\int_{-\\infty}^{+\\infty}(f\\circ g)(x)\\,e^{-\\imath 2\\pi xs}\\,dx\\\\\n",
    "&=\\,\\int_{-\\infty}^{+\\infty}\\int_{-\\infty}^{+\\infty}f(x-t)g(t)\\,dt\\,e^{-\\imath 2\\pi xs}\\,dx\\\\\n",
    "&=\\,\\int_{-\\infty}^{+\\infty}\\int_{-\\infty}^{+\\infty}f(x-t)e^{-\\imath 2\\pi xs}\\,dx\\,g(t)\\,dt\\,\\\\\n",
    "&=\\,\\int_{-\\infty}^{+\\infty}e^{-\\imath 2\\pi ts}\\,\\mathscr{F}\\{f\\}(s)\\,g(t)\\,dt\\,\\\\\n",
    "&=\\,\\mathscr{F}\\{f\\}(s)\\,\\int_{-\\infty}^{+\\infty}g(t)\\,e^{-\\imath 2\\pi ts}\\,dt\\,\\\\\n",
    "&=\\, \\mathscr{F}\\{f\\}(s) \\mathscr{F}\\{g\\}(s)\\\\\n",
    "&=\\, \\left(\\mathscr{F}\\{f\\} \\mathscr{F}\\{g\\}\\right)(s)\n",
    "\\end{align}\\qquad\n",
    "$$"
   ]
  },
  {
   "cell_type": "markdown",
   "metadata": {},
   "source": [
    "where we have used the shift theorem in going from line three to line four. Similarly, we can show that"
   ]
  },
  {
   "cell_type": "markdown",
   "metadata": {},
   "source": [
    "<a id='math:eq:7_014'></a><!--\\label{math:eq:7_014}-->$$\n",
    "\\forall F,G:\\,\\mathbb{R} \\rightarrow \\mathbb{C}\\\\\n",
    "\\mathscr{F}^{-1}\\{F \\circ G\\} \\,=\\, \\mathscr{F}^{-1}\\{F\\} \\mathscr{F}^{-1}\\{G\\}  \\qquad\n",
    "$$"
   ]
  },
  {
   "cell_type": "markdown",
   "metadata": {},
   "source": [
    "As usual the result can be extended to the multi-dimensional case. The proof is left as an exercise. It follows that"
   ]
  },
  {
   "cell_type": "markdown",
   "metadata": {},
   "source": [
    "<a id='math:eq:7_015'></a><!--\\label{math:eq:7_015}-->$$\n",
    "\\forall f,g:\\,\\mathbb{R} \\rightarrow \\mathbb{C}\\\\\n",
    "\\mathscr{F}\\{f  g\\} \\,=\\, \\mathscr{F}\\{f\\} \\circ \\mathscr{F}\\{g\\} \\qquad\n",
    "$$"
   ]
  },
  {
   "cell_type": "markdown",
   "metadata": {},
   "source": [
    "Proof:"
   ]
  },
  {
   "cell_type": "markdown",
   "metadata": {},
   "source": [
    "<a id='math:eq:7_016'></a><!--\\label{math:eq:7_016}-->$$\n",
    "\\begin{split}\n",
    "\\mathscr{F}\\{f\\} \\circ \\mathscr{F}\\{g\\} \\,&=\\,\\mathscr{F}\\left\\{ \\mathscr{F}^{-1}\\left\\{ \\mathscr{F}\\{f\\} \\circ \\mathscr{F}\\left\\{g\\right\\}\\right\\}\\right\\}\\\\\n",
    "&=\\, \\mathscr{F}\\left\\{  \\mathscr{F}^{-1}\\left\\{ \\mathscr{F}\\left\\{f\\right\\}\\right\\}\\mathscr{F}^{-1}\\left\\{ \\mathscr{F}\\left\\{g\\right\\}\\right\\}\\right\\}\\\\\n",
    "&=\\, \\mathscr{F}\\left\\{f g\\right\\}\n",
    "\\end{split}\\qquad\n",
    "$$"
   ]
  },
  {
   "cell_type": "markdown",
   "metadata": {},
   "source": [
    "It is also true that"
   ]
  },
  {
   "cell_type": "markdown",
   "metadata": {},
   "source": [
    "<a id='math:eq:7_017'></a><!--\\label{math:eq:7_017}-->$$\n",
    "\\forall F,G:\\,\\mathbb{R} \\rightarrow \\mathbb{C}\\\\\n",
    "\\mathscr{F}^{-1}\\{F G\\} \\,=\\, \\mathscr{F}\\{F\\} \\circ \\mathscr{F}\\{G\\} \\qquad\n",
    "$$"
   ]
  },
  {
   "cell_type": "markdown",
   "metadata": {},
   "source": [
    "The proof of this result, and for the multi-dimensional case, is left as an exercise."
   ]
  },
  {
   "cell_type": "markdown",
   "metadata": {},
   "source": [
    "### 2.7.5. Modulation Theorem<a id='math:sec:modulation_theorem'></a>"
   ]
  },
  {
   "cell_type": "markdown",
   "metadata": {},
   "source": [
    "The Fourier transform of the product $\\mathscr{F}\\{g f\\}(s)$, where $g(x) \\,= \\,\\cos{(2\\pi s_0 x)}$, is given by "
   ]
  },
  {
   "cell_type": "markdown",
   "metadata": {},
   "source": [
    "<a id='math:eq:7_018'></a><!--\\label{math:eq:7_018}-->$$\n",
    "\\forall f:\\,\\mathbb{R} \\rightarrow \\mathbb{C}\\\\\n",
    "\\Rightarrow \\quad \\mathscr{F}\\{g f\\}(s) \\,=\\, \\frac{1}{2}\\left[\\mathscr{F}\\left\\{f\\right\\}(s-s_0)+\\mathscr{F}\\left\\{f\\right\\}(s+s_0)\\right]\\qquad\n",
    "$$"
   ]
  },
  {
   "cell_type": "markdown",
   "metadata": {},
   "source": [
    "Proof:"
   ]
  },
  {
   "cell_type": "markdown",
   "metadata": {},
   "source": [
    "<a id='math:eq:7_019'></a><!--\\label{math:eq:7_019}-->$$\n",
    "\\begin{split}\n",
    "g(x)\\,&=\\,\\cos{(2\\pi s_0 x)} \\\\\n",
    "&=\\, \\frac{1}{2}\\left(\\,e^{\\imath 2\\pi s_0 x}+e^{-\\imath 2\\pi s_0 x}\\right)\\\\\n",
    "&=\\,\\frac{1}{2}\\left(g_1(x)+g_2(x)\\right)\n",
    "\\end{split}\\\\\n",
    "\\begin{split}\n",
    "\\mathscr{F}\\{g\\, f\\}(s) \\,&=\\, \\frac{1}{2}\\left[\\mathscr{F}\\left\\{g_1\\, f\\right\\}+\\mathscr{F}\\left\\{g_2 f\\right\\}\\right]\\\\\n",
    "&=\\, \\frac{1}{2}\\left[\\mathscr{F}\\left\\{f\\right\\}(s-s_0)+\\mathscr{F}\\left\\{f\\right\\}(s+s_0)\\right]\n",
    "\\end{split}\\qquad\n",
    "$$"
   ]
  },
  {
   "cell_type": "markdown",
   "metadata": {},
   "source": [
    "where we have used the [Euler equations &#10142;](2_1_complex_numbers.ipynb#math:sec:eulers_formula) <!--\\ref{math:sec:eulers_formula}-->, [linearity &#10142;](#math:sec:linearity_of_the_fourier_transform)<!--\\ref{math:sec:linearity_of_the_fourier_transform}--> and the [shift theorem &#10142;](#math:sec:shift_theorem)<!--\\ref{math:sec:shift_theorem}-->.\n",
    "\n",
    "Occasionally, the inverse version of the [shift theorem &#10142;](#math:sec:shift_theorem)<!--\\ref{math:sec:shift_theorem}--> is also called the modulation theorem. Because of their similarity this is, to some extent, justified. However, we will always refer to the above theorem as the modulation theorem."
   ]
  },
  {
   "cell_type": "markdown",
   "metadata": {},
   "source": [
    "### 2.7.6. Power Theorem<a id='math:sec:power_theorem'></a>"
   ]
  },
  {
   "cell_type": "markdown",
   "metadata": {},
   "source": [
    "The power theorem, also known as Parseval's theorem, states that:"
   ]
  },
  {
   "cell_type": "markdown",
   "metadata": {},
   "source": [
    "<a id='math:eq:7_020'></a><!--\\label{math:eq:7_020}-->$$\n",
    "\\forall f:\\,\\mathbb{R} \\rightarrow \\mathbb{C}\\\\\n",
    "\\int_{-\\infty}^{+\\infty}f(x)\\,g^*(x) \\,dx \\,=\\, \\int_{-\\infty}^{+\\infty}\\mathscr{F}\\left\\{f\\right\\}(s)\\,\\left(\\mathscr{F}\\left\\{g\\right\\}\\right)^*(s)\\,ds\\qquad\n",
    "$$"
   ]
  },
  {
   "cell_type": "markdown",
   "metadata": {},
   "source": [
    "Proof:"
   ]
  },
  {
   "cell_type": "markdown",
   "metadata": {},
   "source": [
    "<a id='math:eq:7_021'></a><!--\\label{math:eq:7_021}-->\n",
    "$$\n",
    "\\forall F:\\,\\mathbb{R} \\rightarrow \\mathbb{C}\\\\\n",
    "F_-(x) \\underset{\\rm def}{=} F(-x) \\\\\n",
    "\\begin{split}\n",
    "\\mathscr{F}\\left\\{fg^*\\right\\}(s) \\,&=\\,\\int_{-\\infty}^{+\\infty}f(x)\\,g^*(x)\\, e^{-\\imath 2\\pi s x}\\,dx\\\\\n",
    "&=\\,\\mathscr{F}\\left\\{f\\right\\}\\circ\\mathscr{F}\\left\\{g^*\\right\\}(s)\\\\\n",
    "&=\\,\\mathscr{F}\\left\\{f\\right\\}\\circ\\left(\\mathscr{F}\\left\\{g\\right\\}\\right)_-^*(s)\n",
    "\\end{split}\\\\\n",
    "\\Rightarrow\\\\\\begin{split}\n",
    "\\int_{-\\infty}^{+\\infty}f(x)\\,g^*(x)\\,dx \\,&=\\,\\int_{-\\infty}^{+\\infty}f(x)\\,g^*(x)\\, e^{-\\imath 2\\pi \\cdot 0\\cdot x}\\,dx\\\\\n",
    "&=\\,\\mathscr{F}\\left\\{fg^*\\right\\}(0)\\\\\n",
    "&=\\,\\mathscr{F}\\left\\{f\\right\\}\\circ\\left(\\mathscr{F}\\left\\{g\\right\\}\\right)_-^*(0)\\\\\n",
    "&=\\int_{-\\infty}^{+\\infty}\\mathscr{F}\\left\\{f\\right\\}(s)\\,\\left(\\mathscr{F}\\left\\{g\\right\\}\\right)_-^*(0-s)\\,ds\\\\\n",
    "&=\\int_{-\\infty}^{+\\infty}\\mathscr{F}\\left\\{f\\right\\}(s)\\,\\left(\\mathscr{F}\\left\\{g\\right\\}\\right)^*(s)\\,ds\n",
    "\\end{split}\n",
    "\\qquad\n",
    "$$"
   ]
  },
  {
   "cell_type": "markdown",
   "metadata": {},
   "source": [
    "where we have used the result pertaining to the [Fourier transform of complex conjugate functions &#10142;](2_4_the_fourier_transform.ipynb#math:sec:fourier_transforms_of_complex_conjugate_functions) <!--\\ref{math:sec:fourier_transforms_of_complex_conjugate_functions}--> and the convolution theorem in going from line two to three."
   ]
  },
  {
   "cell_type": "markdown",
   "metadata": {},
   "source": [
    "### 2.7.7. Rayleigh Theorem<a id='math:sec:rayleigh_theorem'></a>"
   ]
  },
  {
   "cell_type": "markdown",
   "metadata": {},
   "source": [
    "The integral of the square of the absolute value of a function is the integral of the square of the absolute value of its Fourier transform."
   ]
  },
  {
   "cell_type": "markdown",
   "metadata": {},
   "source": [
    "<a id='math:eq:7_022'></a><!--\\label{math:eq:7_022}-->$$\n",
    "\\forall f:\\,\\mathbb{R} \\rightarrow \\mathbb{C}\\\\\n",
    "\\int_{-\\infty}^{+\\infty}\\lvert f(x) \\rvert^2\\,dx \\,=\\, \\int_{-\\infty}^{+\\infty}\\lvert \\mathscr{F}\\left\\{f\\right\\}(s) \\rvert^2\\,ds\\qquad\n",
    "$$"
   ]
  },
  {
   "cell_type": "markdown",
   "metadata": {},
   "source": [
    "Proof: "
   ]
  },
  {
   "cell_type": "markdown",
   "metadata": {},
   "source": [
    "<a id='math:eq:7_023'></a><!--\\label{math:eq:7_023}-->$$\n",
    "\\begin{split}\n",
    "\\int_{-\\infty}^{+\\infty}\\lvert f(x) \\rvert^2\\,dx \\,&=\\, \\int_{-\\infty}^{+\\infty}f(x) \\,f^*(x) \\,dx\\\\\n",
    "&=\\, \\int_{-\\infty}^{+\\infty}\\mathscr{F}\\left\\{f\\right\\}(s) \\, \\left(\\mathscr{F}\\left\\{f\\right\\}\\right)^*(s)\\,ds\\\\\n",
    "&=\\, \\int_{-\\infty}^{+\\infty}\\lvert \\mathscr{F}\\left\\{f\\right\\}(s) \\rvert^2\\,ds\n",
    "\\end{split}\\qquad\n",
    "$$"
   ]
  },
  {
   "cell_type": "markdown",
   "metadata": {},
   "source": [
    "Note that this is just a special case of the [power theorem &#10142;](#math:sec:power_theorem)<!--\\ref{math:sec:power_theorem}-->."
   ]
  },
  {
   "cell_type": "markdown",
   "metadata": {},
   "source": [
    "### 2.7.8. Cross-correlation Theorem<a id='math:sec:cross_correlation_theorem'></a>"
   ]
  },
  {
   "cell_type": "markdown",
   "metadata": {},
   "source": [
    "The Fourier transform of the [cross-correlation &#10142;](2_6_cross_correlation_and_auto_correlation.ipynb#math:sec:cross_correlation) <!--\\ref{math:sec:cross_correlation}--> between function $f$ and function $g$ satisfies"
   ]
  },
  {
   "cell_type": "markdown",
   "metadata": {},
   "source": [
    "<a id='math:eq:7_024'></a><!--\\label{math:eq:7_024}-->$$\n",
    "\\forall f,g:\\,\\mathbb{R} \\rightarrow \\mathbb{C}\\\\\n",
    "\\mathscr{F}\\left\\{f\\star g\\right\\} = \\left(\\mathscr{F}\\left\\{f\\right\\}\\right)^*  \\cdot \\mathscr{F}\\left\\{g\\right\\}\n",
    "$$"
   ]
  },
  {
   "cell_type": "markdown",
   "metadata": {},
   "source": [
    "Proof:"
   ]
  },
  {
   "cell_type": "markdown",
   "metadata": {},
   "source": [
    "<a id='math:eq:7_025'></a><!--\\label{math:eq:7_025}-->$$\n",
    "f_-(x) \\underset{\\rm def}{=} f(-x) \\\\\n",
    "\\begin{split}\n",
    "\\mathscr{F}\\left\\{f\\star g\\right\\} \\,&=\\, \\mathscr{F}\\left\\{{f_-}^* \\circ g\\right\\}\\\\\n",
    "&=\\,\\mathscr{F}\\left\\{{f_-}^*\\right\\} \\cdot \\mathscr{F}\\left\\{g\\right\\}\\\\\n",
    "&=\\,\\left(\\mathscr{F}\\left\\{{f}\\right\\}\\right)^* \\cdot \\mathscr{F}\\left\\{g\\right\\}\n",
    "\\end{split}\n",
    "$$"
   ]
  },
  {
   "cell_type": "markdown",
   "metadata": {},
   "source": [
    "where we have used the [convolution theorem &#10142;](#math:sec:convolution_theorem)<!--\\ref{math:sec:convolution_theorem}--> and the [Fourier transform of complex conjugate functions &#10142;](2_4_the_fourier_transform.ipynb#math:sec:fourier_transforms_of_complex_conjugate_functions)<!--\\ref{math:sec:fourier_transforms_of_complex_conjugate_functions}-->."
   ]
  },
  {
   "cell_type": "markdown",
   "metadata": {},
   "source": [
    "### 2.7.9. Auto-correlation Theorem (Wiener-Khinchin Theorem)<a id='math:sec:auto_correlation_theorem_wiener_khinchin_theorem'></a>"
   ]
  },
  {
   "cell_type": "markdown",
   "metadata": {},
   "source": [
    "The Fourier transform of the [auto-correlation &#10142;](2_6_cross_correlation_and_auto_correlation.ipynb#math:sec:auto_correlation) of a function $f$ satisfies"
   ]
  },
  {
   "cell_type": "markdown",
   "metadata": {},
   "source": [
    "<a id='math:eq:7_026'></a><!--\\label{math:eq:7_026}-->$$\n",
    "\\forall f:\\,\\mathbb{R} \\rightarrow \\mathbb{C}\\\\\n",
    "\\mathscr{F}\\left\\{f \\star f\\right\\} \\,=\\,\\lvert \\mathscr{F}\\left\\{f\\right\\}\\rvert^2\n",
    "$$"
   ]
  },
  {
   "cell_type": "markdown",
   "metadata": {},
   "source": [
    "Proof:"
   ]
  },
  {
   "cell_type": "markdown",
   "metadata": {},
   "source": [
    "<a id='math:eq:7_027'></a><!--\\label{math:eq:7_027}-->$$\n",
    "\\begin{align}\\mathscr{F}\\left\\{f \\star f\\right\\} \\,&=\\,\\left(\\mathscr{F}\\left\\{f\\right\\}\\right)^*\\mathscr{F}\\left\\{f\\right\\}\\\\\n",
    "&=\\,\\lvert \\mathscr{F}\\left\\{f\\right\\}\\rvert^2\n",
    "\\end{align}\\qquad\n",
    "$$"
   ]
  },
  {
   "cell_type": "markdown",
   "metadata": {},
   "source": [
    "<span style=\"background-color:red\">TLG:MC: DOUBLE CHECK IF THIS IS CONNECTED?</span>\n",
    "\n",
    "<a id='vis:sec:ps'><!--\\label{vis:sec:ps}--></a>\n",
    "An important - and often unexplained! - concept in physics is the power spectrum of a function. The name comes from signal analysis. If you receive a given signal - described by some arbitrary function $d(x)$ - then the power distribution of this signal - i.e. literally at what frequencies the power is distributed in this signal - is given by the signal's *power spectrum* <span style=\"background-color:cyan\">TLG:GN: In glossary</span>:\n",
    "\n",
    "<center> $\\displaystyle\\text{PowerSpectrum}[f(x)] = \\mathscr{F}\\{\\big|f(x)\\big|^2\\}$ </center>\n",
    "\n",
    "Note that a function's *power spectrum* is not just its Fourier transform, but rather the Fourier transform of its *absolute magnitude squared* <span style=\"background-color:cyan\">TLG:GN: In glossary</span>. This means that talking of the \"power\" placed in a given Fourier coefficient of a function is, strictly speaking, incorrect; however, it is a common and conceptually useful way to talk about the relative values of your Fourier coefficients.\n",
    "\n",
    "Power spectra are used in a very wide range of applications. Among astrophysicists, they are of particular importance to those studying the Epoch of Reionization."
   ]
  },
  {
   "cell_type": "markdown",
   "metadata": {},
   "source": [
    "### 2.7.10. Derivative Theorem<a id='math:sec:derivative_theorem'></a>"
   ]
  },
  {
   "cell_type": "markdown",
   "metadata": {},
   "source": [
    "The Fourier transform $\\mathscr{F}\\left\\{\\frac{df}{dx}\\right\\}(s)$ of the derivative $\\frac{df}{dx}$ of a function $f(x)$ satisfies:"
   ]
  },
  {
   "cell_type": "markdown",
   "metadata": {},
   "source": [
    "<a id='math:eq:7_028'></a><!--\\label{math:eq:7_028}-->$$\n",
    "\\forall f:\\,\\mathbb{R} \\rightarrow \\mathbb{C}, \\quad x, s \\in \\mathbb{R}\\\\\n",
    "\\mathscr{F}\\left\\{\\frac{df}{dx}\\right\\}(s) \\,=\\, \\imath 2\\pi s \\mathscr{F}\\left\\{f\\right\\}(s)\\qquad\n",
    "$$"
   ]
  },
  {
   "cell_type": "markdown",
   "metadata": {},
   "source": [
    "Proof:"
   ]
  },
  {
   "cell_type": "markdown",
   "metadata": {},
   "source": [
    "<a id='math:eq:7_029'></a><!--\\label{math:eq:7_029}-->$$\n",
    "\\begin{split}\n",
    "\\mathscr{F}\\left\\{\\ \\frac{d}{dx}\\mathscr{F}^{-1}\\left\\{\\ \\mathscr{F}\\left\\{\\ f \\right\\} \\right\\} \\right\\}(s) \\,&=\\, \\int_{-\\infty}^{+\\infty} \\frac{d}{dx}\\left[ \\int_{-\\infty}^{+\\infty} \\mathscr{F}\\left\\{f\\right\\}(s) e^{\\imath 2\\pi x s}\\,ds \\right] e^{-\\imath 2\\pi x s}\\,dx\\\\\n",
    "&=\\, \\int_{-\\infty}^{+\\infty} \\left[ \\int_{-\\infty}^{+\\infty} \\imath 2\\pi s\\mathscr{F}\\left\\{f\\right\\}(s) e^{\\imath 2\\pi x s}\\,ds\\, \\right] e^{-\\imath 2\\pi x s}\\,dx\\\\\n",
    "&=\\, \\int_{-\\infty}^{+\\infty} \\left[ \\mathscr{F}^{-1}\\left\\{\\imath 2\\pi s\\mathscr{F}\\left\\{f\\right\\}\\right\\}\\, \\right] e^{-\\imath 2\\pi x s}\\,dx\\\\\n",
    "&=\\, \\int_{-\\infty}^{+\\infty} \\left[ \\left(\\mathscr{F}^{-1}\\left\\{\\imath 2\\pi s\\right\\}\\right) \\circ f\\, \\right] e^{-\\imath 2\\pi x s}\\,dx\\\\\n",
    "&=\\, \\left[\\mathscr{F}\\left\\{\\mathscr{F}^{-1}\\left\\{\\imath 2\\pi s\\right\\}\\right\\} \\cdot \\mathscr{F}\\left\\{f\\right\\}(s)\\right]\\\\\n",
    "&=\\,\\imath 2\\pi s\\,\\mathscr{F}\\left\\{f\\right\\}(s)\n",
    "\\end{split}\\qquad\n",
    "$$"
   ]
  },
  {
   "cell_type": "markdown",
   "metadata": {},
   "source": [
    "The result is also valid for the inverse Fourier transform, although with the opposite sign."
   ]
  },
  {
   "cell_type": "markdown",
   "metadata": {},
   "source": [
    "<a id='math:eq:7_030'></a><!--\\label{math:eq:7_030}-->$$\n",
    "\\forall F:\\,\\mathbb{R} \\rightarrow \\mathbb{C}, \\quad x, s \\in \\mathbb{R}\\\\\n",
    "\\mathscr{F}^{-1}\\left\\{\\frac{dF}{ds}\\right\\}(x) \\,=\\, -\\imath 2\\pi s \\mathscr{F}^{-1}\\left\\{F\\right\\}(x)\\qquad\n",
    "$$"
   ]
  },
  {
   "cell_type": "markdown",
   "metadata": {},
   "source": [
    "***\n",
    "\n",
    "* Next: [2.8 The Discrete Fourier Transform (DFT) and the Fast Fourier Transform (FFT)](2_8_the_discrete_fourier_transform.ipynb)"
   ]
  }
 ],
 "metadata": {
  "kernelspec": {
   "display_name": "testament",
   "language": "python",
   "name": "testament"
  },
  "language_info": {
   "codemirror_mode": {
    "name": "ipython",
    "version": 3
   },
   "file_extension": ".py",
   "mimetype": "text/x-python",
   "name": "python",
   "nbconvert_exporter": "python",
   "pygments_lexer": "ipython3",
   "version": "3.8.10"
  }
 },
 "nbformat": 4,
 "nbformat_minor": 1
}
