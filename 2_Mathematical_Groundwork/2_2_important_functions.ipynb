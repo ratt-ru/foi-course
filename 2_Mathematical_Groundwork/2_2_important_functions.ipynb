{
  "cells": [
    {
      "cell_type": "markdown",
      "metadata": {},
      "source": [
        "***\n",
        "\n",
        "* [Outline](../0_Introduction/0_introduction.ipynb)\n",
        "* [Glossary](../0_Introduction/1_glossary.ipynb)\n",
        "* [2. Mathematical Groundwork](2_0_introduction.ipynb)\n",
        "    * Previous: [2.1 Complex Numbers](2_1_complex_numbers.ipynb)\n",
        "    * Next: [2.3 Fourier Series](2_3_fourier_series.ipynb)\n",
        "\n",
        "***"
      ]
    },
    {
      "cell_type": "markdown",
      "metadata": {},
      "source": [
        "Import standard modules:"
      ]
    },
    {
      "cell_type": "code",
      "execution_count": null,
      "metadata": {},
      "outputs": [],
      "source": [
        "import numpy as np\n",
        "import matplotlib.pyplot as plt\n",
        "%matplotlib inline\n",
        "from IPython.display import HTML \n",
        "HTML('../style/course.css') #apply general CSS"
      ]
    },
    {
      "cell_type": "markdown",
      "metadata": {},
      "source": [
        "Import section specific modules:"
      ]
    },
    {
      "cell_type": "code",
      "execution_count": null,
      "metadata": {},
      "outputs": [],
      "source": [
        "pass"
      ]
    },
    {
      "cell_type": "markdown",
      "metadata": {},
      "source": [
        "## 2.2. Important functions<a id='math:sec:important_functions'></a>"
      ]
    },
    {
      "cell_type": "markdown",
      "metadata": {},
      "source": [
        "We introduce a set of functions that will turn up frequently in this book or have an important status in interferometry and signal processing in general. A fundamental knowledge of basic functions in calculus is a prerequisite. In particular, we assume that the [<cite data-cite='wiki:trigonometric_functions'>trigonometric functions&#10548;</cite>](https://en.wikipedia.org/wiki/Trigonometric_functions) $\\cos()$, $\\sin()$, $\\tan()$, their inverses $\\arcsin()$, $\\arccos()$, $\\arctan()$, as well as the [<cite data-cite='wiki:exponential_function'>exponential function&#10548;</cite>](https://en.wikipedia.org/wiki/Exponential_function) $e^x = \\exp(x)$ and its inverse, the natural logarithm $\\ln{x}$, are well known."
      ]
    },
    {
      "cell_type": "markdown",
      "metadata": {},
      "source": [
        "### 2.2.1. Gaussian function<a id='math:sec:gaussian_function'></a>"
      ]
    },
    {
      "cell_type": "markdown",
      "metadata": {},
      "source": [
        "A Gaussian function, also refered to as a bell curve, is defined as "
      ]
    },
    {
      "cell_type": "markdown",
      "metadata": {},
      "source": [
        "<a id='math:eq:2_001'></a><!--\\label{math:eq:2_001}-->$$\n",
        "f(x) = a e^{-\\frac{(x-\\mu)^2}{2\\sigma^2}},\n",
        "$$"
      ]
    },
    {
      "cell_type": "markdown",
      "metadata": {},
      "source": [
        "where $a$, is the amplitude, $\\mu$ is the mean and $\\sigma$ is the standard deviation. "
      ]
    },
    {
      "cell_type": "code",
      "execution_count": null,
      "metadata": {},
      "outputs": [],
      "source": [
        "def gaussian(x, a, mu, sig):\n",
        "    return a*np.exp(-np.power(x - mu, 2.) / (2 * np.power(sig, 2.)))\n",
        "\n",
        "def plotgaussian(a, mu, sigma):\n",
        "\n",
        "    # Plotting range\n",
        "    xrange = [mu-4.*sigma,mu+4.*sigma]\n",
        "\n",
        "    # Create Gaussian\n",
        "    x = np.linspace(xrange[0], xrange[1], 900)\n",
        "    y = gaussian(x, a, mu, sigma)\n",
        "\n",
        "    # To illustrate the meaning of sigma calculate mu+sigma and mu-sigma\n",
        "    siglleft = mu-sigma\n",
        "    siglright = mu+sigma\n",
        "    sigh = gaussian(mu+sigma, a, mu, sigma)\n",
        "\n",
        "    # To plot FWHM arrows calculate mu+HWHM and mu-HWHM\n",
        "    hwhmleft = -np.sqrt(2.*np.log(2.))*sigma+mu\n",
        "    hwhmright = np.sqrt(2.*np.log(2.))*sigma+mu\n",
        "    hm = a/2.\n",
        "\n",
        "    # Start the plot, create a figure instance and a subplot\n",
        "    fig = plt.figure()\n",
        "    ax  = fig.add_subplot(111)\n",
        "\n",
        "    # Axis ranges\n",
        "    ax.axis([mu-4.*sigma, mu+4.*sigma, -a*0.1, a*1.1])\n",
        "\n",
        "    # Plot a grid\n",
        "    ax.grid(True)\n",
        "\n",
        "    # Insert lines at x=0 and y=0\n",
        "    ax.axhline(0.,linewidth=1, color = 'k', linestyle='dashed')\n",
        "    ax.axvline(0.,linewidth=1, color = 'k', linestyle='dashed')\n",
        "\n",
        "    # Draw a line to mark the position a\n",
        "    ax.plot([mu,mu],[0.,a], 'g-')\n",
        "\n",
        "    # Draw lines for sigma area\n",
        "    ax.plot([siglleft, siglleft],[0.,sigh], 'b--')\n",
        "    ax.plot([siglright, siglright],[0.,sigh], 'b--')\n",
        "\n",
        "    # Draw line to show amplitude\n",
        "    ax.plot([mu, mu+2*sigma],[a,a], 'm--')\n",
        "\n",
        "\n",
        "    # Plot the function\n",
        "    ax.plot(x,y, 'k-')\n",
        "\n",
        "    # Show amplitude\n",
        "    plt.annotate(s='', xy=(mu+2*sigma,0.), xytext=(mu+2*sigma,a), \\\n",
        "                 arrowprops=dict(color = 'magenta', arrowstyle='<->'))\n",
        "    ax.text(mu+2*sigma+sigma/10., a/2, '$a$', fontsize = 12, horizontalalignment = 'left', \\\n",
        "            verticalalignment = 'center', color = 'magenta')\n",
        "\n",
        "    # Overplot FHHM\n",
        "    plt.annotate(s='', xy=(hwhmleft,hm), xytext=(hwhmright,hm), \\\n",
        "                 arrowprops=dict(color = 'red', arrowstyle='<->'))\n",
        "    ax.text(mu, hm, 'FWHM', fontsize = 12, horizontalalignment = 'center', \\\n",
        "            verticalalignment = 'top', color = 'red')\n",
        "\n",
        "    # Overplot sigma\n",
        "    plt.annotate(s='', xy=(siglleft,sigh), xytext=(mu,sigh), arrowprops=dict(color = 'blue', arrowstyle='<->'))\n",
        "    ax.text((siglleft+mu)/2, sigh, '$\\sigma$', fontsize = 12, \\\n",
        "            horizontalalignment = 'center', verticalalignment = 'top', color = 'blue')\n",
        "    plt.annotate(s='', xy=(siglright,sigh), xytext=(mu,sigh), arrowprops=dict(color = 'blue', arrowstyle='<->'))\n",
        "    ax.text((siglright+mu)/2, sigh, '$\\sigma$', fontsize = 12, \\\n",
        "            horizontalalignment = 'center', verticalalignment = 'top', color = 'blue')\n",
        "\n",
        "    # Mark position of mu\n",
        "    ax.text(mu, 0., '$\\mu$', fontsize = 12, \\\n",
        "            horizontalalignment = 'center', verticalalignment = 'top', color = 'green')\n",
        "    \n",
        "    #Formula\n",
        "    ax.text(mu-3.8*sigma, a/2, r'$a e^{-\\frac{(x-\\mu)^2}{2\\sigma^2}}$', fontsize = 20, \\\n",
        "            horizontalalignment = 'left', verticalalignment = 'top', color = 'black')\n",
        "\n",
        "    plt.title(\"Gaussian\", fontsize=14,color='black')\n",
        "    \n",
        "plotgaussian(2., 1., 1.)\n",
        "# <a id='math:fig:gauss'></a><!--\\label{math:fig:gauss}-->"
      ]
    },
    {
      "cell_type": "markdown",
      "metadata": {},
      "source": [
        "**Figure 2.2.1:** Gaussian with arbitrary amplitude a. $\\mu$ is the mean and $\\sigma$ is the standard deviation. The full-width-at-half maximum FWHM is approximately two times larger than $\\sigma$."
      ]
    },
    {
      "cell_type": "markdown",
      "metadata": {},
      "source": [
        "Its Full Width at Half Maximum ($FWHM$), the total width between the two points where the Gaussian function reaches half of its peak value, can be calculated from its standard deviation $\\sigma$. For simplicity consider a Gaussian function with mean $\\mu$=0, then we have"
      ]
    },
    {
      "cell_type": "markdown",
      "metadata": {},
      "source": [
        "<a id='math:eq:2_002'></a><!--\\label{math:eq:2_002}-->$$\n",
        "\\begin{align}\n",
        "a e^{-\\frac{x^2}{2\\,\\sigma^2}} &= \\frac{a}{2} &\\Leftrightarrow\\\\\n",
        "x_{1,2} &= \\pm \\sqrt{2\\ln(2)}\\,\\sigma&\\Rightarrow\\\\\n",
        "FWHM &= 2 \\sqrt{2\\ln(2)}\\,\\sigma \\approx 2.35\\,\\sigma\n",
        "\\end{align}\n",
        "$$"
      ]
    },
    {
      "cell_type": "markdown",
      "metadata": {},
      "source": [
        "The area below a Gaussian is given by"
      ]
    },
    {
      "cell_type": "markdown",
      "metadata": {},
      "source": [
        "<a id='math:eq:2_003'></a><!--\\label{math:eq:2_003}-->$$\n",
        "\\begin{align}\n",
        "\\int_{-\\infty}^{+\\infty}a e^{-\\frac{x^2}{2\\,\\sigma^2}}dx = a\\sqrt{2\\pi}\\sigma \\qquad ,\n",
        "\\end{align}\n",
        "$$"
      ]
    },
    {
      "cell_type": "markdown",
      "metadata": {},
      "source": [
        "This can be shown by transforming to polar cordinates and calculating the sqaure of the integral. The normalised Gaussian"
      ]
    },
    {
      "cell_type": "markdown",
      "metadata": {},
      "source": [
        "<a id='math:eq:2_004'></a><!--\\label{math:eq:2_004}-->$$\n",
        "f(x) = \\frac{1}{\\sqrt{2\\pi}\\sigma}e^{-\\frac{(x-\\mu)^2}{2\\sigma^2}} \\Rightarrow\\\\\n",
        "\\int_{-\\infty}^{+\\infty}f(x)dx = 1\n",
        "$$"
      ]
    },
    {
      "cell_type": "markdown",
      "metadata": {},
      "source": [
        "is the probability-density function of the normal distribution with mean $\\mu$ and variance $\\sigma^2$."
      ]
    },
    {
      "cell_type": "code",
      "execution_count": null,
      "metadata": {},
      "outputs": [],
      "source": [
        "plotgaussian(1/(np.sqrt(2.*np.pi)), 0., 1.)\n",
        "# <a id='math:fig:gauss_norm'></a><!--\\label{math:fig:gauss_norm}-->"
      ]
    },
    {
      "cell_type": "markdown",
      "metadata": {},
      "source": [
        "**Figure 2.2.2:** Normalised Gaussian with the mean $\\mu$ and standard deviation $\\sigma$. The full-width-at-half maximum FWHM is approximately two times larger than $\\sigma$."
      ]
    },
    {
      "cell_type": "markdown",
      "metadata": {},
      "source": [
        "To describe a two-dimensional instrumental function, often a two-dimensional Gaussian g (normalised to a peak value of 1) is used:"
      ]
    },
    {
      "cell_type": "markdown",
      "metadata": {},
      "source": [
        "<a id='math:eq:2_005'></a><!--\\label{math:eq:2_005}-->$$\n",
        "\\begin{align}\n",
        "f({\\bf x}) &= f(x_1,x_2) = e^{-\\left(\\frac{x_1^2}{2\\,\\sigma_1^2}+\\frac{x_2^2}{2\\,\\sigma_2^2}\\right)}\\\\\n",
        "{\\mathbf A} &= \n",
        "\\left(A_{ij}\\right)\\\\\n",
        " &= \\left(\n",
        "\\begin{array}{cc}\n",
        "A_{1 1} & A_{1 2}\\\\\n",
        "A_{2 1} & A_{2 2}\\\\\n",
        "\\end{array}\n",
        "\\right)\\\\\n",
        "&=\\left(\n",
        "\\begin{array}{cc}\n",
        "\\cos{\\alpha} & -\\sin{\\alpha}\\\\\n",
        "\\sin{\\alpha} &  \\cos{\\alpha}\\\\\n",
        "\\end{array}\n",
        "\\right)\\\\\n",
        "\\left(h({\\mathbf A})({\\bf x})\\right)_i &= \\left(h({\\mathbf A})(x_1,x_2)\\right)_i\\\\\n",
        "&= \\left({\\mathbf A}\\cdot{\\bf x}\\right)_i\\\\\n",
        "&= \\sum_{j = 1}^2 A_{i j} x_j\\\\\n",
        "g({\\bf x}) &= f(h^{-1}({\\mathbf A})({\\bf x}))\\\\\n",
        "&= f(h({\\mathbf A}^{-1})({\\bf x}))\\\\\n",
        "&= f(h({\\mathbf A}^{T})({\\bf x}))\\\\\n",
        "\\left({\\mathbf A}^{T}\\right)_{i j} &= \\left(A\\right)_{j i}\\\\\n",
        " &= \\left(\n",
        "\\begin{array}{cc}\n",
        "A_{1 1} & A_{2 1}\\\\\n",
        "A_{1 2} & A_{2 2}\\\\\n",
        "\\end{array}\n",
        "\\right)\\\\\n",
        "&=\\left(\n",
        "\\begin{array}{cc}\n",
        "\\cos{\\alpha} & \\sin{\\alpha}\\\\\n",
        "-\\sin{\\alpha} & \\cos{\\alpha}\\\\\n",
        "\\end{array}\n",
        "\\right)\\\\\n",
        "\\end{align}\\qquad ,\n",
        "$$"
      ]
    },
    {
      "cell_type": "markdown",
      "metadata": {},
      "source": [
        "where $\\alpha$ is the so-called position angle of the Gaussian. Looking behind the formal overhead, $A$ is hence (the matrix representation of) a proper rotation about the position angle $\\alpha$ and $g$ simply a rotated version of $f$. In above equations we recap that the inverse of a function represented by a matrix $\\mathbf A$ it the function represented by the inverse of the matrix, that for a matrix $A$ representing a proper rotation (actually any orthogonal matrix), its inverse is identical to it transposed matrix ${\\mathbf A}^T = {\\mathbf A}^{-1}$ and reminded what a transposed matrix ${\\mathbf A}^T$ is. To calculate the area below the two-dimensional Gaussian, one has to know the chain rule for the integral of multidimensional scalar functions:"
      ]
    },
    {
      "cell_type": "markdown",
      "metadata": {},
      "source": [
        "<a id='math:eq:2_006'></a><!--\\label{math:eq:2_006}-->$$\n",
        "\\begin{align}\n",
        "\\int f({\\bf x})\\,d^n{\\bf x} & = \\int f(x_1, x_2, \\ldots)\\,dx_1\\,dx_2 \\ldots\\\\\n",
        "& = \\int f({{\\bf x}({\\bf y})}) \\det \\left( {\\bf \\mathbb J}^{(xy)}({\\bf y)} \\right) \\,d^n{\\bf y} \\\\\n",
        "& = \\int f({{\\bf x}({\\bf y})}) \\begin{vmatrix} {\\mathbb J}^{(xy)}({\\bf y)} \\end{vmatrix} \\,d^n{\\bf y} \\\\\n",
        "& = \\int f(x_1(y_1, y_2, \\ldots), x_2(y_1, y_2, \\ldots))\n",
        "\\begin{vmatrix}\n",
        "\\frac{\\partial x_i}{\\partial y_j}(y_1, y_2, \\ldots)\n",
        "\\end{vmatrix}\n",
        "\\,dy_1\\,dy_2 \\ldots\\\\\n",
        "& = \\int f(x_1(y_1, y_2, \\ldots), x_2(y_1, y_2, \\ldots))\n",
        "\\begin{vmatrix}\n",
        "\\frac{\\partial x_1}{\\partial y_1}(y_1, y_2, \\ldots) & \\frac{\\partial x_1}{\\partial y_2}(y_1, y_2, \\ldots) & \\cdots \\\\\n",
        "\\frac{\\partial x_2}{\\partial y_1}(y_1, y_2, \\ldots) & \\frac{\\partial x_2}{\\partial y_2}(y_1, y_2, \\ldots) & \\cdots \\\\\n",
        "\\vdots & \\vdots & \\ddots \\\\\n",
        "\\end{vmatrix}\n",
        "\\,dy_1\\,dy_2 \\ldots\\\\\n",
        "\\end{align} \\qquad ,\n",
        "$$"
      ]
    },
    {
      "cell_type": "markdown",
      "metadata": {},
      "source": [
        "hereby recapping the definition of the Jacobian matrix"
      ]
    },
    {
      "cell_type": "markdown",
      "metadata": {},
      "source": [
        "<a id='math:eq:2_007'></a><!--\\label{math:eq:2_007}-->$$\n",
        "\\begin{align}\n",
        "{\\mathbb J}^{(xy)} &= {\\mathbb J} \\\\\n",
        "&=  \\frac{\\partial \\left(x_1, x_2, \\ldots\\right)}{\\partial\\left(y_1, y_2, \\ldots\\right)}\\\\\n",
        "&= {\\mathbf J}^{(xy)}\\\\\n",
        "&= D\\mathbf{x}\\\\\n",
        "&= D_\\mathbf{x}\\\\\n",
        "&= \\left(\\begin{matrix}\n",
        "\\frac{\\partial x_1}{\\partial y_1}(y_1, y_2, \\ldots) & \\frac{\\partial x_1}{\\partial y_2}(y_1, y_2, \\ldots) & \\cdots \\\\\n",
        "\\frac{\\partial x_2}{\\partial y_1}(y_1, y_2, \\ldots) & \\frac{\\partial x_2}{\\partial y_2}(y_1, y_2, \\ldots) & \\cdots \\\\\n",
        "\\vdots & \\vdots & \\ddots \\\\\n",
        "\\end{matrix}\\right)\n",
        "\\end{align}\n",
        "$$"
      ]
    },
    {
      "cell_type": "markdown",
      "metadata": {},
      "source": [
        "and its determinant $\\det \\left({\\mathbb J}^{(xy)}\\right) = \\begin{vmatrix}\\mathbb J^{(xy)}\\end{vmatrix}$, also sometimes called a Jacobian (albeit not by us). Additionally, one has to know that the inverse function theorem states that the Jacobian of an inverse of a function is the inverse of the Jacobian of a function. Finally knowing that the determinant of the inverse of a matrix is the inverse of the determinant of a matrix $\\mathbf M$"
      ]
    },
    {
      "cell_type": "markdown",
      "metadata": {},
      "source": [
        " <a id='math:eq:2_008'></a><!--\\label{math:eq:2_008}-->$$\n",
        "\\begin{align}\n",
        "\\mathbf{M}\\mathbf{M}^{-1} &= {\\mathbb 1} \\Rightarrow \\\\\n",
        "(\\det({\\mathbf M}))^{-1} &= \\det({\\mathbf M}^{-1})\n",
        "\\end{align} \\qquad ,\n",
        "$$"
      ]
    },
    {
      "cell_type": "markdown",
      "metadata": {},
      "source": [
        "we can evaluate the integral $\\int g({\\bf x}) \\,d^2{\\bf x} $by making use of the substitution ${\\bf x}({\\bf y}) = {\\mathbf A}{\\bf y}$:"
      ]
    },
    {
      "cell_type": "markdown",
      "metadata": {},
      "source": [
        "<a id='math:eq:2_009'></a><!--\\label{math:eq:2_009}-->$$\n",
        "\\begin{align}\n",
        "\\int g({\\bf x}) \\,d^2{\\bf x} &= \\int f(h^{-1}({\\mathbf A})({\\bf x})) \\,d^2{\\bf x}\\\\\n",
        "&= \\int f({\\mathbf A}^{-1}\\cdot{\\bf x}) \\,d^2{\\bf x}\\\\&= \\int f({\\mathbf A}^{-1}\\cdot{\\bf x}({\\bf y})) \\begin{vmatrix} {\\mathbb J}^{(xy)}({\\bf y)} \\end{vmatrix}  \\,d^2{\\bf y}\\\\\n",
        "&= \\int f({\\mathbf A}^{-1}\\cdot{\\bf x}({\\bf y})) \\begin{vmatrix}\n",
        "\\frac{\\partial x_1}{\\partial y_1}(y_1, y_2) & \\frac{\\partial x_1}{\\partial y_2}(y_1, y_2) \\\\\n",
        "\\frac{\\partial x_2}{\\partial y_1}(y_1, y_2) & \\frac{\\partial x_2}{\\partial y_2}(y_1, y_2) \\\\\n",
        "\\end{vmatrix}\\,d^2{\\bf y}\\\\\n",
        "&= \\int f({\\mathbf A}^{-1}\\cdot{\\mathbf A}\\cdot{\\bf y}) \\begin{vmatrix}\n",
        "\\cos{\\alpha} & -\\sin{\\alpha} \\\\\n",
        "\\sin{\\alpha} & \\cos{\\alpha} \\\\\n",
        "\\end{vmatrix}\\,d^2{\\bf y}\\\\\n",
        "&= \\int f({\\mathbb 1}\\cdot{\\bf y})\\cdot 1 \\,d^2{\\bf y}\\\\\n",
        "&= \\int e^{-\\left(\\frac{y_1^2}{2\\,\\sigma_1^2}+\\frac{y_2^2}{2\\,\\sigma_2^2}\\right)} \\,dy_1\\,dy_2\\\\\n",
        "&= \\left(\\int e^{-\\left(\\frac{y_1^2}{2\\,\\sigma_1^2}\\right)} \\,dy_1\\right)\\left(\\int e^{-\\left(\\frac{y_2^2}{2\\,\\sigma_2^2}\\right)} \\,dy_2\\right)\\\\\n",
        "&=\\sqrt{2\\pi}\\sigma_1\\sqrt{2\\pi}\\sigma_2\\\\\n",
        "&= 2\\pi\\sigma_1\\sigma_2\\\\\n",
        "&= 2\\pi \\frac{FWHM_1}{\\sqrt{\\ln{256}}}\\frac{FWHM_2}{\\sqrt{\\ln{256}}}\\\\\n",
        "&\\approx 1.13309\\,FWHM_1\\,FWHM_2\n",
        "\\end{align}\\qquad ,\n",
        "$$"
      ]
    },
    {
      "cell_type": "markdown",
      "metadata": {},
      "source": [
        "where $FWHM_1$ and $FWHM_2$ are the FWHMs corresponding to $\\sigma_1$ and $sigma_2$ respectively. Above identity is often used without realizing that quite a bit of fundamental calculus is going in there and without realizing where it comes from. Since this is a nice opportunity to recap fundamental calculus, we took the opportunity to derive the expression."
      ]
    },
    {
      "cell_type": "markdown",
      "metadata": {},
      "source": [
        "### 2.2.2. Sinc function<a id='math:sec:sync_function'></a>"
      ]
    },
    {
      "cell_type": "markdown",
      "metadata": {},
      "source": [
        "The *Sinc function* $\\text{sinc}_{\\mathrm u}(x)$ is important for sampling theory. Its relevance will become obvious when we will calculate its Fourier transform. The *unnormalized Sinc function* is defined by"
      ]
    },
    {
      "cell_type": "markdown",
      "metadata": {},
      "source": [
        "<a id='math:eq:2_010'></a><!--\\label{math:eq:2_010}-->$$\n",
        "\\begin{split}\n",
        "\\text{sinc}_{\\mathrm u}(x)   &= \\left \\{\n",
        "     \\begin{array}{lll}\n",
        "    1 & {\\rm for} &x = 0\\\\\n",
        "    \\frac{\\sin x}{x} & {\\rm for} & x\\neq 0\n",
        "\\end{array} \\right.\n",
        "\\end{split}\n",
        "\\qquad .\n",
        "$$"
      ]
    },
    {
      "cell_type": "markdown",
      "metadata": {},
      "source": [
        "while the *normalized Sinc function* is defined by"
      ]
    },
    {
      "cell_type": "markdown",
      "metadata": {},
      "source": [
        "<a id='math:eq:2_012'></a><!--\\label{math:eq:2_012}-->$$\n",
        "\\begin{split}\n",
        "\\text{sinc}(x)   &= \\text{sinc}_{\\mathrm u}(\\pi x)\\\\\n",
        "&= \\left \\{\n",
        "     \\begin{array}{lll}\n",
        "    1 & {\\rm for} &x = 0\\\\\n",
        "    \\frac{\\text{sin} (\\pi\\,x)}{\\pi\\,x} & {\\rm for} & x\\neq 0\n",
        "\\end{array} \\right.\n",
        "\\end{split}\n",
        "\\qquad .\n",
        "$$\n",
        "\n",
        "$$\n",
        "\\int_{-\\infty}^{\\infty} \\text{sinc}_{\\mathrm u}(x) \\,dx = \\pi\n",
        "\\qquad ,\n",
        "$$"
      ]
    },
    {
      "cell_type": "markdown",
      "metadata": {},
      "source": [
        "As the name says, it is normalized to have an integral of 1: if one makes use of the fact that"
      ]
    },
    {
      "cell_type": "markdown",
      "metadata": {},
      "source": [
        "<a id='math:eq:2_012'></a><!--\\label{math:eq:2_012}-->$$\n",
        "\\int_0^{+\\infty}e^{-yt}\\,dt = \\frac{1}{y}\n",
        "\\qquad ,\n",
        "$$"
      ]
    },
    {
      "cell_type": "markdown",
      "metadata": {},
      "source": [
        "then it becomes clear that (first using integration by parts, then substituting $y = \\tan(\\phi)$). "
      ]
    },
    {
      "cell_type": "markdown",
      "metadata": {},
      "source": [
        "<a id='math:eq:2_013'></a><!--\\label{math:eq:2_013}-->$$\n",
        "\\begin{split}\n",
        "\\int_{-\\infty}^{\\infty} \\text{sinc}(x) \\,dx & = 2 \\int_{0}^{\\infty} \\frac{\\sin{(\\pi x)}}{\\pi x}\\,dx\\\\\n",
        "& = 2 \\int_{0}^{\\infty}\\int_{0}^{\\infty} \\sin{(\\pi x)} e^{-\\pi xy}\\,dx\\,dy\\\\\n",
        "& = \\frac{2}{\\pi}\\int_{0}^{\\infty} \\frac{1}{y^2+1}\\,dy\\\\\n",
        "& = 1\n",
        "\\end{split}\n",
        "$$"
      ]
    },
    {
      "cell_type": "markdown",
      "metadata": {},
      "source": [
        "Accordingly,"
      ]
    },
    {
      "cell_type": "markdown",
      "metadata": {},
      "source": [
        "<a id='math:eq:2_011'></a><!--\\label{math:eq:2_011}-->$$\n",
        "\\int_{-\\infty}^{\\infty} \\text{sinc}_{\\mathrm u}(x) \\,dx = \\pi\n",
        "\\qquad .\n",
        "$$"
      ]
    },
    {
      "cell_type": "code",
      "execution_count": null,
      "metadata": {},
      "outputs": [],
      "source": [
        "def plotsinc():\n",
        "\n",
        "    # Plotting range\n",
        "    xrange = [-6., 6.]\n",
        "\n",
        "    # Create Gaussian\n",
        "    x = np.linspace(xrange[0], xrange[1], 900)\n",
        "    y = np.sinc(x)\n",
        "\n",
        "    # Start the plot, create a figure instance and a subplot\n",
        "    fig = plt.figure()\n",
        "    ax  = fig.add_subplot(111)\n",
        "\n",
        "    # Axis ranges\n",
        "    ax.axis([xrange[0], xrange[1], np.sinc(1.5)-(np.sinc(0)-np.sinc(1.5))/10., \\\n",
        "             np.sinc(0)+(np.sinc(0)-np.sinc(1.5))/10. ])\n",
        "\n",
        "    # Plot a grid\n",
        "    ax.grid(True)\n",
        "\n",
        "    # Insert lines at x=0 and y=0\n",
        "    ax.axhline(0.,linewidth=1, color = 'k', linestyle='dashed')\n",
        "    ax.axvline(0.,linewidth=1, color = 'k', linestyle='dashed')\n",
        "    \n",
        "    # Plot function\n",
        "    ax.plot(x,y,'k-')\n",
        "\n",
        "    plt.title(\"Sinc\", fontsize=14,color='black')\n",
        "    \n",
        "    ax.text(-5., (np.sinc(0)-np.sinc(1.5))/2., r'$sinc(x) = \\frac{sin (\\pi\\,x)}{\\pi\\,x}$', \\\n",
        "            fontsize = 16, horizontalalignment = 'left', verticalalignment = 'top', color = 'black')\n",
        "\n",
        "    \n",
        "plotsinc()\n",
        "# <a id='math:fig:sinc'></a><!--\\label{math:fig:sinc}-->"
      ]
    },
    {
      "cell_type": "markdown",
      "metadata": {},
      "source": [
        "**Figure 2.2.3:** Normalized Sinc function."
      ]
    },
    {
      "cell_type": "markdown",
      "metadata": {},
      "source": [
        "Unfortunately, both the normalized and the unnormalized sinc are referred to as sinc in the literature. Here, as also in e.g. *numpy*, we identify the *normalized* Sinc function as the Sinc function."
      ]
    },
    {
      "cell_type": "markdown",
      "metadata": {},
      "source": [
        "### 2.2.3. Heaviside function<a id='math:sec:heaviside_function'></a>"
      ]
    },
    {
      "cell_type": "markdown",
      "metadata": {},
      "source": [
        "The Heaviside - or step - function was introduced by [<cite data-cite='oliver_heaviside'>Oliver Heaviside&#10548;</cite>](https://en.wikipedia.org/wiki/Oliver_Heaviside) (1850-1925) it is a simple step from 0 to 1 at the origin:"
      ]
    },
    {
      "cell_type": "markdown",
      "metadata": {},
      "source": [
        "<a id='math:eq:2_013'></a><!--\\label{math:eq:2_013}-->$$\n",
        "\\begin{split}\n",
        "H(x)   &= \\left \\{\n",
        "     \\begin{array}{lll}\n",
        "    0 & {\\rm for} & x < 0 \\\\\n",
        "    1 & {\\rm for} & x \\ge 0\n",
        "\\end{array} \\right. \n",
        "\\end{split}\n",
        "$$"
      ]
    },
    {
      "cell_type": "markdown",
      "metadata": {},
      "source": [
        "or"
      ]
    },
    {
      "cell_type": "markdown",
      "metadata": {},
      "source": [
        "<a id='math:eq:2_013'></a><!--\\label{math:eq:2_013}-->$$\n",
        "\\begin{split}\n",
        "H(x)   &= \\left \\{\n",
        "     \\begin{array}{lll}\n",
        "    0 & {\\rm for} & x < 0 \\\\\n",
        "    \\frac{1}{2} & {\\rm for} & x = 0\\\\\n",
        "    1 & {\\rm for} & x > 0\n",
        "\\end{array} \\right. \n",
        "\\end{split}\n",
        "$$"
      ]
    },
    {
      "cell_type": "markdown",
      "metadata": {},
      "source": [
        "**Note**: Fix latex in cells below by `sudo apt install cm-super dvipng` if not in docker. \n",
        "[See this issue](https://github.com/matplotlib/matplotlib/issues/16911)"
      ]
    },
    {
      "cell_type": "code",
      "execution_count": null,
      "metadata": {
        "scrolled": false
      },
      "outputs": [],
      "source": [
        "from matplotlib import rcParams\n",
        "rcParams['text.usetex'] = True\n",
        "\n",
        "def heavi(x):\n",
        "    return x>=0\n",
        "    \n",
        "def plotheavi():\n",
        "\n",
        "    # Plotting range\n",
        "    x_range = -1.5, 1.5\n",
        "\n",
        "    # Create Gaussian\n",
        "    x = np.linspace(x_range[0], x_range[1], 900)\n",
        "    y = heavi(x)\n",
        "\n",
        "    #b = np.delete(a, [2,3,6])\n",
        "    # Start the plot, create a figure instance and a subplot\n",
        "    fig = plt.figure()\n",
        "    ax  = fig.add_subplot(111)\n",
        "\n",
        "    # Axis ranges\n",
        "    ax.axis([x_range[0], x_range[1], -0.1, 1.1])\n",
        "\n",
        "    # Plot a grid\n",
        "    ax.grid(True)\n",
        "\n",
        "    # Insert lines at x=0 and y=0\n",
        "    ax.axhline(0.,linewidth=1, color = 'k', linestyle='dashed')\n",
        "    ax.axvline(0.,linewidth=1, color = 'k', linestyle='dashed')\n",
        "    \n",
        "    # Plot function\n",
        "    ax.plot(x[:450],y[:450],'b-')\n",
        "    ax.plot(x[450:],y[450:],'b-')\n",
        "    ax.plot([0., 0.],[0., 1.],'b--')\n",
        "\n",
        "    plt.title(\"Heaviside\", fontsize=14,color='black')\n",
        "    \n",
        "    ax.text(-1.4, \n",
        "            (np.sinc(0)-np.sinc(1.5))/2.,\n",
        "            r\"$H(x) = \\left\\{ \\begin{array}{lll}0 & {\\rm for} & x < 0 \\\\1 & {\\rm for} & x \\ge 0\\end{array}\\right.$\",\n",
        "            fontsize=14, horizontalalignment='left', verticalalignment='top', color = 'black')\n",
        "    \n",
        "plotheavi()\n"
      ]
    },
    {
      "cell_type": "markdown",
      "metadata": {},
      "source": [
        "**Figure 2.2.4:** Heaviside function."
      ]
    },
    {
      "cell_type": "markdown",
      "metadata": {},
      "source": [
        "### 2.2.4. Dirac delta function<a id='math:sec:dirac_delta_function'></a>"
      ]
    },
    {
      "cell_type": "markdown",
      "metadata": {},
      "source": [
        "The Dirac delta function $\\delta$ named after [<cite data-cite='paul_dirac'>Paul Dirac&#10548;</cite>](https://en.wikipedia.org/wiki/Paul_Dirac) (1902-1984) is not a regular function, but a generalized function or a distribution. It can be imagined as a 'function' which is zero everywhere but at the origin and fulfils"
      ]
    },
    {
      "cell_type": "markdown",
      "metadata": {},
      "source": [
        "<a id='math:eq:2_014'></a><!--\\label{math:eq:2_014}-->$$\n",
        "\\forall x \\in \\mathbb{R}, \\,x\\neq 0 \\Rightarrow \\delta(x) = 0\\\\\n",
        "\\forall f \\in \\mathbb{C}^0,\\, \\varepsilon \\in \\mathbb{R}, \\,\\varepsilon > 0 \\\\\n",
        "\\begin{split}\n",
        "\\int_{-\\varepsilon}^{+\\varepsilon}f(x)\\delta(x)\\,dx & = f(0)\\\\\n",
        "\\end{split}\n",
        "\\qquad .\n",
        "$$"
      ]
    },
    {
      "cell_type": "markdown",
      "metadata": {},
      "source": [
        "It follows"
      ]
    },
    {
      "cell_type": "markdown",
      "metadata": {},
      "source": [
        "<a id='math:eq:2_015'></a><!--\\label{math:eq:2_015}-->$$\n",
        "\\begin{split}\n",
        "\\varepsilon \\in \\mathbb{R}, \\,\\varepsilon > 0 \\, & \\, \\Rightarrow & \\int_{-\\varepsilon}^{+\\varepsilon}\\delta(x)\\,dx & = \\int_{-\\varepsilon}^{+\\varepsilon} \\mathbb{1} \\cdot \\delta(x)\\,dx \n",
        "&&=\\mathbb{1}(1) \\\\\n",
        "&&= 1\n",
        "\\end{split}\n",
        "\\qquad ,\n",
        "$$"
      ]
    },
    {
      "cell_type": "markdown",
      "metadata": {},
      "source": [
        "which sometimes is added to the definition of the Dirac delta function. The Dirac delta function is the mathematical equivalent of an infinitesimally short impulse. However, the above definition is only suitable for illustration. Mathematically a more concise definition is, if $\\delta_a$ is a set of functions parametrised by $a \\in \\mathbb{R}$ (e.g. $f_a(x) \\,=\\,\\frac{1}{\\pi}\\frac{a}{x^2+a^2}$), and"
      ]
    },
    {
      "cell_type": "markdown",
      "metadata": {},
      "source": [
        "<a id='math:eq:2_016'></a><!--\\label{math:eq:2_016}-->$$\n",
        "\\forall f \\in \\mathbb{C}^0,\\, \\varepsilon \\in \\mathbb{R}, \\,\\varepsilon > 0 \\\\\n",
        "\\begin{split}\n",
        "\\lim_{a \\to 0} \\int_{-\\infty}^{-\\varepsilon}f(x)\\delta_a(x)\\,dx & = 0\\\\\n",
        "\\lim_{a \\to 0} \\int_{-\\varepsilon}^{+\\varepsilon}f(x)\\delta_a(x)\\,dx & = f(0)\\\\\n",
        "\\lim_{a \\to 0} \\int_{+\\varepsilon}^{+\\infty}f(x)\\delta_a(x)\\,dx & = 0\\\\\n",
        "\\end{split}\n",
        "\\qquad ,\n",
        "$$"
      ]
    },
    {
      "cell_type": "markdown",
      "metadata": {},
      "source": [
        "then the distribution $\\delta(x)$ can be defined through the integral"
      ]
    },
    {
      "cell_type": "markdown",
      "metadata": {},
      "source": [
        "<a id='math:eq:2_017'></a><!--\\label{math:eq:2_017}-->$$\n",
        "\\forall f \\in \\mathbb{C}^0,\\, \\varepsilon \\in \\mathbb{R}, \\,\\varepsilon > 0 \\\\\n",
        "\\int_{-\\varepsilon}^{+\\varepsilon}f(x)\\delta(x)\\,dx = \\lim_{a \\to 0} \\int_{-\\varepsilon}^{+\\varepsilon}f(x)\\delta_a(x)\\,dx\n",
        "\\qquad ,\n",
        "$$"
      ]
    },
    {
      "cell_type": "markdown",
      "metadata": {},
      "source": [
        "which is symbolically expressed through"
      ]
    },
    {
      "cell_type": "markdown",
      "metadata": {},
      "source": [
        "<a id='math:eq:2_018'></a><!--\\label{math:eq:2_018}-->$$\n",
        "\\delta(x) = \\lim_{a \\to 0}\\delta_a(x)\n",
        "$$"
      ]
    },
    {
      "cell_type": "markdown",
      "metadata": {},
      "source": [
        "Notice that in this way, the delta function has the properties of a smooth function,"
      ]
    },
    {
      "cell_type": "markdown",
      "metadata": {},
      "source": [
        " <a id='math:eq:2_019'></a><!--\\label{math:eq:2_019}-->$$\n",
        "\\begin{split}\n",
        "\\delta(x) &= \\lim_{a \\to 0} \\frac{1}{\\sqrt{2\\pi}a}e^{-\\frac{(x-\\mu)^2}{2a^2}}\\\\\n",
        "&= \\lim_{a \\to 0}\\frac{1}{\\pi}\\frac{a}{x^2+a^2}\\\\\n",
        "&= \\lim_{a \\to 0}\\frac{1}{a}sinc(\\frac{x}{a})\\\\\n",
        "\\end{split}\n",
        "$$"
      ]
    },
    {
      "cell_type": "markdown",
      "metadata": {},
      "source": [
        "are all valid representations of Dirac's delta function (without proof here). There are many more. An important consequence is that an integral realisation of the delta function exists."
      ]
    },
    {
      "cell_type": "markdown",
      "metadata": {},
      "source": [
        "It can be shown that $\\delta$ is the derivative of the Heaviside function."
      ]
    },
    {
      "cell_type": "markdown",
      "metadata": {},
      "source": [
        "<a id='math:eq:2_020'></a><!--\\label{math:eq:2_020}-->$$\n",
        "\\begin{split}\n",
        "\\int_{-\\infty}^x\\delta(t) \\,dt &= \\left \\{\n",
        "     \\begin{array}{lll}\n",
        "    0 & {\\rm for} & x < 0 \\\\\n",
        "    1 & {\\rm for} & x > 0\n",
        "\\end{array} \\right.\\\\\n",
        "&= H(x)\n",
        "\\end{split}\\qquad\n",
        "$$"
      ]
    },
    {
      "cell_type": "markdown",
      "metadata": {},
      "source": [
        "is the definition of the Heaviside function $H(x)$. On the other hand, we remember the fundamental theorem of calculus"
      ]
    },
    {
      "cell_type": "markdown",
      "metadata": {},
      "source": [
        "<a id='math:eq:2_021'></a><!--\\label{math:eq:2_021}-->$$\n",
        "\\begin{split}\n",
        "F(x) & =& \\int_{a}^x f(t) \\,dt\\\\\n",
        "&\\Rightarrow&\\\\\n",
        "\\frac{dF}{dx} \\,&=&\\, f(x)\n",
        "\\end{split}\\qquad ,\n",
        "$$"
      ]
    },
    {
      "cell_type": "markdown",
      "metadata": {},
      "source": [
        "which means that"
      ]
    },
    {
      "cell_type": "markdown",
      "metadata": {},
      "source": [
        "<a id='math:eq:2_022'></a><!--\\label{math:eq:2_022}-->$$\n",
        "\\frac{dH}{dx}(x) \\,=\\, \\delta(x)\\qquad .\n",
        "$$"
      ]
    },
    {
      "cell_type": "markdown",
      "metadata": {},
      "source": [
        "We highlight two relations:"
      ]
    },
    {
      "cell_type": "markdown",
      "metadata": {},
      "source": [
        "<a id='math:eq:2_023'></a><!--\\label{math:eq:2_023}-->$$\n",
        "\\begin{split}\n",
        "\\int_{a-\\varepsilon}^{a+\\varepsilon}f(x)\\delta(x-a)\\,dx \\,&=\\, f(a)\\\\\n",
        "\\end{split}\n",
        "$$"
      ]
    },
    {
      "cell_type": "markdown",
      "metadata": {},
      "source": [
        "Proof:"
      ]
    },
    {
      "cell_type": "markdown",
      "metadata": {},
      "source": [
        "<a id='math:eq:2_024'></a><!--\\label{math:eq:2_024}-->$$\n",
        "\\int_{a-\\varepsilon}^{a+\\varepsilon}f(y)\\delta(y-a)\\,dy \\, \\underset{x = y - a}{=}\\, \\int_{\\varepsilon}^{\\varepsilon}f(x+a)\\delta(x)\\,dx\n",
        "$$"
      ]
    },
    {
      "cell_type": "markdown",
      "metadata": {},
      "source": [
        "<a id='math:eq:2_025'></a><!--\\label{math:eq:2_025}-->$$\n",
        "\\begin{split}\n",
        "\\delta(ax) \\,&=\\, \\frac{1}{\\lvert a \\rvert}\\delta(x)\n",
        "\\end{split}\n",
        "$$"
      ]
    },
    {
      "cell_type": "markdown",
      "metadata": {},
      "source": [
        "Proof:"
      ]
    },
    {
      "cell_type": "markdown",
      "metadata": {},
      "source": [
        "<a id='math:eq:2_026'></a><!--\\label{math:eq:2_026}-->$$\n",
        "\\int_{-\\varepsilon}^{+\\varepsilon}f(y)\\delta(ay)\\,dy \\, \\underset{x = ay}{=}\\, \\int_{-a\\varepsilon}^{+a\\varepsilon}\\frac{1}{a}f(\\frac{x}{a})\\delta(x)\\,dx\n",
        "$$"
      ]
    },
    {
      "cell_type": "markdown",
      "metadata": {},
      "source": [
        "The equations defining the delta function require the limits of the integral to be from negative to positive. Hence, if a is negative, the limits of the integration needs to be reverse. This negates the sign of the integral, which explains the absolute value in the formula. Similarly for the other two equations."
      ]
    },
    {
      "cell_type": "markdown",
      "metadata": {},
      "source": [
        "The derivative of the delta function is defined via partial integration:"
      ]
    },
    {
      "cell_type": "markdown",
      "metadata": {},
      "source": [
        "<a id='math:eq:2_027'></a><!--\\label{math:eq:2_027}-->$$\n",
        "\\int f(x) \\frac{d\\delta(x)}{dx}\\,dx \\,=\\, -\\int \\frac{df}{dx}\\delta(x)\\,dx\\qquad ,\n",
        "$$"
      ]
    },
    {
      "cell_type": "markdown",
      "metadata": {},
      "source": [
        "where the \"missing\" term $[f(x)\\delta(x)]$ is defined to vanish. It follows that:"
      ]
    },
    {
      "cell_type": "markdown",
      "metadata": {},
      "source": [
        "<a id='math:eq:2_028'></a><!--\\label{math:eq:2_028}-->$$\n",
        "x\\,\\frac{d\\delta(x)}{dx} \\,=\\, -\\delta(x)\n",
        "$$"
      ]
    },
    {
      "cell_type": "markdown",
      "metadata": {},
      "source": [
        "Proof:"
      ]
    },
    {
      "cell_type": "markdown",
      "metadata": {},
      "source": [
        "<a id='math:eq:2_029'></a><!--\\label{math:eq:2_029}-->$$\n",
        "\\begin{split}\n",
        "\\int x\\,f(x)\\frac{d\\delta(x)}{dx}\\,dx \\,&=\\, -\\int \\frac{d\\,(x\\,f)}{dx}\\delta(x)\\,dx\\\\\n",
        "&=\\, -\\int (f(x)+x\\,\\frac{df}{dx})\\delta(x)\\,dx\n",
        "&=\\, -\\int f(x)\\delta(x)\\,dx\n",
        "\\end{split}\\qquad .\n",
        "$$"
      ]
    },
    {
      "cell_type": "markdown",
      "metadata": {},
      "source": [
        "<!-- <span style=\"background-color:magenta\">GJ: hopefully done by adding this sentence:  </span> --> The derivative of the Delta function can hence be expressed as a function containing the delta function itself."
      ]
    },
    {
      "cell_type": "markdown",
      "metadata": {},
      "source": [
        "### 2.2.5. Shah function<a id='math:sec:shah_function'></a>"
      ]
    },
    {
      "cell_type": "markdown",
      "metadata": {},
      "source": [
        "The shah or comb function $III$, also called Dirac's comb, is defined as an infinite sum of Dirac delta functions $\\delta$"
      ]
    },
    {
      "cell_type": "markdown",
      "metadata": {},
      "source": [
        "<a id='math:eq:2_030'></a><!--\\label{math:eq:2_030}-->$$\n",
        "III(x)\\,=\\,\\sum_{m=-\\infty}^{+\\infty}\\delta(x-m)\\qquad .\n",
        "$$"
      ]
    },
    {
      "cell_type": "code",
      "execution_count": null,
      "metadata": {
        "scrolled": false
      },
      "outputs": [],
      "source": [
        "def plotshah():\n",
        "    # Plotting range\n",
        "    xrange = [-3., 3.]\n",
        "\n",
        "    # Create Gaussian\n",
        "    x = np.linspace(xrange[0], xrange[1], 7)\n",
        "#    y = np.sinc(x)\n",
        "\n",
        "    # Start the plot, create a figure instance and a subplot\n",
        "    fig = plt.figure()\n",
        "    ax  = fig.add_subplot(111)\n",
        "\n",
        "    # Axis ranges\n",
        "    ax.axis([xrange[0]-0.5, xrange[1]+0.5, -0.1, 1.1])\n",
        "\n",
        "    # Plot a grid\n",
        "    ax.grid(True)\n",
        "\n",
        "    # Insert lines at x=0 and y=0\n",
        "    ax.axhline(0.,linewidth=1, color = 'k', linestyle='dashed')\n",
        "    ax.axvline(0.,linewidth=1, color = 'k', linestyle='dashed')\n",
        "    \n",
        "    # Plot function\n",
        "    for a in x:\n",
        "        plt.annotate(text='', xy=(a,0.), xytext=(a,1.), arrowprops=dict(color = 'blue', arrowstyle='<-'))\n",
        "    \n",
        "\n",
        "    plt.title(\"Shah\", fontsize=14,color='black')\n",
        "    \n",
        "    ax.text(-7.5, (np.sinc(0)-np.sinc(1.5))/2., r'$III(x) = \\sum_{m=-\\infty}^{+\\infty} \\delta(x-m)$', \\\n",
        "            fontsize = 16, horizontalalignment = 'left', verticalalignment = 'top', color = 'black')\n",
        "\n",
        "    \n",
        "plotshah()\n",
        "# <a id='math:fig:shah'></a><!--\\label{math:fig:shah}-->"
      ]
    },
    {
      "cell_type": "markdown",
      "metadata": {},
      "source": [
        "**Figure 2.2.5:** Shah Function. The arrows symbolise Dirac Delta-Functions."
      ]
    },
    {
      "cell_type": "markdown",
      "metadata": {},
      "source": [
        "It follows the scaling relation"
      ]
    },
    {
      "cell_type": "markdown",
      "metadata": {},
      "source": [
        "<a id='math:eq:2_031'></a><!--\\label{math:eq:2_031}-->$$\n",
        "\\begin{split}\n",
        "III_a(x)\\,&=\\,III(ax)\\\\\n",
        "&=\\,\\sum_{m=-\\infty}^{+\\infty}\\delta(ax-m)\\\\\n",
        "&=\\,\\sum_{m=-\\infty}^{+\\infty}\\delta\\left(a\\left(x-\\frac{m}{a}\\right)\\right)\\\\\n",
        "&=\\,\\sum_{m=-\\infty}^{+\\infty}\\frac{1}{\\lvert a \\rvert}\\delta\\left(x-\\frac{m}{a}\\right)\n",
        "\\end{split}\\qquad ,\n",
        "$$"
      ]
    },
    {
      "cell_type": "markdown",
      "metadata": {},
      "source": [
        "This defines the scaled shah function $III_a$ with period $\\frac{1}{\\lvert a \\rvert}$. It is easy to see that the following rules apply: "
      ]
    },
    {
      "cell_type": "markdown",
      "metadata": {},
      "source": [
        "<a id='math:eq:2_032'></a><!--\\label{math:eq:2_032}-->$$\n",
        "\\forall x \\in \\mathbb{R}, \\,a \\in \\mathbb{R}^+, \\,n \\in \\mathbb{Z}\\\\\n",
        "\\begin{split}\n",
        "III_a(-x)\\,&=\\,III_a(x)\\\\\n",
        "III_a\\left(x + \\frac{n}{a}\\right)\\,&=\\,III_a(x)\\\\\n",
        "III_a\\left(x - \\frac{1}{2a}\\right)\\,&=\\,III_a\\left(x + \\frac{1}{2a}\\right)\\\\\n",
        "\\end{split}\n",
        "$$"
      ]
    },
    {
      "cell_type": "markdown",
      "metadata": {},
      "source": [
        "### 2.2.6. Boxcar and rectangle function<a id='math:sec:boxcar_and_rectangle_function'></a>"
      ]
    },
    {
      "cell_type": "markdown",
      "metadata": {},
      "source": [
        "The boxcar function is defined as"
      ]
    },
    {
      "cell_type": "markdown",
      "metadata": {},
      "source": [
        "<a id='math:eq:2_033'></a><!--\\label{math:eq:2_033}-->$$\n",
        "\\forall a,b \\in \\mathbb{R}, a \\le b\\\\\n",
        "\\begin{split}\n",
        "\\Pi_{a,b}(x)   &= \\, H(x-a) - H(x-b) \\\\\n",
        "&=\\,\\left \\{\n",
        "     \\begin{array}{lll}\n",
        "    0 & {\\rm for} & x < a \\\\\n",
        "    1 & {\\rm for} & a \\le x \\le b \\\\\n",
        "    0 & {\\rm for} & x > b \\\\\n",
        "\\end{array} \\right. \\end{split}\n",
        "$$"
      ]
    },
    {
      "cell_type": "markdown",
      "metadata": {},
      "source": [
        "A special class of boxcar is the rectangle boxcar function $\\Pi$ is defined as"
      ]
    },
    {
      "cell_type": "markdown",
      "metadata": {},
      "source": [
        "<a id='math:eq:2_034'></a><!--\\label{math:eq:2_034}-->$$\n",
        "\\begin{split}\n",
        "    \\Pi(x)   &= \\Pi_{-\\frac{1}{2},+\\frac{1}{2}}(x)\\\\\n",
        "&=\\,H\\left(x-\\frac{1}{2}\\right) - H\\left(x+\\frac{1}{2}\\right) \\\\\n",
        "&=\\,\\left \\{\n",
        "     \\begin{array}{lll}\n",
        "    0 & {\\rm for} & x < -\\frac{1}{2} \\\\\n",
        "    1 & {\\rm for} & -\\frac{1}{2} \\le x \\le \\frac{1}{2} \\\\\n",
        "    0 & {\\rm for} & x > \\frac{1}{2} \\\\\n",
        "\\end{array} \\right. \n",
        "\\end{split}\n",
        "$$"
      ]
    },
    {
      "cell_type": "code",
      "execution_count": null,
      "metadata": {
        "scrolled": false
      },
      "outputs": [],
      "source": [
        "import math\n",
        "\n",
        "from matplotlib import rcParams\n",
        "rcParams['text.usetex'] = True\n",
        "\n",
        "def boxcar(x,a,b):\n",
        "    return np.logical_and(x>=a,x<=b)\n",
        "    \n",
        "def plotboxcar():\n",
        "\n",
        "    # limits of boxcar\n",
        "    a = -0.5\n",
        "    b = 0.5\n",
        "    # Plotting range\n",
        "    xrange = [-1.5, 1.5]\n",
        "\n",
        "    # Create Gaussian\n",
        "    xpoints = 900\n",
        "    \n",
        "    x = np.linspace(xrange[0], xrange[1], xpoints)\n",
        "    y = boxcar(x, a, b)\n",
        "\n",
        "    #b = np.delete(a, [2,3,6])\n",
        "    # Start the plot, create a figure instance and a subplot\n",
        "    fig = plt.figure()\n",
        "    ax  = fig.add_subplot(111)\n",
        "\n",
        "    # Axis ranges\n",
        "    ax.axis([xrange[0], xrange[1], -0.1, 1.1])\n",
        "\n",
        "    # Plot a grid\n",
        "    ax.grid(True)\n",
        "\n",
        "    # Insert lines at x=0 and y=0\n",
        "    ax.axhline(0.,linewidth=1, color = 'k', linestyle='dashed')\n",
        "    ax.axvline(0.,linewidth=1, color = 'k', linestyle='dashed')\n",
        "    \n",
        "    # Plot function\n",
        "    e1 = int(math.ceil(xpoints*(a-xrange[0])/(xrange[1]-xrange[0])))\n",
        "    ax.plot(x[:e1],y[:e1],'b-')\n",
        "    ax.plot([a, a],[0., 1.],'b--')\n",
        "    e2 = int(math.floor(xpoints*(b-xrange[0])/(xrange[1]-xrange[0])))\n",
        "    ax.plot(x[e1:e2],y[e1:e2],'b-')\n",
        "    e3 = xpoints\n",
        "    ax.plot(x[e2:],y[e2:],'b-')\n",
        "    ax.plot([b, b],[0., 1.],'b--')\n",
        "\n",
        "    plt.title(\"Rectangle function\", fontsize=14,color='black')\n",
        "    \n",
        "    ax.text(-3.5, (np.sinc(0)-np.sinc(1.5))/2., \\\n",
        "            r'$\\Pi(x) = \\left\\{ \\begin{array}{lll}0 & {\\rm for} & x < \\frac{1}{2} \\\\1 & {\\rm for} & -\\frac{1}{2} \\le x \\le +\\frac{1}{2}\\\\0 & {\\rm for} & x > \\frac{1}{2} \\end{array}\\right.$', fontsize = 14, horizontalalignment = 'left', verticalalignment = 'top', color = 'black')\n",
        "    \n",
        "plotboxcar()\n",
        "# <a id='math:fig:rect'></a><!--\\label{math:fig:rect}-->"
      ]
    },
    {
      "cell_type": "markdown",
      "metadata": {},
      "source": [
        "**Figure 2.2.6:** Rectangle Function, aspecial case of the boxcar function."
      ]
    },
    {
      "cell_type": "markdown",
      "metadata": {},
      "source": [
        "***\n",
        "\n",
        "* Next: [2.3 Fourier Series](2_3_fourier_series.ipynb)"
      ]
    }
  ],
  "metadata": {
    "kernelspec": {
      "display_name": "testament",
      "language": "python",
      "name": "testament"
    },
    "language_info": {
      "codemirror_mode": {
        "name": "ipython",
        "version": 3
      },
      "file_extension": ".py",
      "mimetype": "text/x-python",
      "name": "python",
      "nbconvert_exporter": "python",
      "pygments_lexer": "ipython3",
      "version": "3.8.10"
    }
  },
  "nbformat": 4,
  "nbformat_minor": 1
}