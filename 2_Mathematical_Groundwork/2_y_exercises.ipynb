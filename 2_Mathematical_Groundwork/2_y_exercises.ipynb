{
  "cells": [
    {
      "cell_type": "markdown",
      "metadata": {},
      "source": [
        "***\n",
        "\n",
        "* [Outline](../0_Introduction/0_introduction.ipynb)\n",
        "* [Glossary](../0_Introduction/1_glossary.ipynb)\n",
        "* [2. Mathematical Groundwork](2_0_introduction.ipynb)\n",
        "    * Previous: [2.x Further reading and references](2_x_further_reading_and_references.ipynb)\n",
        "    * Next: [3. Positional Astronomy](3_0_introduction.ipynb)\n",
        "\n",
        "***"
      ]
    },
    {
      "cell_type": "markdown",
      "metadata": {},
      "source": [
        "Import standard modules:"
      ]
    },
    {
      "cell_type": "code",
      "execution_count": null,
      "metadata": {},
      "outputs": [],
      "source": [
        "import numpy as np\n",
        "import matplotlib.pyplot as plt\n",
        "%matplotlib inline\n",
        "from IPython.display import HTML \n",
        "#HTML('../style/course.css') #apply general CSS\n",
        "HTML('../style/code_toggle.html')"
      ]
    },
    {
      "cell_type": "markdown",
      "metadata": {},
      "source": [
        "Import section specific modules:"
      ]
    },
    {
      "cell_type": "code",
      "execution_count": null,
      "metadata": {},
      "outputs": [],
      "source": [
        "pass"
      ]
    },
    {
      "cell_type": "markdown",
      "metadata": {},
      "source": [
        "## 2.y. Exercises<a id='math:sec:exercises'></a><!--\\label{math:sec:exercises}-->"
      ]
    },
    {
      "cell_type": "markdown",
      "metadata": {},
      "source": [
        "We provide a small set of exercises suitable for an interferometry course."
      ]
    },
    {
      "cell_type": "markdown",
      "metadata": {},
      "source": [
        "### 2.y.1. Fourier transforms and convolution: Fourier transform of the triangle function<a id='math:sec:exercises_fourier_triangle'></a><!--\\label{math:sec:exercises_fourier_triangle}-->"
      ]
    },
    {
      "cell_type": "markdown",
      "metadata": {},
      "source": [
        "Consider the triangle function given below."
      ]
    },
    {
      "cell_type": "code",
      "execution_count": null,
      "metadata": {},
      "outputs": [],
      "source": [
        "def plotviewgraph(fig, ax, xmin = 0, xmax = 1., ymin = 0., ymax = 1.):\n",
        "    \"\"\"\n",
        "    Prepare a viewvgraph for plotting a function\n",
        "    \n",
        "    Parameters:\n",
        "    fig:          Matplotlib figure\n",
        "    ax:           Matplotlib subplot\n",
        "    xmin (float): Minimum of range\n",
        "    xmax (float): Maximum of range\n",
        "    ymin (float): Minimum of function\n",
        "    ymax (float): Maximum of function\n",
        "\n",
        "    return: axis and vertical and horizontal tick length\n",
        "    \"\"\"\n",
        "    \n",
        "    # Axis ranges\n",
        "    ax.axis([xmin-0.1*(xmax-xmin), xmax+0.1*(xmax-xmin), -0.2*(ymax-ymin), ymax])\n",
        "    ax.axis('off')\n",
        "\n",
        "    # get width and height of axes object to compute, see https://3diagramsperpage.wordpress.com/2014/05/25/arrowheads-for-axis-in-matplotlib/\n",
        "\n",
        "    # matching arrowhead length and width\n",
        "    dps = fig.dpi_scale_trans.inverted()\n",
        "    bbox = ax.get_window_extent().transformed(dps)\n",
        "    width, height = bbox.width, bbox.height\n",
        " \n",
        "    # manual arrowhead width and length\n",
        "    hw = 1./15.*(ymax-ymin) \n",
        "    hl = 1./30.*(xmax-xmin)\n",
        "    lw = 1. # axis line width\n",
        "    ohg = 0.3 # arrow overhang\n",
        " \n",
        "    # compute matching arrowhead length and width\n",
        "    yhw = hw/(ymax-ymin)*(xmax-xmin)* height/width \n",
        "    yhl = hl/(xmax-xmin)*(ymax-ymin)* width/height\n",
        "\n",
        "    # Draw arrows\n",
        "    ax.arrow(xmin-0.1*(xmax-xmin),0, 1.2*(xmax-xmin),0, fc='k', ec='k', lw = lw, \n",
        "         head_width=hw, head_length=hl, overhang = ohg, \n",
        "         length_includes_head= True, clip_on = False)\n",
        "    ax.arrow(0,ymin-0.1*(ymax-ymin), 0., 1.4*(ymax-ymin), fc='k', ec='k', lw = lw, \n",
        "         head_width=yhw, head_length=yhl, overhang = ohg, \n",
        "         length_includes_head= True, clip_on = False)\n",
        "    \n",
        "    # Draw ticks for A, -A, and B\n",
        "    twv = 0.01*height # vertical tick width\n",
        "    twh = twv*(xmax-xmin)/(ymax-ymin)/ width*height\n",
        "        \n",
        "    return twv, twh\n",
        "\n",
        "def plottriangle():\n",
        "    \n",
        "    A = 1.\n",
        "    B = 1.\n",
        "    \n",
        "    # Start the plot, create a figure instance and a subplot\n",
        "    fig = plt.figure(figsize=(20,5))\n",
        "    ax  = fig.add_subplot(111)\n",
        "    \n",
        "    twv, twh = plotviewgraph(fig, ax, xmin = -A, xmax = A, ymin = 0., ymax = B)\n",
        "    \n",
        "    ticx = [[-A,'-A'],[A,'A']]\n",
        "    \n",
        "    for tupel in ticx:\n",
        "        ax.plot([tupel[0],tupel[0]],[-twv, twv], 'k-')\n",
        "        ax.text(tupel[0], 0.-twh, tupel[1], fontsize = 24, horizontalalignment = 'left', verticalalignment = 'top', color = 'black')\n",
        "    \n",
        "    ticy = [[B,'B']]\n",
        "    for tupel in ticy:\n",
        "        ax.plot([-twh, twh], [tupel[0], tupel[0]], 'k-')\n",
        "        ax.text(0.+twv, tupel[0], tupel[1], fontsize = 24, horizontalalignment = 'left', verticalalignment = 'bottom', color = 'black')\n",
        "\n",
        "    \n",
        "    # Plot the function\n",
        "    ax.plot([-A,0.,A],[0., B, 0.], 'r-', lw = 2)\n",
        "\n",
        "    # Annotate axes\n",
        "    ax.text(0.-twh, 1.2*(B), r'$f(x)$', fontsize = 24, horizontalalignment = 'right', verticalalignment = 'bottom', color = 'black')\n",
        "    ax.text(1.2*B, 0., r'$x$', fontsize = 24, horizontalalignment = 'left', verticalalignment = 'top', color = 'black')\n",
        "\n",
        "    \n",
        "    # Show amplitude\n",
        "#    plt.annotate(s='', xy=(mu+2*sigma,0.), xytext=(mu+2*sigma,a), \\\n",
        "#                 arrowprops=dict(color = 'magenta', arrowstyle='<->'))\n",
        "#    ax.text(mu+2*sigma+sigma/10., a/2, '$a$', fontsize = 12, horizontalalignment = 'left', \\\n",
        "#            verticalalignment = 'center', color = 'magenta')\n",
        "\n",
        "    \n",
        "plottriangle()\n",
        "# <a id='math:fig:triangle'></a><!--\\label{math:fig:triangle}-->"
      ]
    },
    {
      "cell_type": "markdown",
      "metadata": {},
      "source": [
        "**Figure 2.y.1:** Triangle function with width $2A$ and amplitude $B$.<a id='math:fig:triangle'></a><!--\\label{math:fig:triangle}-->"
      ]
    },
    {
      "cell_type": "markdown",
      "metadata": {},
      "source": [
        "<b>Assignments:</b>\n",
        "<ol type=\"A\">\n",
        "  <li>What can you tell about the complex part of the Fourier transform of $f$ using the symmetry of the function?</li>\n",
        "  <li>Write down the function $f$ in two ways, once as a piece-wise defined function, once as a convolution of the rectangle function with itself.</li>\n",
        "  <li>Calculate the Fourier transform, making use of expressing f as a convolution of a boxcar function with itself and using the convolution theorem.</li>\n",
        "</ol>"
      ]
    },
    {
      "cell_type": "markdown",
      "metadata": {},
      "source": [
        "#### 2.y.1.1 Fourier transform of the triangle function: example answer to assignment 1.<a id='math:sec:exercises_fourier_triangle_a'></a><!--\\label{math:sec:exercises_fourier_triangle_a}-->"
      ]
    },
    {
      "cell_type": "markdown",
      "metadata": {},
      "source": [
        "<b>What can you tell about the complex part and the symmetry of the Fourier transform of $f$ using the symmetry of the function?</b>"
      ]
    },
    {
      "cell_type": "markdown",
      "metadata": {},
      "source": [
        "The function is real-valued ($f^*(x)\\,=\\,f(x)$) and even ($f(x)\\,=\\,f(-x)$), so it is Hermetian ($f^*(x)\\,=\\,f(-x)$, [see definition here &#10142;](2_4_the_fourier_transform.ipynb#math:sec:fourier_transforms_of_real_valued_and_hermetian_functions) <!--\\ref{math:sec:fourier_transforms_of_real_valued_and_hermetian_functions}-->). According to [Sect. 2.4.6 &#10142;](2_4_the_fourier_transform.ipynb#math:sec:fourier_transforms_of_real_valued_and_hermetian_functions)<!--\\ref{math:sec:fourier_transforms_of_real_valued_and_hermetian_functions}-->, this means that the Fourier transform is a <b>real-valued</b> function (because it is the Fourier transform of a Hermetian function) and also Hermetian (because it is the Fourier transform of a real-valued function). Hence it is also <b>even</b> ($f^*(x)\\,=\\,f(x) \\,\\land\\, f^*(x)\\,=\\,f(-x)\\,\\Rightarrow\\,f(x)\\,=\\,f(-x)$). Real-valued means that the complex part of $f$ is $0$."
      ]
    },
    {
      "cell_type": "markdown",
      "metadata": {},
      "source": [
        "#### 2.y.1.2 Fourier transform of the triangle function: example answer to assignment 2.<a id='math:sec:exercises_fourier_triangle_b'></a><!--\\label{math:sec:exercises_fourier_triangle_b}-->"
      ]
    },
    {
      "cell_type": "markdown",
      "metadata": {},
      "source": [
        "<b>Write down the function $f$ in two ways, once as a piece-wise defined function, once as a convolution of the rectangle function with itself.</b>"
      ]
    },
    {
      "cell_type": "markdown",
      "metadata": {},
      "source": [
        "Part one is straightforward:"
      ]
    },
    {
      "cell_type": "markdown",
      "metadata": {},
      "source": [
        "<a id='math:eq:y_001'></a><!--\\label{math:eq:y_001}-->$$\n",
        "\\begin{align*}\n",
        "f(x)   &= \\left \\{\n",
        "     \\begin{array}{lll}\n",
        "    B-\\frac{B}{A}|x| & {\\rm for} & |x| \\leq A\\\\\n",
        "    0 & {\\rm for} & |x| > A\n",
        "\\end{array}\\right .\n",
        "\\end{align*}\n",
        "$$"
      ]
    },
    {
      "cell_type": "markdown",
      "metadata": {},
      "source": [
        "The solution to part two, using the definition as given in [Sect. 2.4.6 &#10142;](2_2_important_functions.ipynb#math:sec:boxcar_and_rectangle_function)<!--\\ref{math:sec:boxcar_and_rectangle_function}-->"
      ]
    },
    {
      "cell_type": "markdown",
      "metadata": {},
      "source": [
        "<a id='math:eq:y_002'></a><!--\\label{math:eq:y_002}-->\n",
        "$$\n",
        "\\begin{align*}\n",
        "    f(x)   \\,&=\\,\\frac{B}{A}\\cdot  \\Pi_{-\\frac{A}{2},\\frac{A}{2}}\\circ \\Pi_{-\\frac{A}{2},\\frac{A}{2}}(x)\\\\\n",
        "&=\\,\\frac{B}{A}\\cdot\\Pi_A\\circ \\Pi_A\\,\\,\\, {\\rm , where} \\,\\,\\,\\Pi_A(x) \\,=\\,\\Pi(\\frac{x}{A})\\\\\n",
        "\\end{align*}\n",
        "$$"
      ]
    },
    {
      "cell_type": "markdown",
      "metadata": {},
      "source": [
        "requires a little calculation, but is straightforward. Using the [definition of the boxcar function &#10142;](2_2_important_functions.ipynb#math:sec:boxcar_and_rectangle_function) <!--\\ref{math:sec:boxcar_and_rectangle_function}--> and the [definition of the convolution &#10142;](2_5_convolution.ipynb#math:sec:definition_of_the_convolution) <!--\\ref{math:sec:definition_of_the_convolution}-->, one can see:"
      ]
    },
    {
      "cell_type": "markdown",
      "metadata": {},
      "source": [
        "<a id='math:eq:y_003'></a><!--\\label{math:eq:y_003}-->\n",
        "$$\n",
        "\\begin{align*}\n",
        "\\Pi_{-\\frac{A}{2},\\frac{A}{2}}\\circ \\Pi_{-\\frac{A}{2},\\frac{A}{2}}(x)\\,& =\\,  \\int_{-\\infty}^{\\infty}\\Pi_{-\\frac{A}{2},\\frac{A}{2}}(t)\\Pi_{-\\frac{A}{2},\\frac{A}{2}}(x-t)\\,dt\\\\\n",
        "& =\\,  \\int_{-\\frac{A}{2}}^{\\frac{A}{2}}\\Pi_{-\\frac{A}{2},\\frac{A}{2}}(x-t)\\,dt\\\\\n",
        "& \\underset{u\\,=\\,x-t}{=} \\, \\int_{u(-\\frac{A}{2})}^{u(\\frac{A}{2})}\\Pi_{-\\frac{A}{2},\\frac{A}{2}}(u)\\frac{dx}{du}\\,du\\\\\n",
        "& =\\, \\int_{x+\\frac{A}{2}}^{x-\\frac{A}{2}}\\Pi_{-\\frac{A}{2},\\frac{A}{2}}(u)\\cdot(-1)du\\\\\n",
        "& =\\, \\int_{x-\\frac{A}{2}}^{x+\\frac{A}{2}}\\Pi_{-\\frac{A}{2},\\frac{A}{2}}(u)du\\\\\n",
        "\\end{align*}\n",
        "$$"
      ]
    },
    {
      "cell_type": "markdown",
      "metadata": {},
      "source": [
        "and, accordingly"
      ]
    },
    {
      "cell_type": "markdown",
      "metadata": {},
      "source": [
        "<a id='math:eq:y_004'></a><!--\\label{math:eq:y_004}-->\n",
        "\\begin{align*}\n",
        "|x| \\,>\\, A \\,&\\Rightarrow\\,\\Pi_{-\\frac{A}{2},\\frac{A}{2}}\\circ \\Pi_{-\\frac{A}{2},\\frac{A}{2}}(x)\\, =\\,  0\\\\\n",
        "-A\\,\\leq\\,x\\,\\leq 0\\,&\\Rightarrow \\,\\Pi_{-\\frac{A}{2},\\frac{A}{2}}\\circ \\Pi_{-\\frac{A}{2},\\frac{A}{2}}(x)\\,=\\,\\int_{-\\frac{A}{2}}^{x+\\frac{A}{2}}du\\,=\\,A+x\\\\\n",
        "0\\,\\leq\\,x\\,\\leq A\\,&\\Rightarrow \\,\\Pi_{\\frac{A}{2},\\frac{A}{2}}\\circ \\Pi_{-\\frac{A}{2},\\frac{A}{2}}(x)\\,=\\,\\int_{x-\\frac{A}{2}}^{\\frac{A}{2}}du\\,=\\,A-x\\\\\n",
        "\\end{align*}"
      ]
    },
    {
      "cell_type": "markdown",
      "metadata": {},
      "source": [
        "This is identical to [above piece-wise definition &#10549;](2_y_exercises.ipynb#math:sec:math:eq:y_001)."
      ]
    },
    {
      "cell_type": "markdown",
      "metadata": {},
      "source": [
        "#### 2.y.1.3 Fourier transform of the triangle function: example answer to assignment 3.<a id='math:sec:exercises_fourier_triangle_c'></a><!--\\label{math:sec:exercises_fourier_triangle_c}-->"
      ]
    },
    {
      "cell_type": "markdown",
      "metadata": {},
      "source": [
        "We know that ([convolution theorem &#10142;](2_7_fourier_theorems.ipynb#math:sec:convolution_theorem)<!--\\ref{math:sec:convolution_theorem}-->, [similarity theorem &#10142;](2_7_fourier_theorems.ipynb#math:sec:similarity_theorem)<!--\\ref{math:sec:similarity_theorem}-->, [definition of the triangle function &#10549;](#math:eq:y_002)<!--\\ref{math:eq:y_002}-->, [Fourier transform of the rectangle boxcar function &#10142;](2_4_the_fourier_transform.ipynb#math:sec:fourier_transform_of_the_rectangle_and_the_sinc_function)<!--\\ref{math:sec:convolution_theorem}-->):"
      ]
    },
    {
      "cell_type": "markdown",
      "metadata": {},
      "source": [
        "<a id='math:eq:y_005'></a><!--\\label{math:eq:y_005}-->$$\n",
        "\\begin{align*}\n",
        "\\mathscr{F}\\{h\\circ g\\}\\,&=\\,\\mathscr{F}\\{h\\}\\cdot\\mathscr{F}\\{g\\}\\\\\n",
        "g\\,=\\,h(ax) \\,&\\Rightarrow\\, \\mathscr{F}\\{g\\}(s) = \\frac{1}{|a|}\\mathscr{F}\\{h\\}(\\frac{s}{a})\\\\\n",
        "f(x) \\,&=\\, \\frac{B}{A}\\Pi_A\\circ\\Pi_A(x)\\\\\n",
        "\\Pi_A(x)\\,&=\\,\\Pi(\\frac{x}{A})\\\\\n",
        "\\mathscr{F}\\{\\Pi\\}(s) \\,&=\\,{\\rm sinc}(s) \\\\\n",
        "\\end{align*}\n",
        "$$"
      ]
    },
    {
      "cell_type": "markdown",
      "metadata": {},
      "source": [
        "This makes our calculations a lot shorter."
      ]
    },
    {
      "cell_type": "markdown",
      "metadata": {},
      "source": [
        "<a id='math:eq:y_006'></a><!--\\label{math:eq:y_006}-->$$\n",
        "\\begin{align*}\n",
        "\\mathscr{F}\\{f\\}(s)\\,&=\\,\\mathscr{F}\\{\\frac{B}{A}\\Pi_A\\circ\\Pi_A\\}(s)\\\\\n",
        "&=\\,\\frac{B}{A}\\mathscr{F}\\{\\Pi_A\\}(s)\\cdot\\mathscr{F}\\{\\Pi_A\\}(s)\\\\\n",
        "&=\\,\\frac{B}{A}\\mathscr{F}\\{A\\Pi\\}(As)\\cdot\\mathscr{F}\\{A\\Pi_A\\}(As)\\\\\n",
        "&=\\,AB\\,\\mathscr{F}\\{\\Pi\\}(As)\\cdot\\mathscr{F}\\{\\Pi\\}(As)\\\\\n",
        "&=\\,AB\\,{\\rm sinc}(As)\\cdot{\\rm sinc}(As)\\\\\n",
        "&=\\,AB\\,{\\rm sinc}^2(As)\\\\\n",
        "&=\\,AB\\,\\frac{sin^2 A\\pi s}{A^2\\pi^2 s^2}\\\\\n",
        "\\end{align*}$$"
      ]
    },
    {
      "cell_type": "markdown",
      "metadata": {},
      "source": [
        "So the solution looks like this:"
      ]
    },
    {
      "cell_type": "code",
      "execution_count": null,
      "metadata": {},
      "outputs": [],
      "source": [
        "def plotfftriangle():\n",
        "    \n",
        "    A = 1.\n",
        "    B = 1.\n",
        "    \n",
        "    # Start the plot, create a figure instance and a subplot\n",
        "    fig = plt.figure(figsize=(20,5))\n",
        "    ax  = fig.add_subplot(111)\n",
        "\n",
        "    \n",
        "    twv, twh = plotviewgraph(fig, ax, xmin = -3./A, xmax = 3./A, ymin = -0.3, ymax = B)    \n",
        "    ticx = [[-A,r'$-\\frac{1}{A}$'],[A,'A']]\n",
        "    \n",
        "    ticx = [[-3.*A, r'$\\frac{-3}{A}$'], [-2.*A, r'$\\frac{-2}{A}$'], [-1./A, r'$\\frac{-1}{A}$'], [1./A, r'$\\frac{1}{A}$'], [2./A, r'$\\frac{2}{A}$'], [3./A, r'$\\frac{3}{A}$']]\n",
        "    for tupel in ticx:\n",
        "        ax.plot([tupel[0],tupel[0]],[-twv, twv], 'k-')\n",
        "        ax.text(tupel[0], 0.-2.*twh, tupel[1], fontsize = 24, horizontalalignment = 'center', verticalalignment = 'top', color = 'black')\n",
        "    \n",
        "    ticx = [[0.,r'$0$']]\n",
        "    for tupel in ticx:\n",
        "        ax.plot([tupel[0],tupel[0]],[-twv, twv], 'k-')\n",
        "        ax.text(tupel[0]+twh, 0.-2.*twh, tupel[1], fontsize = 24, horizontalalignment = 'left', verticalalignment = 'top', color = 'black')\n",
        "\n",
        "    \n",
        "    ticy = [[B,r'$\\frac{B}{A}$']]\n",
        "    for tupel in ticy:\n",
        "        ax.plot([-twh, twh], [tupel[0], tupel[0]], 'k-')\n",
        "        ax.text(0.+twv, tupel[0], tupel[1], fontsize = 24, horizontalalignment = 'left', verticalalignment = 'bottom', color = 'black')\n",
        "\n",
        "    # Plot the function\n",
        "    x = np.linspace(-4.*A, 4.*A, 900)\n",
        "    y = np.power(np.sinc(x),2)\n",
        "\n",
        "    # Annotate axes\n",
        "    ax.text(0.-A/20, 1.2*(B), r'$f(x)$', fontsize = 24, horizontalalignment = 'right', verticalalignment = 'bottom', color = 'black')\n",
        "    ax.text(1.2*3.*A, 0., r'$x$', fontsize = 24, horizontalalignment = 'left', verticalalignment = 'top', color = 'black')\n",
        "    \n",
        "    ax.plot(x, y, 'r-', lw = 2)\n",
        "        \n",
        "plotfftriangle()\n",
        "# <a id='math:fig:fftriangle'></a><!--\\label{math:fig:fftriangle}-->"
      ]
    },
    {
      "cell_type": "markdown",
      "metadata": {},
      "source": [
        "**Figure 2.y.2:** Triangle function with width $2A$ and amplitude $B$.<a id='math:fig:ft_of_triangle'></a><!--\\label{math:fig:ft_of_triangle}-->"
      ]
    },
    {
      "cell_type": "markdown",
      "metadata": {},
      "source": [
        "### 2.y.2. Fourier transforms and convolution: Convolution of two functions with finite support<a id='math:sec:exercises_convolution_of_two_functions_with_finite_support'></a><!--\\label{math:sec:exercises_convolution_of_two_functions_with_finite_support}-->"
      ]
    },
    {
      "cell_type": "markdown",
      "metadata": {},
      "source": [
        "Consider the two functions given below:"
      ]
    },
    {
      "cell_type": "code",
      "execution_count": null,
      "metadata": {},
      "outputs": [],
      "source": [
        "def plotrectntria():\n",
        "    \n",
        "    A = 1.\n",
        "    B = 1.4\n",
        "    \n",
        "    # Start the plot, create a figure instance and a subplot\n",
        "    fig = plt.figure(figsize=(20,5))\n",
        "    ax  = fig.add_subplot(121)\n",
        "    \n",
        "    twv, twh = plotviewgraph(fig, ax, xmin = 0., xmax = 3.*A, ymin = 0., ymax = 3.)    \n",
        "\n",
        "    ticx = [[1.*A, r'$A$'], [2.*A, r'$2A$'], [3.*A, r'$3A$']]\n",
        "    for tupel in ticx:\n",
        "        ax.plot([tupel[0],tupel[0]],[-twv, twv], 'k-')\n",
        "        ax.text(tupel[0], 0.-2.*twh, tupel[1], fontsize = 24, horizontalalignment = 'center', verticalalignment = 'top', color = 'black')\n",
        "    \n",
        "    ticx = [[0.,r'$0$']]\n",
        "    for tupel in ticx:\n",
        "        ax.plot([-tupel[0],-tupel[0]],[-twv, twv], 'k-')\n",
        "        ax.text(tupel[0]+twh, 0.-2.*twh, tupel[1], fontsize = 24, horizontalalignment = 'left', verticalalignment = 'top', color = 'black')\n",
        "\n",
        "    \n",
        "    ticy = [[1,r'$1$'], [2.,r'$2$'], [3.,r'$3$']]\n",
        "    for tupel in ticy:\n",
        "        ax.plot([-twh, twh], [tupel[0], tupel[0]], 'k-')\n",
        "        ax.text(0.-twv, tupel[0], tupel[1], fontsize = 24, horizontalalignment = 'right', verticalalignment = 'center', color = 'black')\n",
        "\n",
        "    ticy = [[B, r'$B$']]\n",
        "    for tupel in ticy:\n",
        "        ax.plot([-twh, twh], [tupel[0], tupel[0]], 'k-')\n",
        "        ax.text(0.+twv, tupel[0], tupel[1], fontsize = 24, horizontalalignment = 'left', verticalalignment = 'bottom', color = 'black')\n",
        "\n",
        "        # Plot the function\n",
        "    x = [A, A, 2*A, 2*A]\n",
        "    y = [0., B, B, 0.]\n",
        "    ax.plot(x, y, 'r-', lw = 2)\n",
        "\n",
        "    x = [0., A]\n",
        "    y = [B, B]\n",
        "    ax.plot(x, y, 'k--', lw = 1)\n",
        "\n",
        "    # Annotate axes\n",
        "    ax.text(0.-3.*twh, 1.2*3., r'$g(x)$', fontsize = 24, horizontalalignment = 'right', verticalalignment = 'bottom', color = 'black')\n",
        "    ax.text(1.1*3.*A, 0., r'$x$', fontsize = 24, horizontalalignment = 'left', verticalalignment = 'top', color = 'black')\n",
        "    \n",
        "    ###################\n",
        "    \n",
        "    ax  = fig.add_subplot(122)\n",
        "\n",
        "    twv, twh = plotviewgraph(fig, ax, xmin = 0., xmax = 3.*A, ymin = 0., ymax = 3.)    \n",
        "\n",
        "    ticx = [[1.*A, r'$A$'], [2.*A, r'$2A$'], [3.*A, r'$3A$']]\n",
        "    for tupel in ticx:\n",
        "        ax.plot([tupel[0],tupel[0]],[-twv, twv], 'k-')\n",
        "        ax.text(tupel[0], 0.-2.*twh, tupel[1], fontsize = 24, horizontalalignment = 'center', verticalalignment = 'top', color = 'black')\n",
        "    \n",
        "    ticx = [[0.,r'$0$']]\n",
        "    for tupel in ticx:\n",
        "        ax.plot([-tupel[0],-tupel[0]],[-twv, twv], 'k-')\n",
        "        ax.text(tupel[0]+twh, 0.-2.*twh, tupel[1], fontsize = 24, horizontalalignment = 'left', verticalalignment = 'top', color = 'black')\n",
        "\n",
        "    \n",
        "    ticy = [[1,r'$1$'], [2.,r'$2$'], [3.,r'$3$']]\n",
        "    for tupel in ticy:\n",
        "        ax.plot([-twh, twh], [tupel[0], tupel[0]], 'k-')\n",
        "        ax.text(0.-twv, tupel[0], tupel[1], fontsize = 24, horizontalalignment = 'right', verticalalignment = 'center', color = 'black')\n",
        "\n",
        "\n",
        "        # Plot the function\n",
        "    x = [A, A, 2*A, 3*A, 3*A]\n",
        "    y = [0., 1., 3., 1., 0.]\n",
        "    ax.plot(x, y, 'r-', lw = 2)\n",
        "\n",
        "    x = [0., A]\n",
        "    y = [1., 1.]\n",
        "    ax.plot(x, y, 'k--', lw = 1)\n",
        "\n",
        "    x = [0., 2*A]\n",
        "    y = [3., 3.]\n",
        "    ax.plot(x, y, 'k--', lw = 1)\n",
        "\n",
        "    # Annotate axes\n",
        "    ax.text(0.-3.*twh, 1.2*3., r'$f(x)$', fontsize = 24, horizontalalignment = 'right', verticalalignment = 'bottom', color = 'black')\n",
        "    ax.text(1.1*3.*A, 0., r'$x$', fontsize = 24, horizontalalignment = 'left', verticalalignment = 'top', color = 'black')\n",
        "\n",
        "plotrectntria()\n",
        "# <a id='math:fig:two_fs_with_finite_support'></a><!--\\label{math:fig:two_fs_with_finite_support}-->"
      ]
    },
    {
      "cell_type": "markdown",
      "metadata": {},
      "source": [
        "**Figure 2.y.3:** Triangle function with width $2A$ and amplitude $B$.<a id='math:fig:two_fs_with_finite_support'></a><!--\\label{math:fig:two_fs_with_finite_support}-->"
      ]
    },
    {
      "cell_type": "markdown",
      "metadata": {},
      "source": [
        "<b>Assignments:</b>\n",
        "<ol type=\"A\">\n",
        "  <li>Write down the functions g and h.</li>\n",
        "  <li>Calculate their convolution.</li>\n",
        "</ol>"
      ]
    },
    {
      "cell_type": "markdown",
      "metadata": {},
      "source": [
        "#### 2.y.2.1 Convolution of two functions with finite support: example answer to assignment 1.<a id='math:sec:exercises_convolution_of_two_functions_with_finite_support_a'></a><!--\\label{math:sec:exercises_convolution_of_two_functions_with_finite_support_a}-->"
      ]
    },
    {
      "cell_type": "markdown",
      "metadata": {},
      "source": [
        "<b>Write down the functions g and h.</b>"
      ]
    },
    {
      "cell_type": "markdown",
      "metadata": {},
      "source": [
        "<a id='math:eq:y_007'></a><!--\\label{math:eq:y_007}-->$$\n",
        "\\begin{align*}\n",
        "h(x)   &= \\left \\{\n",
        "     \\begin{array}{lll}\n",
        "    B & {\\rm for} & A \\leq x \\leq 2A\\\\\n",
        "    0 & {\\rm else}\n",
        "\\end{array}\\right .\\\\\n",
        "g(x)   &= \\left \\{\n",
        "     \\begin{array}{lll}\n",
        "    g_1(x)\\,=\\,\\frac{2}{A}\\left(x-\\frac{A}{2}\\right) & {\\rm for} & A \\leq x \\leq 2A\\\\\n",
        "    g_2(x)\\,=\\,-\\frac{2}{A}\\left(x-\\frac{7A}{2}\\right) & {\\rm for} & 2A \\leq x \\leq 3A\\\\\n",
        "    0 & {\\rm else}\n",
        "\\end{array}\\right .\\\\\n",
        "\\end{align*}\n",
        "$$"
      ]
    },
    {
      "cell_type": "markdown",
      "metadata": {},
      "source": [
        "#### 2.y.2.2 Convolution of two functions with finite support: example answer to assignment 2.<a id='math:sec:exercises_convolution_of_two_functions_with_finite_support_b'></a><!--\\label{math:sec:exercises_convolution_of_two_functions_with_finite_support_b}-->"
      ]
    },
    {
      "cell_type": "markdown",
      "metadata": {},
      "source": [
        "We have to evaluate the integral (see [definition of the convolution &#10142;](2_5_convolution.ipynb#math:sec:definition_of_the_convolution) <!--\\ref{math:sec:definition_of_the_convolution}-->):"
      ]
    },
    {
      "cell_type": "markdown",
      "metadata": {},
      "source": [
        "<a id='math:eq:y_008'></a><!--\\label{math:eq:y_008}-->$$\n",
        "g\\circ h(x) \\, = \\, \\int_{-\\infty}^{\\infty}g(x-t)h(t)\\,dt\n",
        "$$"
      ]
    },
    {
      "cell_type": "markdown",
      "metadata": {},
      "source": [
        "To do so, we calculate the integral for ranges of $x$, depending on the supports (ranges where the function in non-zero) of $g(x-t)$ and $h(t)$, or $h_1(t)$ and $g_2(t)$ respectively."
      ]
    },
    {
      "cell_type": "markdown",
      "metadata": {},
      "source": [
        "As an aid, rewrite [above functions &#10549;](#math:eq:y_008)<!--\\ref{math:eq:y_008}-->:"
      ]
    },
    {
      "cell_type": "markdown",
      "metadata": {},
      "source": [
        "<a id='math:eq:y_009'></a><!--\\label{math:eq:y_009}-->$$\n",
        "\\begin{align*}\n",
        "g(x-t)   &= \\left \\{\n",
        "     \\begin{array}{lll}\n",
        "    B & {\\rm for} & -2A+x \\leq t \\leq -A+x\\\\\n",
        "    0 & {\\rm else}\n",
        "\\end{array}\\right .\\\\\n",
        "h(t)   &= \\left \\{\n",
        "     \\begin{array}{lll}\n",
        "    h_1(t)\\,=\\,\\frac{2}{A}\\left(t-\\frac{A}{2}\\right) & {\\rm for} & A \\leq t \\leq 2A\\\\\n",
        "    h_2(t)\\,=\\,-\\frac{2}{A}\\left(t-\\frac{7A}{2}\\right) & {\\rm for} & 2A \\leq t \\leq 3A\\\\\n",
        "    0 & {\\rm else}\n",
        "\\end{array}\\right .\\\\\n",
        "\\end{align*}\n",
        "$$"
      ]
    },
    {
      "cell_type": "markdown",
      "metadata": {},
      "source": [
        "Case 1:"
      ]
    },
    {
      "cell_type": "markdown",
      "metadata": {},
      "source": [
        "<a id='math:eq:y_010'></a><!--\\label{math:eq:y_010}-->$$\n",
        "\\begin{align*}\n",
        "x \\,&<\\, 2A\\qquad\\,\\Rightarrow\\\\\n",
        "g\\circ h(x) \\, &= \\, \\int_{-\\infty}^{A}g(x-t)h(t)\\,dt\\\\\n",
        "&=\\, 0\n",
        "\\end{align*}\n",
        "$$"
      ]
    },
    {
      "cell_type": "markdown",
      "metadata": {},
      "source": [
        "Case 2:"
      ]
    },
    {
      "cell_type": "markdown",
      "metadata": {},
      "source": [
        "<a id='math:eq:y_011'></a><!--\\label{math:eq:y_011}-->$$\n",
        "\\begin{align*}\n",
        "2A \\,&\\leq x \\,<\\, 3A\\qquad\\Rightarrow\\\\\n",
        "g\\circ h(x) \\, &= \\, \\int_{-\\infty}^{\\infty}g(x-t)h(t)\\,dt\\\\\n",
        "&=\\, \\int_{A}^{x-A}B\\,h_1(t)\\,dt\\,\\\\\n",
        "&=\\,\\int_{A}^{x-A}\\frac{2B}{A}\\left(t-\\frac{A}{2}\\right)\\,dt\\\\\n",
        "&=\\,\\frac{B}{A}\\left(x^2-3Ax+2A^2\\right)\\\\\n",
        "\\end{align*}$$"
      ]
    },
    {
      "cell_type": "markdown",
      "metadata": {},
      "source": [
        "Case 3:"
      ]
    },
    {
      "cell_type": "markdown",
      "metadata": {},
      "source": [
        "<a id='math:eq:y_012'></a><!--\\label{math:eq:y_012}-->$$\n",
        "\\begin{align*}\n",
        "3A \\,&\\leq\\, x \\,<\\, 4A\\qquad\\Rightarrow\\\\\n",
        "g\\circ h(x) \\, &=\\, \\int_{x-2A}^{2A}B\\,h_1(t)\\,dt+ \\int_{2A}^{x-A}B\\,h_2(t)\\,dt\\\\\n",
        "&=\\,\\int_{x-2A}^{2A}\\frac{2B}{A}\\left(t-\\frac{A}{2}\\right)\\,dt- \\int_{2A}^{x-A}\\frac{2B}{A}\\left(t-\\frac{7A}{2}\\right)\\,dt\\\\\n",
        "&=\\,\\frac{B}{A}\\left(-2x^2+14Ax-22A^2\\right)\\\\\n",
        "\\end{align*}\n",
        "$$"
      ]
    },
    {
      "cell_type": "markdown",
      "metadata": {},
      "source": [
        "Case 4:"
      ]
    },
    {
      "cell_type": "markdown",
      "metadata": {},
      "source": [
        "<a id='math:eq:y_013'></a><!--\\label{math:eq:y_013}-->$$\n",
        "\\begin{align*}\n",
        "4A \\,&\\leq x \\,<\\, 5A\\qquad\\Rightarrow\\\\\n",
        "g\\circ h(x) \\, &=\\, \\int_{x-2A}^{3A}B\\,h_2(t)\\,dt\\,=\\,\\int_{x-2A}^{3A}-\\frac{2B}{A}\\left(t-\\frac{7A}{2}\\right)\\,dt\\\\\n",
        "&=\\,\\frac{B}{A}\\left(x^2-11Ax+30A^2\\right)\\\\\n",
        "\\end{align*}\n",
        "$$"
      ]
    },
    {
      "cell_type": "markdown",
      "metadata": {},
      "source": [
        "Case 5:"
      ]
    },
    {
      "cell_type": "markdown",
      "metadata": {},
      "source": [
        "<a id='math:eq:y_014'></a><!--\\label{math:eq:y_014}-->$$\n",
        "\\begin{align*}\n",
        "5A&\\,\\leq\\,x\\qquad\\,\\Rightarrow\\\\\n",
        "g\\circ h(x) \\, &= \\, \\int_{3A}^{\\infty}g(x-t)h(t)\\,dt\\\\\n",
        "&=\\, 0\n",
        "\\end{align*}\n",
        "$$"
      ]
    },
    {
      "cell_type": "markdown",
      "metadata": {},
      "source": [
        "Summarising, the convolution of g and h results in the following composite function:"
      ]
    },
    {
      "cell_type": "markdown",
      "metadata": {},
      "source": [
        "<a id='math:eq:y_014'></a><!--\\label{math:eq:y_014}-->$$\n",
        "\\begin{align*}\n",
        "g\\circ h(x) \\, &=      \n",
        " \\frac{B}{A}\\left\\{\\begin{array}{lll}\n",
        "    0 & {\\rm for} & x < 2A \\\\\n",
        "   x^2-3Ax+2A^2 & {\\rm for} & 2A \\leq x < 3A\\\\\n",
        "   -2x^2+14Ax-22A^2 & {\\rm for} & 3A \\leq x < 4A\\\\\n",
        "   x^2-11Ax+30A^2 & {\\rm for} & 4A \\leq x < 5A\\\\\n",
        "    0 & {\\rm for} & 5A \\leq x \\\\\n",
        "\\end{array}\\right .\\\\\n",
        "\\end{align*}$$"
      ]
    },
    {
      "cell_type": "code",
      "execution_count": null,
      "metadata": {},
      "outputs": [],
      "source": [
        "def rectntriaconv(A,B,x):\n",
        "    \n",
        "    xn = x[x < (2*A)]\n",
        "    yn = xn*0.\n",
        "    y = yn\n",
        "    \n",
        "    xn = x[(x == 2*A) | (x > 2*A) & (x < 3*A)]\n",
        "    yn = (B/A)*(np.power(xn,2)-3*A*xn+2*np.power(A,2))\n",
        "    y = np.append(y,yn)\n",
        "        \n",
        "    xn = x[(x == 3*A) | (x > 3*A) & (x < 4*A)]\n",
        "    yn = (B/A)*((-2*np.power(xn,2))+14*A*xn-22*np.power(A,2))\n",
        "    y = np.append(y,yn)\n",
        "        \n",
        "    xn = x[(x == 4*A) | (x > 4*A) & (x < 5*A)]\n",
        "    yn = (B/A)*(np.power(xn,2)-11*A*xn+30*np.power(A,2))\n",
        "    y = np.append(y,yn)\n",
        "        \n",
        "    xn = x[(x == 5*A) | (x > 5*A)]\n",
        "    yn = xn*0.\n",
        "    y = np.append(y,yn)\n",
        "\n",
        "    return y\n",
        "\n",
        "def plotrectntriaconv():\n",
        "    A = 1.\n",
        "    B = 1.4\n",
        "    \n",
        "    # Start the plot, create a figure instance and a subplot\n",
        "    fig = plt.figure(figsize=(20,5))\n",
        "    ax  = fig.add_subplot(121)\n",
        "    \n",
        "    twv, twh = plotviewgraph(fig, ax, xmin = 0., xmax = 6.*A, ymin = 0., ymax = 2.5*A*B)    \n",
        "\n",
        "    ticx = [[1.*A, r'$A$'], [2.*A, r'$2A$'], [3.*A, r'$3A$'], [4.*A, r'$4A$'], [5.*A, r'$5A$'], [6.*A, r'$6A$']]\n",
        "    for tupel in ticx:\n",
        "        ax.plot([tupel[0],tupel[0]],[-twv, twv], 'k-')\n",
        "        ax.text(tupel[0], 0.-2.*twh, tupel[1], fontsize = 24, horizontalalignment = 'center', verticalalignment = 'top', color = 'black')\n",
        "    \n",
        "    ticx = [[0.,r'$0$']]\n",
        "    for tupel in ticx:\n",
        "        ax.plot([-tupel[0],-tupel[0]],[-twv, twv], 'k-')\n",
        "        ax.text(tupel[0]+twh, 0.-2.*twh, tupel[1], fontsize = 24, horizontalalignment = 'left', verticalalignment = 'top', color = 'black')\n",
        "    \n",
        "    ticy = [[2*A*B, r'$2AB$'], [2.5*A*B, r'$\\frac{5}{2}AB$']]\n",
        "    for tupel in ticy:\n",
        "        ax.plot([-twh, twh], [tupel[0], tupel[0]], 'k-')\n",
        "        ax.text(0.+5*twv, tupel[0], tupel[1], fontsize = 24, horizontalalignment = 'left', verticalalignment = 'bottom', color = 'black')\n",
        "\n",
        "    # Plot the function\n",
        "    x = np.linspace(0., 7.*A, 900)\n",
        "    y = rectntriaconv(A,B,x)\n",
        "    ax.plot(x, y, 'r-', lw = 2)\n",
        "\n",
        "    # Plot a few lines\n",
        "    x = [0., 4*A]\n",
        "    y = [2.*A*B, 2.*A*B]\n",
        "    ax.plot(x, y, 'k--', lw = 1)\n",
        "\n",
        "    x = [0., 3.5*A]\n",
        "    y = [2.5*A*B, 2.5*A*B]\n",
        "    ax.plot(x, y, 'k--', lw = 1)\n",
        "\n",
        "    x = [3.*A, 3.*A]\n",
        "    y = [0., 2.*A*B]\n",
        "    ax.plot(x, y, 'k--', lw = 1)\n",
        "\n",
        "    x = [4.*A, 4.*A]\n",
        "    y = [0., 2.*A*B]\n",
        "    ax.plot(x, y, 'k--', lw = 1)\n",
        "\n",
        "    \n",
        "    # Annotate axes\n",
        "    ax.text(0.-3.*twh, 1.25*2.5*A*B, r'$g\\circ h(x)$', fontsize = 24, horizontalalignment = 'right', verticalalignment = 'bottom', color = 'black')\n",
        "    ax.text(1.1*6.*A, 0., r'$x$', fontsize = 24, horizontalalignment = 'left', verticalalignment = 'top', color = 'black')\n",
        "\n",
        "plotrectntriaconv()\n",
        "# <a id='math:fig:two_fs_wfs'></a><!--\\label{math:fig:two_fs_wfs}-->"
      ]
    },
    {
      "cell_type": "markdown",
      "metadata": {},
      "source": [
        "**Figure 2.2.3:** Convolution of the two functions g and h from [Fig. 2.y.3 &#10549;](#math:fig:two_fs_with_finite_support) .<!--\\ref{math:fig:two_fs_with_finite_support}-->."
      ]
    },
    {
      "cell_type": "markdown",
      "metadata": {},
      "source": [
        "***\n",
        "\n",
        "* Next: [3. Positional Astronomy](3_0_introduction.ipynb)"
      ]
    }
  ],
  "metadata": {
    "kernelspec": {
      "display_name": "testament",
      "language": "python",
      "name": "testament"
    },
    "language_info": {
      "codemirror_mode": {
        "name": "ipython",
        "version": 3
      },
      "file_extension": ".py",
      "mimetype": "text/x-python",
      "name": "python",
      "nbconvert_exporter": "python",
      "pygments_lexer": "ipython3",
      "version": "3.8.10"
    }
  },
  "nbformat": 4,
  "nbformat_minor": 1
}