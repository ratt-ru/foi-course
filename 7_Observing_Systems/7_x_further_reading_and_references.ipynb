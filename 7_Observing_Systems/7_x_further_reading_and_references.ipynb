{
 "cells": [
  {
   "cell_type": "markdown",
   "metadata": {
    "collapsed": true
   },
   "source": [
    "***\n",
    "\n",
    "* [Outline](../0_Introduction/0_introduction.ipynb)\n",
    "* [Glossary](../0_Introduction/1_glossary.ipynb)\n",
    "* [7. Observing Systems](7_0_introduction.ipynb)  \n",
    "    * Previous: [7.8 Radio Frequency Interference (RFI)](7_8_rfi.ipynb)  \n",
    "    * Next: [Chapter 8: Calibration](../8_Calibration/8_0_Introduction.ipynb)\n",
    "\n",
    "***"
   ]
  },
  {
   "cell_type": "markdown",
   "metadata": {},
   "source": [
    "## 7.x Further Reading and References <a id='instrum:sec:refs'></a>"
   ]
  },
  {
   "cell_type": "markdown",
   "metadata": {},
   "source": [
    "### Radio Interferometry Measurement Equation (RIME)\n",
    "\n",
    "1. [<cite data-cite='2011A&A...527A.106S'>Revisiting the radio interferometer measurement equation. I. A full-sky Jones formalism</cite> &#10548;](http://adsabs.harvard.edu/abs/2011A%26A...527A.106S) : RIME starting point, basis for sections 7.1 and 7.2.\n",
    "2. [<cite data-cite='2011A&A...527A.107S'>Revisiting the radio interferometer measurement equation. II. Calibration and direction-dependent effects</cite> &#10548;](http://adsabs.harvard.edu/abs/2011A%26A...527A.107S) : RIME starting point, basis for sections 7.2.\n",
    "3. [<cite data-cite='2011A&A...527A.108S'>Revisiting the radio interferometer measurement equation. III. Addressing direction-dependent effects in 21 cm WSRT observations of 3C 147</cite> &#10548;](http://adsabs.harvard.edu/abs/2011A%26A...527A.108S) : test case exampe for applying direction-dependent effects.\n",
    "4. [<cite data-cite='2011A&A...531A.159S'>Revisiting the radio interferometer measurement equation. IV. A generalized tensor formalism</cite> &#10548;](http://adsabs.harvard.edu/abs/2011A%26A...531A.159S) : Generalization of the RIME.\n",
    "5. [<cite data-cite='1996A&AS..117..137H'>Understanding radio polarimetry. I. Mathematical foundations.</cite> &#10548;](http://adsabs.harvard.edu/abs/1996A%26AS..117..137H) : Original work defining the RIME.\n",
    "\n",
    "### Electronics\n",
    "\n",
    "1. [<cite data-cite='horowitz2015art'>The Art of Electronics</cite> &#10548;](http://artofelectronics.net/) : the standard reference guide.\n",
    "\n",
    "### Digital Signal Processing\n",
    "\n",
    "1. [<cite data-cite='Lyons:2004:UDS:993484'>Understanding Digital Signal Processing</cite> &#10548;](https://books.google.co.za/books?id=UBU7Y2tpwWUC): provides an overview of the core concepts in signal processing of digital signals, very readable and an excellent reference."
   ]
  },
  {
   "cell_type": "markdown",
   "metadata": {},
   "source": [
    "***\n",
    "\n",
    "Next: [Chapter 8: Calibration](../8_Calibration/8_0_Introduction.ipynb)"
   ]
  }
 ],
 "metadata": {
  "kernelspec": {
   "display_name": "testament",
   "language": "python",
   "name": "testament"
  },
  "language_info": {
   "codemirror_mode": {
    "name": "ipython",
    "version": 3
   },
   "file_extension": ".py",
   "mimetype": "text/x-python",
   "name": "python",
   "nbconvert_exporter": "python",
   "pygments_lexer": "ipython3",
   "version": "3.8.10"
  }
 },
 "nbformat": 4,
 "nbformat_minor": 1
}
