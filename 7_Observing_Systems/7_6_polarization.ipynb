{
 "cells": [
  {
   "cell_type": "markdown",
   "metadata": {},
   "source": [
    "***\n",
    "\n",
    "* [Outline](../0_Introduction/0_introduction.ipynb)\n",
    "* [Glossary](../0_Introduction/1_glossary.ipynb)\n",
    "* [7. Observing Systems](7_0_introduction.ipynb)  \n",
    "    * Previous: [7.5 The Primary Beam](7_5_primary_beam.ipynb)  \n",
    "    * Next: [7.7 Propagation effects](7_7_propagation_effects.ipynb)\n",
    "\n",
    "***"
   ]
  },
  {
   "cell_type": "markdown",
   "metadata": {},
   "source": [
    "Import standard modules:"
   ]
  },
  {
   "cell_type": "code",
   "execution_count": null,
   "metadata": {
    "collapsed": true
   },
   "outputs": [],
   "source": [
    "import numpy as np\n",
    "import matplotlib.pyplot as plt\n",
    "%matplotlib inline\n",
    "from IPython.display import HTML \n",
    "HTML('../style/course.css') #apply general CSS"
   ]
  },
  {
   "cell_type": "markdown",
   "metadata": {},
   "source": [
    "Import section specific modules:"
   ]
  },
  {
   "cell_type": "code",
   "execution_count": null,
   "metadata": {
    "collapsed": true
   },
   "outputs": [],
   "source": [
    "HTML('../style/code_toggle.html')"
   ]
  },
  {
   "cell_type": "markdown",
   "metadata": {},
   "source": [
    "***"
   ]
  },
  {
   "cell_type": "markdown",
   "metadata": {},
   "source": [
    "## 7.6 Polarization and Antenna Feeds (C- and D-Jones)"
   ]
  },
  {
   "cell_type": "markdown",
   "metadata": {},
   "source": [
    "**TODO**\n",
    "\n",
    "* move 7.6.1-7.6.5 to jones/rime sections\n",
    "* put in context of RIME, start the section with where we are in the rime/jones chain\n",
    "* connect to primary beams as we need to make a measurement at the focal point\n",
    "* C and D matrices, relation to primary beam E matrix\n",
    "* jones has units (length) since the electric field is units V/m and we are measureing a voltage, Jones matrix can be seen an an amplifier/attenuator of the electric field\n",
    "* circular polarization: comes from either electron in a magnetic field (synchrotron) or the super position of two coherent, linearly polarized waves\n",
    "* circular/linear/elliptical polarization as positions on the poincare sphere\n",
    "* start with a simple dipole\n",
    "* electric fields to stokes: what are stokes parameters (stokes and coherency matrices)\n",
    "* full measurement of the electric field requires two orthogonal modes\n",
    "* types of feeds: linear and circular; dipole, log dipole, horn (visual examples)\n",
    "* optimization for parameters: freq response, gain, directivity, leakage, all similar to primary beam\n",
    "* leakage between feeds: non-orthogonal, design, direction ; IXR\n",
    "* example: PAPER dipole feed\n",
    "    * voltage beam\n",
    "    * power beam\n",
    "    * freq variation\n",
    "    * ixr\n",
    "* https://www.cv.nrao.edu/course/astr534/AntennaTheory.html\n",
    "* malloux antenna theory"
   ]
  },
  {
   "cell_type": "markdown",
   "metadata": {},
   "source": [
    "The antenna feed, like the primary beam, has a complex time, frequency, and direction response depending on its design. The receptor converts EM waves to a current. Optimizing for parameters such as gain, bandwidth, polarization leakage, impedance matching, and the smoothness lead to different feed designs. A *$\\lambda/4$ (quarter-wavelength) dipole*, a classical design, is a simple dipole made up of two monopoles of length $\\lambda/4$ connected to a *balun*, which is an electronic device which converts an EM signal to a current. This design is very broad spatially, close to isotropic, with a peak sensitivity at $\\lambda$ with a smooth roll-off to other frequencies, but is not broadband or directive. Other feeds, such as log-periodic dipoles, Vivaldi, horns, etc. are optimized for different parameters depending on their use. Many lifetimes - and resulting books - have been dedicated to the topic of antenna feed design."
   ]
  },
  {
   "cell_type": "markdown",
   "metadata": {},
   "source": [
    "### 7.6.1 Representing Polarized Light with Jones Vectors"
   ]
  },
  {
   "cell_type": "markdown",
   "metadata": {},
   "source": [
    "Any state of polarization can be described using a two-element *Jones vector*. Consider a light ray, with an instantanous vector as shown:\n",
    "![](figures/7_6_linear.jpg)\n",
    "**Figure 7.6.1**: Geometric representation of a complex number <a id='instrum:fig:linear'></a>\n",
    "\n",
    "The $2\\times 1$ Jones vector is equal to\n",
    "\\begin{equation}\n",
    "{\\bf{e}} = \\begin{bmatrix}E_x\\\\E_y \\end{bmatrix} = \\begin{bmatrix} E_{0x}e^{\\imath \\phi_x}\\\\ E_{0y}e^{\\imath \\phi_y}\\end{bmatrix},\n",
    "\\end{equation}\n",
    "\n",
    "where $E_x$ and $E_y$ are the amplitudes and $\\phi_x$ and $\\phi_y$ are the respective phases.\n",
    "\n",
    "Linearly polarized light can be said to be horizontally, vertically or diagonally (linearly at an angle) polarized.\n",
    "\n",
    "**Horizontally polarized light**\n",
    "\n",
    "Suppose the electric field is oscillating along the $x$-axis. The Jones vector can then be written as:\n",
    "\\begin{equation}\n",
    "{\\bf{e}} = \\begin{bmatrix} E_x\\\\E_y\\end{bmatrix} = \\begin{bmatrix} E_{0x}e^{\\imath \\phi_x}\\\\ E_{0y}e^{\\imath \\phi_y}\\end{bmatrix} = A\\begin{bmatrix} 1\\\\0\\end{bmatrix}\n",
    "\\end{equation}\n",
    "\n",
    "**Vertically polarized light**\n",
    "\n",
    "Suppose the electric field is oscillating along the $y$-axis. The Jones vector can then be written as:\n",
    "\\begin{equation}\n",
    "{\\bf{e}} = \\begin{bmatrix} E_x\\\\E_y\\end{bmatrix} = \\begin{bmatrix} E_{0x}e^{\\imath \\phi_x}\\\\ E_{0y}e^{\\imath \\phi_y}\\end{bmatrix} = A\\begin{bmatrix} 0\\\\1\\end{bmatrix}\n",
    "\\end{equation}\n",
    "\n",
    "**Linearly polarized light at an angle**\n",
    "\n",
    "Consider phases such that $\\phi=m\\pi$, $m=0,\\pm1,2,...$. \n",
    "Then, \n",
    "\\begin{equation}\n",
    "\\frac{E_x}{E_y} = (-1)^m\\frac{E_{0x}}{E_{0y}}\n",
    "\\end{equation}\n",
    "\n",
    "and we get am *angle of inclination*: $\\phi = tan^{-1}\\Big( \\frac{E_{0y}}{E_{0x}}\\Big)$.\n",
    "\n",
    "The Jones vector is then given by\n",
    "\\begin{equation}\n",
    "{\\bf{e}} = \\begin{bmatrix} E_x\\\\E_y\\end{bmatrix} =A(-1)^m\\begin{bmatrix}cos\\phi\\\\ sin \\phi \\end{bmatrix}\n",
    "\\end{equation}\n",
    "\n",
    "**Circular polarized light**\n",
    "\n",
    "If $E_x$ is leading $E_y$ by $\\frac{\\pi}{2}$ (Left hand polarization), then the Jones vector is given by\n",
    "\\begin{equation}\n",
    "{\\bf{e}} = \\begin{bmatrix} E_x\\\\E_y\\end{bmatrix}=\\begin{bmatrix} E_{0x}e^{\\imath \\phi_x}\\\\ E_{0y}e^{\\imath \\phi_y}\\end{bmatrix} \n",
    "=A(-1)^m\\begin{bmatrix}A\\\\Ae^{\\imath \\frac{\\pi}{2}}\\end{bmatrix}=A\\begin{bmatrix} 1\\\\\\imath\\end{bmatrix}.\n",
    "\\end{equation}\n",
    "\n",
    "If $E_x$ is leading $E_y$ by $-\\frac{\\pi}{2}$ (Right hand polarization), then the Jones vector is given by\n",
    "\\begin{equation}\n",
    "{\\bf{e}} = \\begin{bmatrix} E_x\\\\E_y\\end{bmatrix}=\\begin{bmatrix} E_{0x}e^{\\imath \\phi_x}\\\\ E_{0y}e^{\\imath \\phi_y}\\end{bmatrix} \n",
    "=A(-1)^m\\begin{bmatrix}A\\\\Ae^{-\\imath \\frac{\\pi}{2}}{2}\\end{bmatrix}=A\\begin{bmatrix} 1\\\\-\\imath\\end{bmatrix}\n",
    "\\end{equation}"
   ]
  },
  {
   "cell_type": "markdown",
   "metadata": {},
   "source": [
    "### 7.6.2 Representing Polarizers with Jones Matrices"
   ]
  },
  {
   "cell_type": "markdown",
   "metadata": {},
   "source": [
    "Consider an incident beam of light denoted by the Jones vector\n",
    "\n",
    "\\begin{equation}\n",
    "{\\bf{e}}_i = \\begin{bmatrix} E_{ix}\\\\E_{iy}\\end{bmatrix}.\n",
    "\\end{equation}\n",
    "\n",
    "The light will interact with the device, and the new polarization state can be represented as \n",
    "\\begin{equation}\n",
    "{\\bf{e}}_t = \\begin{bmatrix} E_{tx}\\\\E_{ty}\\end{bmatrix}.\n",
    "\\end{equation}\n",
    "\n",
    "The coupling of these two vectors can be described by the following pair of linear equations:\n",
    "\\begin{align}\n",
    "E_{tx} &= j_{11}E_{ix} + j_{12}E_{iy}\\\\\n",
    "E_{ty} & = j_{21}E_{ix} + j_{22}E_{iy}\n",
    "\\end{align}\n",
    "\n",
    "The two equation can be represented in matrix notation as follows:\n",
    "\\begin{equation}\n",
    "{\\bf{e}}_t = {\\bf{J}}{\\bf{e}}_i,\n",
    "\\end{equation}\n",
    "\n",
    "where ${\\bf{J}} = \\begin{bmatrix}j_{11}&j_{12}\\\\j_{21}&j_{22}\\end{bmatrix}$.\n",
    "\n",
    "**Jones matrices for some common polarizers**\n",
    "\n",
    "* Vertical Linear Polarizer: ${\\bf{J}} = \\begin{bmatrix}0&0\\\\0&1\\ \\end{bmatrix}$\n",
    "\n",
    "* Horizontal Linear Polarizer: ${\\bf{J}} = \\begin{bmatrix} 1&0\\\\0&0\\end{bmatrix}$\n",
    "\n",
    "* Linear Polarizer at $45^{\\circ}$: ${\\bf{J}} =\\frac{1}{2} \\begin{bmatrix} 1&1\\\\1&1\\end{bmatrix}$\n",
    "\n",
    "* Right Circular Polarizer: ${\\bf{J}} =\\frac{1}{2} \\begin{bmatrix} 1&\\imath\\\\-\\imath&1\\end{bmatrix}$\n",
    "\n",
    "* Right Circular Polarizer: ${\\bf{J}} =\\frac{1}{2} \\begin{bmatrix} 1&-\\imath\\\\-\\imath&1\\end{bmatrix}$\n",
    "\n",
    "In radio astronomy, the correlated voltages or visibilities recorded by antennas $p$ and $q$ of a radio interferometer are given by\n",
    "\\begin{equation}\n",
    "{\\bf{V}}_{pq} = \\sum_{i=1}^k {\\bf{J}}_{pi}{\\bf{C}}_i{\\bf{J}}_{qi}^H + {\\bf{N}}_{pq},\n",
    "\\end{equation}\n",
    "where the coherency matrix ${\\bf{C}}_i={\\bf{e}}_i\\otimes{\\bf{e}}_i^H$ and ${\\bf{N}}_{pq}$ is the noise. The visibilities can be rewritten in a vectorized form using equalities defined in 2.10.2 such that\n",
    "\\begin{equation}\n",
    "{\\bf{v}}_{pq} = \\text{vec}({\\bf{V}}_{pq}) = \\sum^k_{i=1}{\\bf{J}}_{qi}^H\\otimes {\\bf{J}}_{pi}\\text{vec}({\\bf{C}}_i) + {\\bf{n}}_{pq}.\n",
    "\\end{equation}"
   ]
  },
  {
   "cell_type": "markdown",
   "metadata": {},
   "source": [
    "### 7.6.3 Stokes Parameters "
   ]
  },
  {
   "cell_type": "markdown",
   "metadata": {},
   "source": [
    "Let us consider a plane monochromatic wave of frequency $\\nu$, propagating along the line of sight (z-axis of a cartesain coordinate system).  As discussed in Section 7.1, since electromagnetic waves are transverse, the electric field lies in the $x-y$ plane and is given by\n",
    "\\begin{equation}\n",
    "{\\bf{e}} = \\begin{bmatrix}\n",
    "e_xcos(2\\pi\\nu t)\\\\\n",
    "e_ycos(2\\pi\\nu t +\\delta)\n",
    "\\end{bmatrix}.\n",
    "\\end{equation}\n",
    "\n",
    "The $x$ and $y$ components differ by a time-independent phase factor $\\delta$. If $\\delta=0$, then the waves are said to be linearly polarized. When $e_x=e_y$ and $\\delta=\\pm \\frac{\\pi}{2}$, the wave is said to be either left circular polarized (anticlockwise direction) or right circular polarized (clockwise direction).\n",
    "\n",
    "In radio astronomy, the  radio interferometer measures the Fourier transform of the signal, i.e a correlation function of the field that has the units of voltage squared. Hence, the polarization properties of an incoming signal is usually denoted using *Stokes* parameters. \n",
    "\n",
    "The Stokes parameters for linear feeds (or linear polarization) are defined as\n",
    "\n",
    "\\begin{align}\n",
    "I &= \\langle e_x e_x^* \\rangle + \\langle e_y e_y^* \\rangle\\\\\n",
    "Q &= \\langle e_x e_x^* \\rangle - \\langle e_y e_y^* \\rangle\\\\\n",
    "U &= 2\\text{Re}\\langle e_x e_y^* \\rangle \\\\\n",
    "V &= 2\\text{Im}\\langle e_x e_x^* \\rangle.\n",
    "\\end{align}\n",
    "\n",
    "or\n",
    "\n",
    "\\begin{align}\n",
    "\\langle e_xe_x^*\\rangle &= I+Q\\\\\n",
    "\\langle e_ye_y^*\\rangle &= I-Q\\\\\n",
    "\\langle e_xe_y^*\\rangle &= U+iV\\\\\n",
    "\\langle e_x^*e_y\\rangle &= U-iV\n",
    "\\end{align}\n",
    "\n",
    "where the angle brackets represent the average value.\n",
    "\n",
    "Given that the electric field is composed of two circular feeds, left, $e_l$, and right, $e_r$, the Stokes parameters are defined as\n",
    "\n",
    "\\begin{align}\n",
    "I &= \\langle e_r e_r^* \\rangle + \\langle e_l e_l^* \\rangle\\\\\n",
    "Q &= \\langle e_r e_l^* \\rangle + \\langle e_r^* e_l \\rangle\\\\\n",
    "U &= \\text{Im}\\big(\\langle e_r e_l^* \\rangle - \\langle e_r^* e_l\n",
    "\\rangle\\big)\\\\\n",
    "V &= \\langle e_re_r^*\\rangle - \\langle e_le_l^*\\rangle\n",
    "\\end{align}\n",
    "\n",
    "or\n",
    "\n",
    "\\begin{align}\n",
    "\\langle e_re_r^*\\rangle &= I+V\\\\\n",
    "\\langle e_le_l^*\\rangle &= I-V\\\\\n",
    "\\langle e_re_l^*\\rangle &= Q+iU\\\\\n",
    "\\langle e_r^*e_l\\rangle &= Q-iU.\n",
    "\\end{align}\n",
    "\n",
    "The degree of polarization is given by\n",
    "\\begin{equation}\n",
    "P=\\frac{\\sqrt(Q^2+U^2+V^2)}{I}.\n",
    "\\end{equation}\n",
    "\n",
    "From the definition of Stokes parameters for linear feeds, we have,\n",
    "\\begin{equation}\n",
    "I^2-Q^2-U^2-V^2 = \\big(\\langle e_x^2\\rangle \\langle e_y^2\\rangle -\\langle e_xe_y\\rangle^2\\big).\n",
    "\\end{equation}\n",
    "\n",
    "If $P=1$, then $I^2=Q^2+U^2+V^2$ and the wave is said to be *fully polarized*. If $P<1$, then the wave is *partially polarized*."
   ]
  },
  {
   "cell_type": "markdown",
   "metadata": {},
   "source": [
    "### 7.6.4 Mueller Matrices"
   ]
  },
  {
   "cell_type": "markdown",
   "metadata": {},
   "source": [
    "A polarized beam propagates through one or more polarizing elements, which results in a new polarized beam as shown below:\n",
    "\n",
    "![](figures/7_6_linear_2.jpg)\n",
    "**Figure 7.6.2**: Polarisation of the beam by one element <a id='instrum:fig:linear2'></a>\n",
    "\n",
    "![](figures/7_6_linear_3.jpg)\n",
    "**Figure 7.6.3**: Net beam polarisation caused by multiple elements <a id='instrum:fig:linear3'></a>\n",
    "\n",
    "The input light ray or beam is generally denoted by a Stokes brightness vector ${\\bf{s}}$, and the output beam by ${\\bf{B}}'$. ${\\bf{B}}'$ is linearly related to ${\\bf{s}}$ by $4\\times 4$ matrix such that\n",
    "\n",
    "\\begin{align}\n",
    "{\\bf{s}}^{'}&={\\bf{M}}.{\\bf{s}}\\\\\n",
    "\\begin{bmatrix} S_0^{'}\\\\S_1^{'}\\\\S_2^{'}\\\\S_3^{'}\\end{bmatrix}&=\n",
    "\\begin{bmatrix}m_{00}&m_{01}&m_{02}&m_{03}\\\\m_{10}&m_{11}&m_{12}&m_{13}\\\\m_{20}&m_{21}&m_{22}&m_{23}\\\\m_{20}&m_{21}&m_{22}&m_{23}\\end{bmatrix}\n",
    "\\begin{bmatrix} S_0\\\\S_1\\\\S_2\\\\S_3\\end{bmatrix}.\n",
    "\\end{align}\n",
    "\n",
    "From the vectorized visibility equation in section 2.10.4, ${\\bf{M}}$ is given by ${\\bf{J}} \\otimes {\\bf{J}}^H$\n",
    "\\begin{align}\n",
    "{\\bf{J}} \\otimes {\\bf{J}}^H  &= \n",
    "\\begin{bmatrix}\n",
    "J_{00} & J_{01} & J_{02} & J_{03} \\\\\n",
    "J_{10} & J_{11} & J_{12} & J_{13} \\\\\n",
    "J_{00} & J_{21} & J_{22} & J_{23} \\\\\n",
    "J_{00} & J_{31} & J_{32} & J_{33} \n",
    "\\end{bmatrix}\\otimes\n",
    "\\begin{bmatrix}\n",
    "J_{00}^* & J_{10}^* & J_{20}^* & J_{30}^* \\\\\n",
    "J_{01}^* & J_{11}^* & J_{21}^* & J_{31}^* \\\\\n",
    "J_{02}^* & J_{12}^* & J_{22}^* & J_{32}^* \\\\\n",
    "J_{03}^* & J_{13}^* & J_{23}^* & J_{33}^* \n",
    "\\end{bmatrix} \n",
    "\\\\\n",
    "& = \\begin{bmatrix}\n",
    "J_{00} J_{00}^*& J_{01}J_{10}^* & J_{02}J_{20}^* & J_{03}J_{30}^*\\\\\n",
    "J_{10} J_{01}^*& J_{11}J_{11}^* & J_{12}J_{21}^* & J_{13}J_{31}^*\\\\\n",
    "J_{20} J_{02}^*& J_{21}J_{12}^* & J_{22}J_{22}^* & J_{23}J_{32}^*\\\\\n",
    "J_{30} J_{03}^*& J_{31}J_{13}^* & J_{32}J_{23}^* & J_{33}J_{33}^*\n",
    "\\end{bmatrix}.\n",
    "\\end{align}"
   ]
  },
  {
   "cell_type": "markdown",
   "metadata": {},
   "source": [
    "### 7.6.5 Coherency Matrix"
   ]
  },
  {
   "cell_type": "markdown",
   "metadata": {},
   "source": [
    "Finally, we will develop a mathematical formulation for polarimetric interferometry, i.e we will reconstruct the Radio Interferometric Measurement equation (RIME) described in Section 7.2. We assume that our instrument is a two-element interferometer with two antennas, $p$ and $q$. Each antenna has two feeds, $a$ and $b$. The coherency vector measured by baseline $pq$ is then given by:\n",
    "\\begin{equation}\n",
    "\\begin{bmatrix}\n",
    "\\langle e_{ap}e_{bp}^*\\rangle\\\\\n",
    "\\langle e_{ap}e_{bq}^*\\rangle\\\\\n",
    "\\langle e_{aq}e_{bp}^*\\rangle\\\\\n",
    "\\langle e_{aq}e_{bq}^*\\rangle\n",
    "\\end{bmatrix} = \\Bigg \\langle \\begin{bmatrix} e_{ap}\\\\e_{aq}\\end{bmatrix}\\otimes \\begin{bmatrix} e_{bp}^*\\\\e_{bq}^*\\end{bmatrix} \\Bigg \\rangle\n",
    "\\end{equation}\n",
    "\n",
    "We then multiply the Stokes vector by the Stokes matrix, ${\\bf{S}}$. The Stokes matrix depends on our choice of polarized coordinate systems. In a linear system, the Stokes vector is equal to\n",
    "\\begin{equation}\n",
    "\\begin{bmatrix}I\\\\Q\\\\U\\\\V\\end{bmatrix} = \\frac{1}{2}\\begin{bmatrix}\n",
    "1&0&0&1\\\\1&0&0&-1\\\\0&1&1&0\\\\0&-i&i&0\\end{bmatrix}\\begin{bmatrix}\n",
    "\\langle e_{ax}e_{bx}^*\\rangle\\\\\n",
    "\\langle e_{ax}e_{by}^*\\rangle\\\\\n",
    "\\langle e_{ay}e_{bx}^*\\rangle\\\\\n",
    "\\langle e_{ay}e_{by}^*\\rangle\\end{bmatrix}.\n",
    "\\end{equation}\n",
    "\n",
    "In the case of circular polarization, the Stokes components are\n",
    "\\begin{equation}\n",
    "\\begin{bmatrix}I\\\\Q\\\\U\\\\V\\end{bmatrix} = \\frac{1}{2}\\begin{bmatrix}\n",
    "1&0&0&1\\\\0&1&1&0\\\\0&-i&i&0\\\\1&0&0&-1\\end{bmatrix}\\begin{bmatrix}\n",
    "\\langle e_{ar}e_{br}^*\\rangle\\\\\n",
    "\\langle e_{ar}e_{bl}^*\\rangle\\\\\n",
    "\\langle e_{al}e_{br}^*\\rangle\\\\\n",
    "\\langle e_{al}e_{bl}^*\\rangle\\end{bmatrix}.\n",
    "\\end{equation}"
   ]
  },
  {
   "cell_type": "markdown",
   "metadata": {},
   "source": [
    "### 7.6.6 Leakage between feeds\n",
    "\n",
    "<span style=\"background-color:red\">EB:AC: write up this section</span>"
   ]
  },
  {
   "cell_type": "markdown",
   "metadata": {},
   "source": [
    "***\n",
    "\n",
    "* [Outline](../0_Introduction/0_introduction.ipynb)\n",
    "* [Glossary](../0_Introduction/1_glossary.ipynb)\n",
    "* [7. Observing Systems](7_0_introduction.ipynb)  \n",
    "    * Previous: [7.5 The Primary Beam](7_5_primary_beam.ipynb)  \n",
    "    * Next: [7.7 Propagation effects](7_7_propagation_effects.ipynb)\n",
    "\n",
    "***"
   ]
  },
  {
   "cell_type": "code",
   "execution_count": null,
   "metadata": {
    "collapsed": true
   },
   "outputs": [],
   "source": []
  }
 ],
 "metadata": {
  "kernelspec": {
   "display_name": "testament",
   "language": "python",
   "name": "testament"
  },
  "language_info": {
   "codemirror_mode": {
    "name": "ipython",
    "version": 3
   },
   "file_extension": ".py",
   "mimetype": "text/x-python",
   "name": "python",
   "nbconvert_exporter": "python",
   "pygments_lexer": "ipython3",
   "version": "3.8.10"
  }
 },
 "nbformat": 4,
 "nbformat_minor": 1
}
