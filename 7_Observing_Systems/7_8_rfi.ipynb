{
 "cells": [
  {
   "cell_type": "markdown",
   "metadata": {},
   "source": [
    "***\n",
    "\n",
    "* [Outline](../0_Introduction/0_introduction.ipynb)\n",
    "* [Glossary](../0_Introduction/1_glossary.ipynb)\n",
    "* [7. Observing Systems](7_0_introduction.ipynb)  \n",
    "    * Previous: [7.7 Propagation Effects](7_7_propagation_effects.ipynb)\n",
    "    * Next: [7.x Further Reading and References](7_x_further_reading_and_references.ipynb)\n",
    "    \n",
    "***"
   ]
  },
  {
   "cell_type": "markdown",
   "metadata": {},
   "source": [
    "Import standard modules:"
   ]
  },
  {
   "cell_type": "code",
   "execution_count": 1,
   "metadata": {},
   "outputs": [
    {
     "data": {
      "text/html": [
       "<style>\n",
       "\n",
       "p.prerequisites {\n",
       "    border:5px;\n",
       "    border-style:none;\n",
       "    background-color:#F0F0F0;\n",
       "    box-shadow: 5px 5px 2px #888888;\n",
       "    border-color:#FF0000;\n",
       "    padding: 1em;\n",
       "    }\n",
       "\n",
       "p.conclusion {\n",
       "    border:5px;\n",
       "    border-style:none;\n",
       "    background-color:#c8ebca;\n",
       "    box-shadow: 5px 5px 2px #888888;\n",
       "    border-color:#c8ebca;\n",
       "    padding: 1em;\n",
       "    }\n",
       "\n",
       "div.warn {    \n",
       "    background-color: #fcf2f2;\n",
       "    border-color: #dFb5b4;\n",
       "    border-left: 5px solid #dfb5b4;\n",
       "    padding: 0.5em;\n",
       "    }\n",
       "\n",
       "div.advice {    \n",
       "    background-color: #ecf8ed;\n",
       "    border-color: #a2dda5;\n",
       "    border-left: 5px solid #a2dda5;\n",
       "    padding: 0.5em;\n",
       "    }\n",
       "\n",
       "</style>\n",
       "\n"
      ],
      "text/plain": [
       "<IPython.core.display.HTML object>"
      ]
     },
     "execution_count": 1,
     "metadata": {},
     "output_type": "execute_result"
    }
   ],
   "source": [
    "import numpy as np\n",
    "import matplotlib.pyplot as plt\n",
    "%matplotlib inline\n",
    "from IPython.display import HTML \n",
    "HTML('../style/course.css') #apply general CSS"
   ]
  },
  {
   "cell_type": "markdown",
   "metadata": {},
   "source": [
    "Import section specific modules:"
   ]
  },
  {
   "cell_type": "code",
   "execution_count": 2,
   "metadata": {},
   "outputs": [
    {
     "data": {
      "text/html": [
       "<script>\n",
       "    code_show=false; \n",
       "    function code_toggle() {\n",
       "        if (code_show){\n",
       "            $('div.input').hide();\n",
       "        } else {\n",
       "            $('div.input').show();\n",
       "        }\n",
       "        code_show = !code_show\n",
       "    } \n",
       "    $( document ).ready(code_toggle);\n",
       "</script>\n",
       "\n",
       "The raw code for this notebook is by default hidden for easier reading. To toggle on/off the raw code, click <a href=\"javascript:code_toggle()\">here</a>.\n",
       "\n"
      ],
      "text/plain": [
       "<IPython.core.display.HTML object>"
      ]
     },
     "execution_count": 2,
     "metadata": {},
     "output_type": "execute_result"
    }
   ],
   "source": [
    "HTML('../style/code_toggle.html')"
   ]
  },
  {
   "cell_type": "markdown",
   "metadata": {
    "collapsed": true
   },
   "source": [
    "## 7.8 Radio Frequency Interference (RFI) <a id='instrum:sec:rfi'></a> <a id='instrum:sec:7_8'></a><!--\\label{instrum:sec:7_8}-->"
   ]
  },
  {
   "cell_type": "markdown",
   "metadata": {},
   "source": [
    "**TODO:**\n",
    "\n",
    "* introduce RFI\n",
    "* what are the causes of RFI?\n",
    "* what are the typical types? wideband, narrow band, intermittent\n",
    "* example: bandpass RFI plot for auto correlation and cross-correlations\n",
    "* example: amp vs freq plots\n",
    "* example: RFI spectrum of KAT site (chris)\n",
    "* how does it affects electronics\n",
    "* introduce flagging/masking: manual, automated\n",
    "* example: image with RFI source not flagged"
   ]
  },
  {
   "cell_type": "markdown",
   "metadata": {},
   "source": [
    "RFI is a class of human-made radio signals which take on a number of different forms, but all of which cause a degradation of the recorded sky signal. Many governments allocate the radio spectrum, and use it as a common utility or sell off sections of the spectrum to companies. The use of these spectrum allocations introduce RFI into the environment. Typical RFI sources are FM radio (89-110 MHz) and GSM mobile (around 900 MHz and 1.8 GHz).\n",
    "RFI is characterized as being 'narrow'-band where the RFI is on the scale of a few frequency channels, and 'wide'-band where the RFI dominates most of the observed spectrum. An RFI source will also have a *duty cycle*, which is the time-averaged ratio of time in which that RFI signal is on or detectable to the observing time.\n",
    "If a signal is always detectable then it will have a duty cycle of 1. An RFI signal with a duty cycle of 1 is manageable if that signal is narrow band, and we are not interested in the sky signal at that frequency. The signal can be managed by either introducing a notch filter to attenuate the signal in the analogue path, or digitize the signal and 'flag' the frequency channels as not usable. If an RFI signal is wide band with a duty cycle near or at 1, then little can be done to suppress that signal and pick out the sky signal. But, if the duty cycle of the wide band signal is low then the entire band can be flagged for that short time period with a minimal loss to the sensitivity. A typical wide band signal is aircraft RADAR, which is very strong, but moves quickly through the beam."
   ]
  },
  {
   "cell_type": "markdown",
   "metadata": {},
   "source": [
    "***\n",
    "\n",
    "* [Outline](../0_Introduction/0_introduction.ipynb)\n",
    "* [Glossary](../0_Introduction/1_glossary.ipynb)\n",
    "* [7. Observing Systems](7_0_introduction.ipynb)  \n",
    "    * Previous: [7.7 Propagation Effects](7_7_propagation_effects.ipynb)\n",
    "    * Next: [7.x Further Reading and References](7_x_further_reading_and_references.ipynb)\n",
    "    \n",
    "***"
   ]
  },
  {
   "cell_type": "code",
   "execution_count": null,
   "metadata": {},
   "outputs": [],
   "source": []
  }
 ],
 "metadata": {
  "kernelspec": {
   "display_name": "testament",
   "language": "python",
   "name": "testament"
  },
  "language_info": {
   "codemirror_mode": {
    "name": "ipython",
    "version": 3
   },
   "file_extension": ".py",
   "mimetype": "text/x-python",
   "name": "python",
   "nbconvert_exporter": "python",
   "pygments_lexer": "ipython3",
   "version": "3.8.10"
  }
 },
 "nbformat": 4,
 "nbformat_minor": 1
}
