{
  "cells": [
    {
      "cell_type": "markdown",
      "metadata": {},
      "source": [
        "***\n",
        "\n",
        "* [Outline](../0_Introduction/0_introduction.ipynb)\n",
        "* [Glossary](../0_Introduction/1_glossary.ipynb)\n",
        "* [8. Calibration](8_0_introduction.ipynb)\n",
        "    * Previous: [8.3 2GC Calibration](8_3_2gc.ipynb)\n",
        "    * Next: [8.5 Further reading and references](8_5_further_reading_and_references.ipynb)\n",
        "\n",
        "***"
      ]
    },
    {
      "cell_type": "markdown",
      "metadata": {},
      "source": [
        "Import standard modules:"
      ]
    },
    {
      "cell_type": "code",
      "execution_count": null,
      "metadata": {},
      "outputs": [],
      "source": [
        "import numpy as np\n",
        "import matplotlib.pyplot as plt\n",
        "%matplotlib inline\n",
        "from IPython.display import HTML \n",
        "HTML('../style/course.css') #apply general CSS"
      ]
    },
    {
      "cell_type": "markdown",
      "metadata": {},
      "source": [
        "Import section specific modules:"
      ]
    },
    {
      "cell_type": "code",
      "execution_count": null,
      "metadata": {},
      "outputs": [],
      "source": [
        "pass"
      ]
    },
    {
      "cell_type": "code",
      "execution_count": null,
      "metadata": {},
      "outputs": [],
      "source": [
        "HTML('../style/code_toggle.html')"
      ]
    },
    {
      "cell_type": "markdown",
      "metadata": {},
      "source": [
        "<span style=\"background-color:red\">GIG:AC:This needs to be expanded significantly. For every external link I strongly suggest to add an explanation what the method entails and how it works. The DDG section should move down to the Heuristic approaches section.</span>"
      ]
    },
    {
      "cell_type": "markdown",
      "metadata": {},
      "source": [
        "## 8.4 3GC Calibration: direction-dependent self-calibration"
      ]
    },
    {
      "cell_type": "markdown",
      "metadata": {},
      "source": [
        "As explained in [Chapter 7 &#10142;](../7_Observing_Systems/7_0_introduction.ipynb), the increased field-of-view of modern telescopes causes direction-dependent effects, such as the primary beam and pointing error, to become apparent. Therefore, we cannot rely on using direction-independent self-calibration (see [$\\S$ 8.3 &#10142;](../8_Calibration/8_3_2gc.ipynb)). There are, in principle, many approaches one can use to perform direction-dependent calibration (see [$\\S$ 8.4.1 &#10549;](#cal:sec:p_versus_h) for more details).\n",
        "\n",
        "In this section we will concentrate on one specific approach: *differential gains* ([<cite data-cite='Smirnov2011'>Revisiting the radio interferometer measurement equation-II.  Calibration and direction-dependent effects</cite> &#10548;](http://arxiv.org/abs/1101.1765)). This approach provides a nice framework with which one can build up some intuition regarding how direction-dependent calibration differs from direction-independent calibration.\n",
        "\n",
        "In [$\\S$ 7.2 &#10142;](../7_Observing_Systems/7_2_rime.ipynb) the following equation was\n",
        "presented:\n",
        "\n",
        "<p class=conclusion>\n",
        "  <font size=4> <b>The all-sky RIME</b></font>\n",
        "  <br>\n",
        "  <br>\n",
        "  \\begin{equation}\n",
        "  \\mathbf{V}_{pq} = \\mathbf{G}_p\\mathbf{X}_{pq}\\mathbf{G}_q^H.\n",
        "  \\end{equation}\n",
        "</p>\n",
        "\n",
        "This equation is known as the all-sky RIME, where $\\mathbf{V}_{pq}$ is the $2\\times2$ correlation matrix measured by the interferometer and $\\mathbf{X}_{pq}$ is the $2\\times2$ coherency matrix. Moreover, $\\mathbf{G}_p$ and $\\mathbf{G}_q$ are G-Jones antenna matrices. During calibration we estimate $\\mathbf{G}_p$ and $\\mathbf{G}_q$ which we subsequently use to correct the correlation matrix $\\mathbf{V}_{pq}$. The subscripts $p$ and $q$ denote the antennas that were used to make the measurement. Furthermore, $\\mathbf{X}_{pq} = \\sum_s \\mathbf{X}_{spq}$ where $s$ is the source index, i.e. in the all-sky RIME we assume that the error that corrupts our visibilities is independent of the sources' positions. As explained in <span style=\"background-color:cyan\">GIG:LF:the following chapter/section does not exist[$\\S$ 7.3 &#10142;](../7_Observing_Systems/7_3_direction_independent_and_dependent_effects.ipynb)</span>, this assumption is violated when we work with a larger field-of-view. \n",
        "<span style=\"background-color:red\">GSF:MC:This until \"here\" should be reordered and be moved down to section \"Heuristic approaches\".</span>\n",
        "As an example, the primary beam of an instrument varies significantly over a large field-of-view (generally in time and frequency). In the case of the primary beam, we could try to model the direction dependent effects by adding an a-priori E-Jones matrix to our Jones' chain (see [<cite data-cite='Mitra2015'>Incorporation of antenna primary beam patterns in radio-interferometric data reduction to produce wide-field, high-dynamic-range images</cite> &#10548;](http://ieeexplore.ieee.org/Xplore/defdeny.jsp?url=http%3A%2F%2Fieeexplore.ieee.org%2Fstamp%2Fstamp.jsp%3Ftp%3D%26arnumber%3D7297163%26userType%3Dinst&denyReason=-134&arnumber=7297163&productsMatched=null&userType=inst)). However, if we do not have any information about the physical source that is responsible for a direction dependent effect then we could use the idea of differential gains instead. In addition to to the direction-independent gain we add a differential gain which can be different for each source. Mathematically, we can express this as\n",
        "<p class=conclusion>\n",
        "  <font size=4> <b>Adding differential gains</b></font>\n",
        "  <br>\n",
        "  <br>\n",
        "  \\begin{equation}\n",
        "  \\mathbf{V}_{pq} = \\mathbf{G}_p \\left (\\sum_s\\Delta\\mathbf{E}_{sp}\\mathbf{X}_{spq}    \\Delta     \\mathbf{E}_{sq}^H \\right) \\mathbf{G}_q^H,\n",
        "\\end{equation}\n",
        "</p>\n",
        "\n",
        "where $\\Delta\\mathbf{E}_{sp}$ and $\\Delta\\mathbf{E}_{sq}^H$ are the differential gains associated with source $s$ and antenna $p$ and $q$ respectively.\n",
        "We now use the above equation and least squares (see [$\\S$ 8.1 &#10142;](../8_Calibration/8_1_calibration_least_squares_problem.ipynb)) to estimate the unknown differential and direction independent gains. These gains can be used to correct $\\mathbf{V}_{pq}$. \n",
        "\n",
        "<div class=warn>\n",
        "<b>Warning:</b> Note that we present the differential gains method by using the full-polarized \n",
        "RIME equation, while we used the unpolarized RIME in [$\\S$ 8.1 &#10142;](../8_Calibration/8_1_calibration_least_squares_problem.ipynb).\n",
        "</div><br>\n",
        "\n",
        "<div class=warn>\n",
        "<b>Warning:</b> Differential gains should be used sparingly in order to avoid over-fitting.  \n",
        "</div><span style=\"background-color:red\">GSF:MC:here</span>"
      ]
    },
    {
      "cell_type": "markdown",
      "metadata": {},
      "source": [
        "Another question now arises; how do we know if a source requires a differential gain factor? [Figure 8.4.1 &#10549;](#cal:fig:dir_dep) <!--\\ref{cal:fig:dir_dep}--> helps to answer this question. "
      ]
    },
    {
      "cell_type": "markdown",
      "metadata": {},
      "source": [
        "<a id='cal:fig:dir_dep'></a><img src='figures/dir_dep.png' width=40%> <!--\\label{cal:fig:dir_dep}-->"
      ]
    },
    {
      "cell_type": "markdown",
      "metadata": {},
      "source": [
        "**Figure 8.4.1**: Which sources require a differential gain factor?"
      ]
    },
    {
      "cell_type": "markdown",
      "metadata": {},
      "source": [
        "<span style=\"background-color:red\">GIG:IC:I think it cannot be done like that. The figure helps to see which sources are surrounded by purple circles, but not how to identify cleaning residuals from wrong calibration. I like the figure, but this has to be re-formulated: We can learn two main things from [Fig 8.4.1 &#10549;](#cal:fig:dir_dep) <!--\\ref{cal:fig:dir_dep}-->:</span>\n",
        "1. <span style=\"background-color:red\">In practice it is easy to spot a source which requires a differential gain (in addition to the direction independent gain). The sources which require a differential gain are usually surrounded by imaging artifacts (shown by the purple regions around the black sources in the figure). The yellow sources do not require a differential gain factor (no imaging artifacts around them).</span>\n",
        "2. <span style=\"background-color:red\">The further a source is from the field center, the more likely it is to be affected by a direction dependent effect.</span>"
      ]
    },
    {
      "cell_type": "markdown",
      "metadata": {},
      "source": [
        "We now present a real radio image which was created using the differential gains method. In [Fig. 8.4.2 &#10549;](#cal:fig:diff_smirnov) <!--\\ref{cal:fig:dir_dep}--> we have a JVLA image of the 3C147 field. The large image is the final end product, i.e the differential gains method has already been applied. The upper left image insert is just an enlargement of a subregion in the larger image. The bottom left image insert depicts how the same subregion looked prior to applying the differential gains method. The second image insert validates the comments we have already made; sources which require a differential gain factor, in addition to a direction independent gain, are usually surrounded imaging artifacts. In this particular example, the image artifacts were caused by the rotation of the JVLA primary beam. "
      ]
    },
    {
      "cell_type": "markdown",
      "metadata": {},
      "source": [
        "<a id='cal:fig:diff_smirnov'></a><img src='figures/dde_oleg.png' width=100%> <!--\\label{cal:fig:diff_smirnov}-->"
      ]
    },
    {
      "cell_type": "markdown",
      "metadata": {},
      "source": [
        "**Figure 8.4.2**: Differential gains method applied to the 3C147 field (courtesy of **O.M. Smirnov**). "
      ]
    },
    {
      "cell_type": "markdown",
      "metadata": {
        "collapsed": true
      },
      "source": [
        "### 8.4.1 Physics-based and heuristic-only approaches <a id='cal:sec:p_versus_h'></a> <!--\\label{cal:sec:p_versus_h}-->"
      ]
    },
    {
      "cell_type": "markdown",
      "metadata": {},
      "source": [
        "<span style=\"background-color:red\">GIG:AC:Again, this needs to be expanded significantly. For every external link I strongly suggest to add an explanation what the method entails and how it works. The DDG section should move down to the Heuristic approaches section. Please make sub-sub sections of the approach headlines. The discussion of important techniques like AW projection and faceting, incorporation of the primary beam, etc. should be more elaborate and more detailed.</span>"
      ]
    },
    {
      "cell_type": "markdown",
      "metadata": {},
      "source": [
        "3GC can, in general, be divided into *physics-based* and *heuristic-only* approaches. If we know the underlying physical phenomenon which is responsible for a specific direction-dependent effect, we may employ a physics-based calibration approach. This is usually accomplished by constructing a parametrized model based on the underlying physical phenomenon. The aim of this approach is to estimate the parameters of this model and use the results to correct our observed visibilities. In some cases, the direction-dependent phenomenon is known a-priori and we simply need to correctly incorporate it whilst calibrating. The following list contains some examples of physics-based approaches:\n",
        "\n",
        "<p class=conclusion>\n",
        "  <font size=4> <b>3GC: Physics-based approaches</b></font>\n",
        "  <br>\n",
        "  <br>\n",
        "&bull; <em>Pointing-selfcal</em>: [<cite data-cite='Bhatnagar2004'>EVLA Memo 84. Solving for the antenna based pointing errors</cite> &#10548;](http://www.aoc.nrao.edu/evla/geninfo/memoseries/evlamemo84.ps) <br>\n",
        "&bull; <em>Kalman filter</em>: [<cite data-cite='Tasse2014'>Nonlinear Kalman filters for calibration in radio interferometry</cite> &#10548;](http://arxiv.org/abs/1403.6308)<br> \n",
        "&bull; <em>Primary beam</em>: [<cite data-cite='Mitra2015'>Incorporation of antenna primary beam patterns in radio-interferometric data reduction to produce wide-field, high-dynamic-range images</cite> &#10548;](http://ieeexplore.ieee.org/Xplore/defdeny.jsp?url=http%3A%2F%2Fieeexplore.ieee.org%2Fstamp%2Fstamp.jsp%3Ftp%3D%26arnumber%3D7297163%26userType%3Dinst&denyReason=-134&arnumber=7297163&productsMatched=null&userType=inst)\n",
        "</p> \n",
        "\n",
        "Correcting for a direction-dependent effect is non-trivial, regardless of whether it is known a-priori or from calibration. The following list contains some approaches that have been proposed to accomplish this:\n",
        "\n",
        "<p class=conclusion>\n",
        "  <font size=4> <b>3GC: Correcting for a known direction dependent effect</b></font>\n",
        "  <br>\n",
        "  <br>\n",
        "&bull; <em>Faceting</em>: [<cite data-cite='Cornwell1992'>Radio-interferometric imaging of very large fields-The problem of non-coplanar arrays</cite> &#10548;](http://adsabs.harvard.edu/abs/1992A%26A...261..353C)<br>\n",
        "&bull; <em>AW-projection</em>: [<cite data-cite='Batnagar2008'>Correcting direction-dependent gains in the deconvolution of radio interferometric images</cite> &#10548;](http://arxiv.org/abs/0805.0834) \n",
        "</p>\n",
        "\n",
        "On the other end of the spectrum we have the heuristic-only approaches. In an heuristic approach we do not know the physical source of a specific direction-dependent effect. Instead, we introduce a number of free-parameters which we try to optimize based on some user-defined heuristic. Some 3GC heuristic approaches are listed below:\n",
        "\n",
        "<p class=conclusion>\n",
        "  <font size=4> <b>3GC: Heuristic-only approaches</b></font>\n",
        "  <br>\n",
        "  <br>\n",
        "&bull; *Peeling*: [<cite data-cite='Noordam2004'>LOFAR calibration challenges</cite> &#10548;](http://proceedings.spiedigitallibrary.org/proceeding.aspx?articleid=847375)<br>\n",
        "&bull; <em>Differential gains</em>: [<cite data-cite='Smirnov2011'>Revisiting the radio interferometer measurement equation-II.  Calibration and direction-dependent effects</cite> &#10548;](http://arxiv.org/abs/1101.1765)<br>\n",
        "&bull; <em>Clustered calibration</em>: [<cite data-cite='Kazemi2013'>Clustered calibration: an improvement to radio interferometric direction-dependent self-calibration</cite> &#10548;](http://arxiv.org/abs/1301.0633)\n",
        "</p>\n",
        "\n",
        "Once we obtain a heuristic solution, we can try to makes sense of it by fitting a physical model to it. Prime examples of this include: \n",
        "\n",
        "<p class=conclusion>\n",
        "  <font size=4> <b>3GC: Fitting a model to heuristic-only solutions</b></font>\n",
        "  <br>\n",
        "  <br>\n",
        "&bull; <em>SPAM (Source Peeling and Atmospheric Modelling)</em>: [<cite data-cite='Intema2009'>Ionospheric calibration of low frequency radio interferometric observations using the peeling scheme-I. Method description and first results</cite> &#10548;](http://arxiv.org/abs/0904.3975) <br> \n",
        "&bull; <em>Primary beam shapes</em>: [<cite data-cite='Yatawatta2013'>Estimation of radio interferometer beam shapes using Riemannian optimization</cite> &#10548;](http://arxiv.org/abs/1209.4236)\n",
        "</p>"
      ]
    },
    {
      "cell_type": "markdown",
      "metadata": {},
      "source": [
        "### 8.4.2 Solver Development"
      ]
    },
    {
      "cell_type": "markdown",
      "metadata": {},
      "source": [
        "As we explained in [$\\S$ 8.2 &#10142;](../8_Calibration/8_2_1GC.ipynb), least-squares solvers (see [$\\S$ 8.1 &#10142;](../8_Calibration/8_1_Calibration_Least_Squares_Problem.ipynb)) only became popular with the advent of self-calibration. Many improvements and alternatives to the least-squares solver have since been developed. We list the most recent developments below:\n",
        "\n",
        "<p class=conclusion>\n",
        "  <font size=4> <b>Solver Development</b></font>\n",
        "  <br>\n",
        "  <br>\n",
        "&bull; <em>Eigendecomposition</em>: [<cite data-cite='Boonstra2003'>Gain calibration methods for radio telescope arrays</cite> &#10548;](http://ieeexplore.ieee.org/xpl/freeabs_all.jsp?arnumber=1145704&abstractAccess=no&userType=inst)<br>\n",
        "&bull; <em>SAGEcal</em>: [<cite data-cite='Kazemi2011'>Radio interferometric calibration using the SAGE algorithm</cite> &#10548;](http://arxiv.org/abs/1012.1722)<br>\n",
        "&bull; <em>Robust calibration</em>: [<cite data-cite='Kazemi2013robust'>Robust radio interferometric calibration using the t-distribution</cite> &#10548;](http://arxiv.org/abs/1307.5040)<br>\n",
        "&bull; <em>StEFCal</em>: [<cite data-cite='Salvini2014'>Fast gain calibration in radio astronomy using alternating direction implicit methods: Analysis and applications</cite> &#10548;](http://arxiv.org/abs/1410.2101)<br>\n",
        "&bull; <em>Riemann-Manifold</em>: [<cite data-cite='Yatawatta2013'>Radio interferometric calibration using a Riemannian manifold</cite> &#10548;](http://arxiv.org/abs/1303.1029)<br>\n",
        "&bull; <em>Blind Calibration</em>: [<cite data-cite='Kazemi2015'>Blind calibration for radio interferometry using convex optimization</cite> &#10548;](http://ieeexplore.ieee.org/xpl/freeabs_all.jsp?arnumber=7330285&abstractAccess=no&userType=inst)<br>\n",
        "&bull; <em>Complex Optimization</em>: [<cite data-cite='Smirnov2015'>Radio interferometric gain calibration as a complex optimization problem</cite> &#10548;](http://arxiv.org/abs/1502.06974)<br>\n",
        "&bull; <em>Kalman filter</em>: [<cite data-cite='Tasse2014'>Nonlinear Kalman filters for calibration in radio interferometry</cite> &#10548;](http://arxiv.org/abs/1403.6308)\n",
        "</p>\n",
        "\n",
        "Of the methods listed above, StEFCal is arguably the most important recent development. It is discussed in more detail in [$\\S$ 8.4.2.1 &#10142;](../8_Calibration/8_4_3GC.ipynb#cal:sec:stef). Its importance stems, in part, from the fact that it lowers the computational complexity of calibration from O$(N^3)$ to O$(N^2)$.  "
      ]
    },
    {
      "cell_type": "markdown",
      "metadata": {},
      "source": [
        "#### 8.4.2.1 StEFCal <a id='cal:sec:stef'></a> <!--\\label{cal:sec:stef}-->"
      ]
    },
    {
      "cell_type": "markdown",
      "metadata": {},
      "source": [
        "StEFCal is an *alternating direction implicit method*. It works by first solving $\\boldsymbol{\\mathcal{G}}^H$ with $\\boldsymbol{\\mathcal{G}}$ held constant and then solving $\\boldsymbol{\\mathcal{G}}$ with $\\boldsymbol{\\mathcal{G}}^H$ held constant. This is tantamount to linearising the calibration problem.<br><br> \n",
        "<div class=warn>\n",
        "<b>Warning:</b> We have switched back to the unpolarized notation we used in [$\\S$ 8.1 &#10142;](../8_Calibration/8_1_Calibration_Least_Squares_Problem.ipynb).  \n",
        "</div>\n",
        "\n",
        "As $\\boldsymbol{\\mathcal{D}}- \\boldsymbol{\\mathcal{G}}\\boldsymbol{\\mathcal{M}}\\boldsymbol{\\mathcal{G}}^H$ is Hermitian, the two steps are equivalent and we only require the following update step:\n",
        "\n",
        "$$\\boldsymbol{\\mathcal{G}}^{[i]} = \\textrm{argmin}_{\\boldsymbol{\\mathcal{G}}}\\left\\|\\boldsymbol{\\mathcal{D}}- \\boldsymbol{\\mathcal{G}}^{[i-1]}\\boldsymbol{\\mathcal{M}}\\boldsymbol{\\mathcal{G}}^H\\right\\|.$$\n",
        "\n",
        "We can now write:\n",
        "\n",
        "$$\\left\\|\\boldsymbol{\\mathcal{D}} - \\boldsymbol{\\mathcal{Z}}^{[i]}\\boldsymbol{\\mathcal{G}}^H\\right\\| = \\sqrt{\\sum_{p}^N\\boldsymbol{\\mathcal{D}}_{:,p}-\\boldsymbol{\\mathcal{Z}}_{:,p}^{[i]}\\left(g_p^{[i]}\\right)^*},$$\n",
        "with $\\boldsymbol{\\mathcal{Z}}^{[i]} = \\boldsymbol{\\mathcal{G}}^{[i]}\\boldsymbol{\\mathcal{M}}$. We denote the $p$-th column of $\\boldsymbol{\\mathcal{A}}$ with $\\boldsymbol{\\mathcal{A}}_{:,p}$. If we now apply the \n",
        "[normal equation method &#10548;](http://mathworld.wolfram.com/NormalEquation.html) we readily obtain:\n",
        "\n",
        "<p class=conclusion>\n",
        "  <font size=4> <b>StEFCal update step</b></font>\n",
        "  <br>\n",
        "  <br>\n",
        "  \\begin{equation}\n",
        "  g_p^{[i]} = \\frac{\\boldsymbol{\\mathcal{D}}^H_{:,p}\\boldsymbol{\\mathcal{Z}}_{:,p}^{[i-1]}}{\\left(\\boldsymbol{\\mathcal{Z}}_{:,p}^{[i-1]}\\right)^H\\boldsymbol{\\mathcal{Z}}_{:,p}^{[i-1]}}.\n",
        "  \\end{equation}\n",
        "</p>\n",
        "\n",
        "We can use the above update step to iteratively obtain the best estimate of $g_p$. We iterate until we exceed some maximum number of iterations or if we reach our convergence criteria.<br><br> \n",
        "<div class=warn>\n",
        "<b>Warning:</b> In practice we replace the gain solution of each even iteration by the average of the current gain solution and the gain solution of the previous odd iteration.\n",
        "</div>"
      ]
    },
    {
      "cell_type": "markdown",
      "metadata": {
        "collapsed": true
      },
      "source": [
        "***\n",
        "\n",
        "Next: [8.5 Further reading and references](8_5_further_reading_and_references.ipynb)"
      ]
    }
  ],
  "metadata": {
    "kernelspec": {
      "display_name": "Python 3 (ipykernel)",
      "language": "python",
      "name": "python3"
    },
    "language_info": {
      "codemirror_mode": {
        "name": "ipython",
        "version": 3
      },
      "file_extension": ".py",
      "mimetype": "text/x-python",
      "name": "python",
      "nbconvert_exporter": "python",
      "pygments_lexer": "ipython3",
      "version": "3.8.10"
    }
  },
  "nbformat": 4,
  "nbformat_minor": 1
}