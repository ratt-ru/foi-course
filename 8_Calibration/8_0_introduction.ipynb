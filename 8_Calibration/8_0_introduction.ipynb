{
  "cells": [
    {
      "cell_type": "markdown",
      "metadata": {},
      "source": [
        "***\n",
        "\n",
        "* [Outline](../0_Introduction/0_introduction.ipynb)\n",
        "* [Glossary](../0_Introduction/1_glossary.ipynb)\n",
        "* [8. Calibration ](8_0_introduction.ipynb) \n",
        "    * Next: [8.1 Calibration as a Least Squares Problem](8_1_calibration_least_squares_problem.ipynb)\n",
        "\n",
        "***"
      ]
    },
    {
      "cell_type": "markdown",
      "metadata": {},
      "source": [
        "## Chapter 8: Calibration<a id='calibration:sec:intro'></a>"
      ]
    },
    {
      "cell_type": "markdown",
      "metadata": {},
      "source": [
        "<span style=\"background-color:red\">GIG:AC:\n",
        "1. <span style=\"background-color:red\">The thing that misses is the description of calibration artifacts in the image domain and a description how they look like (there is an example, but it does not explain why the artifacts look like they do (basically the calculated PSF is not the real one, amp cal errors are symmetric, phase antisymmetric). </span>\n",
        "2. <span style=\"background-color:red\">How do amplitude errors reflect in the (residual) image, how phase errors. It may even be nice to add a piece of code that simulates pure amplitude errors, and pure phase errors. </span>\n",
        "3. <span style=\"background-color:red\">Chapter 4.3 should be expanded (Also maybe 4.2, although I am not an editor of that one).</span>\n",
        "4. <span style=\"background-color:red\">Highlighting is used sparsely if at all. I, personally, don't have a problem with that.</span>"
      ]
    },
    {
      "cell_type": "markdown",
      "metadata": {},
      "source": [
        "Calibration is an important, as yet under-discussed, part of radio interferometry. As the previous chapter on observation systems has shown, there are many effects which can introduce errors into the signal measured by a radio interferometer. While some of these effects can be corrected by electronics and *a priori* information, some effects require explicit calibration. Calibration involves the determination of a number of parameters which can be used to correct the received signal. The numerical method most commonly used for this purpose is discussed in [$\\S$ 8.1 &#10142;](../8_Calibration/8_1_calibration_least_squares_problem.ipynb).\n",
        "\n",
        "Calibration is often divided into three generations: first, second and third generation calibration (1GC, 2GC and 3GC respectively). 1GC is the oldest method of calibration and is still in common use. It exploits observations of sources with known parameters to calibrate for a variety of effects. The basic idea behind 1GC is to observe a known calibrator source (it need not be in the target field); we then use this calibrator observation to obtain calibration solutions which we then use to correct our target field observation, i.e. we *transfer* the solutions to the target field. This is discussed further in [$\\S$ 8.2 &#10142;](../8_Calibration/8_2_1gc.ipynb). This section also introduces the notion of closure quantities, which are useful diagnostics of the performance of an interferometer.\n",
        "\n",
        "2GC is used to describe the method of self-calibration. This is an iterative procedure which makes use of successive sky model updates via deconvolution to calibrate using the target field. This is particularly useful as it accounts for effects unique to the target field rather than relying solely on the calibrator observations of 1GC. 2GC is the subject of [$\\S$ 8.3 &#10142;](../8_Calibration/8_3_2gc.ipynb).\n",
        "\n",
        "The last section of the chapter, [$\\S$ 8.4 &#10142;](../8_Calibration/8_4_3gc.ipynb) deals with the most recent advances of calibration and the methods of third generation calibration. 3GC deals specifically with the calibration of *direction-dependent effects*. As these effects are not uniform across the field of view, special care needs to be taken to remove them. Many of these methods are extensions of 2GC self-calibration ideas.\n",
        "\n",
        "Finally, we provide an overview of references and further literature."
      ]
    },
    {
      "cell_type": "markdown",
      "metadata": {},
      "source": [
        "#### Chapter Sections\n",
        "\n",
        "1. [Calibration as a Least Squares Problem](8_1_calibration_least_squares_problem.ipynb)\n",
        "2. [First Generation Calibration (1GC)](8_2_1gc.ipynb)\n",
        "2. [Second Generation Calibration (2GC)](8_3_2gc.ipynb)\n",
        "3. [Third Generation Calibration (3GC)](8_4_3gc.ipynb)\n",
        "4. [Further Reading and References](8_5_further_reading_and_references.ipynb)"
      ]
    },
    {
      "cell_type": "markdown",
      "metadata": {},
      "source": [
        "#### Chapter Editors\n",
        "* Gyula Jozsa (2017, **8.0**, **8.2**, **8.4**, **8.5**)\n",
        "* Athanaseus Ramaila (2017, **8.1**, **8.3**)\n",
        "\n",
        "#### Chapter Contributors\n",
        "\n",
        "* Trienko Grobler (**8.1**, **8.3**, **8.4**)\n",
        "* Jonathan Kenyon (**8.2**)\n",
        "\n",
        "#### Format status:\n",
        "\n",
        "* <span style=\"background-color:green\">&nbsp;&nbsp;&nbsp;&nbsp;</span> : LF: 17/02/13\n",
        "* <span style=\"background-color:green\">&nbsp;&nbsp;&nbsp;&nbsp;</span> : NC: 17/02/13\n",
        "* <span style=\"background-color:green\">&nbsp;&nbsp;&nbsp;&nbsp;</span> : RF: 17/02/13\n",
        "* <span style=\"background-color:green\">&nbsp;&nbsp;&nbsp;&nbsp;</span> : HF: 17/02/13\n",
        "* <span style=\"background-color:green\">&nbsp;&nbsp;&nbsp;&nbsp;</span> : GM: 17/02/13\n",
        "* <span style=\"background-color:green\">&nbsp;&nbsp;&nbsp;&nbsp;</span> : CC: 17/02/13\n",
        "* <span style=\"background-color:green\">&nbsp;&nbsp;&nbsp;&nbsp;</span> : CL: 17/02/13\n",
        "* <span style=\"background-color:green\">&nbsp;&nbsp;&nbsp;&nbsp;</span> : ST: 17/02/13\n",
        "* <span style=\"background-color:green\">&nbsp;&nbsp;&nbsp;&nbsp;</span> : FN: 17/02/13\n",
        "* <span style=\"background-color:green\">&nbsp;&nbsp;&nbsp;&nbsp;</span> : TC: 17/02/13\n",
        "* <span style=\"background-color:green\">&nbsp;&nbsp;&nbsp;&nbsp;</span> : XX: 17/02/13"
      ]
    },
    {
      "cell_type": "markdown",
      "metadata": {},
      "source": [
        "***\n",
        "\n",
        "Next: [8.1 Calibration as a Least Squares Problem](8_1_calibration_least_squares_problem.ipynb)"
      ]
    }
  ],
  "metadata": {
    "@webio": {
      "lastCommId": null,
      "lastKernelId": null
    },
    "kernelspec": {
      "display_name": "Python 3 (ipykernel)",
      "language": "python",
      "name": "python3"
    },
    "language_info": {
      "codemirror_mode": {
        "name": "ipython",
        "version": 3
      },
      "file_extension": ".py",
      "mimetype": "text/x-python",
      "name": "python",
      "nbconvert_exporter": "python",
      "pygments_lexer": "ipython3",
      "version": "3.8.10"
    }
  },
  "nbformat": 4,
  "nbformat_minor": 1
}