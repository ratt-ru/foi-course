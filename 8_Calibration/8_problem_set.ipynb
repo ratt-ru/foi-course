{
 "cells": [
  {
   "cell_type": "markdown",
   "metadata": {},
   "source": [
    "***\n",
    "<a id='beginning'></a> <!--\\label{beginning}-->\n",
    "* [Outline](../0_Introduction/0_introduction.ipynb)\n",
    "* [Glossary](../0_Introduction/1_glossary.ipynb)\n",
    "* [8. Calibration](8_0_introduction.ipynb)\n",
    "***"
   ]
  },
  {
   "cell_type": "markdown",
   "metadata": {},
   "source": [
    "Import standard modules:"
   ]
  },
  {
   "cell_type": "code",
   "execution_count": null,
   "metadata": {},
   "outputs": [],
   "source": [
    "import numpy as np\n",
    "import matplotlib.pyplot as plt\n",
    "%matplotlib inline\n",
    "from IPython.display import HTML \n",
    "HTML('../style/course.css') #apply general CSS"
   ]
  },
  {
   "cell_type": "markdown",
   "metadata": {},
   "source": [
    "Import section specific modules:"
   ]
  },
  {
   "cell_type": "code",
   "execution_count": null,
   "metadata": {},
   "outputs": [],
   "source": [
    "from IPython.display import Image\n",
    "from scipy import optimize"
   ]
  },
  {
   "cell_type": "code",
   "execution_count": null,
   "metadata": {},
   "outputs": [],
   "source": [
    "HTML('../style/code_toggle.html')"
   ]
  },
  {
   "cell_type": "markdown",
   "metadata": {},
   "source": [
    "## Calibration Problem Set"
   ]
  },
  {
   "cell_type": "markdown",
   "metadata": {},
   "source": [
    "In this problem set you will be required to discuss and implement [SteFCal](http://arxiv.org/abs/1410.2101). But first we give the code from Chapter 8 which implements the standard Levenberg-Marquardt approach. Please review Chapter 8 for a better description of what the existing code does. "
   ]
  },
  {
   "cell_type": "markdown",
   "metadata": {},
   "source": [
    "### A. Generating $uv$-tracks"
   ]
  },
  {
   "cell_type": "code",
   "execution_count": null,
   "metadata": {},
   "outputs": [],
   "source": [
    "lam = 3e8/1.4e9 #observational wavelenth\n",
    "print(\"lam = \",lam)\n",
    "b = np.array([100,200,300])/lam\n",
    "print(\"b [wavelengths] = \",b)\n",
    "plt.plot(np.array([0,100,200]),np.array([0,0,0]),'ro')\n",
    "plt.xlim([-250,250])\n",
    "plt.ylim([-100,100])\n",
    "plt.xlabel(\"East-West [m]\", fontsize=18)\n",
    "plt.ylabel(\"North-South [m]\", fontsize=18)\n",
    "plt.title(\"ENU-coordinates of three element interferometer.\", fontsize=18)\n",
    "plt.show()\n",
    "H = np.linspace(-6,6,600)*(np.pi/12) #Hour angle in radians\n",
    "delta = 60*(np.pi/180) #Declination in radians\n",
    "u = np.zeros((len(b),len(H)))\n",
    "v = np.zeros((len(b),len(H)))\n",
    "for k in range(len(b)):\n",
    "    u[k,:] = b[k]*np.cos(H)\n",
    "    v[k,:] = b[k]*np.sin(H)*np.sin(delta)\n",
    "    plt.plot(u[k,:],v[k,:],\"r\")\n",
    "    plt.plot(-u[k,:],-v[k,:],\"b\")\n",
    "plt.xlabel(\"$u$ [rad$^{-1}$]\", fontsize=18)\n",
    "plt.ylabel(\"$v$ [rad$^{-1}$]\", fontsize=18)\n",
    "plt.title(\"$uv$-Coverage of three element interferometer\", fontsize=18)\n",
    "plt.show()\n",
    "u_m = np.zeros((len(b),len(b),len(H)))\n",
    "v_m = np.zeros((len(b),len(b),len(H)))\n",
    "\n",
    "u_m[0,1,:] = u[0,:] #the first two entries denote p and q and the third index denotes time\n",
    "u_m[1,2,:] = u[1,:]\n",
    "u_m[0,2,:] = u[2,:]\n",
    "\n",
    "v_m[0,1,:] = v[0,:]\n",
    "v_m[1,2,:] = v[1,:]\n",
    "v_m[0,2,:] = v[2,:]"
   ]
  },
  {
   "cell_type": "markdown",
   "metadata": {},
   "source": [
    "### B. Generating Visibilities"
   ]
  },
  {
   "cell_type": "code",
   "execution_count": null,
   "metadata": {},
   "outputs": [],
   "source": [
    "'''Creates the observed visibilities\n",
    "point_sources - skymodel of point sources - (amplitude, l, m)\n",
    "u_m - the u coordinates of observation (packed in a 2D structure)\n",
    "v_m - the v coordinates of observation (packed in a 2D structure)\n",
    "g - the antenna gain error vector\n",
    "sig - the noise\n",
    "'''\n",
    "def create_vis_mat(point_sources,u_m,v_m,g,sig):\n",
    "    D = np.zeros(u_m.shape)\n",
    "    G = np.diag(g)\n",
    "    #Step 1: Create Model Visibility Matrix\n",
    "    for k in range(len(point_sources)): #for each point source\n",
    "        l_0 = point_sources[k,1]\n",
    "        m_0 = point_sources[k,2]\n",
    "        D = D + point_sources[k,0]*np.exp(-2*np.pi*1j*(u_m*l_0+v_m*m_0))\n",
    "    \n",
    "    for t in range(D.shape[2]): #for each time-step\n",
    "        \n",
    "        #Step 2: Corrupting the Visibilities \n",
    "        D[:,:,t] = np.dot(G,D[:,:,t])\n",
    "        D[:,:,t] = np.dot(D[:,:,t],G.conj()) \n",
    "        \n",
    "        #Step 3: Adding Noise\n",
    "        D[:,:,t] = D[:,:,t] + sig*np.random.randn(u_m.shape[0],u_m.shape[1]) + sig*np.random.randn(u_m.shape[0],u_m.shape[1])*1j\n",
    "    \n",
    "    return D"
   ]
  },
  {
   "cell_type": "code",
   "execution_count": null,
   "metadata": {},
   "outputs": [],
   "source": [
    "point_sources = np.array([(1,0,0),(0.5,(1*np.pi)/180,(0*np.pi)/180)]) #l and m are measures in radians\n",
    "g = np.array([1.2+1.3j,1.1-1.5j,-1.3+0.7j])\n",
    "sig = 0.1\n",
    "D = create_vis_mat(point_sources,u_m,v_m,g,sig) #we corrupt our data and we add noise\n",
    "M = create_vis_mat(point_sources,u_m,v_m,np.array([1,1,1]),0) #no corruption and no noise "
   ]
  },
  {
   "cell_type": "code",
   "execution_count": null,
   "metadata": {},
   "outputs": [],
   "source": [
    "fig = plt.figure()\n",
    "\n",
    "timeslots = np.cumsum(np.ones((len(M[0,1,:]),)))\n",
    "\n",
    "#We only plot the real part of visibilities\n",
    "\n",
    "#Plotting Baseline 01\n",
    "ax = plt.subplot(311)\n",
    "ax.set_title(\"$m_{01}$ (blue) and $d_{01}$  (green)\", fontsize=18)\n",
    "ax.plot(timeslots,M[0,1,:].real)\n",
    "ax.plot(timeslots,D[0,1,:].real)\n",
    "ax.set_xlabel(\"Timeslot\", fontsize=18)\n",
    "ax.set_ylabel(\"Jy\", fontsize=18)\n",
    "ax.set_xlim([1,len(M[0,1,:])])\n",
    "y_t = ax.get_yticks()\n",
    "y_t = y_t[::2]\n",
    "ax.set_yticks(y_t)\n",
    "\n",
    "#Plotting Baseline 02\n",
    "ax = plt.subplot(312)\n",
    "ax.set_title(\"$m_{02}$ (blue) and $d_{02}$ (green)\", fontsize=18)\n",
    "ax.plot(timeslots,M[0,2,:].real)\n",
    "ax.plot(timeslots,D[0,2,:].real)\n",
    "ax.set_xlabel(\"Timeslot\", fontsize=18)\n",
    "ax.set_ylabel(\"Jy\", fontsize=18)\n",
    "ax.set_xlim([1,len(M[0,1,:])])\n",
    "y_t = ax.get_yticks()\n",
    "y_t = y_t[::2]\n",
    "ax.set_yticks(y_t)\n",
    "\n",
    "#Plotting Baseline 12\n",
    "ax = plt.subplot(313)\n",
    "ax.set_title(\"$m_{12}$ (blue) and $d_{12}$ (green)\", fontsize=18)\n",
    "ax.plot(timeslots,M[1,2,:].real)\n",
    "ax.plot(timeslots,D[1,2,:].real)\n",
    "ax.set_xlabel(\"Timeslot\", fontsize=18)\n",
    "ax.set_ylabel(\"Jy\", fontsize=18)\n",
    "ax.set_xlim([1,len(M[0,1,:])])\n",
    "y_t = ax.get_yticks()\n",
    "y_t = y_t[::2]\n",
    "ax.set_yticks(y_t)\n",
    "\n",
    "plt.tight_layout()\n",
    "\n",
    "plt.show()"
   ]
  },
  {
   "cell_type": "markdown",
   "metadata": {},
   "source": [
    "### C. Calibrate Using LM"
   ]
  },
  {
   "cell_type": "code",
   "execution_count": null,
   "metadata": {},
   "outputs": [],
   "source": [
    "'''Unpolarized direction independent calibration entails finding the G that minimizes ||R-GMG^H||. \n",
    "This function evaluates D-GMG^H.\n",
    "g is a vector containing the real and imaginary components of the antenna gains.\n",
    "d is a vector containing a vecotrized R (observed visibilities), real and imaginary.\n",
    "m is a vector containing a vecotrized M (predicted), real and imaginary.\n",
    "r is a vector containing the residuals.\n",
    "''' \n",
    "def err_func(g,d,m):\n",
    "    Nm = len(d)//2\n",
    "    N = len(g)//2\n",
    "    G = np.diag(g[0:N]+1j*g[N:])\n",
    "    D = np.reshape(d[0:Nm],(N,N))+np.reshape(d[Nm:],(N,N))*1j #matrization\n",
    "    M = np.reshape(m[0:Nm],(N,N))+np.reshape(m[Nm:],(N,N))*1j\n",
    "    T = np.dot(G,M)\n",
    "    T = np.dot(T,G.conj())\n",
    "    R = D - T\n",
    "    r_r = np.ravel(R.real) #vectorization\n",
    "    r_i = np.ravel(R.imag)\n",
    "    r = np.hstack([r_r,r_i])\n",
    "    return r"
   ]
  },
  {
   "cell_type": "code",
   "execution_count": null,
   "metadata": {},
   "outputs": [],
   "source": [
    "'''This function finds argmin G ||D-GMG^H|| using Levenberg-Marquardt. It uses the optimize.leastsq scipy to perform\n",
    "the actual minimization.\n",
    "D is your observed visibilities matrx.\n",
    "M is your predicted visibilities.\n",
    "g the antenna gains.\n",
    "G = gg^H.''' \n",
    "def create_G_LM(R,M):\n",
    "       N = R.shape[0]\n",
    "       temp =np.ones((R.shape[0],R.shape[1]) ,dtype=complex)\n",
    "       G = np.zeros(R.shape,dtype=complex)\n",
    "       g = np.zeros((R.shape[0],R.shape[2]),dtype=complex)\n",
    "      \n",
    "       for t in range(R.shape[2]):\n",
    "           g_0 = np.ones((2*N,))\n",
    "           g_0[N:] = 0\n",
    "           r_r = np.ravel(R[:,:,t].real)\n",
    "           r_i = np.ravel(R[:,:,t].imag)\n",
    "           r = np.hstack([r_r,r_i])\n",
    "           m_r = np.ravel(M[:,:,t].real)\n",
    "           m_i = np.ravel(M[:,:,t].imag)\n",
    "           m = np.hstack([m_r,m_i])\n",
    "           g_lstsqr_temp = optimize.leastsq(err_func, g_0, args=(r, m))\n",
    "           g_lstsqr = g_lstsqr_temp[0]          \n",
    "           \n",
    "           G_m = np.dot(np.diag(g_lstsqr[0:N]+1j*g_lstsqr[N:]),temp)\n",
    "           G_m = np.dot(G_m,np.diag((g_lstsqr[0:N]+1j*g_lstsqr[N:]).conj()))           \n",
    "\n",
    "           g[:,t] = g_lstsqr[0:N]+1j*g_lstsqr[N:]       \n",
    "           G[:,:,t] = G_m\n",
    "         \n",
    "       return g,G"
   ]
  },
  {
   "cell_type": "code",
   "execution_count": null,
   "metadata": {},
   "outputs": [],
   "source": [
    "glm,Glm = create_G_LM(D,M)"
   ]
  },
  {
   "cell_type": "code",
   "execution_count": null,
   "metadata": {},
   "outputs": [],
   "source": [
    "R_c = Glm**(-1)*D"
   ]
  },
  {
   "cell_type": "code",
   "execution_count": null,
   "metadata": {},
   "outputs": [],
   "source": [
    "fig = plt.figure()\n",
    "\n",
    "timeslots = np.cumsum(np.ones((len(M[0,1,:]),)))\n",
    "\n",
    "#We only plot the real part of visibilities\n",
    "\n",
    "#Plotting Baseline 01\n",
    "ax = plt.subplot(311)\n",
    "ax.set_title(\"$m_{01}$ (blue) and $d_{01}^{(c)}$  (green)\", fontsize=18)\n",
    "ax.plot(timeslots,M[0,1,:].real)\n",
    "ax.plot(timeslots,R_c[0,1,:].real)\n",
    "ax.set_xlabel(\"Timeslot\", fontsize=18)\n",
    "ax.set_ylabel(\"Jy\", fontsize=18)\n",
    "ax.set_xlim([1,len(M[0,1,:])])\n",
    "y_t = ax.get_yticks()\n",
    "y_t = y_t[::2]\n",
    "ax.set_yticks(y_t)\n",
    "\n",
    "#Plotting Baseline 02\n",
    "ax = plt.subplot(312)\n",
    "ax.set_title(\"$m_{02}$ (blue) and $d_{02}^{(c)}$ (green)\", fontsize=18)\n",
    "ax.plot(timeslots,M[0,2,:].real)\n",
    "ax.plot(timeslots,R_c[0,2,:].real)\n",
    "ax.set_xlabel(\"Timeslot\", fontsize=18)\n",
    "ax.set_ylabel(\"Jy\", fontsize=18)\n",
    "ax.set_xlim([1,len(M[0,1,:])])\n",
    "y_t = ax.get_yticks()\n",
    "y_t = y_t[::2]\n",
    "ax.set_yticks(y_t)\n",
    "\n",
    "#Plotting Baseline 12\n",
    "ax = plt.subplot(313)\n",
    "ax.set_title(\"$m_{12}$ (blue) and $d_{12}^{(c)}$ (green)\", fontsize=18)\n",
    "ax.plot(timeslots,M[1,2,:].real)\n",
    "ax.plot(timeslots,R_c[1,2,:].real)\n",
    "ax.set_xlabel(\"Timeslot\", fontsize=18)\n",
    "ax.set_ylabel(\"Jy\", fontsize=18)\n",
    "ax.set_xlim([1,len(M[0,1,:])])\n",
    "y_t = ax.get_yticks()\n",
    "y_t = y_t[::2]\n",
    "ax.set_yticks(y_t)\n",
    "\n",
    "plt.tight_layout()\n",
    "\n",
    "plt.show()"
   ]
  },
  {
   "cell_type": "markdown",
   "metadata": {},
   "source": [
    "### 1. SteFCal: Theoretical derivation"
   ]
  },
  {
   "cell_type": "markdown",
   "metadata": {},
   "source": [
    "Please derive, discuss and present the SteFCal calibration algorithm? [20] "
   ]
  },
  {
   "cell_type": "markdown",
   "metadata": {},
   "source": [
    "**Subtotal 20**"
   ]
  },
  {
   "cell_type": "markdown",
   "metadata": {},
   "source": [
    "### 2. SteFCal: Practical implementation "
   ]
  },
  {
   "cell_type": "markdown",
   "metadata": {},
   "source": [
    "a) Please Complete the following function. This function is suppose to be the SteFCal equivalent of `create_G_LM`. In other words it should compute `g` and `G` but instead of using LM it should use SteFCal. [20]  "
   ]
  },
  {
   "cell_type": "code",
   "execution_count": null,
   "metadata": {},
   "outputs": [],
   "source": [
    "'''This function finds argmin G ||R-GMG^H|| using StEFCal.\n",
    "D is your observed visibilities matrx.\n",
    "M is your predicted visibilities.\n",
    "imax maximum amount of iterations.\n",
    "tau stopping criteria.\n",
    "g the antenna gains.\n",
    "G = gg^H.'''\n",
    "def create_G_stef(self,D,M,imax,tau):\n",
    "   G = np.zeros(D.shape,dtype=complex)\n",
    "   g = np.zeros((D.shape[0],D.shape[2]),dtype=complex)\n",
    "\n",
    "   #Complete the rest of the function\n",
    "\n",
    "   return g,G"
   ]
  },
  {
   "cell_type": "markdown",
   "metadata": {},
   "source": [
    "b) Use `create_G_stef` to calibrate the visibilities we created in Section B. \n",
    "Plot the real part of the corrected visibilities and the true visibilities.How does your result compare to what we obtained with LM? [10]"
   ]
  },
  {
   "cell_type": "markdown",
   "metadata": {},
   "source": [
    "**Subtotal 30**"
   ]
  },
  {
   "cell_type": "markdown",
   "metadata": {},
   "source": [
    "**Full Marks 50**"
   ]
  }
 ],
 "metadata": {
  "kernelspec": {
   "display_name": "testament",
   "language": "python",
   "name": "testament"
  },
  "language_info": {
   "codemirror_mode": {
    "name": "ipython",
    "version": 3
   },
   "file_extension": ".py",
   "mimetype": "text/x-python",
   "name": "python",
   "nbconvert_exporter": "python",
   "pygments_lexer": "ipython3",
   "version": "3.8.10"
  }
 },
 "nbformat": 4,
 "nbformat_minor": 1
}
