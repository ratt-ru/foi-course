{
 "cells": [
  {
   "cell_type": "markdown",
   "metadata": {},
   "source": [
    "***\n",
    "\n",
    "* [Outline](../0_Introduction/0_introduction.ipynb)\n",
    "* [Glossary](../0_Introduction/1_glossary.ipynb)\n",
    "* [8. Calibration](8_0_Introduction.ipynb)\n",
    "    * Previous: [8.2 1GC Calibration](8_2_1gc.ipynb)\n",
    "    * Next: [8.4 3GC Calibration](8_4_3gc.ipynb)\n",
    "\n",
    "***"
   ]
  },
  {
   "cell_type": "markdown",
   "metadata": {},
   "source": [
    "#### Format status:\n",
    "\n",
    "* <span style=\"background-color:green\">&nbsp;&nbsp;&nbsp;&nbsp;</span> : LF: 07-02-2017\n",
    "* <span style=\"background-color:green\">&nbsp;&nbsp;&nbsp;&nbsp;</span> : NC: 07-02-2017\n",
    "* <span style=\"background-color:green\">&nbsp;&nbsp;&nbsp;&nbsp;</span> : RF: 07-02-2017\n",
    "* <span style=\"background-color:green\">&nbsp;&nbsp;&nbsp;&nbsp;</span> : HF: 07-02-2017\n",
    "* <span style=\"background-color:green\">&nbsp;&nbsp;&nbsp;&nbsp;</span> : GM: 07-02-2017\n",
    "* <span style=\"background-color:green\">&nbsp;&nbsp;&nbsp;&nbsp;</span> : CC: 07-02-2017\n",
    "* <span style=\"background-color:green\">&nbsp;&nbsp;&nbsp;&nbsp;</span> : CL: 07-02-2017\n",
    "* <span style=\"background-color:green\">&nbsp;&nbsp;&nbsp;&nbsp;</span> : ST: 07-02-2017\n",
    "* <span style=\"background-color:green\">&nbsp;&nbsp;&nbsp;&nbsp;</span> : FN: 07-02-2017\n",
    "* <span style=\"background-color:green\">&nbsp;&nbsp;&nbsp;&nbsp;</span> : TC: 07-02-2017\n",
    "* <span style=\"background-color:green\">&nbsp;&nbsp;&nbsp;&nbsp;</span> : SP: 07-02-2017\n",
    "* <span style=\"background-color:green\">&nbsp;&nbsp;&nbsp;&nbsp;</span> : XX: 07-02-2017"
   ]
  },
  {
   "cell_type": "markdown",
   "metadata": {},
   "source": [
    "Import standard modules:"
   ]
  },
  {
   "cell_type": "code",
   "execution_count": null,
   "metadata": {},
   "outputs": [],
   "source": [
    "import numpy as np\n",
    "import matplotlib.pyplot as plt\n",
    "%matplotlib inline\n",
    "from IPython.display import HTML \n",
    "HTML('../style/course.css') #apply general CSS"
   ]
  },
  {
   "cell_type": "markdown",
   "metadata": {},
   "source": [
    "Import section specific modules:"
   ]
  },
  {
   "cell_type": "code",
   "execution_count": null,
   "metadata": {},
   "outputs": [],
   "source": [
    "pass"
   ]
  },
  {
   "cell_type": "code",
   "execution_count": null,
   "metadata": {},
   "outputs": [],
   "source": [
    "HTML('../style/code_toggle.html')"
   ]
  },
  {
   "cell_type": "markdown",
   "metadata": {},
   "source": [
    "## 8.3 2GC Calibration: direction independent self-calibration"
   ]
  },
  {
   "cell_type": "markdown",
   "metadata": {},
   "source": [
    "After performing 1GC (applying the antenna gains from the calibrator to the target field)\n",
    "we should be able to make a decent image of our target field. The dynamic range of this image can be improved even further by using the *self-calibration* framework. We formally present self-calibration and *hybrid-mapping* (a predecessor of self-calibration) in [$\\S$ 8.3.1 &#10549;](#cal:sec:selfcal) <!--\\ref{cal:sec:selfcal}--> and [$\\S$ 8.3.2 &#10549;](#cal:sec:hybrid_mapping) <!--\\ref{cal:sec:hybrid_mapping--> respectively."
   ]
  },
  {
   "cell_type": "markdown",
   "metadata": {},
   "source": [
    "### 8.3.1 Self-Calibration <a id='cal:sec:selfcal'></a> <!--\\label{cal:sec:selfcal}-->"
   ]
  },
  {
   "cell_type": "markdown",
   "metadata": {},
   "source": [
    "Self-calibration makes use of the observed field to calibrate the visibilities. In [Fig. 8.3.1 &#10549;](#cal:fig:self_cal) <!--\\ref{cal:fig:self_cal}--> we have a block diagram depicting the self-calibration framework. We continuously switch between two domains; the image domain and the visibility domain. In the image domain we perform deconvolution and source finding, while calibration takes place in the visibility domain. Deconvolution and source finding are discussed in [$\\S$ 6.2 &#10142;](../6_Deconvolution/6_2_clean.ipynb) and [$\\S$ 6.5 &#10142;](../6_Deconvolution/6_5_source_finding.ipynb) respectively. It is important to realize that [Fig. 8.3.1 &#10549;](#cal:fig:self_cal) <!--\\ref{cal:fig:self_cal}--> is a very rudimentary representation of the self-calibration framework. Self-calibration is performed by using the following procedure:\n",
    "\n",
    "<p class=conclusion>\n",
    "  <font size=4> <b>Self-calibration algorithm</b></font>\n",
    "  <br>\n",
    "  <br>\n",
    "1. We start by creating an incomplete initial sky-model of our target field (using a post-1GC image).<br>\n",
    "2. We use the initial/improved sky-model to calibrate our observed visibilities which are subsequently imaged.<br>\n",
    "3. We deconvolve the resulting image.<br>\n",
    "4. We run a source finder on the deconvolved image to construct a more accurate sky model.<br>\n",
    "5. We return to step 2, or terminate the algorithm if the we have reached the target dynamic range or if further improvement is not possible.<br>\n",
    "</p>"
   ]
  },
  {
   "cell_type": "markdown",
   "metadata": {},
   "source": [
    "<img src='figures/Selfcal2.png' width=80%>"
   ]
  },
  {
   "cell_type": "markdown",
   "metadata": {},
   "source": [
    "**Figure 8.3.1**: The self-calibration framework.<a id='cal:fig:self_cal'></a> <!--\\label{cal:fig:self_cal}-->"
   ]
  },
  {
   "cell_type": "markdown",
   "metadata": {},
   "source": [
    "We now present some radio images which illustrate the usefulness of self-calibration.\n",
    "The images below all depict the NCP as observed by LOFAR. [Fig. 8.3.2 &#10549;](#cal:fig:1GC_lofar) <!--\\ref{cal:fig:1GC_lofar}--> was created directly after the calibrator solutions were applied. [Fig. 8.3.3 &#10549;](#cal:fig:2GC_lofar) <!--\\ref{cal:fig:2GC_lofar}--> is an image of the target field after self-calibration (and additional flagging). We produced [Fig. 8.3.4 &#10549;](#cal:fig:2GC_lofar_clip) <!--\\ref{cal:fig:2GC_lofar_clip}--> by decreasing the colour-bar range of [Fig. 8.3.3 &#10549;](#cal:fig:2GC_lofar) <!--\\ref{cal:fig:2GC_lofar}-->. We can make a few observations by comparing [Fig. 8.3.2 &#10549;](#cal:fig:1GC_lofar) <!--\\ref{cal:fig:1GC_lofar}-->, [Fig. 8.3.3 &#10549;](#cal:fig:2GC_lofar) <!--\\ref{cal:fig:2GC_lofar}--> and [Fig. 8.3.4 &#10549;](#cal:fig:2GC_lofar_clip) <!--\\ref{cal:fig:2GC_lofar_clip}-->:\n",
    "\n",
    "* The radio galaxy 3C 220.3 only becomes visible after we perform self-calibration. \n",
    "* The radio galaxy 3C 61.1 becomes brighter after self-calibration (it now approximates its\n",
    "  true apparent flux).\n",
    "* Some of the weaker sources are visible after self-calibration (see [Fig. 8.3.4 &#10549;](#cal:fig:2GC_lofar_clip)). \n",
    "\n",
    "In short, self-calibration greatly improves the quality of radio images."
   ]
  },
  {
   "cell_type": "markdown",
   "metadata": {},
   "source": [
    "<img src='figures/1GC_only.png' width=80%>"
   ]
  },
  {
   "cell_type": "markdown",
   "metadata": {},
   "source": [
    "**Figure 8.3.2**: The NCP before self-calibration (only 1GC calibration has been performed). This observation was made with the LOFAR telescope.<a id='cal:fig:1GC_lofar'></a> <!--\\label{cal:fig:1GC_lofar}-->"
   ]
  },
  {
   "cell_type": "markdown",
   "metadata": {},
   "source": [
    "<img src='figures/2GC.png' width=80%>"
   ]
  },
  {
   "cell_type": "markdown",
   "metadata": {},
   "source": [
    "**Figure 8.3.3**: The NCP after self-calibration.<a id='cal:fig:2GC_lofar'></a> <!--\\label{cal:fig:2GC_lofar}-->"
   ]
  },
  {
   "cell_type": "markdown",
   "metadata": {},
   "source": [
    "<img src='figures/2GC_clip.png' width=80%>"
   ]
  },
  {
   "cell_type": "markdown",
   "metadata": {},
   "source": [
    "**Figure 8.3.4**: The NCP after self-calibration. The colour-bar range has been clipped so that the weaker sources are visible.<a id='cal:fig:2GC_lofar_clip'></a> <!--\\label{cal:fig:2GC_lofar_clip}-->"
   ]
  },
  {
   "cell_type": "markdown",
   "metadata": {
    "collapsed": true
   },
   "source": [
    "### 8.3.2 Hybrid-mapping <a id='cal:sec:hybrid_mapping'></a> <!--\\label{cal:sec:hybrid_mapping}-->"
   ]
  },
  {
   "cell_type": "markdown",
   "metadata": {},
   "source": [
    "Up until this point we have not described the actual calibration algorithm one needs to use in the self-calibration framework. This is because the algorithm used is irrelevant in the context of the framework. However, it is useful to note that the (currently) most used algorithm is the least-squares approach discussed in [$\\S$ 8.1 &#10142;](../8_Calibration/8_1_calibration_least_squares_problem.ipynb#cal:sec:cal_ls) <!--\\ref{cal:sec:cal_ls}-->. This was not always the case.\n",
    "\n",
    "In the past self-calibration actually employed closure quantities (see [<cite data-cite='Jennison1958'>A phase sensitive interferometer technique for the measurement of the Fourier transforms of spatial brightness distributions of small angular extent</cite> &#10548;](http://mnras.oxfordjournals.org/content/118/3/276.short) and [<cite data-cite='Smith1952'>The measurement of the angular diameter of radio stars</cite> &#10548;](http://iopscience.iop.org/article/10.1088/0370-1301/65/12/309/meta;jsessionid=9DF36DAB88B75643A607FA921E11CC4A.c2.iopscience.cld.iop.org)). Back when closure quantities were used to implement the calibration sub-block in [Fig. 8.3.1 &#10549;](#cal:fig:self_cal) <!--\\ref{cal:fig:self_cal}-->, self-calibration was known by a different name: hybrid-mapping.<br><br> \n",
    "\n",
    "<div class=warn>\n",
    "<b>Warning:</b> Generally speaking, when the calibration framework in [Fig. 8.3.1 &#10549;](#cal:fig:self_cal) <!--\\ref{cal:fig:self_cal}--> employs a the least squares solver we use the term \"self-calibration\", while the name \"hybrid-mapping\" is used when the calibration framework in [Fig. 8.3.1 &#10549;](#cal:fig:self_cal) <!--\\ref{cal:fig:self_cal}--> relies on closure quantities instead.\n",
    "</div>\n",
    "\n",
    "We discussed closure quantities in [$\\S$ 8.2 &#10142;](../8_Calibration/8_2_1GC.ipynb#cal:sec:closure) <!--\\ref{cal:sec:closure}-->. One of the best known hybrid-mapping approaches was developed by Readhead and Wilkinson ([<cite data-cite='Readhead1978'>The mapping of compact radio sources from VLBI data</cite> &#10548;](http://adsabs.harvard.edu/full/1978ApJ...223...25R)). It requires the following steps:\n",
    "\n",
    "<p class=conclusion>\n",
    "  <font size=4> <b>Hybrid-mapping algorithm</b></font>\n",
    "  <br>\n",
    "  <br>\n",
    "  1. If we have an $N$-element array, we obtain $N-1$ baseline phases from our initial/updated model visibilities.<br>\n",
    "  2. The baseline phases are determined such that the closure-phases are minimised.<br> \n",
    "  3. After imaging the corrected visibilities, deconvolution is performed. <br>\n",
    "  4. We update our sky-model based on the deconvolved image.<br> \n",
    "  5. Return to step 1 or terminate if convergence has been reached.<br>\n",
    "</p>\n",
    "\n",
    "<br>\n",
    "<div class=advice>\n",
    "<b>Note:</b> *Redundant calibration* (see [<cite data-cite='Noordam1982'>High dynamic range mapping of strong radio sources, with application to 3C84</cite> &#10548;](http://adsabs.harvard.edu/abs/1982Natur.299..597N)) also requires the use of closure quantities, but does not use a sky-model. It exploits the redundancy in an array to accomplish this. As there are several measurements at the same $uv$-point, those measurements need simply be calibrated such that they agree.\n",
    "</div>\n",
    "\n",
    "Using a least-squares solver to calibrate was first proposed in [<cite data-cite='Schwab1980'>Adaptive calibration of radio interferometer data</cite> &#10548;](http://proceedings.spiedigitallibrary.org/proceeding.aspx?articleid=1229965) and [<cite data-cite='Cornwill1981'>A new method for making maps with unstable radio interferometers</cite> &#10548;](http://mnras.oxfordjournals.org/content/196/4/1067.short). Another interesting concomitant of the least-squares approach is that it allows us to solve for individual antenna gains instead of baseline-based gains. Good literature reviews on self-calibration can be found in [<cite data-cite='Ekers1984'>The almost serendipitous discovery of self-calibration</cite> &#10548;](http://adsabs.harvard.edu/abs/1984sdra.conf..154E) and [<cite data-cite='Pearson1984'>Image formation by self-calibration in radio astronomy</cite> &#10548;](http://adsabs.harvard.edu/full/1984ARA%26A..22...97P).\n",
    "\n",
    "<br>\n",
    "<div class=advice>\n",
    "<b>Note:</b> Self-calibration can be regarded as a variant of the *Gerchberg-Saxton* algorithm (see [<cite data-cite='Gerchberg1972'>A practical algorithm for the determination of phase from image and diffraction plane pictures</cite> &#10548;](http://www.u.arizona.edu/~ppoon/GerchbergandSaxton1972.pdf)).  \n",
    "</div>"
   ]
  },
  {
   "cell_type": "markdown",
   "metadata": {},
   "source": [
    "***\n",
    "\n",
    "Next: [8.4 3GC Calibration](8_4_3gc.ipynb)"
   ]
  },
  {
   "cell_type": "code",
   "execution_count": null,
   "metadata": {},
   "outputs": [],
   "source": []
  }
 ],
 "metadata": {
  "@webio": {
   "lastCommId": null,
   "lastKernelId": null
  },
  "kernelspec": {
   "display_name": "Python 3 (ipykernel)",
   "language": "python",
   "name": "python3"
  },
  "language_info": {
   "codemirror_mode": {
    "name": "ipython",
    "version": 3
   },
   "file_extension": ".py",
   "mimetype": "text/x-python",
   "name": "python",
   "nbconvert_exporter": "python",
   "pygments_lexer": "ipython3",
   "version": "3.8.10"
  }
 },
 "nbformat": 4,
 "nbformat_minor": 1
}
