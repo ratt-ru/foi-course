{
  "cells": [
    {
      "cell_type": "markdown",
      "metadata": {},
      "source": [
        "***\n",
        "\n",
        "* [Outline](../0_Introduction/0_introduction.ipynb)\n",
        "* [Glossary](../0_Introduction/1_glossary.ipynb)\n",
        "* [8. Calibration ](8_0_introduction.ipynb)\n",
        "    * Previous: [8. Calibration](8_0_introduction.ipynb)\n",
        "    * Next: [8.2 1GC calibration](8_2_1gc.ipynb)\n",
        "\n",
        "***"
      ]
    },
    {
      "cell_type": "markdown",
      "metadata": {},
      "source": [
        "#### Format status:\n",
        "\n",
        "* <span style=\"background-color:green\">&nbsp;&nbsp;&nbsp;&nbsp;</span> : LF: 06-02-2017\n",
        "* <span style=\"background-color:green\">&nbsp;&nbsp;&nbsp;&nbsp;</span> : NC: 06-02-2017\n",
        "* <span style=\"background-color:green\">&nbsp;&nbsp;&nbsp;&nbsp;</span> : RF: 06-02-2017\n",
        "* <span style=\"background-color:green\">&nbsp;&nbsp;&nbsp;&nbsp;</span> : HF: 06-02-2017\n",
        "* <span style=\"background-color:green\">&nbsp;&nbsp;&nbsp;&nbsp;</span> : GM: 06-02-2017\n",
        "* <span style=\"background-color:green\">&nbsp;&nbsp;&nbsp;&nbsp;</span> : CC: 06-02-2017\n",
        "* <span style=\"background-color:green\">&nbsp;&nbsp;&nbsp;&nbsp;</span> : CL: 06-02-2017\n",
        "* <span style=\"background-color:green\">&nbsp;&nbsp;&nbsp;&nbsp;</span> : ST: 06-02-2017\n",
        "* <span style=\"background-color:green\">&nbsp;&nbsp;&nbsp;&nbsp;</span> : FN: 06-02-2017\n",
        "* <span style=\"background-color:green\">&nbsp;&nbsp;&nbsp;&nbsp;</span> : TC: 06-02-2017\n",
        "* <span style=\"background-color:green\">&nbsp;&nbsp;&nbsp;&nbsp;</span> : SP: 06-02-2017\n",
        "* <span style=\"background-color:green\">&nbsp;&nbsp;&nbsp;&nbsp;</span> : XX: 06-02-2017"
      ]
    },
    {
      "cell_type": "markdown",
      "metadata": {},
      "source": [
        "Import standard modules:"
      ]
    },
    {
      "cell_type": "code",
      "execution_count": null,
      "metadata": {},
      "outputs": [],
      "source": [
        "import numpy as np\n",
        "import matplotlib.pyplot as plt\n",
        "%matplotlib inline\n",
        "from IPython.display import HTML \n",
        "HTML('../style/course.css') #apply general CSS"
      ]
    },
    {
      "cell_type": "markdown",
      "metadata": {},
      "source": [
        "Import section specific modules:"
      ]
    },
    {
      "cell_type": "code",
      "execution_count": null,
      "metadata": {},
      "outputs": [],
      "source": [
        "from scipy import optimize\n",
        "%pylab inline\n",
        "pylab.rcParams['figure.figsize'] = (15, 10)"
      ]
    },
    {
      "cell_type": "code",
      "execution_count": null,
      "metadata": {},
      "outputs": [],
      "source": [
        "HTML('../style/code_toggle.html')"
      ]
    },
    {
      "cell_type": "markdown",
      "metadata": {},
      "source": [
        "## 8.1 Calibration as a Least Squares Problem <a id='cal:sec:cal_ls'></a> <!--\\label{cal:sec:cal_ls}-->"
      ]
    },
    {
      "cell_type": "markdown",
      "metadata": {},
      "source": [
        "In this section we discuss the procedure that is generally used in practice to perform calibration. We will use the unpolarized RIME in this section instead of the full-polarized RIME (see [$\\S$ 7 &#10142;](../7_Observing_Systems/7_0_introduction.ipynb)). It provides us with a much simpler framework with which we can grasp the basics of calibration. Moreover, we assume for the sake of simplicity that the observed data are only corrupted by the instrument's antenna gains. This assumption results in a idealised treatment as there are many other factors that do in fact corrupt radio interferometric data (see [$\\S$ 7 &#10142;](../7_Observing_Systems/7_0_introduction.ipynb)).\n",
        "\n",
        "The unpolarized RIME is given by the following:\n",
        "\n",
        "<p class=conclusion>\n",
        "  <font size=4> <b>Unpolarized RIME</b></font>\n",
        "  <br>\n",
        "\\begin{equation}\n",
        "d_{pq}(t) = g_p(t) g_q^*(t) \\tilde{d}_{pq}(t) + \\epsilon_{pq}(t),\n",
        "\\end{equation}\n",
        "</p>\n",
        "\n",
        "where $d_{pq}(t)$ and $\\tilde{d}_{pq}(t)$ denote the corrupted observed and uncorrupted visibility at time $t$ associated with baseline $pq$. Moreover, the factors $g_p$ and $g_q$\n",
        "denote the complex gain of antenna $p$ and $q$. The term $\\epsilon_{pq}$ is a zero mean (Gaussian)\n",
        "noise term, representing thermal noise.\n",
        "\n",
        "We begin this section by generating the $uv$-tracks of a fictitious instrument in [$\\S$ 8.1.1 &#10549;](#cal:sec:uv)<!--\\ref{cal:sec:uv}-->. In [$\\S$ 8.1.2 &#10549;](#cal:sec:RIME_un)<!--\\ref{cal:sec:RIME_un}--> we phrase the calibration problem (for the antenna gains) as a least squares minimization problem. Then in [$\\S$ 8.1.3 &#10549;](#cal:sec:sim)<!--\\ref{cal:sec:sim}--> we simulate \"realistic\" visibility data for the $uv$-tracks by including gain errors and adding noise to the resulting visibilities (similar to adding noise to a simple sinusoid as seen in [$\\S$ 2.11 &#10142;](../2_Mathematical_Groundwork/2_11_least_squares.ipynb)). We then vectorize the problem in [$\\S$ 8.1.4 &#10549;](#cal:sec:LM)<!--\\ref{cal:sec:LM}-->, enabling us to use the built in `scipy` *Levenberg-Marquardt* algorithm to calibrate the data produced in [$\\S$ 8.1.3 &#10549;](#cal:sec:sim)<!--\\ref{cal:sec:sim}-->. We implement the aforementioned steps via a wrapper ipython function called `create_G_LM`. We finish [$\\S$ 8.1.4 &#10549;](#cal:sec:LM)<!--\\ref{cal:sec:LM}--> by using `create_G_LM` to estimate the antenna gains corrupting the simulated data we produced in [$\\S$ 8.1.3 &#10549;](#cal:sec:sim)<!--\\ref{cal:sec:sim}-->. The estimated antenna gains are then used to correct the corrupted data in [$\\S$ 8.1.5 &#10549;](#cal:sec:cor)<!--\\ref{cal:sec:cor}-->."
      ]
    },
    {
      "cell_type": "markdown",
      "metadata": {},
      "source": [
        "### 8.1.1 Creating $uv$-Tracks: East-West Interferometer <a id='cal:sec:uv'></a> <!--\\label{cal:sec:uv}-->"
      ]
    },
    {
      "cell_type": "markdown",
      "metadata": {},
      "source": [
        "We know from [$\\S$ 4.4.1.B.3 &#10142;](../4_Visibility_Space/4_5_1_uv_coverage_uv_tracks.ipynb#vis:sec:ew) that when we work with an east-west interferometer things simplify to a large degree. Firstly: $XYZ = [0~|\\mathbf{b}|~0]^T$, where $|\\mathbf{b}|$ is the baseline length.\n",
        "\n",
        "Moreover, we have that:"
      ]
    },
    {
      "cell_type": "markdown",
      "metadata": {},
      "source": [
        "<p class=conclusion>\n",
        "  <font size=4> <b>$uv$-Coverage of an EW-array (8.1)</b></font>\n",
        "  <br>\n",
        "\\begin{eqnarray}\n",
        "\\\\\n",
        "u &=&| \\mathbf{b}|\\cos H\\\\\n",
        "v &=& |\\mathbf{b}|\\sin H \\sin \\delta,\n",
        "\\end{eqnarray}\n",
        "</p>\n",
        "<a id='cal:eq:uv_cov'></a> <!--\\label{cal:eq:uv_cov}-->"
      ]
    },
    {
      "cell_type": "markdown",
      "metadata": {},
      "source": [
        "where $H$ is the hour angle of the field center and $\\delta$ its declination. In this section we will be plotting the $uv$-coverage of a three element east-west interferometer.\n",
        "The ENU layout of a simple interferometer is given below. Note that $|\\mathbf{b}|$ is measured in wavelengths.\n",
        "\n",
        "Now consider an array made up of three antennas situated at 0, 100, 200 meters east of\n",
        "the array center as shown in the code fragment below."
      ]
    },
    {
      "cell_type": "code",
      "execution_count": null,
      "metadata": {},
      "outputs": [],
      "source": [
        "lam = 3e8/1.4e9 #observational wavelenth\n",
        "print(\"lam = \",lam)\n",
        "b = np.array([100,200,300])/lam\n",
        "print(\"b [wavelengths] = \",b)\n",
        "plt.plot(np.array([0,100,200]),np.array([0,0,0]),'ro')\n",
        "plt.xlim([-250,250])\n",
        "plt.ylim([-100,100])\n",
        "plt.xlabel(\"East-West [m]\", fontsize=18)\n",
        "plt.ylabel(\"North-South [m]\", fontsize=18)\n",
        "plt.title(\"ENU-coordinates of three element interferometer.\", fontsize=18)\n",
        "plt.show()"
      ]
    },
    {
      "cell_type": "markdown",
      "metadata": {},
      "source": [
        "**Figure 8.1.1**: <span style=\"background-color:cyan\">AJR:NC: This figure needs a caption</span>"
      ]
    },
    {
      "cell_type": "markdown",
      "metadata": {},
      "source": [
        "We first need to set the hour angle range of our observation and the declination of our field center. "
      ]
    },
    {
      "cell_type": "code",
      "execution_count": null,
      "metadata": {},
      "outputs": [],
      "source": [
        "H = np.linspace(-6,6,600)*(np.pi/12) #Hour angle in radians\n",
        "delta = 60*(np.pi/180) #Declination in radians"
      ]
    },
    {
      "cell_type": "markdown",
      "metadata": {},
      "source": [
        "Our hour angle range is from -6h to 6h, and our declination is set to $60^{\\circ}$."
      ]
    },
    {
      "cell_type": "markdown",
      "metadata": {},
      "source": [
        "As the earth rotates the antennas trace out $uv$-tracks (ellipses) as shown in the code fragment below, where the red tracks are due to baseline $pq$ and blue tracks are due to baseline $qp$. We can construct these $uv$-tracks by using [Eq. 8.1 &#10549;](#cal:eq:uv_cov)<!--\\ref{cal:eq:uv_cov}-->. "
      ]
    },
    {
      "cell_type": "code",
      "execution_count": null,
      "metadata": {},
      "outputs": [],
      "source": [
        "u = np.zeros((len(b),len(H)))\n",
        "v = np.zeros((len(b),len(H)))\n",
        "for k in range(len(b)):\n",
        "    u[k,:] = b[k]*np.cos(H)\n",
        "    v[k,:] = b[k]*np.sin(H)*np.sin(delta)\n",
        "    plt.plot(u[k,:],v[k,:],\"r\")\n",
        "    plt.plot(-u[k,:],-v[k,:],\"b\")\n",
        "plt.xlabel(\"$u$ [rad$^{-1}$]\", fontsize=18)\n",
        "plt.ylabel(\"$v$ [rad$^{-1}$]\", fontsize=18)\n",
        "plt.title(\"$uv$-Coverage of three element interferometer\", fontsize=18)\n",
        "plt.show()"
      ]
    },
    {
      "cell_type": "markdown",
      "metadata": {},
      "source": [
        "**Figure 8.1.2**: <span style=\"background-color:cyan\">AJR:NC: This figure needs a caption</span>"
      ]
    },
    {
      "cell_type": "markdown",
      "metadata": {},
      "source": [
        "We can also pack the $uv$-coverage into a 2D-matrix. We denote the rows of this matrix with $p$ and the columns with $q$. The $pq$-th entry denotes the $uv$-track associated with baseline $pq$. The reason for packing the visibilities into a 2D structure will become apparent in [Sec. 8.1.2 &#10549;](#cal:sec:RIME_un)<!--\\ref{cal:sec:RIME_un}-->."
      ]
    },
    {
      "cell_type": "code",
      "execution_count": null,
      "metadata": {},
      "outputs": [],
      "source": [
        "u_m = np.zeros((len(b),len(b),len(H)))\n",
        "v_m = np.zeros((len(b),len(b),len(H)))\n",
        "\n",
        "u_m[0,1,:] = u[0,:] #the first two entries denote p and q and the third index denotes time\n",
        "u_m[1,2,:] = u[1,:]\n",
        "u_m[0,2,:] = u[2,:]\n",
        "\n",
        "v_m[0,1,:] = v[0,:]\n",
        "v_m[1,2,:] = v[1,:]\n",
        "v_m[0,2,:] = v[2,:]"
      ]
    },
    {
      "cell_type": "markdown",
      "metadata": {},
      "source": [
        "### 8.1.2. Unpolarized Calibration <a id='cal:sec:RIME_un'></a> <!--\\label{cal:sec:RIME_un}-->"
      ]
    },
    {
      "cell_type": "markdown",
      "metadata": {},
      "source": [
        "As explained in [$\\S$ 7.2 &#10142;](../7_Observing_Systems/7_2_rime.ipynb) the RIME assumes that our observed signal is polarized. For the sake\n",
        "of simplicity, however, we will now introduce the calibration problem with the underlying assumption that the observed signal is unpolarized. Unpolarized calibration is achieved by solving the following minimization problem:\n",
        "<p class=conclusion>\n",
        "  <font size=4> <b>Unpolarized Calibration</b></font>\n",
        "  <br>\n",
        "\\begin{equation}\n",
        "\\min_{\\boldsymbol{\\mathcal{G}}} \\left \\| \\boldsymbol{\\mathcal{D}} - \\boldsymbol{\\mathcal{G}}\\boldsymbol{\\mathcal{M}}\\boldsymbol{\\mathcal{G}}^H \\right \\|,\n",
        "\\end{equation}\n",
        "</p>\n",
        "\n",
        "where\n",
        "* $\\boldsymbol{\\mathcal{D}}$ is the *observed visibility matrix*. Each entry, which we denote by $d_{pq}$, represents the visibility measured by the baseline formed by antennas $p$ and $q$.\n",
        "* $\\boldsymbol{\\mathcal{M}}$ is the *model visibility matrix*. The entry $m_{pq}$ of $\\boldsymbol{\\mathcal{M}}$ denotes a true or model visibility which was created with the calibration sky model and a $uv$-point on the $uv$-track associated with baseline $pq$.\n",
        "* $\\boldsymbol{\\mathcal{G}} = \\textrm{diag}(\\mathbf{g})$ is the *antenna gain matrix*, where $\\mathbf{g}=[g_1,g_2,\\cdots,g_N]^T$ denotes the *antenna gain vector*. The operator $\\textrm{diag}(\\cdot)$ forms a diagonal matrix from a vector by putting the elements of the vector on the main diagonal. The vector $\\mathbf{g}$ represents the instrumental response of the antennas, i.e. the complex antenna gains. These antenna gains are chosen in such a way that they minimize the difference between the observed and model visibilities. \n",
        "* $\\boldsymbol{\\mathcal{G}}\\boldsymbol{\\mathcal{M}}\\boldsymbol{\\mathcal{G}}^H$ is the *predicted visibility matrix*. This matrix contains the model visibilities after the antenna gains have been applied to them. \n",
        "\n",
        "The superscript $(\\cdot)^H$ denotes the Hermitian or conjugate transpose and $\\left \\| \\cdot \\right \\|$ denotes the norm used. Most calibration algorithms use the Frobenius norm for matrices and the 2-norm or Euclidean norm for vectors, thus treating calibration as a least squares problem.<br><br> \n",
        "<div class=warn>\n",
        "<b>Warning:</b> Do not get confused with the polarized and unpolarized RIME. We use \n",
        "the notation $\\mathbf{V}_{pq}\\in\\mathbb{C}^{2\\times 2}$ to denote the observed correlation matrix corresponding to the antenna feeds $XX,YY,XY$ and $YX$ of antenna $p$ and $q$. We use the notation $\\boldsymbol{\\mathcal{D}}\\in\\mathbb{C}^{N\\times N}$ to denote the unpolarized observed visibility matrix which contains the observed scalar visibilities of all the antenna pairs. \n",
        "</div><br><br>\n",
        "\n",
        "<div class=advice>\n",
        "<b>Advice:</b> The unpolarized calibration equation above is equivalent to the following more familiar form: $\\min_{\\boldsymbol{g}}\\sum_{pq}\\left|d_{pq}-g_pg_q^*m_{pq}\\right|^2$.  \n",
        "</div><br>"
      ]
    },
    {
      "cell_type": "markdown",
      "metadata": {},
      "source": [
        "### 8.1.3. Creating an Unpolarized Visibility Matrix (`create_vis_mat`) <a id='cal:sec:sim'></a> <!--\\label{cal:sec:sim}-->"
      ]
    },
    {
      "cell_type": "markdown",
      "metadata": {},
      "source": [
        "In this section we present a function that allows us to create the observed visibility matrix $\\boldsymbol{\\mathcal{D}}$ and \n",
        "the model visibility matrix $\\boldsymbol{\\mathcal{M}}$. The function employs three separate \n",
        "steps to produce a visibility matrix, namely:\n",
        "\n",
        "* We first take the Fourier transform of the sky model and then sample the result using the \n",
        "sampling function (i.e. $uv$-coverage). The sky model can only consist of point sources. Mathematically we may represent our sky model as $I(l,m) = \\sum_k A_k\\delta(l-l_k,m-m_k)$, where $A_k$ denotes the flux of the $k$-th source and $(l_k,m_k)$ denotes the direction cosine position vector that is associated with the $k$-th source. We then have that\n",
        "$V(u,v) = \\mathscr{F}\\{I(l,m)\\} = A_k e^{-2\\pi \\imath l_k u + m_k v}$, where $\\mathscr{F}\\{\\cdot\\}$ denotes the Fourier transform of its operand. This result stems from the fact that the Fourier transform of a delta function is a complex exponential. If we now apply the sampling function we finally obtain $V_{pq}(u_{pq},v_{pq}) = A_k e^{-2\\pi \\imath l_k u_{pq} + m_k v_{pq}}$. We now use $V_{pq}$ to construct a 2D model visibility matrix. The sky model is passed to the function via the variable `point_sources`. The sampling function is passed in via `u_m` and `v_m`. \n",
        "* We then corrupt the visibilities with the antenna gains that were passed into the function via `g`. We use `g` to construct $\\boldsymbol{\\mathcal{G}}$. We corrupt our visibilities by multiplying by $\\boldsymbol{\\mathcal{G}}$ on the left of the model visibility matrix and on the right by $\\boldsymbol{\\mathcal{G}}^H$.\n",
        "* The last step is to add some noise to our visibilities. The standard deviation of the noise is passed in via `sig`.\n",
        "\n",
        "It should now be obvious how we can use the same function to produce both $\\boldsymbol{\\mathcal{M}}$ and\n",
        "$\\boldsymbol{\\mathcal{D}}$. In the case of $\\boldsymbol{\\mathcal{M}}$, we do not corrupt our visibilities, nor add any noise. See the function `create_vis_mat` below."
      ]
    },
    {
      "cell_type": "code",
      "execution_count": null,
      "metadata": {},
      "outputs": [],
      "source": [
        "'''Creates the observed visibilities\n",
        "point_sources - skymodel of point sources - (amplitude, l, m)\n",
        "u_m - the u coordinates of observation (packed in a 2D structure)\n",
        "v_m - the v coordinates of observation (packed in a 2D structure)\n",
        "g - the antenna gain error vector\n",
        "sig - the noise\n",
        "'''\n",
        "def create_vis_mat(point_sources,u_m,v_m,g,sig):\n",
        "    D = np.zeros(u.shape)\n",
        "    G = np.diag(g)\n",
        "    #Step 1: Create Model Visibility Matrix\n",
        "    for k in range(len(point_sources)): #for each point source\n",
        "        l_0 = point_sources[k,1]\n",
        "        m_0 = point_sources[k,2]\n",
        "        D = D + point_sources[k,0]*np.exp(-2*np.pi*1j*(u_m*l_0+v_m*m_0))\n",
        "    \n",
        "    for t in range(D.shape[2]): #for each time-step\n",
        "        \n",
        "        #Step 2: Corrupting the Visibilities \n",
        "        D[:,:,t] = np.dot(G,D[:,:,t])\n",
        "        D[:,:,t] = np.dot(D[:,:,t],G.conj()) \n",
        "        \n",
        "        #Step 3: Adding Noise\n",
        "        D[:,:,t] = D[:,:,t] + sig*np.random.randn(u_m.shape[0],u_m.shape[1]) \\\n",
        "            + sig*np.random.randn(u_m.shape[0],u_m.shape[1])*1j\n",
        "    \n",
        "    return D"
      ]
    },
    {
      "cell_type": "markdown",
      "metadata": {},
      "source": [
        "We now use `create_vis_mat` to create an example $\\boldsymbol{\\mathcal{M}}$ and $\\boldsymbol{\\mathcal{D}}$. Note that\n",
        "there are two sources in our sky model."
      ]
    },
    {
      "cell_type": "code",
      "execution_count": null,
      "metadata": {},
      "outputs": [],
      "source": [
        "point_sources = np.array([(1,0,0),(0.5,(1*np.pi)/180,(0*np.pi)/180)]) #l and m are measures in radians\n",
        "g = np.array([1.2+1.3j,1.1-1.5j,-1.3+0.7j])\n",
        "sig = 0.1\n",
        "D = create_vis_mat(point_sources,u_m,v_m,g,sig) #we corrupt our data and we add noise\n",
        "M = create_vis_mat(point_sources,u_m,v_m,np.array([1,1,1]),0) #no corruption and no noise "
      ]
    },
    {
      "cell_type": "markdown",
      "metadata": {},
      "source": [
        "We now plot the baseline entries of $\\boldsymbol{\\mathcal{M}}$ and $\\boldsymbol{\\mathcal{D}}$."
      ]
    },
    {
      "cell_type": "code",
      "execution_count": null,
      "metadata": {},
      "outputs": [],
      "source": [
        "fig = plt.figure()\n",
        "\n",
        "timeslots = np.cumsum(np.ones((len(M[0,1,:]),)))\n",
        "\n",
        "#We only plot the real part of visibilities\n",
        "\n",
        "#Plotting Baseline 01\n",
        "ax = plt.subplot(\"311\")\n",
        "ax.set_title(\"$m_{01}$ (blue) and $d_{01}$  (green)\", fontsize=18)\n",
        "ax.plot(timeslots,M[0,1,:].real)\n",
        "ax.plot(timeslots,D[0,1,:].real)\n",
        "ax.set_xlabel(\"Timeslot\", fontsize=18)\n",
        "ax.set_ylabel(\"Jy\", fontsize=18)\n",
        "ax.set_xlim([1,len(M[0,1,:])])\n",
        "y_t = ax.get_yticks()\n",
        "y_t = y_t[::2]\n",
        "ax.set_yticks(y_t)\n",
        "\n",
        "#Plotting Baseline 02\n",
        "ax = plt.subplot(\"312\")\n",
        "ax.set_title(\"$m_{02}$ (blue) and $d_{02}$ (green)\", fontsize=18)\n",
        "ax.plot(timeslots,M[0,2,:].real)\n",
        "ax.plot(timeslots,D[0,2,:].real)\n",
        "ax.set_xlabel(\"Timeslot\", fontsize=18)\n",
        "ax.set_ylabel(\"Jy\", fontsize=18)\n",
        "ax.set_xlim([1,len(M[0,1,:])])\n",
        "y_t = ax.get_yticks()\n",
        "y_t = y_t[::2]\n",
        "ax.set_yticks(y_t)\n",
        "\n",
        "#Plotting Baseline 12\n",
        "ax = plt.subplot(\"313\")\n",
        "ax.set_title(\"$m_{12}$ (blue) and $d_{12}$ (green)\", fontsize=18)\n",
        "ax.plot(timeslots,M[1,2,:].real)\n",
        "ax.plot(timeslots,D[1,2,:].real)\n",
        "ax.set_xlabel(\"Timeslot\", fontsize=18)\n",
        "ax.set_ylabel(\"Jy\", fontsize=18)\n",
        "ax.set_xlim([1,len(M[0,1,:])])\n",
        "y_t = ax.get_yticks()\n",
        "y_t = y_t[::2]\n",
        "ax.set_yticks(y_t)\n",
        "\n",
        "plt.tight_layout()\n",
        "\n",
        "plt.show()"
      ]
    },
    {
      "cell_type": "markdown",
      "metadata": {},
      "source": [
        "**Figure 8.1.3**: <span style=\"background-color:cyan\">AJR:NC: This figure needs a caption</span>"
      ]
    },
    {
      "cell_type": "markdown",
      "metadata": {},
      "source": [
        "The images above contain the real part of the corrupted (green) and uncorrupted (blue)\n",
        "visibilities as a function of timeslots for baseline 01, 02 and 12 respectively."
      ]
    },
    {
      "cell_type": "markdown",
      "metadata": {},
      "source": [
        "### 8.1.4 Levenberg-Marquardt (`create_G_LM`) <a id='cal:sec:LM'></a> <!--\\label{cal:sec:LM}-->"
      ]
    },
    {
      "cell_type": "markdown",
      "metadata": {},
      "source": [
        "We are now ready to use least squares to calibrate $\\boldsymbol{\\mathcal{D}}$ (see [<cite data-cite='Yatawatta2012'>GPU accelerated nonlinear optimization in radio interferometric calibration</cite> &#10548;](http://ieeexplore.ieee.org/xpl/freeabs_all.jsp?arnumber=6339610&abstractAccess=no&userType=inst)).\n",
        "\n",
        "We first present a brief review of least squares minimization. Suppose we wish to fit a model $\\mathbf{f}\\left( \\mathbf{m},\\breve{\\mathbf{g}}\\right)$, where $\\mathbf{m}$ and $\\breve{\\mathbf{g}}$ denote\n",
        "the model input values and a vector of unknown variables respectively, to some data $\\left\\{\\mathbf{d}_{i},\\mathbf{m}_{i}\\right\\}$. The vector of unknown variables $\\breve{\\mathbf{g}}$ parametrize the model. A standard method for determining which parameter vector $\\breve{\\mathbf{g}}$ best fits the data is to minimize the sum of the squared residuals. This technique is referred to as least squares minimization. The residual vector is denoted by $\\mathbf{r}(\\mathbf{m},\\mathbf{d},\\breve{\\mathbf{g}}) = \\mathbf{d} - \\mathbf{f}\\left( \\mathbf{m},\\breve{\\mathbf{g}}\\right)$. The objective function (the function we wish to minimize) associated with least squares is: $\\sum_i \\mathbf{r}_i^2$. The function `optimize.leastsq` is `scipy`'s built-in least squares solver and employs the *Levenberg-Marquardt* algorithm in the background. The Levenberg-Marquardt algorithm is discussed in more detail in [$\\S$ 2.11 &#10142;](../2_Mathematical_Groundwork/2_11_least_squares.ipynb). To use `optimize.leastsq` one needs a function, here called `err_func`, that calculates the residual vector $\\mathbf{r}$. An initial guess of the parameter vector $\\breve{\\mathbf{g}}$ is also required.\n",
        "\n",
        "For calibration the above variables become:\n",
        "\n",
        "<p class=conclusion>\n",
        "  <font size=4> <b>Vectorizing</b></font>\n",
        "  <br>\n",
        "  <br>\n",
        "&bull; $\\mathbf{d} = [\\textrm{vec}(\\Re\\{\\boldsymbol{\\mathcal{D}}\\}),\\textrm{vec}(\\Im\\{\\boldsymbol{\\mathcal{D}}\\})]$ <br><br>\n",
        "&bull; $\\mathbf{m} = [\\textrm{vec}(\\Re\\{\\boldsymbol{\\mathcal{M}}\\}),\\textrm{vec}(\\Im\\{\\boldsymbol{\\mathcal{M}}\\})]$ <br><br> \n",
        "&bull; $\\breve{\\mathbf{g}} = [\\Re\\{\\mathbf{g}\\},\\Im\\{\\mathbf{g}\\}]$ <br><br>\n",
        "&bull; $\\mathbf{f}\\left(\\mathbf{m},\\breve{\\mathbf{g}}\\right) = [\\textrm{vec}(\\Re\\{\\boldsymbol{\\mathcal{G}}\\boldsymbol{\\mathcal{M}}\\boldsymbol{\\mathcal{G}}^H\\}),\\textrm{vec}(\\Im\\{\\boldsymbol{\\mathcal{G}}\\boldsymbol{\\mathcal{M}}\\boldsymbol{\\mathcal{G}}^H\\})]$, where\n",
        "$\\boldsymbol{\\mathcal{M}} = \\textrm{vec}^{-1}(\\mathbf{m}_U)+\\imath\\textrm{vec}^{-1}(\\mathbf{m}_L)$ and $\\boldsymbol{\\mathcal{G}} = \\textrm{diag}(\\breve{\\mathbf{g}}_U)+\\imath\\textrm{diag}(\\breve{\\mathbf{g}}_L)$\n",
        "</p>\n",
        "\n",
        "In the above bullets $\\textrm{vec}(\\cdot)$, $\\textrm{vec}^{-1}(\\cdot)$, $(\\cdot)_U$,\n",
        "and $(\\cdot)_L$ denote vectorization, matrization, the upper half of\n",
        "a vector and the lower half of a vector respectively. Moreover, $\\Re\\{\\cdot\\}$ and $\\Im\\{\\cdot\\}$ denote the real and imaginary part of their operands.\n",
        "The first thing we need to define in order to perform calibration by using `optimize.leastsq` is the function `err_func`, which we do below."
      ]
    },
    {
      "cell_type": "code",
      "execution_count": null,
      "metadata": {},
      "outputs": [],
      "source": [
        "'''Unpolarized direction independent calibration entails finding the G that minimizes ||R-GMG^H||. \n",
        "This function evaluates D-GMG^H.\n",
        "g is a vector containing the real and imaginary components of the antenna gains.\n",
        "d is a vector containing a vecotrized R (observed visibilities), real and imaginary.\n",
        "m is a vector containing a vecotrized M (predicted), real and imaginary.\n",
        "r is a vector containing the residuals.\n",
        "''' \n",
        "def err_func(g,d,m):\n",
        "    Nm = len(d)//2\n",
        "    N = len(g)//2\n",
        "    G = np.diag(g[0:N]+1j*g[N:])\n",
        "    D = np.reshape(d[0:Nm],(N,N))+np.reshape(d[Nm:],(N,N))*1j #matrization\n",
        "    M = np.reshape(m[0:Nm],(N,N))+np.reshape(m[Nm:],(N,N))*1j\n",
        "    T = np.dot(G,M)\n",
        "    T = np.dot(T,G.conj())\n",
        "    R = D - T\n",
        "    r_r = np.ravel(R.real) #vectorization\n",
        "    r_i = np.ravel(R.imag)\n",
        "    r = np.hstack([r_r,r_i])\n",
        "    return r"
      ]
    },
    {
      "cell_type": "markdown",
      "metadata": {},
      "source": [
        "We are now able to define a wrapper function `create_G_LM` that in turn calls `optimize.leastsq`.\n",
        "The wrapper function translates the calibration problem into a format that `optimize.leastsq`\n",
        "can interpret. The input of `create_G_LM` is $\\boldsymbol{\\mathcal{D}}$ and $\\boldsymbol{\\mathcal{M}}$, while the output is $\\mathbf{g}$ and $\\boldsymbol{\\mathscr{G}}=\\mathbf{g}\\mathbf{g}^H$."
      ]
    },
    {
      "cell_type": "code",
      "execution_count": null,
      "metadata": {},
      "outputs": [],
      "source": [
        "'''This function finds argmin G ||D-GMG^H|| using Levenberg-Marquardt. It uses the optimize.leastsq scipy to perform\n",
        "the actual minimization.\n",
        "D is your observed visibilities matrx.\n",
        "M is your predicted visibilities.\n",
        "g the antenna gains.\n",
        "G = gg^H.''' \n",
        "def create_G_LM(D,M):\n",
        "    N = D.shape[0] #number of antennas\n",
        "    temp =np.ones((D.shape[0],D.shape[1]) ,dtype=complex)\n",
        "    G = np.zeros(D.shape,dtype=complex)\n",
        "    g = np.zeros((D.shape[0],D.shape[2]),dtype=complex)\n",
        "   \n",
        "    for t in range(D.shape[2]): #perform calibration per time-slot\n",
        "        g_0 = np.ones((2*N,)) # first antenna gain guess \n",
        "        g_0[N:] = 0\n",
        "        d_r = np.ravel(D[:,:,t].real) #vectorization of observed + seperating real and imag\n",
        "        d_i = np.ravel(D[:,:,t].imag)\n",
        "        d = np.hstack([d_r,d_i])\n",
        "        m_r = np.ravel(M[:,:,t].real) #vectorization of model + seperating real and imag\n",
        "        m_i = np.ravel(M[:,:,t].imag)\n",
        "        m = np.hstack([m_r,m_i])\n",
        "        g_lstsqr_temp = optimize.leastsq(err_func, g_0, args=(d, m))\n",
        "        g_lstsqr = g_lstsqr_temp[0]          \n",
        "           \n",
        "        G_m = np.dot(np.diag(g_lstsqr[0:N]+1j*g_lstsqr[N:]),temp)\n",
        "        G_m = np.dot(G_m,np.diag((g_lstsqr[0:N]+1j*g_lstsqr[N:]).conj()))           \n",
        "\n",
        "        g[:,t] = g_lstsqr[0:N]+1j*g_lstsqr[N:] #creating antenna gain vector       \n",
        "        G[:,:,t] = G_m\n",
        "         \n",
        "    return g,G"
      ]
    },
    {
      "cell_type": "markdown",
      "metadata": {},
      "source": [
        "We may now calibrate $\\boldsymbol{\\mathcal{D}}$ by using `create_G_LM`. "
      ]
    },
    {
      "cell_type": "code",
      "execution_count": null,
      "metadata": {},
      "outputs": [],
      "source": [
        "glm,Glm = create_G_LM(D,M)"
      ]
    },
    {
      "cell_type": "markdown",
      "metadata": {},
      "source": [
        "The above function works by vectorizing the real and imaginary part of $\\boldsymbol{\\mathcal{D}}$ and\n",
        "storing the result in $\\mathbf{d}$. The vector $\\mathbf{m}$ is generated in a similar manner.\n",
        "The error vector $\\mathbf{r}$ is calculated by `err_func`. We initialize $\\breve{\\mathbf{g}}$ with\n",
        "$\\breve{\\mathbf{g}}_0=[\\mathbf{1},\\mathbf{0}]$. We can then call \n",
        "\n",
        "`optimize.leastsq(self.err_func, g_0, args=(d, m))`.\n",
        "\n",
        "We can now calculate $\\mathbf{g} = \\breve{\\mathbf{g}}_U+\\imath\\breve{\\mathbf{g}}_L$ and\n",
        "$\\boldsymbol{\\mathscr{G}}=\\mathbf{g}\\mathbf{g}^H$. This is repeated for each observational time-slot."
      ]
    },
    {
      "cell_type": "markdown",
      "metadata": {},
      "source": [
        "### 8.1.5 Corrected Visibilites <a id='cal:sec:cor'></a> <!--\\label{cal:sec:cor}-->"
      ]
    },
    {
      "cell_type": "markdown",
      "metadata": {},
      "source": [
        "Before imaging, we have to correct our observed visibilities by removing the effect that the antenna gains had on the observed visibilities. This can be accomplished by using\n",
        "<p class=conclusion>\n",
        "  <font size=4> <b>Correcting Visibilities</b></font>\n",
        "  <br>\n",
        "\\begin{equation}\n",
        " \\boldsymbol{\\mathcal{D}}^\\mathrm{(c)} = \\boldsymbol{\\mathcal{G}}^{-1}\\boldsymbol{\\mathcal{D}}\\boldsymbol{\\mathcal{G}}^{-H} = \\boldsymbol{\\boldsymbol{\\mathscr{G}}}^{\\odot-1}\\odot\\boldsymbol{\\mathcal{D}},\n",
        "\\end{equation}\n",
        "</p><br>\n",
        "where\n",
        "\n",
        "* $\\boldsymbol{\\mathcal{D}}^\\mathrm{(c)}$ is the *corrected visibility matrix*.\n",
        "* $\\boldsymbol{\\mathscr{G}}^{\\odot-1}$ denotes the *visibility calibration matrix*, which is computed by taking the Hadamard (element-wise) inverse of $\\boldsymbol{\\mathscr{G}}$.\n",
        "\n",
        "The superscript $(\\cdot)^{-1}$ denotes matrix inversion, while $(\\cdot)^{-H}$ denotes the inverse of the Hermitian transpose. The operator $\\odot$ denotes the Hadamard product. \n",
        "We calculate the corrected visibilities below.<br><br>\n",
        "\n",
        "<div class=advice>\n",
        "<b>Advice:</b> The matrix and vector operations (like $\\odot$) and operators used in this section are discussed in more detail in [$\\S$ 2.10 &#10142;](../2_Mathematical_Groundwork/2_10_linear_algebra.ipynb)\n",
        "</div>"
      ]
    },
    {
      "cell_type": "code",
      "execution_count": null,
      "metadata": {},
      "outputs": [],
      "source": [
        "R_c = Glm**(-1)*D"
      ]
    },
    {
      "cell_type": "markdown",
      "metadata": {},
      "source": [
        "We plot the corrected visibilities below. Note that the model and corrected visibilities align well, implying that calibration was successfull."
      ]
    },
    {
      "cell_type": "code",
      "execution_count": null,
      "metadata": {
        "scrolled": false
      },
      "outputs": [],
      "source": [
        "fig = plt.figure()\n",
        "\n",
        "timeslots = np.cumsum(np.ones((len(M[0,1,:]),)))\n",
        "\n",
        "#We only plot the real part of visibilities\n",
        "\n",
        "#Plotting Baseline 01\n",
        "ax = plt.subplot(311)\n",
        "ax.set_title(\"$m_{01}$ (blue) and $d_{01}^{(c)}$  (green)\", fontsize=18)\n",
        "ax.plot(timeslots,M[0,1,:].real)\n",
        "ax.plot(timeslots,R_c[0,1,:].real)\n",
        "ax.set_xlabel(\"Timeslot\", fontsize=18)\n",
        "ax.set_ylabel(\"Jy\", fontsize=18)\n",
        "ax.set_xlim([1,len(M[0,1,:])])\n",
        "y_t = ax.get_yticks()\n",
        "y_t = y_t[::2]\n",
        "ax.set_yticks(y_t)\n",
        "\n",
        "#Plotting Baseline 02\n",
        "ax = plt.subplot(312)\n",
        "ax.set_title(\"$m_{02}$ (blue) and $d_{02}^{(c)}$ (green)\", fontsize=18)\n",
        "ax.plot(timeslots,M[0,2,:].real)\n",
        "ax.plot(timeslots,R_c[0,2,:].real)\n",
        "ax.set_xlabel(\"Timeslot\", fontsize=18)\n",
        "ax.set_ylabel(\"Jy\", fontsize=18)\n",
        "ax.set_xlim([1,len(M[0,1,:])])\n",
        "y_t = ax.get_yticks()\n",
        "y_t = y_t[::2]\n",
        "ax.set_yticks(y_t)\n",
        "\n",
        "#Plotting Baseline 12\n",
        "ax = plt.subplot(313)\n",
        "ax.set_title(\"$m_{12}$ (blue) and $d_{12}^{(c)}$ (green)\", fontsize=18)\n",
        "ax.plot(timeslots,M[1,2,:].real)\n",
        "ax.plot(timeslots,R_c[1,2,:].real)\n",
        "ax.set_xlabel(\"Timeslot\", fontsize=18)\n",
        "ax.set_ylabel(\"Jy\", fontsize=18)\n",
        "ax.set_xlim([1,len(M[0,1,:])])\n",
        "y_t = ax.get_yticks()\n",
        "y_t = y_t[::2]\n",
        "ax.set_yticks(y_t)\n",
        "\n",
        "plt.tight_layout()\n",
        "\n",
        "plt.show()"
      ]
    },
    {
      "cell_type": "markdown",
      "metadata": {},
      "source": [
        "**Figure 8.1.4**: <span style=\"background-color:cyan\">AJR:NC: This figure needs a caption</span>"
      ]
    },
    {
      "cell_type": "markdown",
      "metadata": {
        "collapsed": true
      },
      "source": [
        "The images above contain the real part of the corrected (green) and uncorrupted (blue) visibilities as a function of time-slot for baseline 01, 02 and 12 respectively."
      ]
    },
    {
      "cell_type": "markdown",
      "metadata": {},
      "source": [
        "***\n",
        "\n",
        "Next: [8.2 1GC calibration](8_2_1gc.ipynb)"
      ]
    },
    {
      "cell_type": "code",
      "execution_count": null,
      "metadata": {},
      "outputs": [],
      "source": []
    }
  ],
  "metadata": {
    "@webio": {
      "lastCommId": null,
      "lastKernelId": null
    },
    "kernelspec": {
      "display_name": "Python 3 (ipykernel)",
      "language": "python",
      "name": "python3"
    },
    "language_info": {
      "codemirror_mode": {
        "name": "ipython",
        "version": 3
      },
      "file_extension": ".py",
      "mimetype": "text/x-python",
      "name": "python",
      "nbconvert_exporter": "python",
      "pygments_lexer": "ipython3",
      "version": "3.8.10"
    }
  },
  "nbformat": 4,
  "nbformat_minor": 1
}