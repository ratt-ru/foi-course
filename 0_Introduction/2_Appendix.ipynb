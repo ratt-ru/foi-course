{
  "cells": [
    {
      "cell_type": "markdown",
      "metadata": {},
      "source": [
        "# Appendix\n",
        "## A.1. Derivation of ENU ($A$,$E$) to equatorial XYZ ($H$,$\\delta$)"
      ]
    },
    {
      "cell_type": "code",
      "execution_count": null,
      "metadata": {},
      "outputs": [],
      "source": [
        "import numpy as np\n",
        "import matplotlib.pyplot as plt\n",
        "%matplotlib inline\n",
        "from IPython.display import HTML \n",
        "HTML('../style/course.css') #apply general CSS"
      ]
    },
    {
      "cell_type": "markdown",
      "metadata": {},
      "source": [
        "We have seen in <a href='../2_Mathematical_Groundwork/2_13_spherical_trigonometry.ipynb'>$\\S$ 2.13 &#10142;</a>, three main spherical trigonometry relationships between angles and arcs in a spherical triangle. Applying each of these equations, we will derive the equation A used in <a href='../4_Visibility_Space/4_1_The_Baseline.ipynb'>$\\S$ 4.1 &#10142;</a>.\n",
        "\n",
        "Let's start from Figure 4.1.3, dislayed in <a href='../4_Visibility_Space/4_1_The_Baseline.ipynb'>$\\S$ 4.1 &#10142;</a>. We will consider the following spherical triangle **STZ** (as in Figure A1 right).\n",
        "From <a href='../2_Mathematical_Groundwork/2_13_spherical_trigonometry.ipynb'>$\\S$ 2.13 &#10142;</a>, we have the following relationships:\n",
        "\n",
        "* The *spherical cosine rule* (Rule i): $\\quad \\quad \\cos b = \\cos a \\cos c + \\sin a \\sin c \\cos \\hat{B}$\n",
        "* The *spherical sine rule* (Rule ii): $\\quad \\quad \\; \\; \\: \\sin b \\sin \\hat{A} = \\sin \\hat{B} \\sin a$\n",
        "* The *five part rule* (Rule iii): $\\qquad \\quad \\quad \\; \\;\\sin b \\cos \\hat{A} = \\cos a \\sin c - \\sin a\\cos c\\cos \\hat{B}$"
      ]
    },
    {
      "cell_type": "markdown",
      "metadata": {},
      "source": [
        "<div class=advice>\n",
        "**Note:** Similar relations can be derived under circular permutation between the angles and the arcs.\n",
        "</div>"
      ]
    },
    {
      "cell_type": "markdown",
      "metadata": {},
      "source": [
        "<img src='figures/conversion-comp.svg' width=70%>"
      ]
    },
    {
      "cell_type": "markdown",
      "metadata": {
        "collapsed": true
      },
      "source": [
        "<div align=\"center\">**Figure A1**: Spherical triangle $STZ$ <br>\n",
        "(left) Recall from Fig. 4.1.3<br>\n",
        "(right) Close-up view to the spherical triangle STZ.<br>\n",
        "The notations in red refer to the rule i), ii) and iii)\n",
        "</div>"
      ]
    },
    {
      "cell_type": "markdown",
      "metadata": {},
      "source": [
        "The quantity $s$, $t$, and $z$ are the arcs opposite to the vertices **S**, **T** and **Z**. Given the definition of these quantities and classical trigonometric identities, we can already state that:\n",
        "\n",
        "* $\\cos s=\\sin L_a$\n",
        "\n",
        "* $\\cos t=\\sin \\delta$\n",
        "    \n",
        "* $\\cos z=\\sin E$\n",
        "\n",
        "Similarly, the $\\sin$ of $s$, $t$ and $z$ also transform into the $\\cos$ of $L_a$, $\\delta$ and $E$. We will now derive each line of the transform matrix of Eq. x using the spherical trigonometry rules applies to the triangle **STZ**."
      ]
    },
    {
      "cell_type": "markdown",
      "metadata": {},
      "source": [
        "### A.1.1 Using Rule i)"
      ]
    },
    {
      "cell_type": "markdown",
      "metadata": {},
      "source": [
        "**Left-hand side:** $\\cos b=\\cos t= \\sin \\delta$\n",
        "\n",
        "**Right-hand side:** $\\cos a \\cos c + \\sin a \\sin c \\cos \\hat{B}= \\cos z \\cos s + \\sin z \\sin s \\cos \\mathcal{A} = \\sin \\mathcal{E} \\sin L_a + \\cos \\mathcal{E} \\cos L_a \\cos \\mathcal{A}$"
      ]
    },
    {
      "cell_type": "markdown",
      "metadata": {},
      "source": [
        "We have our first relationship:"
      ]
    },
    {
      "cell_type": "markdown",
      "metadata": {},
      "source": [
        "$$\\sin \\delta = \\sin \\mathcal{E} \\sin L_a + \\cos \\mathcal{E} \\cos L_a \\cos \\mathcal{A}$$"
      ]
    },
    {
      "cell_type": "markdown",
      "metadata": {},
      "source": [
        "### A.1.2 Using Rule ii)"
      ]
    },
    {
      "cell_type": "markdown",
      "metadata": {},
      "source": [
        "**Left-hand side:** $\\sin b \\sin \\hat{A}= \\sin t \\sin (-H) = - \\cos \\delta \\sin H$\n",
        "\n",
        "**Right-hand side:** $\\sin \\hat{B} \\sin a =  \\sin \\mathcal{A} \\sin z = \\sin \\mathcal{A} \\cos \\mathcal{E}$"
      ]
    },
    {
      "cell_type": "markdown",
      "metadata": {},
      "source": [
        "We have our second relationship:"
      ]
    },
    {
      "cell_type": "markdown",
      "metadata": {},
      "source": [
        "$$- \\cos \\delta \\sin H = \\sin \\mathcal{A} \\cos \\mathcal{E}$$"
      ]
    },
    {
      "cell_type": "markdown",
      "metadata": {},
      "source": [
        "### A.1.3 Using Rule iii)"
      ]
    },
    {
      "cell_type": "markdown",
      "metadata": {},
      "source": [
        "**Left-hand side:** $\\sin b \\cos \\hat{A} = \\sin t \\cos(-H)= \\cos \\delta \\cos{H}$\n",
        "\n",
        "**Right-hand side:** $\\cos a \\sin c - \\sin a\\cos c\\cos \\hat{B}= \\cos z \\sin s - \\sin z \\cos s \\cos \\mathcal{A} = \\sin \\mathcal{E} \\cos L_a - \\cos \\mathcal{E} \\sin L_a \\cos \\mathcal{A}$"
      ]
    },
    {
      "cell_type": "markdown",
      "metadata": {},
      "source": [
        "We have our last relationship:"
      ]
    },
    {
      "cell_type": "markdown",
      "metadata": {},
      "source": [
        "$$ \\cos\\delta \\cos{H} =  \\sin \\mathcal{E} \\cos L_a - \\cos \\mathcal{E} \\sin L_a \\cos \\mathcal{A}$$"
      ]
    },
    {
      "cell_type": "markdown",
      "metadata": {},
      "source": [
        "Rearranging in a matrix form, and *correct* line order, we have:"
      ]
    },
    {
      "cell_type": "markdown",
      "metadata": {},
      "source": [
        "\\begin{equation}\n",
        "\\begin{bmatrix}\n",
        "\\cos \\delta \\cos H\\\\\n",
        "\\cos \\delta \\sin H\\\\\n",
        "\\sin \\delta\n",
        "\\end{bmatrix}\n",
        "=\n",
        "\\begin{bmatrix}\n",
        "\\cos L_a \\sin \\mathcal{E} - \\sin L_a \\cos \\mathcal{E} \\cos \\mathcal{A}\\nonumber\\\\ \n",
        "\\cos \\mathcal{E} \\sin \\mathcal{A} \\nonumber\\\\\n",
        "\\sin L_a \\sin E + \\cos L_a \\cos \\mathcal{E} \\cos \\mathcal{A}\n",
        "\\end{bmatrix}\n",
        "\\end{equation}"
      ]
    },
    {
      "cell_type": "markdown",
      "metadata": {},
      "source": [
        "<div class=advice>\n",
        "**Note:** The left hand-side of Eq. is reminiscent of the components of a base vector pointing the direction ($H$,$\\delta$) in the Equatorial **XYZ** frame. <br>\n",
        "**Note 2:** This is not a coincidence (see chap. [REF])\n",
        "</div>"
      ]
    },
    {
      "cell_type": "markdown",
      "metadata": {},
      "source": [
        "---"
      ]
    },
    {
      "cell_type": "markdown",
      "metadata": {},
      "source": [
        "## A.2. Derivation of (l,m,n) to ($\\alpha$,$\\delta$)"
      ]
    },
    {
      "cell_type": "markdown",
      "metadata": {},
      "source": [
        "### A.2.1 Linking ($l$, $m$, $n$) to ($\\alpha$,$\\delta$) with spherical trigonometry"
      ]
    },
    {
      "cell_type": "markdown",
      "metadata": {},
      "source": [
        "<img src='figures/conversion2-comp.svg' width=70%>"
      ]
    },
    {
      "cell_type": "markdown",
      "metadata": {},
      "source": [
        "<div align=\"center\">**Figure A2**: Spherical triangle $S_c S Z$  <br>\n",
        "(left) Recall from Fig. 3.4.2<br>\n",
        "(right) Close-up view to the spherical triangle STZ.<br>\n",
        "The notations in red refer to the rule i), ii) and iii)\n",
        "</div>"
      ]
    },
    {
      "cell_type": "markdown",
      "metadata": {},
      "source": [
        "Similarly to A.1, we will derive three equations by applying spherical trigonometry identities in the triangle $\\text{S}_\\text{c} \\text{S} \\text{Z}$"
      ]
    },
    {
      "cell_type": "markdown",
      "metadata": {},
      "source": [
        "\\begin{eqnarray}\n",
        "l &=&  \\sin \\theta \\sin \\psi\\\\\n",
        "m &=& \\sin \\theta \\cos \\psi \\\\\n",
        "n &=& \\cos \\theta\n",
        "\\end{eqnarray}\n",
        "\n",
        "and\n",
        "\n",
        "$$l^2+m^2+n^2=1$$"
      ]
    },
    {
      "cell_type": "markdown",
      "metadata": {},
      "source": [
        "#### A.2.1.1 Using rule i)"
      ]
    },
    {
      "cell_type": "markdown",
      "metadata": {},
      "source": [
        "**Left-hand side:** $\\cos b=\\cos \\theta = n$\n",
        "\n",
        "**Right-hand side:** $\\cos a \\cos c + \\sin a \\sin c \\cos \\hat{B}= \\cos (\\frac{\\pi}{2}-\\delta) \\cos (\\frac{\\pi}{2}-\\delta_0) + \\sin (\\frac{\\pi}{2}-\\delta) \\sin (\\frac{\\pi}{2}-\\delta_0) \\cos \\Delta \\alpha = \\sin \\delta \\sin \\delta_0 + \\cos \\delta \\cos \\delta_0 \\cos \\Delta \\alpha$"
      ]
    },
    {
      "cell_type": "markdown",
      "metadata": {},
      "source": [
        "We have our first relationship:"
      ]
    },
    {
      "cell_type": "markdown",
      "metadata": {},
      "source": [
        "$$n= \\cos \\theta = \\sin \\delta \\sin \\delta_0 + \\cos \\delta \\cos \\delta_0 \\cos \\Delta \\alpha$$"
      ]
    },
    {
      "cell_type": "markdown",
      "metadata": {},
      "source": [
        "#### A.2.1.2 Using rule ii)"
      ]
    },
    {
      "cell_type": "markdown",
      "metadata": {},
      "source": [
        "**Left-hand side:** $\\sin b \\sin \\hat{A}= \\sin \\theta \\sin \\psi = l$\n",
        "\n",
        "**Right-hand side:** $\\sin \\hat{B} \\sin a =  \\sin \\frac{\\pi}{2}-\\delta \\sin \\Delta \\alpha = \\cos \\delta \\sin \\Delta \\alpha$"
      ]
    },
    {
      "cell_type": "markdown",
      "metadata": {},
      "source": [
        "We have our second relationship:"
      ]
    },
    {
      "cell_type": "markdown",
      "metadata": {},
      "source": [
        "$$l = \\sin \\theta \\sin \\psi = \\cos \\delta \\sin \\Delta \\alpha$$"
      ]
    },
    {
      "cell_type": "markdown",
      "metadata": {},
      "source": [
        "#### A.2.1.1 Using rule iii)"
      ]
    },
    {
      "cell_type": "markdown",
      "metadata": {},
      "source": [
        "**Left-hand side:** $\\sin b \\cos \\hat{A} = \\sin \\theta \\cos \\psi= m$\n",
        "\n",
        "**Right-hand side:** $\\cos a \\sin c - \\sin a\\cos c\\cos \\hat{B}= \\cos (\\frac{\\pi}{2} - \\delta) \\sin (\\frac{\\pi}{2} - \\delta_0) - \\sin (\\frac{\\pi}{2} - \\delta) \\cos (\\frac{\\pi}{2} - \\delta_0) \\cos \\Delta \\alpha =\\sin \\delta \\cos \\delta_0 - \\cos \\delta \\sin \\delta_0 \\cos \\Delta \\alpha$"
      ]
    },
    {
      "cell_type": "markdown",
      "metadata": {},
      "source": [
        "We have our third relationship:"
      ]
    },
    {
      "cell_type": "markdown",
      "metadata": {},
      "source": [
        "$$m=\\sin \\theta \\cos \\psi = \\sin \\delta \\cos \\delta_0 - \\cos \\delta \\sin \\delta_0 \\cos \\Delta \\alpha$$"
      ]
    },
    {
      "cell_type": "markdown",
      "metadata": {},
      "source": [
        "Let's summarize the results"
      ]
    },
    {
      "cell_type": "markdown",
      "metadata": {},
      "source": [
        "\\begin{eqnarray}\n",
        "l = \\sin \\theta \\sin \\psi &=&\\cos \\delta \\sin \\delta \\alpha = (i)\\\\\n",
        "m =\\sin \\theta \\cos \\psi &=& \\sin \\delta \\cos \\delta_0 - \\cos \\delta \\sin \\delta_0 \\cos \\Delta \\alpha = (ii)\\\\\n",
        "n = \\cos \\theta &=& \\sin \\delta \\sin \\delta_0 + \\cos \\delta \\cos \\delta_0 \\cos \\Delta \\alpha = (iii)\n",
        "\\end{eqnarray}\n"
      ]
    },
    {
      "cell_type": "markdown",
      "metadata": {},
      "source": [
        "### A.2.2 Expressions of ($\\alpha$,$\\delta$) as function of ($l$, $m$, $n$)"
      ]
    },
    {
      "cell_type": "markdown",
      "metadata": {},
      "source": [
        "From the ($l$, $m$, $n$) coordinates of one source, one can compute back the ($\\alpha$,$\\delta$) coordinates by combinations of the $(i)$, $(ii)$, $(iii)$ relatioships."
      ]
    },
    {
      "cell_type": "markdown",
      "metadata": {},
      "source": [
        "$\\require{cancel}$\n",
        "\n",
        "\n",
        "\\begin{eqnarray}\n",
        "\\frac{(i)}{(ii)} &\\Leftrightarrow& \\frac{\\cancel{\\cos{\\delta}} \\sin\\Delta \\alpha}{\\cancel{\\cos{\\delta}} \\sin \\delta_0 \\cos\\Delta \\alpha} &=& \\frac{l}{\\sin \\delta \\cos \\delta_0 - m}&\\Leftrightarrow& \\frac{\\tan \\Delta \\alpha}{\\sin\\delta_0} = \\frac{l}{\\sin\\delta\\cos\\delta_0-m}= (i')\\\\\n",
        "\\frac{(i)}{(iii)} &\\Leftrightarrow& \\frac{\\cancel{\\cos{\\delta}} \\sin\\Delta \\alpha}{\\cancel{\\cos{\\delta}} \\cos \\delta_0 \\cos\\Delta \\alpha} &=& \\frac{l}{n-\\sin \\delta \\sin \\delta_0} &\\Leftrightarrow& \\frac{\\tan \\Delta \\alpha}{\\cos \\delta_0}=\\frac{l}{n-\\sin\\delta\\sin\\delta_0} = (ii') \\\\\n",
        "\\end{eqnarray}"
      ]
    },
    {
      "cell_type": "markdown",
      "metadata": {},
      "source": [
        "$\\require{cancel}$\n",
        "\\begin{eqnarray}\n",
        "(i') \\sin \\delta_0 = (ii') \\cos \\delta_0 &\\Leftrightarrow & \\frac{\\cancel{l}\\sin\\delta_0}{\\sin\\delta\\cos\\delta_0 -m} = \\frac{\\cancel{l}\\cos\\delta_0}{n-\\sin\\delta\\sin\\delta_0}  \\\\\n",
        "&\\Leftrightarrow& \\sin\\delta \\cos^2\\delta_0-m\\cos\\delta_0 = m\\sin\\delta_0 - \\sin\\delta\\sin^2\\delta_0 \\\\\n",
        "&\\Leftrightarrow& \\sin\\delta \\left[ \\underbrace{\\cos^2 \\delta_0 + \\sin^2 \\delta_0}_{=1} \\right] = n\\sin\\delta_0+m\\cos\\delta_0 \\\\\n",
        "&\\Leftrightarrow& \\boxed{\\delta = \\arcsin (n\\sin\\delta_0 + m\\cos\\delta_0)}\n",
        "\\end{eqnarray}"
      ]
    },
    {
      "cell_type": "markdown",
      "metadata": {},
      "source": [
        "Now, we reinject the expression of $\\delta$ into $(i')$ or $(ii')$ which display a $\\sin \\delta$ term."
      ]
    },
    {
      "cell_type": "markdown",
      "metadata": {},
      "source": [
        "$\\require{cancel}$\n",
        "\\begin{eqnarray}\n",
        "\\frac{\\tan \\Delta \\alpha}{\\sin\\delta_0} &=& \\frac{l}{(n\\sin\\delta_0+m\\cos\\delta_0)\\cos\\delta_0-m} \\Leftrightarrow \\\\\n",
        "\\tan \\Delta \\alpha &=& \\frac{l \\bcancel{\\sin\\delta_0}}{n\\bcancel{\\sin\\delta_0}\\cos\\delta_0 +m \\underbrace{(\\cos^2\\delta_0-1)}_{\\sin^{\\bcancel{2}}\\delta_0}} \\Leftrightarrow \\\\\n",
        "\\tan (\\alpha - \\alpha_0) &=& \\frac{l}{n\\cos\\delta_0 + m\\sin\\delta_0} \\Leftrightarrow \\\\\n",
        "&\\Leftrightarrow& \\boxed{\\alpha = \\alpha_0 + \\arctan \\left[ \\frac{l}{n\\cos\\delta_0 + m\\sin\\delta_0} \\right]}\n",
        "\\end{eqnarray}"
      ]
    },
    {
      "cell_type": "markdown",
      "metadata": {
        "collapsed": true
      },
      "source": [
        "### A.3 Expression of the ($u$,$v$) ellipsis: "
      ]
    },
    {
      "cell_type": "markdown",
      "metadata": {},
      "source": [
        "Starting from the expression of $u$ and $v$.\n",
        "\n",
        "$\\lambda u = X \\sin H + Y \\cos H$\n",
        "\n",
        "$\\lambda v= -X \\sin \\delta \\cos H + Y \\sin\\delta\\sin H + Z \\cos\\delta$\n"
      ]
    },
    {
      "cell_type": "markdown",
      "metadata": {},
      "source": [
        " \\begin{eqnarray}\n",
        "v &=&\\frac{1}{\\lambda} -X \\sin \\delta \\cos H + Y \\sin\\delta\\sin H + Z \\cos\\delta \\\\\n",
        "\\Leftrightarrow  v -\\frac{Z}{\\lambda} \\cos \\delta &=& \\frac{Y}{\\lambda}\\sin\\delta\\sin H -  \\frac{X}{\\lambda} \\sin\\delta \\cos H \\\\\n",
        "\\Leftrightarrow  \\frac{v -\\frac{Z}{\\lambda} \\cos \\delta}{\\sin \\delta} &=& \\frac{Y}{\\lambda}\\sin H -  \\frac{X}{\\lambda}  \\cos H \\\\\n",
        "\\Leftrightarrow  \\left[ \\frac{v -\\frac{Z}{\\lambda} \\cos \\delta}{\\sin \\delta} \\right]^2 &=& \\left[ \\frac{Y}{\\lambda}\\right]^2 \\sin^2 H + \\left[ \\frac{X}{\\lambda}\\right]^2  \\cos^2 H  - \\frac{2XY\\cos H\\sin H}{\\lambda^2}\\\\\n",
        "\\Leftrightarrow  \\left[ \\frac{v -\\frac{Z}{\\lambda} \\cos \\delta}{\\sin \\delta} \\right]^2 &=& \\left[ \\frac{Y}{\\lambda}\\right]^2 + \\left[ \\frac{X}{\\lambda}\\right]^2 \\underbrace{-\\left[ \\frac{Y}{\\lambda}\\right]^2 \\cos^2 H - \\left[ \\frac{X}{\\lambda}\\right]^2  \\sin^2 H  - \\frac{2XY\\cos H\\sin H}{\\lambda^2}}_{\\left[ \\frac{X\\sin H}{\\lambda} + \\frac{Y\\cos H}{\\lambda}\\right]^2=u^2} \\\\\n",
        "\\Leftrightarrow  u^2 + \\left[ \\frac{v -\\frac{Z}{\\lambda} \\cos \\delta}{\\sin \\delta} \\right]^2 &=& \\left[ \\frac{Y}{\\lambda} \\right]^2 + \\left[ \\frac{X}{\\lambda} \\right]^2\n",
        "\\end{eqnarray}"
      ]
    },
    {
      "cell_type": "markdown",
      "metadata": {},
      "source": [
        "\n",
        "$$\\frac{u^2}{a^2} + \\frac{ \\left[ \\frac{v -\\frac{Z}{\\lambda} \\cos \\delta}{\\sin \\delta} \\right]^2}{a^2} = 1$$"
      ]
    },
    {
      "cell_type": "markdown",
      "metadata": {
        "collapsed": true
      },
      "source": [
        "## A.4. Expressing the infinitesimal solid angle $d\\Omega$ in direction cosine coordinates $(l,m,n)$"
      ]
    },
    {
      "cell_type": "markdown",
      "metadata": {},
      "source": [
        "In [Sec. 2.12 &#10142;](../2_Mathematical_Groundwork/2_12_solid_angle.ipynb) the infinitesimal solid angle $d\\Omega$ was defined in terms of polar coordinates. The infinitesimal solid angle $d\\Omega$ can also be expressed in direction cosine coordinates by using the Jacobian transformation. First the relationship between $(\\theta,\\phi)$ and $(l,m)$ must be established. It should be clear from [Fig. A.3(b) &#10549;](#app:fig:relations) <!--\\ref{app:fig:relations}--> and [Fig. A.3(c) &#10549;](#app:fig:relations) <!--\\ref{app:fig:relations}--> that:\n",
        "\\begin{eqnarray}\n",
        "\\phi &=& \\tan^{-1}\\frac{\\rho m}{\\rho l} = tan^{-1}\\frac{m}{l}=f(l,m)\\\\\n",
        "\\theta &=& \\sin^{-1}\\frac{\\rho \\sqrt{l^2+m^2}}{\\rho} = \\sin^{-1} \\sqrt{l^2+m^2}=g(l,m).\\nonumber \n",
        "\\end{eqnarray}    "
      ]
    },
    {
      "cell_type": "markdown",
      "metadata": {},
      "source": [
        "<img src='figures/cosine2.svg' width=70%>"
      ]
    },
    {
      "cell_type": "markdown",
      "metadata": {},
      "source": [
        "<div align=\"center\">**Figure A3**: Relating $(\\theta,\\phi)$ and $(l,m)$. </div> <a id='app:fig:relations'></a> <!--\\label{app:fig:relations}-->"
      ]
    },
    {
      "cell_type": "markdown",
      "metadata": {},
      "source": [
        "Now by the Jacobian transformation $\\boldsymbol{J}$:\n",
        "\\begin{equation}\n",
        "d\\Omega = \\sin \\theta d\\theta d\\phi = \\sin(g(l,m)) \\left| \\boldsymbol{J} \\right| dl dm,\n",
        "\\end{equation}\n",
        "where \n",
        "\\begin{equation}\n",
        "\\left|\\boldsymbol{J}\\right|= \\left| \\begin{array}{cc}\n",
        "\\frac{\\delta\\theta}{\\delta l} & \\frac{\\delta\\theta}{\\delta m} \\\\\n",
        "\\frac{\\delta\\phi}{\\delta l} & \\frac{\\delta\\phi}{\\delta m} \\end{array} \\right|,\n",
        "\\end{equation}\n",
        "and\n",
        "\\begin{eqnarray}\n",
        "\\frac{\\delta \\theta}{\\delta l} &=&\\frac{l}{\\sqrt{1-l^2-m^2}\\sqrt{l^2+m^2}},\\\\\n",
        "\\frac{\\delta \\theta}{\\delta m} &=& \\frac{m}{\\sqrt{1-l^2-m^2}\\sqrt{l^2+m^2}},\\nonumber\\\\ \n",
        "\\frac{\\delta \\phi}{\\delta l} &=& \\frac{-\\frac{m}{l^2}}{1+\\frac{m^2}{l^2}},\\nonumber\\\\\n",
        "\\frac{\\delta \\phi}{\\delta m} &=& \\frac{\\frac{1}{l}}{1+\\frac{m^2}{l^2}},\\nonumber\n",
        "\\end{eqnarray}\n",
        "so that\n",
        "\\begin{eqnarray}\n",
        "\\left|\\boldsymbol{J}\\right| &=& \\frac{1}{\\sqrt{1-l^2-m^2}\\sqrt{l^2+m^2}(1+\\frac{m^2}{l^2})}+\\frac{\\frac{m^2}{l^2}}{\\sqrt{1-l^2-m^2}\\sqrt{l^2+m^2}(1+\\frac{m^2}{l^2})},\\\\\n",
        "&=& \\frac{1}{\\sqrt{1-l^2-m^2}\\sqrt{l^2+m^2}},\\nonumber \n",
        "\\end{eqnarray} \n",
        "and\n",
        "\\begin{equation}\n",
        "d\\Omega = \\sin(g(l,m)) \\left| \\boldsymbol{J} \\right| dl dm = \\frac{dldm}{\\sqrt{1-l^2-m^2}}=\\frac{dldm}{n}.\n",
        "\\end{equation}"
      ]
    },
    {
      "cell_type": "markdown",
      "metadata": {},
      "source": [
        "## A5. Delayed product identities of cosine and sine"
      ]
    },
    {
      "cell_type": "markdown",
      "metadata": {},
      "source": [
        "The delayed product identities of cos and sin are given by:\n",
        "\\begin{eqnarray}\n",
        "\\cos(x-y)\\cos(x) &=& \\frac{1}{2}\\cos y + \\frac{1}{2}\\cos(2x-y)\\\\\n",
        "\\sin(x-y)\\sin(x) &=& \\frac{1}{2}\\cos y - \\frac{1}{2}\\cos(2x-y)\\\\\n",
        "\\sin(x-y)\\cos(x) &=& -\\frac{1}{2}\\sin y + \\frac{1}{2}\\sin(2x-y)\\\\\n",
        "\\cos(x-y)\\sin(x) &=& \\frac{1}{2}\\sin y + \\frac{1}{2}\\sin(2x-y).\n",
        "\\end{eqnarray}\n",
        "\n",
        "The delayed product identities are derived from the standard trigonometric identities. \n",
        "We can derive the first identiy as follow:  \n",
        "\n",
        "\\begin{eqnarray}\n",
        "\\cos(x-y)\\cos(x) &=& [\\cos x\\cos y + \\sin x \\sin y]\\cdot \\cos x\\\\\n",
        "&=& \\cos^2 x\\cos y + \\cos x\\sin x \\sin y\\nonumber\\\\\n",
        "&=& \\bigg(\\frac{1+\\cos 2x}{2}\\bigg)\\cdot \\cos y + \\frac{\\sin 2x \\sin y}{2}\\nonumber\\\\\n",
        "&=& \\frac{1}{2}\\cos y + \\frac{\\cos2x \\cos y}{2} + \\frac{\\sin2x \\sin y}{2}\\nonumber\\\\\n",
        "&=& \\frac{1}{2}\\cos (y) + \\frac{1}{2}\\cos(2x-y).\\nonumber\n",
        "\\end{eqnarray}\n",
        "\n",
        "The remaining delayed product identities are derived similarly."
      ]
    }
  ],
  "metadata": {
    "@webio": {
      "lastCommId": null,
      "lastKernelId": null
    },
    "kernelspec": {
      "display_name": "testament",
      "language": "python",
      "name": "testament"
    },
    "language_info": {
      "codemirror_mode": {
        "name": "ipython",
        "version": 3
      },
      "file_extension": ".py",
      "mimetype": "text/x-python",
      "name": "python",
      "nbconvert_exporter": "python",
      "pygments_lexer": "ipython3",
      "version": "3.8.10"
    }
  },
  "nbformat": 4,
  "nbformat_minor": 1
}