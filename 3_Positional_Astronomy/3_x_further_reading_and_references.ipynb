{
  "cells": [
    {
      "cell_type": "markdown",
      "metadata": {
        "collapsed": true
      },
      "source": [
        "***\n",
        "\n",
        "* [Outline](../0_Introduction/0_introduction.ipynb)\n",
        "* [Glossary](../0_Introduction/1_glossary.ipynb)\n",
        "* [Positional Astronomy](3_0_introduction.ipynb)  \n",
        "    * Previous: [Direction Cosine Coordinates](3_4_direction_cosine_coordinates.ipynb) \n",
        "    * Next: [Chapter 4: Visibility Space](../4_Visibility_Space/4_0_introduction.ipynb)\n",
        "\n",
        "***"
      ]
    },
    {
      "cell_type": "markdown",
      "metadata": {},
      "source": [
        "Import standard modules:"
      ]
    },
    {
      "cell_type": "code",
      "execution_count": null,
      "metadata": {},
      "outputs": [],
      "source": [
        "import numpy as np\n",
        "import matplotlib.pyplot as plt\n",
        "%matplotlib inline\n",
        "from IPython.display import HTML \n",
        "HTML('../style/course.css') #apply general CSS"
      ]
    },
    {
      "cell_type": "code",
      "execution_count": null,
      "metadata": {},
      "outputs": [],
      "source": [
        "from IPython.display import HTML\n",
        "HTML('../style/code_toggle.html')"
      ]
    },
    {
      "cell_type": "markdown",
      "metadata": {},
      "source": [
        "## Further Reading and References"
      ]
    },
    {
      "cell_type": "markdown",
      "metadata": {},
      "source": [
        "<span style=\"background-color:cyan\">KT:CC: Chapter summary really needed.</span>\n",
        "We would like to suggest two different further reading avenues. The first is to deepen\n",
        "the readers understanding of positional astronomy. For this we recommend reading:\n",
        "\n",
        "### Positional Astronomy\n",
        "\n",
        "* [<cite data-cite='Duffett2011'>Practical Astronomy with your calculator or spreadsheet </cite> &#10548;](https://books.google.co.za/books?id=MTGYxQyW998C&dq=astronomy+with+your+calculator+or+spreadsheet) : forms the backbone of this chapter and is the main reference.\n",
        "\n",
        "The second aim is to get the reader more excited about astronomy in general. We recommend two books to accomplish this:\n",
        "\n",
        "### General Astronomy\n",
        "\n",
        "* [<cite data-cite='Seeds2015'>Foundations of Astronomy</cite> &#10548;](https://books.google.co.za/books/about/Foundations_of_Astronomy.html?id=77YwOLGzth8C&redir_esc=y) : a light easy to read introduction to astronomy.\n",
        "* [<cite data-cite='Zeilik1998'>Introductory Astronomy and Astrophysics</cite> &#10548;](https://books.google.co.za/books?id=iH7vAAAAMAAJ&q=Introductory+Astronomy+and+Astrophysics) : a more in depth and technical introduction to astronomy. \n",
        "<!--We also highly recommend doing the online course: [Introduction to Astronomy &#10548;](https://www.coursera.org/course/introastro)-->"
      ]
    },
    {
      "cell_type": "markdown",
      "metadata": {},
      "source": [
        "***\n",
        "\n",
        "Next: [Chapter 4: Visibility Space](../4_Visibility_Space/4_0_introduction.ipynb)"
      ]
    }
  ],
  "metadata": {
    "kernelspec": {
      "display_name": "testament",
      "language": "python",
      "name": "testament"
    },
    "language_info": {
      "codemirror_mode": {
        "name": "ipython",
        "version": 3
      },
      "file_extension": ".py",
      "mimetype": "text/x-python",
      "name": "python",
      "nbconvert_exporter": "python",
      "pygments_lexer": "ipython3",
      "version": "3.8.10"
    }
  },
  "nbformat": 4,
  "nbformat_minor": 1
}