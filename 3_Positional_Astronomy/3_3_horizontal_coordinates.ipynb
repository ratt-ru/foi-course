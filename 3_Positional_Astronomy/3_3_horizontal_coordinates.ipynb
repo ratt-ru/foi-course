{
  "cells": [
    {
      "cell_type": "markdown",
      "metadata": {},
      "source": [
        "***\n",
        "\n",
        "* [Outline](../0_Introduction/0_introduction.ipynb)\n",
        "* [Glossary](../0_Introduction/1_glossary.ipynb)\n",
        "* [Positional Astronomy](3_0_introduction.ipynb)\n",
        "    * Previous: [Hour Angle and Local Sidereal Time](3_2_hour_angle.ipynb)\n",
        "    * [Direction Cosine Coordinates](3_4_direction_cosine_coordinates.ipynb)\n",
        "\n",
        "***"
      ]
    },
    {
      "cell_type": "markdown",
      "metadata": {},
      "source": [
        "Import standard modules:"
      ]
    },
    {
      "cell_type": "code",
      "execution_count": null,
      "metadata": {},
      "outputs": [],
      "source": [
        "import numpy as np\n",
        "import matplotlib.pyplot as plt\n",
        "%matplotlib inline\n",
        "from IPython.display import HTML \n",
        "HTML('../style/course.css') #apply general CSS"
      ]
    },
    {
      "cell_type": "markdown",
      "metadata": {},
      "source": [
        "Import section specific modules:"
      ]
    },
    {
      "cell_type": "code",
      "execution_count": null,
      "metadata": {},
      "outputs": [],
      "source": [
        "from IPython.display import HTML\n",
        "HTML('../style/code_toggle.html')\n",
        "import ephem\n",
        "import matplotlib\n",
        "%pylab inline\n",
        "pylab.rcParams['figure.figsize'] = (15, 10)"
      ]
    },
    {
      "cell_type": "markdown",
      "metadata": {},
      "source": [
        "### Horizontal Coordinates (ALT/AZ)"
      ]
    },
    {
      "cell_type": "markdown",
      "metadata": {},
      "source": [
        "In <a class=\"pos_sec_ha_hz\"></a> <!--\\ref{pos:sec:ha}--> we introduced the concept of an hour angle, which allows us to determine the time that still needs to elapse before a source crosses the local meridian. This however does not tell us where we should point a telescope on earth in order to observe a source with a specific hour angle. The *horizontal coordinates* *azimuth* $\\mathcal{A}$ and *altitude* $\\mathcal{E}$ (elevation) is used to enable an observer on earth to locate celestial objects in the observer's local sky. The observer's horizontal plane is the fundamental plane of this coordinate system and is known as the *celestial horizon*. The azimuth angle is measured in the celestial horizon from due north towards the east, while the altitude of a celestial object is the angle between it and the celestial horizon. Both azimuth and elevation are measured in degrees. The azimuth and elevation angle are depicted in <a class=\"pos_fig_hoz_hz\"></a> <!--\\ref{pos:fig:hoz}--> "
      ]
    },
    {
      "cell_type": "markdown",
      "metadata": {},
      "source": [
        "<a id='pos:fig:horizontal'></a> <!--\\label{pos:fig:horizontal}--><img src='figures/horizontal.svg' width=40%>"
      ]
    },
    {
      "cell_type": "markdown",
      "metadata": {},
      "source": [
        "*Figure 3.3.1*: The horizontal coordinates. <span style=\"background-color:cyan\">KT:XX: Azimuth and elevation symbols seem to have been exchanged in the figure.</span> "
      ]
    },
    {
      "cell_type": "markdown",
      "metadata": {},
      "source": [
        "The equations below allow us to convert between equatorial and horizontal coordinates"
      ]
    },
    {
      "cell_type": "markdown",
      "metadata": {},
      "source": [
        "<p class=conclusion>\n",
        "  <font size=4><b> Converting between equatorial and horizontal </b></font>\n",
        "  <br>\n",
        "  <br>\n",
        "\\begin{eqnarray}\n",
        "\\cos\\delta\\cos H &=& \\cos L_a\\sin \\mathcal{E} - \\sin L_a\\cos \\mathcal{E}\\cos \\mathcal{A}\\\\\n",
        "-\\cos\\delta\\sin H&=& \\cos \\mathcal{E}\\sin \\mathcal{A}\\\\\n",
        "\\sin\\delta &=& \\sin L_a\\sin \\mathcal{E}+\\cos L_a \\cos \\mathcal{E} \\cos \\mathcal{A} \n",
        "\\end{eqnarray}\n",
        "</p>"
      ]
    },
    {
      "cell_type": "markdown",
      "metadata": {},
      "source": [
        "<div class=advice>\n",
        "<b>Note:</b> In the conversion equations above $L_a$ denotes latitude (see <a class=\"pos_sec_eq_hz\"></a> <!--\\ref{pos:sec:eq}-->).\n",
        "</div>"
      ]
    },
    {
      "cell_type": "markdown",
      "metadata": {},
      "source": [
        "The above equations were derived by applying the spherical trigonometric identities in <a href='../2_Mathematical_Groundwork/2_13_spherical_trigonometry.ipynb'>$\\S$ 2.13 &#10142;</a> to \n",
        "the triangle $\\Delta PSZ$ which is depicted in <a class=\"pos_fig_conversion_hz\"></a> <!--\\ref{pos:fig:conversion}--> (see [Appendix &#10142;](../0_Introduction/2_Appendix.ipynb))."
      ]
    },
    {
      "cell_type": "markdown",
      "metadata": {},
      "source": [
        "<a id='pos:fig:conversion_alaz_radec'></a> <!--\\label{pos:fig:conversion_alaz_radec}--><img src='figures/conversion.svg' width=40%>"
      ]
    },
    {
      "cell_type": "markdown",
      "metadata": {},
      "source": [
        "*Figure 3.3.2*: The source-celestial pole-zenith triangle; which enables us to derive the conversion equations between horizontal and equatorial coordinates. The red plane represents the fundamental plane of the horizontal coordinate system, while the blue plane represents the \n",
        "fundamental plane of the celestial coordinate system. <span style=\"background-color:cyan\">KT:XX: Where is the source located in the figure?</span> "
      ]
    },
    {
      "cell_type": "markdown",
      "metadata": {},
      "source": [
        "<div class=advice>\n",
        "<b>Note:</b> The parallactic angle <span style=\"background-color:cyan\">KT:GM:The parallactic angle needs to be in italics since this is its first appearance?</span> $q$ associated with a specific location on the celestial sphere $S$ is the angle between two great circles; the hour circle of $S$ and the great circle that passes through zenith and $S$. The parallactic angle $q$ is depicted in <a class=\"pos_fig_conversion_hz\"></a> <!--\\ref{pos:fig:conversion}--> \n",
        "The parallactic angle, and how it pertains to radio interferometry is discussed in more detail in <span style=\"background-color:cyan\">KT:LF:Link to dead notebook</span> <a href='../7_Observing_Systems/7_7_antenna_mounts_and_parallactic_angle.ipynb'>$\\S$ 7.7 &#10142;</a>.\n",
        "</div>"
      ]
    },
    {
      "cell_type": "markdown",
      "metadata": {},
      "source": [
        "### Examples"
      ]
    },
    {
      "cell_type": "markdown",
      "metadata": {},
      "source": [
        "Let us cement the concpets we have learned in this section by once again making use of the  `pyephem` package. In this section we will use it to compute the horizontal coordinates for two primary use cases. In the first use case we plot the horizontal coordinates of a few randomly selected stars under the assumption that they are \"observed\" with KAT7. We will compute the horizontal coordinates of the selected stars for one entire day (2016/5/30). As we have already mentioned, the horizontal coordinates of the stars change during the course of one day, since the earth is rotating around its own axis. To achieve this we first create a `pyephem` observer object acting as a proxy for the KAT-7 array. Next we create `pyephem` body objects for the randomly selected stars. Each of the body objects has a method called `compute`. This `compute` method can take in an observer object. The compute method of the body object uses the geometrical location and the date attributes of the observer object to calculate the horizontal coordinates of the celestial body (in this case a star) the body object embodies. To track the change of the horizontal coordinates of stars (i.e. the stars we are interested in) we only need to iteratively call the compute methods of the body objects associated with them. Every time we call the compute method we just pass in an observer object with an appropriately altered date attribute. The code snippet below implements the above procedure. The altitude and azimuth angles of ten well known stars, calculated with `pyephem`, is depicted in <a class=\"pos_fig_alt_hz\"></a> <!--\\ref{pos:fig:alt}--> and <a class=\"pos_fig_az_hz\"></a> <!--\\ref{pos:fig:az}-->. "
      ]
    },
    {
      "cell_type": "code",
      "execution_count": null,
      "metadata": {},
      "outputs": [],
      "source": [
        "#Creating the observer: KAT-7\n",
        "KAT7 = ephem.Observer() \n",
        "KAT7.lat = '-30:43:17'\n",
        "KAT7.lon = '21:25:40.08'\n",
        "KAT7.elevation = 0.0\n",
        "KAT7.date = '2016/5/30 00:00:00' #UTC\n",
        "\n",
        "#Creating the celestial bodies\n",
        "star_names = np.array([\"Rigel\",\"Thuban\",\"Mimosa\",\"Procyon\",\"Sirius\",\"Achernar\",\"Menkar\",\"Zaurak\",\"Aldebaran\",\"Betelgeuse\"])\n",
        "star_objects = np.empty((len(star_names),),dtype=object)\n",
        "for k in range(len(star_names)):\n",
        "    star_objects[k] = ephem.star(star_names[k],KAT7) \n",
        "\n",
        "\n",
        "#Creating the time-strings at which we observe    \n",
        "hours = np.empty((96,),dtype=object)\n",
        "minutes = np.empty((96,),dtype=object)\n",
        "alt_az_mat = np.zeros((len(star_names),len(hours)+1,2),dtype=float) #(sources,hours,horz_coord) \n",
        "\n",
        "hours_c = 0\n",
        "for k in range(len(hours)):\n",
        "   \n",
        "    if k % 4 == 0:\n",
        "       if hours_c < 10:\n",
        "          hours[k] = '0'+str(hours_c)\n",
        "       else:\n",
        "          hours[k] = str(hours_c)\n",
        "       minutes[k] = \"00\"\n",
        "    elif k % 4 == 1:\n",
        "       if hours_c < 10:\n",
        "          hours[k] = '0'+str(hours_c)\n",
        "       else:\n",
        "          hours[k] = str(hours_c)\n",
        "       minutes[k] = \"15\"\n",
        "    elif k % 4 == 2:\n",
        "       if hours_c < 10:\n",
        "          hours[k] = '0'+str(hours_c)\n",
        "       else:\n",
        "          hours[k] = str(hours_c)\n",
        "       minutes[k] = \"30\"\n",
        "    elif k % 4 == 3:\n",
        "       if hours_c < 10:\n",
        "          hours[k] = '0'+str(hours_c)\n",
        "       else:\n",
        "          hours[k] = str(hours_c)\n",
        "       hours_c = hours_c + 1\n",
        "       minutes[k] = \"45\"\n",
        "        \n",
        "#Compute the alt/az for different stars observed by KAT-7 at different times on 2016/5/30         \n",
        "for k in range(len(hours)):\n",
        "    \n",
        "    #Set new time\n",
        "    n_date = '2016/5/30 ' + hours[k] + ':' + minutes[k] + ':00'\n",
        "    \n",
        "    KAT7.date = n_date\n",
        "    \n",
        "    #Calculate new alt/az\n",
        "    for j in range(len(star_names)):\n",
        "        star_objects[j].compute(KAT7)\n",
        "        alt_az_mat[j,k,0] = float(star_objects[j].alt)\n",
        "        alt_az_mat[j,k,1] = float(star_objects[j].az)\n",
        "\n",
        "#Copy first value to last value \n",
        "alt_az_mat[:,-1,:] = alt_az_mat[:,0,:]         \n",
        "time_v = np.linspace(0,24,len(hours)+1,endpoint=True) \n",
        "\n",
        "#Plot alt\n",
        "matplotlib.rcParams.update({'font.size': 13.75})\n",
        "\n",
        "fig, ax = plt.subplots()\n",
        "\n",
        "c = [\"r\",\"b\",\"g\",\"y\",\"m\",\"c\",\"k\"]\n",
        "l = [\"-\",\"--\"]\n",
        "l_ind = 0\n",
        "c_ind = 0\n",
        "\n",
        "for k in range(len(star_names)):\n",
        "    if c_ind == 7:\n",
        "       c_ind = 0\n",
        "       l_ind = 1\n",
        "        \n",
        "    mask = np.logical_not(np.logical_and(alt_az_mat[k,:,0]*(180/np.pi)>-5,alt_az_mat[k,:,0]*(180/np.pi)<5))\n",
        "    new_curve_y = alt_az_mat[k,mask,0]*(180/np.pi) \n",
        "    new_curve_x = time_v[mask]\n",
        "    ax.plot(new_curve_x,new_curve_y,c[c_ind]+l[l_ind],label=star_names[k],lw=2,zorder=k)\n",
        "    \n",
        "    c_ind = c_ind +1\n",
        "\n",
        "\n",
        "ax.fill_between(time_v, -5, 5, facecolor='k',alpha=1,zorder=k+1)\n",
        "ax.annotate(\"HORIZON\", xy = (11.5,5), xytext=(11.5, 15),arrowprops=dict(facecolor=\"b\", shrink=1))\n",
        "ax.legend()\n",
        "ax.set_xlim([0,24])\n",
        "ax.set_ylim([-90,90])\n",
        "ticks = np.array([-90,-80,-70,-60,-50,-40,-30,-20,-10,0,10,20,30,40,50,60,70,80,90])\n",
        "plt.yticks(ticks)\n",
        "ticks = np.array([0,2,4,6,8,10,12,14,16,18,20,22,24])\n",
        "plt.xticks(ticks)\n",
        "plt.xlabel(\"UTC [$h$]\")\n",
        "plt.ylabel(\"Altitude [$^{\\circ}$]\")\n",
        "plt.title(\"KAT-7: 2016/5/30\")\n",
        "\n",
        "labels = [item.get_text() for item in ax.get_yticklabels()]\n",
        "labels = np.array([\"-90$^{\\circ}$\",\"-80$^{\\circ}$\",\"-70$^{\\circ}$\",\"-60$^{\\circ}$\",\"-50$^{\\circ}$\",\"-40$^{\\circ}$\",\"-30$^{\\circ}$\",\"-20$^{\\circ}$\",\"-10$^{\\circ}$\",\"0$^{\\circ}$\",\"10$^{\\circ}$\",\"20$^{\\circ}$\",\"30$^{\\circ}$\",\"40$^{\\circ}$\",\"50$^{\\circ}$\",\"60$^{\\circ}$\",\"70$^{\\circ}$\",\"80$^{\\circ}$\",\"90$^{\\circ}$\"])\n",
        "ax.set_yticklabels(labels)\n",
        "\n",
        "ax.grid('on')"
      ]
    },
    {
      "cell_type": "markdown",
      "metadata": {},
      "source": [
        "*Figure 3.3.3*: The altitude angle of ten well known stars during 2016/5/30 as observed by the KAT-7 array. The altitude angle was computed by employing `pyephem`. The peaks of the curves indicate the times at which the stars were at transit. The black rectangle represents the fundamental horizon<span style=\"background-color:cyan\">KT:XX: What is the fundamental horizon? Do you mean the celestial horizon?</span> . Any star that stays below the horizon would not be observable at all (see the curve associated with *Thuban* for an example). Any star that stays above the horizon for the entire day is a circumpolar star. *Mimosa* can almost be classified as a circumpolar star.   <!--\\label{pos:fig:alt}-->     "
      ]
    },
    {
      "cell_type": "markdown",
      "metadata": {},
      "source": [
        "We have not yet plotted the azimuth coordinates for the randomly selected stars. We do so by using the code snippet below. "
      ]
    },
    {
      "cell_type": "code",
      "execution_count": null,
      "metadata": {},
      "outputs": [],
      "source": [
        "#Plot az\n",
        "matplotlib.rcParams.update({'font.size': 13.75})\n",
        "fig, ax = plt.subplots()\n",
        "\n",
        "c = [\"r\",\"b\",\"g\",\"y\",\"m\",\"c\",\"k\"]\n",
        "l = [\"-\",\"--\"]\n",
        "l_ind = 0\n",
        "c_ind = 0\n",
        "\n",
        "for i in range(10):\n",
        "    if c_ind == 7:\n",
        "       c_ind = 0\n",
        "       l_ind = 1\n",
        "    plt.plot(time_v,alt_az_mat[i,:,1]*(180/np.pi),c[c_ind]+l[l_ind],lw=2,label=star_names[i])\n",
        "    c_ind = c_ind +1\n",
        "    \n",
        "ax.legend()\n",
        "ax.set_xlim([0,24])\n",
        "ax.set_ylim([0,360])\n",
        "ticks = np.array([0,60,120,180,240,300,360])\n",
        "plt.yticks(ticks)\n",
        "ticks = np.array([0,2,4,6,8,10,12,14,16,18,20,22,24])\n",
        "plt.xticks(ticks)\n",
        "plt.xlabel(\"UTC [$h$]\")\n",
        "plt.ylabel(\"Azimuth [$^{\\circ}$]\")\n",
        "plt.title(\"KAT-7: 2016/5/30\")\n",
        "\n",
        "labels = [item.get_text() for item in ax.get_yticklabels()]\n",
        "labels = np.array([\"0$^{\\circ}$\",\"60$^{\\circ}$\",\"120$^{\\circ}$\",\"180$^{\\circ}$\",\"240$^{\\circ}$\",\"300$^{\\circ}$\",\"360$^{\\circ}$\"])\n",
        "ax.set_yticklabels(labels)\n",
        "\n",
        "ax.grid('on')"
      ]
    },
    {
      "cell_type": "markdown",
      "metadata": {},
      "source": [
        "*Figure 3.3.4*: The azimuth angle of ten well know stars during 2016/5/30 as observed by the KAT-7 array. The azimuth angle was computed by employing `pyephem`."
      ]
    },
    {
      "cell_type": "markdown",
      "metadata": {},
      "source": [
        "In the second use case we determine the horizontal coordinates of *Betelgeuse*\n",
        "for different arrays around the world at a specific moment in time (2016/5/30 00:00:00). We again use `pyephem` to accomplish this. See the code snippet below for the exact details of how this can be achieved. We plot the main result of the code snippet in <a class='pos_fig_hbetelgeuse_hz'></a> <!--\\ref{pos:fig:hbetelgeuse}-->."
      ]
    },
    {
      "cell_type": "code",
      "execution_count": null,
      "metadata": {},
      "outputs": [],
      "source": [
        "#Preliminaries\n",
        "matplotlib.rcParams.update({'font.size': 13.75})\n",
        "observatories = [\"LOFAR\",\"KAT7\",\"MWA\",\"VLA\",\"ALMA\",\"GMRT\"]\n",
        "lat_v = [\"52:54:32\",\"-30:43:17\",\"-26:42:12\",\"34:04:43\",\"-23:01:09\",\"19:05:47\"]\n",
        "lon_v = [\"06:52:08\",\"21:25:40.08\",\"116:40:16\",\"-107:37:05\",\"-67:45:12\",\"74:02:59\"]\n",
        "\n",
        "alt_az = np.zeros((len(observatories),2),dtype=float)\n",
        "\n",
        "#Loading different observatories and calculating alt/az of Betelgeuse for each of them\n",
        "for k in range(len(observatories)):\n",
        "    obs = ephem.Observer() \n",
        "    obs.lat = lat_v[k]\n",
        "    obs.lon = lon_v[k]\n",
        "    obs.elevation = 0.0 \n",
        "    obs.date = '2016/5/30 00:00:00' #UTC\n",
        "    betelgeuse = ephem.star(\"Betelgeuse\",obs)\n",
        "    alt_az[k,0] = float(betelgeuse.alt)\n",
        "    alt_az[k,1] = float(betelgeuse.az)\n",
        "  \n",
        "#Plotting\n",
        "cluster = ['o','^','>','s','*','v']\n",
        "col = ['b','r','g','k','c','m']\n",
        "\n",
        "fig, ax = plt.subplots()\n",
        "\n",
        "for xp, yp, m, n, col_v in zip(alt_az[:,0]*(180/np.pi), alt_az[:,1]*(180/np.pi), cluster, observatories,col):\n",
        "    ax.plot([xp],[yp], marker=m, c = col_v, label = n, markersize = 20, linestyle='None')\n",
        "\n",
        "ax.legend(numpoints=1)   \n",
        "ax.set_xlim([-90,90])\n",
        "ax.set_ylim([0,360])\n",
        "ticks = np.array([0,60,120,180,240,300,360])\n",
        "plt.yticks(ticks)\n",
        "ticks = np.array([-90,-80,-70,-60,-50,-40,-30,-20,-10,0,10,20,30,40,50,60,70,80,90])\n",
        "plt.xticks(ticks)\n",
        "\n",
        "labels = [item.get_text() for item in ax.get_yticklabels()]\n",
        "labels = np.array([\"0$^{\\circ}$\",\"60$^{\\circ}$\",\"120$^{\\circ}$\",\"180$^{\\circ}$\",\"240$^{\\circ}$\",\"300$^{\\circ}$\",\"360$^{\\circ}$\"])\n",
        "ax.set_yticklabels(labels)\n",
        "\n",
        "labels = [item.get_text() for item in ax.get_xticklabels()]\n",
        "labels = np.array([\"-90$^{\\circ}$\",\"-80$^{\\circ}$\",\"-70$^{\\circ}$\",\"-60$^{\\circ}$\",\"-50$^{\\circ}$\",\"-40$^{\\circ}$\",\"-30$^{\\circ}$\",\"-20$^{\\circ}$\",\"-10$^{\\circ}$\",\"0$^{\\circ}$\",\"10$^{\\circ}$\",\"20$^{\\circ}$\",\"30$^{\\circ}$\",\"40$^{\\circ}$\",\"50$^{\\circ}$\",\"60$^{\\circ}$\",\"70$^{\\circ}$\",\"80$^{\\circ}$\",\"90$^{\\circ}$\"])\n",
        "ax.set_xticklabels(labels)\n",
        "\n",
        "plt.xlabel(\"Altitude [$^{\\circ}$]\")\n",
        "plt.ylabel(\"Azimuth [$^{\\circ}$]\")\n",
        "plt.title(\"Betelgeuse: 2016/5/30 - 00:00:00 UTC\")\n",
        "\n",
        "ax.grid('on')"
      ]
    },
    {
      "cell_type": "markdown",
      "metadata": {},
      "source": [
        "*Figure 3.3.5*: The horizontal coordinates of Betelgeuse for different arrays around the world on 2016/5/30 at 00:00:00 UTC. The horizontal coordinates were computed by employing `pyephem`."
      ]
    },
    {
      "cell_type": "markdown",
      "metadata": {},
      "source": [
        "***\n",
        "\n",
        "Next: [Direction Cosine Coordinates](3_4_direction_cosine_coordinates.ipynb) "
      ]
    }
  ],
  "metadata": {
    "kernelspec": {
      "display_name": "testament",
      "language": "python",
      "name": "testament"
    },
    "language_info": {
      "codemirror_mode": {
        "name": "ipython",
        "version": 3
      },
      "file_extension": ".py",
      "mimetype": "text/x-python",
      "name": "python",
      "nbconvert_exporter": "python",
      "pygments_lexer": "ipython3",
      "version": "3.8.10"
    }
  },
  "nbformat": 4,
  "nbformat_minor": 1
}