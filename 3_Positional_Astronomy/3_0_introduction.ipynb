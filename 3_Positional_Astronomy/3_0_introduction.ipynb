{
  "cells": [
    {
      "cell_type": "markdown",
      "metadata": {},
      "source": [
        "***\n",
        "\n",
        "* [Outline](../0_Introduction/0_introduction.ipynb)\n",
        "* [Glossary](../0_Introduction/1_glossary.ipynb)\n",
        "* [Positional Astronomy](#)\n",
        "    * Next: [Equatorial Coordinates](3_1_equatorial_coordinates.ipynb)\n",
        "\n",
        "***"
      ]
    },
    {
      "cell_type": "markdown",
      "metadata": {},
      "source": [
        "Import standard modules:"
      ]
    },
    {
      "cell_type": "code",
      "execution_count": null,
      "metadata": {},
      "outputs": [],
      "source": [
        "import numpy as np\n",
        "import matplotlib.pyplot as plt\n",
        "%matplotlib inline\n",
        "from IPython.display import HTML \n",
        "HTML('../style/course.css') #apply general CSS"
      ]
    },
    {
      "cell_type": "markdown",
      "metadata": {},
      "source": [
        "Import section specific modules:"
      ]
    },
    {
      "cell_type": "code",
      "execution_count": null,
      "metadata": {},
      "outputs": [],
      "source": [
        "from IPython.display import HTML\n",
        "HTML('../style/code_toggle.html')"
      ]
    },
    {
      "cell_type": "markdown",
      "metadata": {},
      "source": [
        "# Positional Astronomy"
      ]
    },
    {
      "cell_type": "markdown",
      "metadata": {},
      "source": [
        "In this chapter we present the positional astronomy we will need to comprehend interferometry. We discuss three useful astronomical coordinate systems in this chapter.\n",
        "\n",
        "<p class=conclusion>\n",
        "  <font size=4><b> Astronomical coordinate systems </b></font>\n",
        "  <br>\n",
        "  <br>\n",
        "&bull; the <em>equatorial coordinate system</em> in <a class='pos_sec_eq_intro'></a>: the equatorial coordinate system enables us to create \n",
        "astronomical catalogues, so that we can easily locate celestial objects in the night sky.\n",
        "<br><br>\n",
        "&bull; the <em>horizontal coordinate system</em> in <a class='pos_sec_hoz_intro'></a>: the horizontal coordinate system is used to point a telescope to a specific location in an observer's local sky. <br><br> \n",
        "&bull; the <em>direction cosine coordinate system</em> in <a class='pos_sec_dir_intro'></a>: the direction cosine coordinate system is used to make local sky-maps around a direction of interest. It is also important in radio interferometry as it allows us to define a Fourier relationship between the sky brightness and interferometric measurements (see <a href='../4_Visibility_Space/4_0_introduction.ipynb'>$\\S$ 4 &#10142;</a>).\n",
        "</p>\n",
        "\n",
        "There are two additional concepts that are also discussed: *hour angle* and *local sidereal time*. \n",
        "\n",
        "<p class=conclusion>\n",
        "  <font size=4><b> Hour angle </b></font>\n",
        "  <br>\n",
        "  <br>\n",
        "The equatorial coordinate system is static, i.e. the positions of the stars changes very slowly. The longitude equivalent equatorial coordinate is known as <em>right ascension</em>. The stars do however move across the sky of an earth-bound observer all the time, we therefore need a mutable longitude equivalent equatorial coordinate if we wish to keep track of the stars from earth. This is exactly what the hour angle provides. The hour angle is discussed in more detail in <a class='pos_sec_ha_intro'></a>.\n",
        "</p>\n",
        "\n",
        "<p class=conclusion>\n",
        "  <font size=4><b> Local sidereal time </b></font>\n",
        "  <br>\n",
        "  <br>\n",
        "The <em>local sidereal time</em>, is the current star time of a local observer. We need a separate \"star\" clock as our normal civil clocks keep track of the Sun. The Sun and an arbitrary star take different amounts of time to reappear at the same position in the sky. We discuss this in greater detail in <a class='pos_sec_lst_intro'></a>. We use the local sidereal time to obtain the hour angle of a source from its right ascension coordinate.\n",
        "</p>\n",
        "\n",
        "In general, we do not explicitly reference any outside material in this chapter, but the reader is referred to [<cite data-cite='Duffett2011'>Practical Astronomy with your calculator or spreadsheet </cite> &#10548;](https://books.google.co.za/books?id=MTGYxQyW998C&dq=astronomy+with+your+calculator+or+spreadsheet) as it provides an in depth review of astronomical coordinate systems. It is the main (mostly silent) reference of this chapter."
      ]
    },
    {
      "cell_type": "markdown",
      "metadata": {},
      "source": [
        "#### Chapter Sections\n",
        "\n",
        "* [Equatorial Coordinates](3_1_equatorial_coordinates.ipynb)\n",
        "* [Hour Angle and Local Sidereal Time](3_2_hour_angle.ipynb)\n",
        "* [Horizontal Coordinates](3_3_horizontal_coordinates.ipynb)\n",
        "* [Direction Cosine Coordinates](3_4_direction_cosine_coordinates.ipynb)\n",
        "* [Further Reading](3_x_further_reading_and_references.ipynb)"
      ]
    },
    {
      "cell_type": "markdown",
      "metadata": {},
      "source": [
        "#### Chapter Contributors\n",
        "\n",
        "* Trienko Grobler (3.1, 3.2, 3.3, 3.4, 3.5) <span style=\"background-color:cyan\">KT:CC:Is section 3.5 the same as 3.x, i.e. further reading and references?</span>\n",
        "* Julien Girard (3.2, Figures)"
      ]
    },
    {
      "cell_type": "markdown",
      "metadata": {},
      "source": [
        "#### Chapter Editors\n",
        "\n",
        "* Kshitij Thorat (2017)"
      ]
    },
    {
      "cell_type": "markdown",
      "metadata": {},
      "source": [
        "#### Format status:\n",
        "\n",
        "* <span style=\"background-color:green\">&nbsp;&nbsp;&nbsp;&nbsp;</span> : LF: 06/02/2017\n",
        "* <span style=\"background-color:green\">&nbsp;&nbsp;&nbsp;&nbsp;</span> : NC: 06/02/2017\n",
        "* <span style=\"background-color:green\">&nbsp;&nbsp;&nbsp;&nbsp;</span> : RF: 06/02/2017\n",
        "* <span style=\"background-color:green\">&nbsp;&nbsp;&nbsp;&nbsp;</span> : HF: 06/02/2017\n",
        "* <span style=\"background-color:green\">&nbsp;&nbsp;&nbsp;&nbsp;</span> : GM: 06/02/2017\n",
        "* <span style=\"background-color:green\">&nbsp;&nbsp;&nbsp;&nbsp;</span> : CC: 06/02/2017\n",
        "* <span style=\"background-color:green\">&nbsp;&nbsp;&nbsp;&nbsp;</span> : CL: 06/02/2017\n",
        "* <span style=\"background-color:green\">&nbsp;&nbsp;&nbsp;&nbsp;</span> : ST: 06/02/2017\n",
        "* <span style=\"background-color:green\">&nbsp;&nbsp;&nbsp;&nbsp;</span> : FN: 06/02/2017\n",
        "* <span style=\"background-color:green\">&nbsp;&nbsp;&nbsp;&nbsp;</span> : TC: 06/02/2017\n",
        "* <span style=\"background-color:green\">&nbsp;&nbsp;&nbsp;&nbsp;</span> : XX: 07/02/2017"
      ]
    },
    {
      "cell_type": "markdown",
      "metadata": {},
      "source": [
        "***\n",
        "\n",
        "Next: [Equatorial Coordinates](3_1_equatorial_coordinates.ipynb)"
      ]
    },
    {
      "cell_type": "markdown",
      "metadata": {},
      "source": [
        "<div class=warn><b>Future Additions:</b></div>\n",
        "\n",
        "* Stellarium example to show movement of sky sources from different locations on the Earth"
      ]
    }
  ],
  "metadata": {
    "kernelspec": {
      "display_name": "testament",
      "language": "python",
      "name": "testament"
    },
    "language_info": {
      "codemirror_mode": {
        "name": "ipython",
        "version": 3
      },
      "file_extension": ".py",
      "mimetype": "text/x-python",
      "name": "python",
      "nbconvert_exporter": "python",
      "pygments_lexer": "ipython3",
      "version": "3.8.10"
    }
  },
  "nbformat": 4,
  "nbformat_minor": 1
}