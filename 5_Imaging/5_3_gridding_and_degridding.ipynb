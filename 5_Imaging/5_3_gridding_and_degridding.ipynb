{
  "cells": [
    {
      "cell_type": "markdown",
      "metadata": {},
      "source": [
        "***\n",
        "\n",
        "* [Outline](../0_Introduction/0_introduction.ipynb)\n",
        "* [Glossary](../0_Introduction/1_glossary.ipynb)\n",
        "* [5. Imaging](5_0_introduction.ipynb)\n",
        "    * Previous: [5.2 Sampling functions and PSFs](5_2_sampling_functions_and_psfs.ipynb) \n",
        "    * Next: [5.4 The Dirty Image and Visibility Weights](5_4_imaging_weights.ipynb)\n",
        "\n",
        "***"
      ]
    },
    {
      "cell_type": "markdown",
      "metadata": {},
      "source": [
        "Import standard modules:"
      ]
    },
    {
      "cell_type": "code",
      "execution_count": null,
      "metadata": {},
      "outputs": [],
      "source": [
        "import numpy as np\n",
        "import matplotlib.pyplot as plt\n",
        "%matplotlib inline\n",
        "from IPython.display import HTML \n",
        "from IPython.display import Image, display, clear_output\n",
        "from ipywidgets import HBox, Label, FloatSlider, Layout\n",
        "HTML('../style/course.css') #apply general CSS"
      ]
    },
    {
      "cell_type": "markdown",
      "metadata": {},
      "source": [
        "Import section specific modules:"
      ]
    },
    {
      "cell_type": "code",
      "execution_count": null,
      "metadata": {},
      "outputs": [],
      "source": [
        "from IPython.display import Image\n",
        "import track_simulator\n",
        "import AA_filter"
      ]
    },
    {
      "cell_type": "markdown",
      "metadata": {
        "collapsed": true
      },
      "source": [
        "## 5.3 Gridding and Degridding for using the FFT <a id='imaging:sec:gridding'></a>"
      ]
    },
    {
      "cell_type": "markdown",
      "metadata": {},
      "source": [
        "In the previous section several sampling functions were presented. There the sampling functions were already neatly discretized and displayed as images. Each image was a grid of pixels (all with the same size). Fourier inverting such regularly sampled data is done with a fast Fourier Transform (FFT) algorithm. This is called the \"fast\" Fourier Transform because it is computationally more efficient that the Direct Fourier Transform (DFT). To give an idea of how fast this algorithm is, if there are $N^2$ pixels in the image, the FFT takes roughly $2N^2\\log(N)$ computational operations. In contrast, the complexity of the DFT also depends on the number of visibilities $M$ and takes $N^2M$ steps. Here $M\\approx N^2$ and for each pixel we must take $M$ complex exponentiations and multiplications. Specifically, the DFT calculates the intensity of each pixel:\n",
        "\n",
        "\\begin{equation}\n",
        " I(l,m) = \\sum_{k=0}^{M-1}V_k(u,v)e^{2\\pi i (lu+mv)}\\text{, }V_k\\text{ are the M measurements taken by the telescope}\n",
        "\\end{equation}\n",
        "\n",
        "From this it should be clear that as the number of baselines or observation time is increased, the FFT approach would be far less time-consuming than the the direct approach. Unfortunately radio interferometers don't take measurements at regular intervals, and thus an FFT cannot be used on the observation data directly. Instead the data has to be *resampled* onto a grid with points spaced at regular intervals before taking the FFT. This resampling process (called *gridding*) and its inverse (called *degridding*) is the topic of this section. The big idea here is that we do gridding and degridding because it enables us to create an image faster than if we did the DFT.\n",
        "\n",
        "As you will see later some u,v space image deconvolution algorithms such as the Cotton-Schwab \u279e major-minor cycle algorithm require that sources in image space are reconverted back into the non-regular measurement space. Here an accurate degridding operation is required to \"interpolate\" regularly sampled visibilities back onto the u,v tracks shown above.\n",
        "\n",
        "In addition to the issue of resampling when using the FFT transform approach, is the issue of *aliasing*. The FFT assumes that the input signal (here the spatial frequency domain) is periodic in nature. The resultant image constructed by resampling and inverse FFT therefore repeats at regular intervals: sources near the top of the image are aliased back into the image at the bottom for instance. This introduces the necessity to filter the image with a filter that only passes signal that falls within the field of view being reconstructed. Aliasing is an effect of Nyquist sampling ([$\\S$ 2.9 &#10142;](../2_Mathematical_Groundwork/2_9_sampling_theory.ipynb)) the visibilities based on the grid size. An example of this form of aliasing will be given later on.\n",
        "\n",
        "The following points will be discussed in this chapter:\n",
        "1. Image resolution and pixel size\n",
        "2. Gridding and degridding, along with a discussion on the use anti-aliasing filters\n",
        "3. Sample code for degridding a model sky, and gridding and inverting visibilities to form a dirty image."
      ]
    },
    {
      "cell_type": "markdown",
      "metadata": {},
      "source": [
        "### 5.3.1 Image Resolution and Pixel Size"
      ]
    },
    {
      "cell_type": "markdown",
      "metadata": {},
      "source": [
        "When generating an image from visibilities, using either a direct or fast Fourier transform, two parameters need to be defined: the resolution of each pixel and the extent of the image either as the number of pixels or as the size of the field of view (depending on the particular imager). An image will be a two-dimensional array of size $N_l \\times N_m$ and each pixel will have a resolution of $(\\Delta \\theta_l, \\Delta \\theta_m)$ if we are making the small angle approximation for the field of view. Recall that the image size is $l' = \\cos{\\theta_l}$, $m' = \\cos{\\theta_m}$, the resolution is $\\Delta l = \\cos{\\Delta \\theta_l}$, $\\Delta m = \\cos{\\Delta \\theta_m}$ and in the small angle approximation $\\Delta l \\sim \\Delta \\theta_l$, $\\Delta m \\sim \\Delta \\theta_m$. Though, many imagers can create images which break the small angle approximation the notation is retained. There are a number of techniques for representing a point in spherical coordinates, via a non-linear transform, on a two-dimensional plane. In radio interferometry the standard technique is SIN-projection, see [<cite data-cite='Greisen1994'>AIPS Memo 27</cite> &#10548;](ftp://ftp.aoc.nrao.edu/pub/software/aips/TEXT/PUBL/AIPSMEMO27.PS) for a detailed discussion of different coordinate projections.\n",
        "\n",
        "Given the the resolution $(\\Delta \\theta_l, \\Delta \\theta_m)$ and the desired field of view $(\\theta_l, \\theta_m)$, the number of pixels in the image (the image size) is\n",
        "\n",
        "$$N_l = \\frac{\\theta_l}{\\Delta \\theta_l}$$\n",
        "\n",
        "$$N_m = \\frac{\\theta_m}{\\Delta \\theta_m}$$\n",
        "\n",
        "Recall that the uv tracks samples spatial frequency, so therefore the chosen image resolution (cell size) must satisfy the Nyquist relation. For a given interferometer resolution and image size the image domain resolution/grid size $(\\Delta \\theta_l, \\Delta \\theta_m)$ is\n",
        "\n",
        "$$\\Delta \\theta_l = \\frac{1}{2N_l \\Delta u} = \\frac{1}{2\\max{(||\\min{u}||,\\max{u})}} \\text{  radians}$$\n",
        "\n",
        "$$\\Delta \\theta_m = \\frac{1}{2N_m \\Delta v} = \\frac{1}{2\\max{(||\\min{v}||,\\max{v})}} \\text{  radians}$$\n",
        "\n",
        "And the number of pixels is unchanged $N_u = N_l$, $N_v = N_m$.\n",
        "\n",
        "An important note about the number of pixels is that one should try to use values which are powers of 2, i.e. $N_l = 2^j$, $N_m = 2^k, $ for some positive $j,k$. This is because of how FFT's are implemented, the optimal run-time efficiency of an FFT is with input lengths which are powers of 2 and are least efficient when the input length is a prime number. For example, the time required to generate a 256 by 256 pixel ($2^8$ by $2^8$) image will be less than a 251 by 251 pixel image even though the resulting image will have more pixels. Also, note, interferometric images are almost always square by convention.\n",
        "\n",
        "When using the Fast Fourier Transform for the inversion between uv and image space the image has to be scaled to the correct size using the Similarity property of the FFT:\n",
        "$$V(au, av) \\rightleftharpoons \\frac{1}{|a|}I(\\frac{l}{a},\\frac{m}{a})$$\n",
        "\n",
        "This implies that we can scale the image to $-0.5N_x\\Delta\\theta_l \\leq l \\leq 0.5N_x\\Delta\\theta_l$ and $-0.5N_y\\Delta\\theta_m \\leq m \\leq 0.5N_y\\Delta\\theta_m$ by scaling with the uv tracks with the image size (in radians). This is in contrast to the approach taken when using the DFT: in the direct per pixel evaluation of the fourier sum the resolution can be specified directly."
      ]
    },
    {
      "cell_type": "markdown",
      "metadata": {},
      "source": [
        "### 5.3.2 Gridding and Degridding"
      ]
    },
    {
      "cell_type": "markdown",
      "metadata": {},
      "source": [
        "As you may suspect there are many ways to interpolate data to and from regularly-spaced coordinates. The most widely-used interpolation technique used in radio imaging programs, such as `lwimager`, is known as \"convolutional-resampling\". In this technique each visibility is weighted and \"smeared out\" onto grid points that lie within a small distance from the original coordinate."
      ]
    },
    {
      "cell_type": "code",
      "execution_count": null,
      "metadata": {},
      "outputs": [],
      "source": [
        "Image(filename=\"figures/gridding_illustration.png\")"
      ]
    },
    {
      "cell_type": "markdown",
      "metadata": {},
      "source": [
        "*Figure: Each observed visibility is centered at some sampling coordinate\n",
        "in continuous u,v space and is weighted with some function $C(u,v)$, which extends only to finite \u201cfull support\u201d region as illustrated. The result is either binned in a regularly spaced grid when gridding or gathered from this grid when degridding. After all of the observed visibilities have been gridded an Inverse Fast Fourier Transform is performed to create an image of the sky. The reverse operations are done when simulating a set of visibility measurements from a model sky.*"
      ]
    },
    {
      "cell_type": "markdown",
      "metadata": {},
      "source": [
        "The value at each grid point, then, is a weighted accumulation of all the nearby visibilties. In one dimension this can be stated as (visually illustrated below):\n",
        "\n",
        "\\begin{equation}\n",
        " (\\forall a \\in \\{1,2,\\dots,N\\}) \\mathscr{V}(a\\Delta{x}) = \\sum_{\\substack{\n",
        "                                                                     i | x_i \\geq a\\Delta{x}-\\text{half support}, \\\\ \n",
        "                                                                     x_i \\leq a\\Delta{x}+\\text{half support}}\n",
        "                                                                 }{\\mathscr{V}(x_i) \\, C(a\\Delta{x}-x_i)}\n",
        "\\end{equation}"
      ]
    },
    {
      "cell_type": "code",
      "execution_count": null,
      "metadata": {},
      "outputs": [],
      "source": [
        "N = 30\n",
        "dx = 1\n",
        "a = np.arange(N)\n",
        "M = 75\n",
        "tap_pos = (N//2)*dx\n",
        "conv_hsup = 5*dx\n",
        "conv_x = np.linspace(-conv_hsup,conv_hsup,1000)\n",
        "vis_x = np.sort(np.random.rand(M)*N*dx)\n",
        "vis = 1.5+np.random.rand(M)*0.7 + 0.3\n",
        "plt.figure(figsize=(13,5))\n",
        "ax1 = plt.axes()\n",
        "ax1.axes.get_yaxis().set_visible(False)\n",
        "for x in a*dx:\n",
        "    plt.plot([x,x],[-1.5,-1.0],'k')\n",
        "plt.plot(vis_x,vis,'b.')\n",
        "plt.plot(vis_x,np.ones([M])*-1.25,'g.')\n",
        "plt.plot([vis_x[0],vis_x[0]],[-1.25,vis[0]],'b--')\n",
        "plt.plot(tap_pos+conv_x,np.sinc(conv_x),'r')\n",
        "\n",
        "plt.arrow(tap_pos-conv_hsup, -0.25, 0, 2.5+0.5, head_width=0.0, head_length=0.0, fc='m', ec='m')\n",
        "plt.arrow(tap_pos+conv_hsup, -0.25, 0, 2.5+0.5, head_width=0.0, head_length=0.0, fc='m', ec='m')\n",
        "plt.arrow(tap_pos-conv_hsup, -0.25, conv_hsup*2, 0, head_width=0.0, head_length=0.0, fc='m', ec='m')\n",
        "plt.arrow(tap_pos-conv_hsup, 2.5+0.25, conv_hsup*2, 0, head_width=0.0, head_length=0.0, fc='m', ec='m')\n",
        "\n",
        "plt.text(tap_pos+0.75, -0.70, \"$\\sum{\\mathscr{V}(x_i)C(a\\Delta{x}-x_i)}$\", fontsize=11,color='m')\n",
        "plt.text(tap_pos+conv_hsup+0.15, 0, \"$C$\", fontsize=13,color='r')\n",
        "plt.text(0.5, 2.5, \"$\\mathscr{V}(x_i),x_i\\in\\mathbb{R}$\", fontsize=16,color='b')\n",
        "plt.arrow(tap_pos, -0.25, 0, -0.45, head_width=0.75, head_length=0.3, fc='m', ec='m')\n",
        "plt.ylim(-1.75,3.0)\n",
        "plt.xlim(-0.5*dx,N*dx)\n",
        "plt.xlabel(\"Grid position ($a\\Delta{x}$)\",fontsize=15)\n",
        "plt.show()"
      ]
    },
    {
      "cell_type": "markdown",
      "metadata": {},
      "source": [
        "*Figure: Here we have illustrated the gridding process in one dimension. Given a continuous visibility function sampled at some, non-regular, points in $x$ and a convolution function, $C$, the points stored at regular intervals (black bars) is approximately a convolution between the visibility function and the convolution function. The coordinates the visibility function is sampled at, is plotted with green dots in-between the regularly sampled grid positions.*"
      ]
    },
    {
      "cell_type": "markdown",
      "metadata": {},
      "source": [
        "The weighting function, $C$ can be any number of functions proposed in the literature. These include linear, Lagrange, sinc (including one of the many window functions), Gaussian, modified B-spline, etc. \n",
        "\n",
        "You may have noticed that the interpolating function above is remarkably close to that of a discrete convolution. If the resampling was done on data that was regularly sampled and the convolution function evaluated at these regular discrete steps then the function would just the ordinary discrete convolution. However, the function as it stands is not quite a convolution by the strictest definition of the word. Gridding and degridding should be thought of as approximations to the discrete convolution. Nevertheless we will use the regular convolution notation in our discussion.\n",
        "\n",
        "For those coming from a signal processing background it is useful to think of the convolutional gridding and degridding operations in terms of the ordinary upsampling and downsampling operations. In gridding, as with traditional upsampling, the space in-between samples are filled with zero values. The only difference is that with gridding the original measurements are not regularly-spaced, as would be the case with upsampling. Just as with upsampling it is then necessary to assign values to these new zero values in-between the measured values. With gridding the values are smeared out over the grid points within a some area of support.\n",
        "\n",
        "This is a very important point. During the gridding process, because the uv plane is not fully sampled, many of the grid points are assigned a value fo zero! Now, there is essantially no chance that a gridded visibility value is actually zero, but since we have not sampled that point in the visibility domain the only option is to assign that pixel some value. Zero is convenient, but not the true value. We will come back to this point in the next chapter on [deconvolution &#10142;](6_Deconvolution/6_0_introduction.ipynb) which requires us to include additional knowledge to make an informed guess about what the value of these pixels could be. \n",
        "\n",
        "With this understanding in hand we can define gridding and degridding more rigorously:\n",
        "\n",
        "\\begin{equation}\n",
        " \\begin{split}\n",
        "     V_\\text{gridded}[u,v]&=[(\\mathscr{V}(u,v) \\, S(u,v))\\circ C(u,v)] \\, III[u,v]\\\\\n",
        "     V_\\text{degridded}(u,v)&=[V_\\text{gridded}[u,v]\\circ C(u,v)] \\, S(u,v)\\\\\n",
        " \\end{split}\n",
        "\\end{equation}\n",
        "\n",
        "In gridding the sampled visibilities are convolved with a convolution function then discretized onto regular points by the shah (bed-of-nails) function ([$\\S$ 2.2 &#10142;](../2_Mathematical_Groundwork/2_2_important_functions.ipynb)). In degridding the opposite is done: the regularly sampled discerete values are convolved and sampled along the sampling tracks in the u,v plane. The convolution function smears (gridding) and gathers (degridding) the visibilities over / from some area of support before discretizing the visibilities to new coordinates. Ideally this function would be computed during the gridding and degridding operations, however, considering that the processing costs of gridding and degridding both scale as $MC_\\text{sup}^2$ these functions can be too computationally expensive to compute for every visibility and is normally pretabulated for a given support size. Additionally it is important to sample this function much more densely than the spacings between grid cells; interferometers take measurements in the spatial frequency domain and any large snapping / rounding operation on the coordinates of the samples will result in a decorrelation in the structural information about the image. The figure below illustrates how values are picked from the oversampled filter."
      ]
    },
    {
      "cell_type": "code",
      "execution_count": null,
      "metadata": {},
      "outputs": [],
      "source": [
        "Image(filename=\"figures/oversampled_filter_illustration.png\")"
      ]
    },
    {
      "cell_type": "markdown",
      "metadata": {},
      "source": [
        "*Figure: Here the indexing for a padded, oversampled filter is illustrated for a 3-cell full-support region (half support of 1 to both sides of the centre value), padded with one value on both sides. The filter is 5x oversampled, as indicated by the spaces between the asterisks. The bars represent the grid resolution ($\\Delta{u}$ or $\\Delta{v}$). If the measured uv coordinate falls exactly on the nearest grid cell (red dot) then values 6,11 and 16 are selected as interpolation coefficients. If the uv value is slightly offset, for instance $\\text{round}(\\text{fraction}(u, v)m_\\text{oversample factor})$ = 2 (green dot), then 8, 13 and 18 are selected for the 3 interpolation coefficients. In other words: a denser bed of nails is placed over the bed of nails of the grid and the closest set of coefficients for the convolution are selected.*"
      ]
    },
    {
      "cell_type": "markdown",
      "metadata": {},
      "source": [
        "More importantly, the alias-reduction properties of the convolution filter being used are essential to the FFT approach. By the convolution theorem the reconstructed image of the radio sky can be stated as follows:\n",
        "\n",
        "\\begin{equation}\n",
        "I_\\text{dirty}[l,m] = ([I(l,m)\\circ\\text{PSF}(l,m)] \\, c(l,m))\\circ\\mathscr{F}\\{III\\}[l,m]\n",
        "\\end{equation}\n",
        "\n",
        "The Fourier transform of the shah function $\\mathscr{F}\\{III\\}[l,m]$ is a series of periodic functions in the image domain. Convolution with these periodic functions replicates the field of view at a period of $M\\Delta{\\theta_l}$ and $N\\Delta{\\theta_m}$ for an $M\\times N$ pixel image, and it is this aliasing effect that must be stopped. To that end one would hope that the Fourier transform of the convolution filter, $c(l,m)$, maximizes the following ratio:\n",
        "\n",
        "\\begin{equation}\n",
        "\\frac{\\int_\\text{FOV} \\lvert c(l,m) \\rvert^2dS}{\\int_{-\\infty}^\\infty \\lvert c(l,m) \\rvert^2dS}\n",
        "\\end{equation}\n",
        "\n",
        "Simply stated, it is desirable that the function $c$ is only non-zero over a small central region: the field of view.\n",
        "\n",
        "Both the remarks about accuracy and anti-aliasing properties of the filter precludes using a nearest-neighbour approach to interpolating points to and from regular coordinates. Interpolation accuracy takes presidence in degridding, while alias-reduction is important for gridding. Nearest-neighbour interpolation (also known as *cell-summing* in older literature) simply accumulates the neighbouring points that fall within a rectangular region around the new coordinate, without considering the distance those points are from the new coordinate. The Fourier transform of this box function is an infinite sinc function, which ripples out slowly towards infinity, and doesn't stop much of the aliasing effect. Convolutional gridding/degridding is therefore a more attractive approach, because the distance between the grid point and the measured uv point is taken into account when selecting a set of convolution weights.\n",
        "\n",
        "The observation about the Fourier transform of the box function leads us to a partial solution for the aliasing problem, in that convolving with an *infinite* sinc will yield an image tapered by a box function. Unfortunately this is not computationally feasible and instead the best option is to convolve with either a truncated sinc function, or some other function that has a similar centre-heavy Fourier transform and preferably tapers off reasonably quickly. The images below illustrates the significant improvement using a truncated sinc function instead of nearest-neighbour interpolation."
      ]
    },
    {
      "cell_type": "code",
      "execution_count": null,
      "metadata": {},
      "outputs": [],
      "source": [
        "Image(filename=\"figures/NN_interpolation_aliasing.png\", width=512)"
      ]
    },
    {
      "cell_type": "code",
      "execution_count": null,
      "metadata": {},
      "outputs": [],
      "source": [
        "Image(filename=\"figures/AA_kernel_alias_reduction.png\", width=512)"
      ]
    },
    {
      "cell_type": "markdown",
      "metadata": {},
      "source": [
        "*Figure: Above two synthesized images of a grid of point sources. The first using cell-summing (nearest neighbour) interpolation and the second using convolutional resampling with a simple truncated sinc function. In the first the sources of this grid sky pattern that fall slightly outside the field of view are aliased back into the field of view. In the second the aliasing energy is limited by the box response of the sinc function.*"
      ]
    },
    {
      "cell_type": "markdown",
      "metadata": {},
      "source": [
        "Below the magnitude of the sidelobes of the Fourier transforms of several functions are plotted. The sidelobes of the Fourier transform of the box function is significantly higher than that of truncated and windowed sinc functions."
      ]
    },
    {
      "cell_type": "code",
      "execution_count": null,
      "metadata": {},
      "outputs": [],
      "source": [
        "half_sup = 6\n",
        "oversample = 15\n",
        "full_sup_wo_padding = (half_sup * 2 + 1)\n",
        "full_sup = full_sup_wo_padding + 2 #+ padding\n",
        "no_taps = full_sup + (full_sup - 1) * (oversample - 1)\n",
        "taps = np.arange(-no_taps//2,no_taps//2 + 1)/float(oversample)\n",
        "\n",
        "#unit box\n",
        "box = np.where((taps >= -0.5) & (taps <= 0.5),\n",
        "               np.ones([len(taps)]),np.zeros([len(taps)]))\n",
        "fft_box = np.abs(np.fft.fftshift(np.fft.fft(np.fft.ifftshift(box))))\n",
        "#truncated (boxed) sinc\n",
        "sinc = np.sinc(taps)\n",
        "fft_sinc = np.abs(np.fft.fftshift(np.fft.fft(np.fft.ifftshift(sinc))))\n",
        "#gaussian sinc\n",
        "alpha_1 = 1.55\n",
        "alpha_2 = 2.52\n",
        "gsinc = np.sin(np.pi/alpha_1*(taps+0.00000000001))/(np.pi*(taps+0.00000000001))*np.exp(-(taps/alpha_2)**2)\n",
        "fft_gsinc = np.abs(np.fft.fftshift(np.fft.fft(np.fft.ifftshift(gsinc))))\n",
        "#plot it up\n",
        "plt.figure(figsize=(7, 5), dpi=80)\n",
        "l = np.arange(-(no_taps)//2,(no_taps)//2+1) * (1.0/oversample)\n",
        "a, = plt.plot(2*l, 10.*np.log10(fft_box))\n",
        "b, = plt.plot(2*l, 10.*np.log10(fft_sinc))\n",
        "c, = plt.plot(2*l, 10.*np.log10(fft_gsinc))\n",
        "ax = plt.gca()\n",
        "ax.set_xlim(0,no_taps//2 * (1.0/oversample))\n",
        "#ax.set_yscale(\"log\", nonposy='clip')\n",
        "plt.legend([a,b,c],[\"Box\",\"Sinc\",\"Gaussian Sinc\"])\n",
        "plt.xlabel(\"$2\\Delta{u}l$\")\n",
        "plt.ylabel(\"Magnitude of $c(l)$ (dB)\")\n",
        "plt.title(\"Magnitude of Fourier transforms of several convolution functions\")\n",
        "plt.show()"
      ]
    },
    {
      "cell_type": "markdown",
      "metadata": {},
      "source": [
        "*Figure: The magnitudes of the Fourier transforms of various functions. It is desirable that most of the energy of these functions fall within some central region and that the response drops off sharply at the edge of this central region*"
      ]
    },
    {
      "cell_type": "markdown",
      "metadata": {},
      "source": [
        "After Fourier transformation the effects of the convolution function on the image can be mitigated by point-wise dividing the image through by the Fourier transform of the convolution function, $c(l,m)$. This has the effect of flattening the response of the passband, by removing the tapering towards the edges of the image, but raises the amplitude of any aliased sources at the edge of the image.\n",
        "\n",
        "In practice the proloid spheroidal functions are used in imaging programs such as `lwimager`, but the definition of these functions are beyond the scope of the introductory discussion here and the reader is referred to the work of Donald Rhodes, [<cite data-cite='rhodes1970spheroidal'>On the Spheroidal Functions</cite> &#10548;](http://cdm16009.contentdm.oclc.org/cdm/compoundobject/collection/p13011coll6/id/61576/rec/50) for a detailed discussion of their definition and proof of their aliasing reduction properties.\n",
        "\n",
        "It is also worth noting that the convolution functions used in gridding and degridding need not be the same function. In degridding the focus is solidly on the accuracy of the predicted visibility. Here it can be advantageous to minimize the difference between a direct transformation approach and a Fast Fourier Transform approach with degridding, see for instance the discussion by Sze Tan, [<cite data-cite='tan1986aperture'>Aperture-synthesis mapping and parameter estimation</cite> &#10548;](http://ethos.bl.uk/OrderDetails.do?uin=uk.bl.ethos.384529) for further detail. "
      ]
    },
    {
      "cell_type": "markdown",
      "metadata": {},
      "source": [
        "### 5.3.3 Example Simulator and Imager"
      ]
    },
    {
      "cell_type": "markdown",
      "metadata": {},
      "source": [
        "We conclude this section with some sample code to illustrate prediction and imaging using resampling and the FFT. To start off let's set up a uv tracks as would be seen by the JVLA in D configuration. Recall that image resolution is given by the longest track in u and v and that the baseline is always measured in wavelengths. You can play around with the nyquist rate and image sizes. Notice how subnyquist sampling adversely affect the angular resolution of your image."
      ]
    },
    {
      "cell_type": "code",
      "execution_count": null,
      "metadata": {},
      "outputs": [],
      "source": [
        "%run jvla_d_constants\n",
        "RA = 0.0\n",
        "DECLINATION = 90.0\n",
        "global Nx, Ny, uvw, scaled_uv, model_sky, model_regular, max_uv, cell_size_l, cell_size_m\n",
        "cellsize_slider=FloatSlider(min=0.25, #subnyquist\n",
        "                            max=2.5,\n",
        "                            value=1.0, \n",
        "                            step=0.1, \n",
        "                            continuous_update=False)\n",
        "sampling_field = HBox([Label(\"Nyquist rate scaling factor (1x=critical sampling)\"), cellsize_slider])\n",
        "imsize_slider=FloatSlider(min=1,\n",
        "                          max=3,\n",
        "                          value=2.0,\n",
        "                          step=0.1,\n",
        "                          continuous_update=False)\n",
        "imsize_field = HBox([Label(\"Image size scaling factor (1x=1deg)\"), imsize_slider])\n",
        "\n",
        "def interact_plot(key):\n",
        "    global Nx, Ny, uvw, scaled_uv, model_sky, model_regular, max_uv, cell_size_l, cell_size_m\n",
        "    #User defined scaling factors:\n",
        "    clear_output(wait=True)\n",
        "    sampling_tweek_factor = cellsize_slider.value\n",
        "    im_size_tweek_factor = imsize_slider.value\n",
        "    \n",
        "    #Set up interferometer sampling pattern\n",
        "    uvw = track_simulator.sim_uv(RA, DECLINATION, 1.5, 60/3600.0, ENU, ARRAY_LATITUDE)\n",
        "\n",
        "    #Work out the required sampling rate (let's just do a square grid for simplicity)\n",
        "    max_uv = np.max(np.abs(uvw[:,0:2]/CENTRE_CHANNEL))\n",
        "    print(\"Maximum extent in uv: %f\" % (max_uv))\n",
        "    cell_size_l = cell_size_m = np.rad2deg((1 / (2 * max_uv)) / sampling_tweek_factor)\n",
        "    print(\"Cell sizes in l,m: (%f,%f) arcsecs\" % (cell_size_l*3600.0, cell_size_m*3600.0))\n",
        "\n",
        "    #arbitrarily choose the field size to be 1.0 square degrees\n",
        "    FIELD_SIZE = 1.0 * im_size_tweek_factor\n",
        "\n",
        "    #Then work out the number of pixels required to create a field of this size, given the nyquist image resolution\n",
        "    Nx = int(np.round(FIELD_SIZE / cell_size_l))\n",
        "    Ny = int(np.round(FIELD_SIZE / cell_size_m)) \n",
        "    print(\"Image size in pixels to cover %.3f square degrees: (%d,%d)\" % (FIELD_SIZE, Nx, Ny))\n",
        "\n",
        "    #Setup a random model sky consisting of point sources:\n",
        "    model_sky = np.zeros([Nx,Ny])\n",
        "    for i in range(15):\n",
        "        model_sky[int(np.random.rand()*Nx),int(np.random.rand()*Ny)] = np.random.rand()*5.0 \n",
        "    model_regular = np.fft.fftshift(np.fft.fft2(np.fft.ifftshift(model_sky)))\n",
        "\n",
        "    #In the DFT we can pick the sampling rate in l and m directly when we evaluate a sum for each pixel.\n",
        "    #However when using the FFT we have to employ the similarity theorem: a multiplication in one domain\n",
        "    #results in a division in the other domain. Thus we scale the invertion such that it ranges from \n",
        "    #-0.5*N*cell_size <= pixel <= 0.5*N*cell_size\n",
        "    scaled_uv = np.copy(uvw[:,0:2])\n",
        "    scaled_uv[:,0] *= np.deg2rad(cell_size_l * Nx)\n",
        "    scaled_uv[:,1] *= np.deg2rad(cell_size_m * Ny)\n",
        "    \n",
        "    #Finally plot up the results\n",
        "    plt.figure(figsize=(15, 15))\n",
        "    plt.subplot(131)\n",
        "    plt.title(\"Model sky\")\n",
        "    plt.ticklabel_format(useOffset=False)\n",
        "    plt.imshow(model_sky,cmap=\"gray\", extent=[RA - Nx / 2 * cell_size_l, RA + Nx / 2 * cell_size_l,\n",
        "                                              DECLINATION - Ny / 2 * cell_size_m, DECLINATION + Ny / 2 * cell_size_m])\n",
        "    plt.xlabel(\"RA\")\n",
        "    plt.ylabel(\"DEC\")\n",
        "    plt.subplot(132)\n",
        "    plt.title(\"Logscale amplitudes of visibilliy space\")\n",
        "    plt.imshow(10*np.log10(np.abs(model_regular+0.000000000001)), extent=[-max_uv/1e4, +max_uv/1e4,\n",
        "                                                                          -max_uv/1e4, +max_uv/1e4])\n",
        "    plt.plot(uvw[:,0]/CENTRE_CHANNEL/1e4,\n",
        "             uvw[:,1]/CENTRE_CHANNEL/1e4,\n",
        "             \"k.\",label=\"Baselines\", markersize=1)\n",
        "\n",
        "    plt.xlabel(\"uu $(k\\lambda)$\")\n",
        "    plt.ylabel(\"vv $(k\\lambda)$\")\n",
        "    plt.subplot(133)\n",
        "    plt.title(\"Phase of visibility space\")\n",
        "    plt.imshow(np.angle(model_regular), extent=[-max_uv/1e4, +max_uv/1e4,\n",
        "                                                -max_uv/1e4, +max_uv/1e4])\n",
        "    plt.plot(uvw[:,0]/CENTRE_CHANNEL/1e4,\n",
        "             uvw[:,1]/CENTRE_CHANNEL/1e4,\n",
        "             \"k.\",label=\"Baselines\", markersize=1)\n",
        "    plt.xlabel(\"uu $(k\\lambda)$\")\n",
        "    plt.ylabel(\"vv $(k\\lambda)$\")\n",
        "    plt.figure(figsize=(15, 15))\n",
        "    plt.subplot(121)\n",
        "    plt.title(\"Scaled tracks over log amplitude grid\")\n",
        "    plt.imshow(10*np.log10(np.abs(model_regular+0.000000000001)), extent = [0,Nx,0,Ny])\n",
        "    plt.plot(scaled_uv[:,0]/CENTRE_CHANNEL + Nx / 2,\n",
        "             scaled_uv[:,1]/CENTRE_CHANNEL + Ny / 2,\n",
        "             \"k.\",label=\"Baselines\", markersize=1)\n",
        "    plt.xlabel(\"$N_x$\")\n",
        "    plt.ylabel(\"$N_y$\")\n",
        "    plt.subplot(122)\n",
        "    plt.title(\"Scaled tracks over phase grid\")\n",
        "    plt.imshow(np.angle(model_regular), extent = [0,Nx,0,Ny])\n",
        "    plt.plot(scaled_uv[:,0]/CENTRE_CHANNEL + Nx / 2,\n",
        "             scaled_uv[:,1]/CENTRE_CHANNEL + Ny / 2,\n",
        "             \"k.\",label=\"Baselines\", markersize=1)\n",
        "    plt.xlabel(\"$N_x$\")\n",
        "    plt.ylabel(\"$N_y$\")\n",
        "    plt.show()\n",
        "    \n",
        "\n",
        "cellsize_slider.observe(interact_plot)\n",
        "display(sampling_field)\n",
        "imsize_slider.observe(interact_plot)\n",
        "display(imsize_field)\n",
        "interact_plot(\"\")"
      ]
    },
    {
      "cell_type": "markdown",
      "metadata": {},
      "source": [
        "*Figure: The simulated model sky (l,m space) and its fourier transform in the visibility space (u,v space). Overlayed on top are the uv tracks for JVLA D. In the bottom plots the scaled tracks are overlayed on the grid predicted from the model. As you can see if subnyquist rates are chosen angular resolution is lost because the long baselines fall outside the grid and must be discarded during imaging*"
      ]
    },
    {
      "cell_type": "markdown",
      "metadata": {},
      "source": [
        "To complete the prediction (also known as the \"forward\" step) the measurements are resampled onto the u,v tracks of the interferometer using the *degridding* algorithm discussed above. Measurements are gathered and weighted from the vacinity of each of the points along the sampling track in order to \"predict\" a value at the u,v coordinate."
      ]
    },
    {
      "cell_type": "code",
      "execution_count": null,
      "metadata": {},
      "outputs": [],
      "source": [
        "# %load convolutional_degridder.py\n",
        "import numpy as np\n",
        "\n",
        "def fft_degrid(model_image, uvw, ref_lda, Nx, Ny, convolution_filter):\n",
        "    \"\"\"\n",
        "    Convolutional gridder (continuum)\n",
        "\n",
        "    Keyword arguments:\n",
        "    model_image --- Model image\n",
        "    uvw --- interferometer's scaled uvw coordinates\n",
        "            (Prerequisite: these uv points are already scaled by the similarity\n",
        "            theorem, such that -N_x*Cell_l*0.5 <= theta_l <= N_x*Cell_l*0.5 and\n",
        "            -N_y*Cell_m*0.5 <= theta_m <= N_y*Cell_m*0.5)\n",
        "    ref_lda --- array of reference lambdas (size of vis channels)\n",
        "    Nx,Ny --- size of image in pixels\n",
        "    convolution_filter --- pre-instantiated AA_filter anti-aliasing\n",
        "                           filter object\n",
        "    \"\"\"\n",
        "    assert model_image.ndim == 3\n",
        "    filter_index = \\\n",
        "        np.arange(-convolution_filter.half_sup,convolution_filter.half_sup+1)\n",
        "    model_vis_regular = np.zeros(model_image.shape, dtype=\"complex64\")\n",
        "    for p in range(model_image.shape[0]):\n",
        "        model_vis_regular[p, :, :] = \\\n",
        "            np.fft.fftshift(np.fft.fft2(np.fft.ifftshift(model_image[p, :, :])))\n",
        "    vis = \\\n",
        "        np.zeros([uvw.shape[0],\n",
        "                  ref_lda.shape[0],\n",
        "                  model_image.shape[0]],\n",
        "                 dtype=\"complex\")\n",
        "\n",
        "    for r in range(uvw.shape[0]):\n",
        "        for c in range(vis.shape[1]):\n",
        "            scaled_uv = uvw[r,:] / ref_lda[c]\n",
        "            disc_u = int(np.round(scaled_uv[0]))\n",
        "            disc_v = int(np.round(scaled_uv[1]))\n",
        "            frac_u_offset = int((1 + convolution_filter.half_sup +\n",
        "                                 (-scaled_uv[0] + disc_u)) *\n",
        "                                convolution_filter.oversample)\n",
        "            frac_v_offset = int((1 + convolution_filter.half_sup +\n",
        "                                 (-scaled_uv[1] + disc_v)) *\n",
        "                                convolution_filter.oversample)\n",
        "\n",
        "            if (disc_v + Ny // 2 + convolution_filter.half_sup >= Ny or\n",
        "                disc_u + Nx // 2 + convolution_filter.half_sup >= Nx or\n",
        "                disc_v + Ny // 2 - convolution_filter.half_sup < 0 or\n",
        "                disc_u + Nx // 2 - convolution_filter.half_sup < 0):\n",
        "                continue\n",
        "            for conv_v in filter_index:\n",
        "                v_tap = \\\n",
        "                    convolution_filter.filter_taps[conv_v *\n",
        "                                                   convolution_filter.oversample\n",
        "                                                   + frac_v_offset]\n",
        "                grid_pos_v = disc_v + conv_v + Ny // 2\n",
        "                for conv_u in filter_index:\n",
        "                    u_tap = \\\n",
        "                        convolution_filter.filter_taps[conv_u *\n",
        "                                                       convolution_filter.oversample\n",
        "                                                       + frac_u_offset]\n",
        "                    conv_weight = v_tap * u_tap\n",
        "                    grid_pos_u = disc_u + conv_u + Nx // 2\n",
        "                    for p in range(vis.shape[2]):\n",
        "                        vis[r, c, p] += \\\n",
        "                            model_vis_regular[p,\n",
        "                                              grid_pos_v,\n",
        "                                              grid_pos_u] * conv_weight\n",
        "\n",
        "    return vis\n"
      ]
    },
    {
      "cell_type": "code",
      "execution_count": null,
      "metadata": {},
      "outputs": [],
      "source": [
        "tabulated_filter = AA_filter.AA_filter(3,63,\"sinc\")\n",
        "vis = fft_degrid(model_sky.reshape(1, Ny, Nx), scaled_uv, np.array([CENTRE_CHANNEL]), Nx, Ny, tabulated_filter)"
      ]
    },
    {
      "cell_type": "markdown",
      "metadata": {},
      "source": [
        "Next comes a simplified imaging step using the FFT and gridding. The visibilities on the irregularly-spaced u,v tracks are resampled onto regular coordinates. This is done by weighting and smearing each measured visibility out onto the regular coordinates in the vacinity of its u,v coordinate. After resampling the inverse FFT is used to transform the measurements in the spatial frequency domain to those in the spacial domain, thereby approximately reconstructing the model sky we started with."
      ]
    },
    {
      "cell_type": "code",
      "execution_count": null,
      "metadata": {},
      "outputs": [],
      "source": [
        "# %load convolutional_gridder.py\n",
        "import numpy as np\n",
        "\n",
        "def grid_ifft(vis, uvw, ref_lda, Nx, Ny, convolution_filter):\n",
        "    \"\"\"\n",
        "    Convolutional gridder (continuum)\n",
        "\n",
        "    Keyword arguments:\n",
        "    vis --- Visibilities as sampled by the interferometer\n",
        "    uvw --- interferometer's scaled uvw coordinates\n",
        "            (Prerequisite: these uv points are already scaled by the similarity\n",
        "            theorem, such that -N_x*Cell_l*0.5 <= theta_l <= N_x*Cell_l*0.5 and\n",
        "            -N_y*Cell_m*0.5 <= theta_m <= N_y*Cell_m*0.5)\n",
        "    ref_lda --- array of reference lambdas (size of vis channels)\n",
        "    Nx,Ny --- size of image in pixels\n",
        "    convolution_filter --- pre-instantiated AA_filter anti-aliasing\n",
        "                           filter object\n",
        "    \"\"\"\n",
        "    assert vis.shape[1] == ref_lda.shape[0], (vis.shape[1], ref_lda.shape[0])\n",
        "    filter_index = \\\n",
        "        np.arange(-convolution_filter.half_sup,convolution_filter.half_sup+1)\n",
        "    # one grid for the resampled visibilities per correlation:\n",
        "    measurement_regular = \\\n",
        "        np.zeros([vis.shape[2],Ny,Nx],dtype=\"complex\")\n",
        "    # for deconvolution the PSF should be 2x size of the image (see \n",
        "    # Hogbom CLEAN for details), one grid for the sampling function:\n",
        "    sampling_regular = \\\n",
        "        np.zeros([2*Ny,2*Nx],dtype=\"complex\")\n",
        "    for r in range(uvw.shape[0]):\n",
        "        for c in range(vis.shape[1]):\n",
        "            scaled_uv = uvw[r,:] / ref_lda[c]\n",
        "            disc_u = int(np.round(scaled_uv[0]))\n",
        "            disc_v = int(np.round(scaled_uv[1]))\n",
        "            frac_u_offset = int((1 + convolution_filter.half_sup +\n",
        "                                 (-scaled_uv[0] + disc_u)) *\n",
        "                                convolution_filter.oversample)\n",
        "            frac_v_offset = int((1 + convolution_filter.half_sup +\n",
        "                                 (-scaled_uv[1] + disc_v)) *\n",
        "                                convolution_filter.oversample)\n",
        "            disc_u_psf = int(np.round(scaled_uv[0]*2))\n",
        "            disc_v_psf = int(np.round(scaled_uv[1]*2))\n",
        "            frac_u_offset_psf = int((1 + convolution_filter.half_sup +\n",
        "                                     (-scaled_uv[0]*2 + disc_u_psf)) *\n",
        "                                    convolution_filter.oversample)\n",
        "            frac_v_offset_psf = int((1 + convolution_filter.half_sup +\n",
        "                                     (-scaled_uv[1]*2 + disc_v_psf)) *\n",
        "                                    convolution_filter.oversample)\n",
        "            if (disc_v + Ny // 2 + convolution_filter.half_sup >= Ny or\n",
        "                disc_u + Nx // 2 + convolution_filter.half_sup >= Nx or\n",
        "                disc_v + Ny // 2 - convolution_filter.half_sup < 0 or\n",
        "                disc_u + Nx // 2 - convolution_filter.half_sup < 0):\n",
        "                continue\n",
        "            for conv_v in filter_index:\n",
        "                v_tap = \\\n",
        "                    convolution_filter.filter_taps[conv_v *\n",
        "                                                   convolution_filter.oversample\n",
        "                                                   + frac_v_offset]\n",
        "                v_tap_psf = \\\n",
        "                    convolution_filter.filter_taps[conv_v *\n",
        "                                                   convolution_filter.oversample\n",
        "                                                   + frac_v_offset_psf]\n",
        "\n",
        "                grid_pos_v = disc_v + conv_v + Ny // 2\n",
        "                grid_pos_v_psf = disc_v_psf + conv_v + Ny\n",
        "                for conv_u in filter_index:\n",
        "                    u_tap = \\\n",
        "                        convolution_filter.filter_taps[conv_u *\n",
        "                                                       convolution_filter.oversample\n",
        "                                                       + frac_u_offset]\n",
        "                    u_tap_psf = \\\n",
        "                        convolution_filter.filter_taps[conv_u *\n",
        "                                                       convolution_filter.oversample\n",
        "                                                       + frac_u_offset_psf]\n",
        "                    conv_weight = v_tap * u_tap\n",
        "                    conv_weight_psf = v_tap_psf * u_tap_psf\n",
        "                    grid_pos_u = disc_u + conv_u + Nx // 2\n",
        "                    grid_pos_u_psf = disc_u_psf + conv_u + Nx\n",
        "                    for p in range(vis.shape[2]):\n",
        "                        measurement_regular[p, grid_pos_v, grid_pos_u] += \\\n",
        "                            vis[r, c, p] * conv_weight\n",
        "                    # assuming the PSF is the same for different correlations:\n",
        "                    sampling_regular[grid_pos_v_psf, grid_pos_u_psf] += \\\n",
        "                        (1+0.0j) * conv_weight_psf\n",
        "\n",
        "    dirty = np.zeros(measurement_regular.shape, dtype=measurement_regular.dtype)\n",
        "    psf = np.zeros(sampling_regular.shape, dtype=sampling_regular.dtype)\n",
        "\n",
        "    for p in range(vis.shape[2]):\n",
        "        dirty[p,:,:] = np.fft.fftshift(np.fft.ifft2(np.fft.ifftshift(measurement_regular[p,:,:])))\n",
        "    psf[:,:] = np.fft.fftshift(np.fft.ifft2(np.fft.ifftshift(sampling_regular[:,:])))\n",
        "    return dirty,psf\n"
      ]
    },
    {
      "cell_type": "code",
      "execution_count": null,
      "metadata": {},
      "outputs": [],
      "source": [
        "tabulated_filter = AA_filter.AA_filter(3,63,\"sinc\")\n",
        "dirty_sky, psf = grid_ifft(vis, scaled_uv, np.array([CENTRE_CHANNEL]), Nx, Ny, tabulated_filter)"
      ]
    },
    {
      "cell_type": "code",
      "execution_count": null,
      "metadata": {
        "scrolled": false
      },
      "outputs": [],
      "source": [
        "#plot it up :-)\n",
        "plt.figure(figsize=(15, 45))\n",
        "plt.subplot(311)\n",
        "plt.title(\"Model sky\")\n",
        "plt.imshow(model_sky,cmap=\"gray\", extent=[RA - Nx / 2 * cell_size_l, RA + Nx / 2 * cell_size_l,\n",
        "                                          DECLINATION - Ny / 2 * cell_size_m, DECLINATION + Ny / 2 * cell_size_m])\n",
        "plt.xlabel(\"RA\")\n",
        "plt.ylabel(\"DEC\")\n",
        "plt.subplot(312)\n",
        "plt.title(\"PSF\")\n",
        "plt.imshow(np.real(psf[:, :]),cmap=\"gray\", extent=[RA - Nx * 2 / 2 * cell_size_l, RA + Nx * 2 / 2 * cell_size_l,\n",
        "                                                   DECLINATION - Ny * 2 / 2 * cell_size_m, DECLINATION + Ny * 2 / 2 * cell_size_m])\n",
        "plt.xlabel(\"RA\")\n",
        "plt.ylabel(\"DEC\")\n",
        "plt.subplot(313)\n",
        "plt.title(\"Dirty map\")\n",
        "plt.imshow(np.real(dirty_sky[0, :, :]),cmap=\"gray\", extent=[RA - Nx / 2 * cell_size_l, RA + Nx / 2 * cell_size_l,\n",
        "                                                            DECLINATION - Ny / 2 * cell_size_m, DECLINATION + Ny / 2 * cell_size_m])\n",
        "plt.xlabel(\"RA\")\n",
        "plt.ylabel(\"DEC\")\n",
        "plt.show()"
      ]
    },
    {
      "cell_type": "markdown",
      "metadata": {},
      "source": [
        "*Figure: Reconstructed image of the model sky. This \"dirty\" image is convolved with the the PSF shown in the centre figure. Some of the fainter sources are hardly visible because of the sidelobes introduced by this convolution.*"
      ]
    },
    {
      "cell_type": "markdown",
      "metadata": {},
      "source": [
        "Of course this reconstruction can only ever be approximate, since the u,v plane is only partially sampled. The brightest sources are still visible, provided the observation time is long enough. Each of the sources are convolved with the PSF shown above in the centre figure; the ring-like structure of the PSF is clearly visible around the bright sources and can, in the worst case, obscure some of the fainter sources in the image. The deconvolution strategies discussed later attempt to remove the psf structure from the images and improve the fidelity of the reconstructed images."
      ]
    },
    {
      "cell_type": "markdown",
      "metadata": {},
      "source": [
        "***\n",
        "\n",
        "* Next: [5.4 The Dirty Image and Visibility Weights](5_4_imaging_weights.ipynb)"
      ]
    }
  ],
  "metadata": {
    "kernelspec": {
      "display_name": "testament",
      "language": "python",
      "name": "testament"
    },
    "language_info": {
      "codemirror_mode": {
        "name": "ipython",
        "version": 3
      },
      "file_extension": ".py",
      "mimetype": "text/x-python",
      "name": "python",
      "nbconvert_exporter": "python",
      "pygments_lexer": "ipython3",
      "version": "3.8.10"
    },
    "widgets": {
      "state": {
        "3435d670800d49d58190a03eeef86da0": {
          "views": [
            {
              "cell_index": 29
            }
          ]
        },
        "6cc44e54f63a4c5bb93d935158f741e2": {
          "views": [
            {
              "cell_index": 29
            }
          ]
        }
      },
      "version": "1.2.0"
    }
  },
  "nbformat": 4,
  "nbformat_minor": 1
}