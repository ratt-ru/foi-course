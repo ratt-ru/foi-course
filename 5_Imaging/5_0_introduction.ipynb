{
  "cells": [
    {
      "cell_type": "markdown",
      "metadata": {},
      "source": [
        "***\n",
        "\n",
        "* [Outline](../0_Introduction/0_introduction.ipynb)\n",
        "* [Glossary](../0_Introduction/1_glossary.ipynb)\n",
        "* [5. Imaging](#)  \n",
        "    * Next: [5.1 Spatial Frequencies](5_1_spatial_frequencies.ipynb)\n",
        "\n",
        "***"
      ]
    },
    {
      "cell_type": "markdown",
      "metadata": {},
      "source": [
        "# Chapter 5: Imaging<a id='imaging:sec:intro'></a>"
      ]
    },
    {
      "cell_type": "markdown",
      "metadata": {},
      "source": [
        "We usually design and build interferometric arrays in radio astronomy as a round-a-bout way to make an image of the sky via aperture synthesis. The measurment of complex visibilities and sampling of the *uv*-plane all eventually lead to producing an image one would see looking up at the sky if they had eyes which could see radio-frequency light. This chapter aims to present how such images are formed from the visibility measurments of an interferometric array. In order to arrive at how the image are made we must first take a few steps. In the first section of this chapter we introduce the Fourier relationship between an image and its corresponding spatial frequencies, and how filtering and sampling of spatial frequencies affects a reconstructed image. The second section expands on spatial frequenecy sampling to introduce the concept of a point spread function (PSF). From there we will deal with the issue of resampling visibilities onto a grid so that we can take advantage of the fast Fourier Transforms (FFT) in imaging. We will then go into the complexity of interferometric array sampling which leads to over and under sampling of regions, and how weighting functions affect the resulting images. In this section we will also introduce the terminology of the dirty image which will play an important role in the next chapter on deconvolution. Finally, we will discuss the situtations in which the Van Cittert-Zernike visibility/image Fourier pair relationship breaks down, and how additional approximations can be used to correct for the resulting effects."
      ]
    },
    {
      "cell_type": "markdown",
      "metadata": {},
      "source": [
        "#### Chapter Outline\n",
        "\n",
        "1. [Spatial Frequencies](5_1_spatial_frequencies.ipynb)\n",
        "2. [Sampling and Point Spread Functions](5_2_sampling_functions_and_psfs.ipynb)\n",
        "3. [Gridding and Degridding for using the FFT](5_3_gridding_and_degridding.ipynb)\n",
        "4. [The Dirty Image and Visibility Weightings](5_4_imaging_weights.ipynb)\n",
        "5. [The Break Down of the Small Angle Approximation and the W-Term](5_5_widefield_effect.ipynb)\n",
        "6. [Further Reading and References](5_x_further_reading_and_references.ipynb)"
      ]
    },
    {
      "cell_type": "markdown",
      "metadata": {},
      "source": [
        "#### Chapter Editors\n",
        "\n",
        "#### Chapter Contributors\n",
        "\n",
        "* Benna Hugo (5.2, **5.3**, **5.5**)\n",
        "* Griffin Foster (**5.0**, **5.1**, **5.2**, 5.3, **5.4**)\n",
        "\n",
        "#### Format status:\n",
        "\n",
        "* <span style=\"background-color:red\">&nbsp;&nbsp;&nbsp;&nbsp;</span> : LF: Date\n",
        "* <span style=\"background-color:red\">&nbsp;&nbsp;&nbsp;&nbsp;</span> : NC: Date\n",
        "* <span style=\"background-color:red\">&nbsp;&nbsp;&nbsp;&nbsp;</span> : RF: Date\n",
        "* <span style=\"background-color:red\">&nbsp;&nbsp;&nbsp;&nbsp;</span> : HF: Date\n",
        "* <span style=\"background-color:red\">&nbsp;&nbsp;&nbsp;&nbsp;</span> : GM: Date\n",
        "* <span style=\"background-color:red\">&nbsp;&nbsp;&nbsp;&nbsp;</span> : CC: Date\n",
        "* <span style=\"background-color:red\">&nbsp;&nbsp;&nbsp;&nbsp;</span> : CL: Date\n",
        "* <span style=\"background-color:red\">&nbsp;&nbsp;&nbsp;&nbsp;</span> : ST: Date\n",
        "* <span style=\"background-color:red\">&nbsp;&nbsp;&nbsp;&nbsp;</span> : FN: Date\n",
        "* <span style=\"background-color:red\">&nbsp;&nbsp;&nbsp;&nbsp;</span> : TC: Date\n",
        "* <span style=\"background-color:red\">&nbsp;&nbsp;&nbsp;&nbsp;</span> : XX: Date"
      ]
    },
    {
      "cell_type": "markdown",
      "metadata": {},
      "source": [
        "***\n",
        "\n",
        "Next: [5.1 Spatial Frequencies](5_1_spatial_frequencies.ipynb)"
      ]
    }
  ],
  "metadata": {
    "kernelspec": {
      "display_name": "testament",
      "language": "python",
      "name": "testament"
    },
    "language_info": {
      "codemirror_mode": {
        "name": "ipython",
        "version": 3
      },
      "file_extension": ".py",
      "mimetype": "text/x-python",
      "name": "python",
      "nbconvert_exporter": "python",
      "pygments_lexer": "ipython3",
      "version": "3.8.10"
    }
  },
  "nbformat": 4,
  "nbformat_minor": 1
}